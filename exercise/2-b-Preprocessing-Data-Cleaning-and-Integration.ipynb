{
 "cells": [
  {
   "cell_type": "markdown",
   "metadata": {
    "tags": [
     "specification"
    ]
   },
   "source": [
    "# 2. Data Analysis & Preprocessing\n",
    "\n",
    "This JupyterNotebook is part of an exercise series titled *Data Analysis & Preprocessing*. The series itself includes practical exercises for lectures *3. Getting to Know Your Data* and *4. Data Preprocessing*. \n",
    "\n",
    "Exercises for data analysis and preprocessing is divided into three parts in total, namely:\n",
    "\n",
    "- Part One: Getting to Know Your Data\n",
    "- Part Two: Preprocessing - Data Cleaning & Data Integration\n",
    "- Part Three: Preprocessing - Data Reduction, Data Transformation & Data Discretization\n",
    "\n",
    "Recall that we have two exercise groups. Depending on how each group progresses, some parts of these exercises may not be discussed in its entirety. If questions arise, ask them in your study group or in our StudOn forum."
   ]
  },
  {
   "cell_type": "markdown",
   "metadata": {
    "tags": [
     "specification"
    ]
   },
   "source": [
    "## Part Two: Preprocessing - Data Cleaning & Data Integration\n",
    "\n",
    "In this part you will apply the theoretical knowledge gained in the first part of the lecture *4. Data Preprocessing*. "
   ]
  },
  {
   "cell_type": "markdown",
   "metadata": {},
   "source": [
    "### Preparations"
   ]
  },
  {
   "cell_type": "code",
   "execution_count": 1,
   "metadata": {
    "tags": [
     "specification"
    ]
   },
   "outputs": [],
   "source": [
    "# Import the required libraries\n",
    "import tempfile\n",
    "import sqlite3\n",
    "import os\n",
    "import urllib.request\n",
    "import scipy.stats\n",
    "import pandas as pd"
   ]
  },
  {
   "cell_type": "code",
   "execution_count": 2,
   "metadata": {
    "tags": [
     "specification"
    ]
   },
   "outputs": [],
   "source": [
    "# Create a temporary directory\n",
    "dataset_folder = tempfile.mkdtemp()\n",
    "\n",
    "# Build path to database\n",
    "database_path = os.path.join(dataset_folder, \"adventure-works.db\")\n",
    "\n",
    "# Get the database\n",
    "urllib.request.urlretrieve(\n",
    "    \"https://github.com/FAU-CS6/KDD-Databases/raw/main/AdventureWorks/adventure-works.db\",\n",
    "    database_path,\n",
    ")\n",
    "\n",
    "# Open connection to the adventure-works.db\n",
    "connection = sqlite3.connect(database_path)"
   ]
  },
  {
   "cell_type": "code",
   "execution_count": 3,
   "metadata": {
    "tags": [
     "specification"
    ]
   },
   "outputs": [
    {
     "data": {
      "text/plain": [
       "<sqlite3.Cursor at 0x2b42ba72340>"
      ]
     },
     "execution_count": 3,
     "metadata": {},
     "output_type": "execute_result"
    }
   ],
   "source": [
    "# Modify the database to contain dirty data\n",
    "cursor = connection.cursor()\n",
    "cursor.executescript(\n",
    "    \"UPDATE Person SET LastName = 'Doe';\"\n",
    "    \"UPDATE Employee SET HireDate = STRFTIME('%Y-%m-%d %H:%M:%S', HireDate);\"\n",
    "    \"UPDATE Employee SET BirthDate = STRFTIME('%Y-%m-%d %H:%M:%S', BirthDate);\"\n",
    "    \"UPDATE Employee SET Gender = 'Male' WHERE Gender = 'M' AND NationalIDNumber LIKE \\\"%8\\\";\"\n",
    "    \"UPDATE Employee SET Gender = 'Female' WHERE Gender = 'F' AND NationalIDNumber LIKE \\\"%7%\\\";\"\n",
    "    \"UPDATE Employee SET BirthDate = STRFTIME('%Y-%m-%d', BirthDate) WHERE NationalIDNumber LIKE \\\"%2%\\\";\"\n",
    "    \"UPDATE Employee SET SickLeaveHours = 2306 WHERE BusinessEntityID = 10;\"\n",
    "    \"UPDATE Employee SET VacationHours = -12 WHERE BusinessEntityID = 21;\"\n",
    "    \"UPDATE Person SET LastName = 'Doe';\"\n",
    "    \"UPDATE Employee SET JobTitle = 'None' WHERE NationalIDNumber LIKE \\\"%1\\\";\"\n",
    "    \"UPDATE Employee SET CurrentFlag = 0 WHERE NationalIDNumber = 658797903 OR NationalIDNumber = 974026903;\"\n",
    "    \"UPDATE Employee SET HireDate = STRFTIME('%Y-%m-%d %H:%M:%S', DATE(BirthDate, '-10 year')) \"\n",
    "    'WHERE NationalIDNumber LIKE \"2%\";'\n",
    ")"
   ]
  },
  {
   "cell_type": "code",
   "execution_count": 4,
   "metadata": {
    "tags": [
     "specification"
    ]
   },
   "outputs": [],
   "source": [
    "# Create the dirty DataFrame(s)\n",
    "# Employee DataFrame\n",
    "dirty_employee_df = pd.read_sql_query(\n",
    "    \"SELECT NationalIDNumber, LoginID, OrganizationNode, JobTitle, BirthDate, MaritalStatus, Gender,\"\n",
    "    \"HireDate, SalariedFlag, VacationHours, SickLeaveHours, CurrentFlag, PersonType, NameStyle, Title,\"\n",
    "    \"FirstName, MiddleName, LastName, Suffix, EmailPromotion, AdditionalContactInfo, Demographics \"\n",
    "    \"FROM Employee \"\n",
    "    \"JOIN Person ON Employee.BusinessEntityID = Person.BusinessEntityID\",\n",
    "    connection,\n",
    "    index_col=\"NationalIDNumber\",\n",
    ")"
   ]
  },
  {
   "cell_type": "markdown",
   "metadata": {
    "tags": [
     "specification"
    ]
   },
   "source": [
    "### Recognizing dirty data\n",
    "\n",
    "Recall that we did not look for dirty data in the `order_df`. Real world data rarely contains data without some \n",
    "inconsistencies or noise. For this reason, we will now look at the `dirty_employee_df` that contains obvious \n",
    "inconsistencies.\n",
    "\n",
    "<div class=\"alert alert-block alert-info\">\n",
    "\n",
    "**Task:** Independently use the skills you learned in Part One to familiarize yourself with the `dirty_employee_df`. In doing so, try to identify as many problems as possible with the dataset at hand.\n",
    "</div>"
   ]
  },
  {
   "cell_type": "code",
   "execution_count": 5,
   "metadata": {
    "tags": [
     "student"
    ]
   },
   "outputs": [],
   "source": [
    "# Use the methods you learned in Part One to familiarize yourself with dirty_employee_df\n",
    "# (Create new code cells whenever necessary)"
   ]
  },
  {
   "cell_type": "code",
   "execution_count": 6,
   "metadata": {
    "tags": [
     "solution"
    ]
   },
   "outputs": [
    {
     "data": {
      "text/plain": [
       "(290, 21)"
      ]
     },
     "execution_count": 6,
     "metadata": {},
     "output_type": "execute_result"
    }
   ],
   "source": [
    "# Since this task is very loosely defined, no 100% sample solution can be given here.\n",
    "\n",
    "# But a minimum is to look at the shape of the DataFrame\n",
    "dirty_employee_df.shape"
   ]
  },
  {
   "cell_type": "code",
   "execution_count": 7,
   "metadata": {
    "tags": [
     "solution"
    ]
   },
   "outputs": [
    {
     "data": {
      "text/html": [
       "<div>\n",
       "<style scoped>\n",
       "    .dataframe tbody tr th:only-of-type {\n",
       "        vertical-align: middle;\n",
       "    }\n",
       "\n",
       "    .dataframe tbody tr th {\n",
       "        vertical-align: top;\n",
       "    }\n",
       "\n",
       "    .dataframe thead th {\n",
       "        text-align: right;\n",
       "    }\n",
       "</style>\n",
       "<table border=\"1\" class=\"dataframe\">\n",
       "  <thead>\n",
       "    <tr style=\"text-align: right;\">\n",
       "      <th></th>\n",
       "      <th>LoginID</th>\n",
       "      <th>OrganizationNode</th>\n",
       "      <th>JobTitle</th>\n",
       "      <th>BirthDate</th>\n",
       "      <th>MaritalStatus</th>\n",
       "      <th>Gender</th>\n",
       "      <th>HireDate</th>\n",
       "      <th>SalariedFlag</th>\n",
       "      <th>VacationHours</th>\n",
       "      <th>SickLeaveHours</th>\n",
       "    </tr>\n",
       "    <tr>\n",
       "      <th>NationalIDNumber</th>\n",
       "      <th></th>\n",
       "      <th></th>\n",
       "      <th></th>\n",
       "      <th></th>\n",
       "      <th></th>\n",
       "      <th></th>\n",
       "      <th></th>\n",
       "      <th></th>\n",
       "      <th></th>\n",
       "      <th></th>\n",
       "    </tr>\n",
       "  </thead>\n",
       "  <tbody>\n",
       "    <tr>\n",
       "      <th>295847284</th>\n",
       "      <td>adventure-works\\ken0</td>\n",
       "      <td>None</td>\n",
       "      <td>Chief Executive Officer</td>\n",
       "      <td>1969-01-29</td>\n",
       "      <td>S</td>\n",
       "      <td>M</td>\n",
       "      <td>1959-01-29 00:00:00</td>\n",
       "      <td>1</td>\n",
       "      <td>99</td>\n",
       "      <td>69</td>\n",
       "    </tr>\n",
       "    <tr>\n",
       "      <th>245797967</th>\n",
       "      <td>adventure-works\\terri0</td>\n",
       "      <td>b'X'</td>\n",
       "      <td>Vice President of Engineering</td>\n",
       "      <td>1971-08-01</td>\n",
       "      <td>S</td>\n",
       "      <td>Female</td>\n",
       "      <td>1961-08-01 00:00:00</td>\n",
       "      <td>1</td>\n",
       "      <td>1</td>\n",
       "      <td>20</td>\n",
       "    </tr>\n",
       "    <tr>\n",
       "      <th>509647174</th>\n",
       "      <td>adventure-works\\roberto0</td>\n",
       "      <td>b'Z\\xc0'</td>\n",
       "      <td>Engineering Manager</td>\n",
       "      <td>1974-11-12 00:00:00</td>\n",
       "      <td>M</td>\n",
       "      <td>M</td>\n",
       "      <td>2007-11-11 00:00:00</td>\n",
       "      <td>1</td>\n",
       "      <td>2</td>\n",
       "      <td>21</td>\n",
       "    </tr>\n",
       "    <tr>\n",
       "      <th>112457891</th>\n",
       "      <td>adventure-works\\rob0</td>\n",
       "      <td>b'Z\\xd6'</td>\n",
       "      <td>None</td>\n",
       "      <td>1974-12-23</td>\n",
       "      <td>S</td>\n",
       "      <td>M</td>\n",
       "      <td>2007-12-05 00:00:00</td>\n",
       "      <td>0</td>\n",
       "      <td>48</td>\n",
       "      <td>80</td>\n",
       "    </tr>\n",
       "    <tr>\n",
       "      <th>695256908</th>\n",
       "      <td>adventure-works\\gail0</td>\n",
       "      <td>b'Z\\xda'</td>\n",
       "      <td>Design Engineer</td>\n",
       "      <td>1952-09-27</td>\n",
       "      <td>M</td>\n",
       "      <td>F</td>\n",
       "      <td>2008-01-06 00:00:00</td>\n",
       "      <td>1</td>\n",
       "      <td>5</td>\n",
       "      <td>22</td>\n",
       "    </tr>\n",
       "    <tr>\n",
       "      <th>998320692</th>\n",
       "      <td>adventure-works\\jossef0</td>\n",
       "      <td>b'Z\\xde'</td>\n",
       "      <td>Design Engineer</td>\n",
       "      <td>1959-03-11</td>\n",
       "      <td>M</td>\n",
       "      <td>M</td>\n",
       "      <td>2008-01-24 00:00:00</td>\n",
       "      <td>1</td>\n",
       "      <td>6</td>\n",
       "      <td>23</td>\n",
       "    </tr>\n",
       "    <tr>\n",
       "      <th>134969118</th>\n",
       "      <td>adventure-works\\dylan0</td>\n",
       "      <td>b'Z\\xe1'</td>\n",
       "      <td>Research and Development Manager</td>\n",
       "      <td>1987-02-24 00:00:00</td>\n",
       "      <td>M</td>\n",
       "      <td>Male</td>\n",
       "      <td>2009-02-08 00:00:00</td>\n",
       "      <td>1</td>\n",
       "      <td>61</td>\n",
       "      <td>50</td>\n",
       "    </tr>\n",
       "    <tr>\n",
       "      <th>811994146</th>\n",
       "      <td>adventure-works\\diane1</td>\n",
       "      <td>b'Z\\xe1X'</td>\n",
       "      <td>Research and Development Engineer</td>\n",
       "      <td>1986-06-05 00:00:00</td>\n",
       "      <td>S</td>\n",
       "      <td>F</td>\n",
       "      <td>2008-12-29 00:00:00</td>\n",
       "      <td>1</td>\n",
       "      <td>62</td>\n",
       "      <td>51</td>\n",
       "    </tr>\n",
       "    <tr>\n",
       "      <th>658797903</th>\n",
       "      <td>adventure-works\\gigi0</td>\n",
       "      <td>b'Z\\xe1h'</td>\n",
       "      <td>Research and Development Engineer</td>\n",
       "      <td>1979-01-21 00:00:00</td>\n",
       "      <td>M</td>\n",
       "      <td>Female</td>\n",
       "      <td>2009-01-16 00:00:00</td>\n",
       "      <td>1</td>\n",
       "      <td>63</td>\n",
       "      <td>51</td>\n",
       "    </tr>\n",
       "    <tr>\n",
       "      <th>879342154</th>\n",
       "      <td>adventure-works\\michael6</td>\n",
       "      <td>b'Z\\xe1x'</td>\n",
       "      <td>Research and Development Manager</td>\n",
       "      <td>1984-11-30</td>\n",
       "      <td>M</td>\n",
       "      <td>M</td>\n",
       "      <td>2009-05-03 00:00:00</td>\n",
       "      <td>1</td>\n",
       "      <td>16</td>\n",
       "      <td>2306</td>\n",
       "    </tr>\n",
       "    <tr>\n",
       "      <th>974026903</th>\n",
       "      <td>adventure-works\\ovidiu0</td>\n",
       "      <td>b'Z\\xe3'</td>\n",
       "      <td>Senior Tool Designer</td>\n",
       "      <td>1978-01-17</td>\n",
       "      <td>S</td>\n",
       "      <td>M</td>\n",
       "      <td>2010-12-05 00:00:00</td>\n",
       "      <td>0</td>\n",
       "      <td>7</td>\n",
       "      <td>23</td>\n",
       "    </tr>\n",
       "    <tr>\n",
       "      <th>480168528</th>\n",
       "      <td>adventure-works\\thierry0</td>\n",
       "      <td>b'Z\\xe3X'</td>\n",
       "      <td>Tool Designer</td>\n",
       "      <td>1959-07-29</td>\n",
       "      <td>M</td>\n",
       "      <td>Male</td>\n",
       "      <td>2007-12-11 00:00:00</td>\n",
       "      <td>0</td>\n",
       "      <td>9</td>\n",
       "      <td>24</td>\n",
       "    </tr>\n",
       "    <tr>\n",
       "      <th>486228782</th>\n",
       "      <td>adventure-works\\janice0</td>\n",
       "      <td>b'Z\\xe3h'</td>\n",
       "      <td>Tool Designer</td>\n",
       "      <td>1989-05-28</td>\n",
       "      <td>M</td>\n",
       "      <td>Female</td>\n",
       "      <td>2010-12-23 00:00:00</td>\n",
       "      <td>0</td>\n",
       "      <td>8</td>\n",
       "      <td>24</td>\n",
       "    </tr>\n",
       "    <tr>\n",
       "      <th>42487730</th>\n",
       "      <td>adventure-works\\michael8</td>\n",
       "      <td>b'Z\\xe5'</td>\n",
       "      <td>Senior Design Engineer</td>\n",
       "      <td>1979-06-16</td>\n",
       "      <td>S</td>\n",
       "      <td>M</td>\n",
       "      <td>2010-12-30 00:00:00</td>\n",
       "      <td>1</td>\n",
       "      <td>3</td>\n",
       "      <td>21</td>\n",
       "    </tr>\n",
       "    <tr>\n",
       "      <th>56920285</th>\n",
       "      <td>adventure-works\\sharon0</td>\n",
       "      <td>b'Z\\xe7'</td>\n",
       "      <td>Design Engineer</td>\n",
       "      <td>1961-05-02</td>\n",
       "      <td>M</td>\n",
       "      <td>F</td>\n",
       "      <td>2011-01-18 00:00:00</td>\n",
       "      <td>1</td>\n",
       "      <td>4</td>\n",
       "      <td>22</td>\n",
       "    </tr>\n",
       "    <tr>\n",
       "      <th>24756624</th>\n",
       "      <td>adventure-works\\david0</td>\n",
       "      <td>b'h'</td>\n",
       "      <td>Marketing Manager</td>\n",
       "      <td>1975-03-19</td>\n",
       "      <td>S</td>\n",
       "      <td>M</td>\n",
       "      <td>1965-03-19 00:00:00</td>\n",
       "      <td>1</td>\n",
       "      <td>40</td>\n",
       "      <td>40</td>\n",
       "    </tr>\n",
       "    <tr>\n",
       "      <th>253022876</th>\n",
       "      <td>adventure-works\\kevin0</td>\n",
       "      <td>b'j\\xc0'</td>\n",
       "      <td>Marketing Assistant</td>\n",
       "      <td>1987-05-03</td>\n",
       "      <td>S</td>\n",
       "      <td>M</td>\n",
       "      <td>1977-05-03 00:00:00</td>\n",
       "      <td>0</td>\n",
       "      <td>42</td>\n",
       "      <td>41</td>\n",
       "    </tr>\n",
       "    <tr>\n",
       "      <th>222969461</th>\n",
       "      <td>adventure-works\\john5</td>\n",
       "      <td>b'k@'</td>\n",
       "      <td>None</td>\n",
       "      <td>1978-03-06</td>\n",
       "      <td>S</td>\n",
       "      <td>M</td>\n",
       "      <td>1968-03-06 00:00:00</td>\n",
       "      <td>0</td>\n",
       "      <td>48</td>\n",
       "      <td>44</td>\n",
       "    </tr>\n",
       "    <tr>\n",
       "      <th>52541318</th>\n",
       "      <td>adventure-works\\mary2</td>\n",
       "      <td>b'k\\xc0'</td>\n",
       "      <td>Marketing Assistant</td>\n",
       "      <td>1978-01-29</td>\n",
       "      <td>S</td>\n",
       "      <td>F</td>\n",
       "      <td>2011-02-14 00:00:00</td>\n",
       "      <td>0</td>\n",
       "      <td>43</td>\n",
       "      <td>41</td>\n",
       "    </tr>\n",
       "    <tr>\n",
       "      <th>323403273</th>\n",
       "      <td>adventure-works\\wanida0</td>\n",
       "      <td>b'l '</td>\n",
       "      <td>Marketing Assistant</td>\n",
       "      <td>1975-03-17</td>\n",
       "      <td>M</td>\n",
       "      <td>Female</td>\n",
       "      <td>2011-01-07 00:00:00</td>\n",
       "      <td>0</td>\n",
       "      <td>41</td>\n",
       "      <td>40</td>\n",
       "    </tr>\n",
       "    <tr>\n",
       "      <th>243322160</th>\n",
       "      <td>adventure-works\\terry0</td>\n",
       "      <td>b'l`'</td>\n",
       "      <td>Marketing Specialist</td>\n",
       "      <td>1986-02-04</td>\n",
       "      <td>M</td>\n",
       "      <td>M</td>\n",
       "      <td>1976-02-04 00:00:00</td>\n",
       "      <td>0</td>\n",
       "      <td>-12</td>\n",
       "      <td>42</td>\n",
       "    </tr>\n",
       "    <tr>\n",
       "      <th>95958330</th>\n",
       "      <td>adventure-works\\sariya0</td>\n",
       "      <td>b'l\\xa0'</td>\n",
       "      <td>Marketing Specialist</td>\n",
       "      <td>1987-05-21 00:00:00</td>\n",
       "      <td>S</td>\n",
       "      <td>M</td>\n",
       "      <td>2008-12-12 00:00:00</td>\n",
       "      <td>0</td>\n",
       "      <td>45</td>\n",
       "      <td>42</td>\n",
       "    </tr>\n",
       "    <tr>\n",
       "      <th>767955365</th>\n",
       "      <td>adventure-works\\mary0</td>\n",
       "      <td>b'l\\xe0'</td>\n",
       "      <td>Marketing Specialist</td>\n",
       "      <td>1962-09-13 00:00:00</td>\n",
       "      <td>M</td>\n",
       "      <td>Female</td>\n",
       "      <td>2009-01-12 00:00:00</td>\n",
       "      <td>0</td>\n",
       "      <td>46</td>\n",
       "      <td>43</td>\n",
       "    </tr>\n",
       "    <tr>\n",
       "      <th>72636981</th>\n",
       "      <td>adventure-works\\jill0</td>\n",
       "      <td>b'm\\x10'</td>\n",
       "      <td>None</td>\n",
       "      <td>1979-06-18</td>\n",
       "      <td>M</td>\n",
       "      <td>Female</td>\n",
       "      <td>2009-01-18 00:00:00</td>\n",
       "      <td>0</td>\n",
       "      <td>47</td>\n",
       "      <td>43</td>\n",
       "    </tr>\n",
       "    <tr>\n",
       "      <th>519899904</th>\n",
       "      <td>adventure-works\\james1</td>\n",
       "      <td>b'x'</td>\n",
       "      <td>Vice President of Production</td>\n",
       "      <td>1983-01-07 00:00:00</td>\n",
       "      <td>S</td>\n",
       "      <td>M</td>\n",
       "      <td>2009-02-03 00:00:00</td>\n",
       "      <td>1</td>\n",
       "      <td>64</td>\n",
       "      <td>52</td>\n",
       "    </tr>\n",
       "  </tbody>\n",
       "</table>\n",
       "</div>"
      ],
      "text/plain": [
       "                                   LoginID OrganizationNode  \\\n",
       "NationalIDNumber                                              \n",
       "295847284             adventure-works\\ken0             None   \n",
       "245797967           adventure-works\\terri0             b'X'   \n",
       "509647174         adventure-works\\roberto0         b'Z\\xc0'   \n",
       "112457891             adventure-works\\rob0         b'Z\\xd6'   \n",
       "695256908            adventure-works\\gail0         b'Z\\xda'   \n",
       "998320692          adventure-works\\jossef0         b'Z\\xde'   \n",
       "134969118           adventure-works\\dylan0         b'Z\\xe1'   \n",
       "811994146           adventure-works\\diane1        b'Z\\xe1X'   \n",
       "658797903            adventure-works\\gigi0        b'Z\\xe1h'   \n",
       "879342154         adventure-works\\michael6        b'Z\\xe1x'   \n",
       "974026903          adventure-works\\ovidiu0         b'Z\\xe3'   \n",
       "480168528         adventure-works\\thierry0        b'Z\\xe3X'   \n",
       "486228782          adventure-works\\janice0        b'Z\\xe3h'   \n",
       "42487730          adventure-works\\michael8         b'Z\\xe5'   \n",
       "56920285           adventure-works\\sharon0         b'Z\\xe7'   \n",
       "24756624            adventure-works\\david0             b'h'   \n",
       "253022876           adventure-works\\kevin0         b'j\\xc0'   \n",
       "222969461            adventure-works\\john5            b'k@'   \n",
       "52541318             adventure-works\\mary2         b'k\\xc0'   \n",
       "323403273          adventure-works\\wanida0            b'l '   \n",
       "243322160           adventure-works\\terry0            b'l`'   \n",
       "95958330           adventure-works\\sariya0         b'l\\xa0'   \n",
       "767955365            adventure-works\\mary0         b'l\\xe0'   \n",
       "72636981             adventure-works\\jill0         b'm\\x10'   \n",
       "519899904           adventure-works\\james1             b'x'   \n",
       "\n",
       "                                           JobTitle            BirthDate  \\\n",
       "NationalIDNumber                                                           \n",
       "295847284                   Chief Executive Officer           1969-01-29   \n",
       "245797967             Vice President of Engineering           1971-08-01   \n",
       "509647174                       Engineering Manager  1974-11-12 00:00:00   \n",
       "112457891                                      None           1974-12-23   \n",
       "695256908                           Design Engineer           1952-09-27   \n",
       "998320692                           Design Engineer           1959-03-11   \n",
       "134969118          Research and Development Manager  1987-02-24 00:00:00   \n",
       "811994146         Research and Development Engineer  1986-06-05 00:00:00   \n",
       "658797903         Research and Development Engineer  1979-01-21 00:00:00   \n",
       "879342154          Research and Development Manager           1984-11-30   \n",
       "974026903                      Senior Tool Designer           1978-01-17   \n",
       "480168528                             Tool Designer           1959-07-29   \n",
       "486228782                             Tool Designer           1989-05-28   \n",
       "42487730                     Senior Design Engineer           1979-06-16   \n",
       "56920285                            Design Engineer           1961-05-02   \n",
       "24756624                          Marketing Manager           1975-03-19   \n",
       "253022876                       Marketing Assistant           1987-05-03   \n",
       "222969461                                      None           1978-03-06   \n",
       "52541318                        Marketing Assistant           1978-01-29   \n",
       "323403273                       Marketing Assistant           1975-03-17   \n",
       "243322160                      Marketing Specialist           1986-02-04   \n",
       "95958330                       Marketing Specialist  1987-05-21 00:00:00   \n",
       "767955365                      Marketing Specialist  1962-09-13 00:00:00   \n",
       "72636981                                       None           1979-06-18   \n",
       "519899904              Vice President of Production  1983-01-07 00:00:00   \n",
       "\n",
       "                 MaritalStatus  Gender             HireDate  SalariedFlag  \\\n",
       "NationalIDNumber                                                            \n",
       "295847284                    S       M  1959-01-29 00:00:00             1   \n",
       "245797967                    S  Female  1961-08-01 00:00:00             1   \n",
       "509647174                    M       M  2007-11-11 00:00:00             1   \n",
       "112457891                    S       M  2007-12-05 00:00:00             0   \n",
       "695256908                    M       F  2008-01-06 00:00:00             1   \n",
       "998320692                    M       M  2008-01-24 00:00:00             1   \n",
       "134969118                    M    Male  2009-02-08 00:00:00             1   \n",
       "811994146                    S       F  2008-12-29 00:00:00             1   \n",
       "658797903                    M  Female  2009-01-16 00:00:00             1   \n",
       "879342154                    M       M  2009-05-03 00:00:00             1   \n",
       "974026903                    S       M  2010-12-05 00:00:00             0   \n",
       "480168528                    M    Male  2007-12-11 00:00:00             0   \n",
       "486228782                    M  Female  2010-12-23 00:00:00             0   \n",
       "42487730                     S       M  2010-12-30 00:00:00             1   \n",
       "56920285                     M       F  2011-01-18 00:00:00             1   \n",
       "24756624                     S       M  1965-03-19 00:00:00             1   \n",
       "253022876                    S       M  1977-05-03 00:00:00             0   \n",
       "222969461                    S       M  1968-03-06 00:00:00             0   \n",
       "52541318                     S       F  2011-02-14 00:00:00             0   \n",
       "323403273                    M  Female  2011-01-07 00:00:00             0   \n",
       "243322160                    M       M  1976-02-04 00:00:00             0   \n",
       "95958330                     S       M  2008-12-12 00:00:00             0   \n",
       "767955365                    M  Female  2009-01-12 00:00:00             0   \n",
       "72636981                     M  Female  2009-01-18 00:00:00             0   \n",
       "519899904                    S       M  2009-02-03 00:00:00             1   \n",
       "\n",
       "                  VacationHours  SickLeaveHours  \n",
       "NationalIDNumber                                 \n",
       "295847284                    99              69  \n",
       "245797967                     1              20  \n",
       "509647174                     2              21  \n",
       "112457891                    48              80  \n",
       "695256908                     5              22  \n",
       "998320692                     6              23  \n",
       "134969118                    61              50  \n",
       "811994146                    62              51  \n",
       "658797903                    63              51  \n",
       "879342154                    16            2306  \n",
       "974026903                     7              23  \n",
       "480168528                     9              24  \n",
       "486228782                     8              24  \n",
       "42487730                      3              21  \n",
       "56920285                      4              22  \n",
       "24756624                     40              40  \n",
       "253022876                    42              41  \n",
       "222969461                    48              44  \n",
       "52541318                     43              41  \n",
       "323403273                    41              40  \n",
       "243322160                   -12              42  \n",
       "95958330                     45              42  \n",
       "767955365                    46              43  \n",
       "72636981                     47              43  \n",
       "519899904                    64              52  "
      ]
     },
     "execution_count": 7,
     "metadata": {},
     "output_type": "execute_result"
    }
   ],
   "source": [
    "# And then at least take a quick look at the head of all attributes. (Part 1)\n",
    "dirty_employee_df[dirty_employee_df.columns[0:10]].head(25)"
   ]
  },
  {
   "cell_type": "code",
   "execution_count": 8,
   "metadata": {
    "tags": [
     "solution"
    ]
   },
   "outputs": [
    {
     "data": {
      "text/html": [
       "<div>\n",
       "<style scoped>\n",
       "    .dataframe tbody tr th:only-of-type {\n",
       "        vertical-align: middle;\n",
       "    }\n",
       "\n",
       "    .dataframe tbody tr th {\n",
       "        vertical-align: top;\n",
       "    }\n",
       "\n",
       "    .dataframe thead th {\n",
       "        text-align: right;\n",
       "    }\n",
       "</style>\n",
       "<table border=\"1\" class=\"dataframe\">\n",
       "  <thead>\n",
       "    <tr style=\"text-align: right;\">\n",
       "      <th></th>\n",
       "      <th>CurrentFlag</th>\n",
       "      <th>PersonType</th>\n",
       "      <th>NameStyle</th>\n",
       "      <th>Title</th>\n",
       "      <th>FirstName</th>\n",
       "      <th>MiddleName</th>\n",
       "      <th>LastName</th>\n",
       "      <th>Suffix</th>\n",
       "      <th>EmailPromotion</th>\n",
       "      <th>AdditionalContactInfo</th>\n",
       "      <th>Demographics</th>\n",
       "    </tr>\n",
       "    <tr>\n",
       "      <th>NationalIDNumber</th>\n",
       "      <th></th>\n",
       "      <th></th>\n",
       "      <th></th>\n",
       "      <th></th>\n",
       "      <th></th>\n",
       "      <th></th>\n",
       "      <th></th>\n",
       "      <th></th>\n",
       "      <th></th>\n",
       "      <th></th>\n",
       "      <th></th>\n",
       "    </tr>\n",
       "  </thead>\n",
       "  <tbody>\n",
       "    <tr>\n",
       "      <th>295847284</th>\n",
       "      <td>1</td>\n",
       "      <td>EM</td>\n",
       "      <td>0</td>\n",
       "      <td>None</td>\n",
       "      <td>Ken</td>\n",
       "      <td>J</td>\n",
       "      <td>Doe</td>\n",
       "      <td>None</td>\n",
       "      <td>0</td>\n",
       "      <td>None</td>\n",
       "      <td>&lt;IndividualSurvey xmlns=\"http://schemas.micros...</td>\n",
       "    </tr>\n",
       "    <tr>\n",
       "      <th>245797967</th>\n",
       "      <td>1</td>\n",
       "      <td>EM</td>\n",
       "      <td>0</td>\n",
       "      <td>None</td>\n",
       "      <td>Terri</td>\n",
       "      <td>Lee</td>\n",
       "      <td>Doe</td>\n",
       "      <td>None</td>\n",
       "      <td>1</td>\n",
       "      <td>None</td>\n",
       "      <td>&lt;IndividualSurvey xmlns=\"http://schemas.micros...</td>\n",
       "    </tr>\n",
       "    <tr>\n",
       "      <th>509647174</th>\n",
       "      <td>1</td>\n",
       "      <td>EM</td>\n",
       "      <td>0</td>\n",
       "      <td>None</td>\n",
       "      <td>Roberto</td>\n",
       "      <td>None</td>\n",
       "      <td>Doe</td>\n",
       "      <td>None</td>\n",
       "      <td>0</td>\n",
       "      <td>None</td>\n",
       "      <td>&lt;IndividualSurvey xmlns=\"http://schemas.micros...</td>\n",
       "    </tr>\n",
       "    <tr>\n",
       "      <th>112457891</th>\n",
       "      <td>1</td>\n",
       "      <td>EM</td>\n",
       "      <td>0</td>\n",
       "      <td>None</td>\n",
       "      <td>Rob</td>\n",
       "      <td>None</td>\n",
       "      <td>Doe</td>\n",
       "      <td>None</td>\n",
       "      <td>0</td>\n",
       "      <td>None</td>\n",
       "      <td>&lt;IndividualSurvey xmlns=\"http://schemas.micros...</td>\n",
       "    </tr>\n",
       "    <tr>\n",
       "      <th>695256908</th>\n",
       "      <td>1</td>\n",
       "      <td>EM</td>\n",
       "      <td>0</td>\n",
       "      <td>Ms.</td>\n",
       "      <td>Gail</td>\n",
       "      <td>A</td>\n",
       "      <td>Doe</td>\n",
       "      <td>None</td>\n",
       "      <td>0</td>\n",
       "      <td>None</td>\n",
       "      <td>&lt;IndividualSurvey xmlns=\"http://schemas.micros...</td>\n",
       "    </tr>\n",
       "    <tr>\n",
       "      <th>998320692</th>\n",
       "      <td>1</td>\n",
       "      <td>EM</td>\n",
       "      <td>0</td>\n",
       "      <td>Mr.</td>\n",
       "      <td>Jossef</td>\n",
       "      <td>H</td>\n",
       "      <td>Doe</td>\n",
       "      <td>None</td>\n",
       "      <td>0</td>\n",
       "      <td>None</td>\n",
       "      <td>&lt;IndividualSurvey xmlns=\"http://schemas.micros...</td>\n",
       "    </tr>\n",
       "    <tr>\n",
       "      <th>134969118</th>\n",
       "      <td>1</td>\n",
       "      <td>EM</td>\n",
       "      <td>0</td>\n",
       "      <td>None</td>\n",
       "      <td>Dylan</td>\n",
       "      <td>A</td>\n",
       "      <td>Doe</td>\n",
       "      <td>None</td>\n",
       "      <td>2</td>\n",
       "      <td>None</td>\n",
       "      <td>&lt;IndividualSurvey xmlns=\"http://schemas.micros...</td>\n",
       "    </tr>\n",
       "    <tr>\n",
       "      <th>811994146</th>\n",
       "      <td>1</td>\n",
       "      <td>EM</td>\n",
       "      <td>0</td>\n",
       "      <td>None</td>\n",
       "      <td>Diane</td>\n",
       "      <td>L</td>\n",
       "      <td>Doe</td>\n",
       "      <td>None</td>\n",
       "      <td>0</td>\n",
       "      <td>None</td>\n",
       "      <td>&lt;IndividualSurvey xmlns=\"http://schemas.micros...</td>\n",
       "    </tr>\n",
       "    <tr>\n",
       "      <th>658797903</th>\n",
       "      <td>0</td>\n",
       "      <td>EM</td>\n",
       "      <td>0</td>\n",
       "      <td>None</td>\n",
       "      <td>Gigi</td>\n",
       "      <td>N</td>\n",
       "      <td>Doe</td>\n",
       "      <td>None</td>\n",
       "      <td>0</td>\n",
       "      <td>None</td>\n",
       "      <td>&lt;IndividualSurvey xmlns=\"http://schemas.micros...</td>\n",
       "    </tr>\n",
       "    <tr>\n",
       "      <th>879342154</th>\n",
       "      <td>1</td>\n",
       "      <td>EM</td>\n",
       "      <td>0</td>\n",
       "      <td>None</td>\n",
       "      <td>Michael</td>\n",
       "      <td>None</td>\n",
       "      <td>Doe</td>\n",
       "      <td>None</td>\n",
       "      <td>2</td>\n",
       "      <td>None</td>\n",
       "      <td>&lt;IndividualSurvey xmlns=\"http://schemas.micros...</td>\n",
       "    </tr>\n",
       "    <tr>\n",
       "      <th>974026903</th>\n",
       "      <td>0</td>\n",
       "      <td>EM</td>\n",
       "      <td>0</td>\n",
       "      <td>None</td>\n",
       "      <td>Ovidiu</td>\n",
       "      <td>V</td>\n",
       "      <td>Doe</td>\n",
       "      <td>None</td>\n",
       "      <td>0</td>\n",
       "      <td>None</td>\n",
       "      <td>&lt;IndividualSurvey xmlns=\"http://schemas.micros...</td>\n",
       "    </tr>\n",
       "    <tr>\n",
       "      <th>480168528</th>\n",
       "      <td>1</td>\n",
       "      <td>EM</td>\n",
       "      <td>0</td>\n",
       "      <td>None</td>\n",
       "      <td>Thierry</td>\n",
       "      <td>B</td>\n",
       "      <td>Doe</td>\n",
       "      <td>None</td>\n",
       "      <td>2</td>\n",
       "      <td>None</td>\n",
       "      <td>&lt;IndividualSurvey xmlns=\"http://schemas.micros...</td>\n",
       "    </tr>\n",
       "    <tr>\n",
       "      <th>486228782</th>\n",
       "      <td>1</td>\n",
       "      <td>EM</td>\n",
       "      <td>0</td>\n",
       "      <td>Ms.</td>\n",
       "      <td>Janice</td>\n",
       "      <td>M</td>\n",
       "      <td>Doe</td>\n",
       "      <td>None</td>\n",
       "      <td>2</td>\n",
       "      <td>None</td>\n",
       "      <td>&lt;IndividualSurvey xmlns=\"http://schemas.micros...</td>\n",
       "    </tr>\n",
       "    <tr>\n",
       "      <th>42487730</th>\n",
       "      <td>1</td>\n",
       "      <td>EM</td>\n",
       "      <td>0</td>\n",
       "      <td>None</td>\n",
       "      <td>Michael</td>\n",
       "      <td>I</td>\n",
       "      <td>Doe</td>\n",
       "      <td>None</td>\n",
       "      <td>2</td>\n",
       "      <td>None</td>\n",
       "      <td>&lt;IndividualSurvey xmlns=\"http://schemas.micros...</td>\n",
       "    </tr>\n",
       "    <tr>\n",
       "      <th>56920285</th>\n",
       "      <td>1</td>\n",
       "      <td>EM</td>\n",
       "      <td>0</td>\n",
       "      <td>None</td>\n",
       "      <td>Sharon</td>\n",
       "      <td>B</td>\n",
       "      <td>Doe</td>\n",
       "      <td>None</td>\n",
       "      <td>2</td>\n",
       "      <td>None</td>\n",
       "      <td>&lt;IndividualSurvey xmlns=\"http://schemas.micros...</td>\n",
       "    </tr>\n",
       "    <tr>\n",
       "      <th>24756624</th>\n",
       "      <td>1</td>\n",
       "      <td>EM</td>\n",
       "      <td>0</td>\n",
       "      <td>None</td>\n",
       "      <td>David</td>\n",
       "      <td>M</td>\n",
       "      <td>Doe</td>\n",
       "      <td>None</td>\n",
       "      <td>1</td>\n",
       "      <td>None</td>\n",
       "      <td>&lt;IndividualSurvey xmlns=\"http://schemas.micros...</td>\n",
       "    </tr>\n",
       "    <tr>\n",
       "      <th>253022876</th>\n",
       "      <td>1</td>\n",
       "      <td>EM</td>\n",
       "      <td>0</td>\n",
       "      <td>None</td>\n",
       "      <td>Kevin</td>\n",
       "      <td>F</td>\n",
       "      <td>Doe</td>\n",
       "      <td>None</td>\n",
       "      <td>2</td>\n",
       "      <td>None</td>\n",
       "      <td>&lt;IndividualSurvey xmlns=\"http://schemas.micros...</td>\n",
       "    </tr>\n",
       "    <tr>\n",
       "      <th>222969461</th>\n",
       "      <td>1</td>\n",
       "      <td>EM</td>\n",
       "      <td>0</td>\n",
       "      <td>None</td>\n",
       "      <td>John</td>\n",
       "      <td>L</td>\n",
       "      <td>Doe</td>\n",
       "      <td>None</td>\n",
       "      <td>2</td>\n",
       "      <td>None</td>\n",
       "      <td>&lt;IndividualSurvey xmlns=\"http://schemas.micros...</td>\n",
       "    </tr>\n",
       "    <tr>\n",
       "      <th>52541318</th>\n",
       "      <td>1</td>\n",
       "      <td>EM</td>\n",
       "      <td>0</td>\n",
       "      <td>None</td>\n",
       "      <td>Mary</td>\n",
       "      <td>A</td>\n",
       "      <td>Doe</td>\n",
       "      <td>None</td>\n",
       "      <td>1</td>\n",
       "      <td>None</td>\n",
       "      <td>&lt;IndividualSurvey xmlns=\"http://schemas.micros...</td>\n",
       "    </tr>\n",
       "    <tr>\n",
       "      <th>323403273</th>\n",
       "      <td>1</td>\n",
       "      <td>EM</td>\n",
       "      <td>0</td>\n",
       "      <td>None</td>\n",
       "      <td>Wanida</td>\n",
       "      <td>M</td>\n",
       "      <td>Doe</td>\n",
       "      <td>None</td>\n",
       "      <td>2</td>\n",
       "      <td>None</td>\n",
       "      <td>&lt;IndividualSurvey xmlns=\"http://schemas.micros...</td>\n",
       "    </tr>\n",
       "    <tr>\n",
       "      <th>243322160</th>\n",
       "      <td>1</td>\n",
       "      <td>EM</td>\n",
       "      <td>0</td>\n",
       "      <td>None</td>\n",
       "      <td>Terry</td>\n",
       "      <td>J</td>\n",
       "      <td>Doe</td>\n",
       "      <td>None</td>\n",
       "      <td>2</td>\n",
       "      <td>None</td>\n",
       "      <td>&lt;IndividualSurvey xmlns=\"http://schemas.micros...</td>\n",
       "    </tr>\n",
       "    <tr>\n",
       "      <th>95958330</th>\n",
       "      <td>1</td>\n",
       "      <td>EM</td>\n",
       "      <td>0</td>\n",
       "      <td>None</td>\n",
       "      <td>Sariya</td>\n",
       "      <td>E</td>\n",
       "      <td>Doe</td>\n",
       "      <td>None</td>\n",
       "      <td>0</td>\n",
       "      <td>None</td>\n",
       "      <td>&lt;IndividualSurvey xmlns=\"http://schemas.micros...</td>\n",
       "    </tr>\n",
       "    <tr>\n",
       "      <th>767955365</th>\n",
       "      <td>1</td>\n",
       "      <td>EM</td>\n",
       "      <td>0</td>\n",
       "      <td>None</td>\n",
       "      <td>Mary</td>\n",
       "      <td>E</td>\n",
       "      <td>Doe</td>\n",
       "      <td>None</td>\n",
       "      <td>0</td>\n",
       "      <td>None</td>\n",
       "      <td>&lt;IndividualSurvey xmlns=\"http://schemas.micros...</td>\n",
       "    </tr>\n",
       "    <tr>\n",
       "      <th>72636981</th>\n",
       "      <td>1</td>\n",
       "      <td>EM</td>\n",
       "      <td>0</td>\n",
       "      <td>Ms.</td>\n",
       "      <td>Jill</td>\n",
       "      <td>A</td>\n",
       "      <td>Doe</td>\n",
       "      <td>None</td>\n",
       "      <td>0</td>\n",
       "      <td>None</td>\n",
       "      <td>&lt;IndividualSurvey xmlns=\"http://schemas.micros...</td>\n",
       "    </tr>\n",
       "    <tr>\n",
       "      <th>519899904</th>\n",
       "      <td>1</td>\n",
       "      <td>EM</td>\n",
       "      <td>0</td>\n",
       "      <td>None</td>\n",
       "      <td>James</td>\n",
       "      <td>R</td>\n",
       "      <td>Doe</td>\n",
       "      <td>None</td>\n",
       "      <td>0</td>\n",
       "      <td>None</td>\n",
       "      <td>&lt;IndividualSurvey xmlns=\"http://schemas.micros...</td>\n",
       "    </tr>\n",
       "  </tbody>\n",
       "</table>\n",
       "</div>"
      ],
      "text/plain": [
       "                  CurrentFlag PersonType  NameStyle Title FirstName  \\\n",
       "NationalIDNumber                                                      \n",
       "295847284                   1         EM          0  None       Ken   \n",
       "245797967                   1         EM          0  None     Terri   \n",
       "509647174                   1         EM          0  None   Roberto   \n",
       "112457891                   1         EM          0  None       Rob   \n",
       "695256908                   1         EM          0   Ms.      Gail   \n",
       "998320692                   1         EM          0   Mr.    Jossef   \n",
       "134969118                   1         EM          0  None     Dylan   \n",
       "811994146                   1         EM          0  None     Diane   \n",
       "658797903                   0         EM          0  None      Gigi   \n",
       "879342154                   1         EM          0  None   Michael   \n",
       "974026903                   0         EM          0  None    Ovidiu   \n",
       "480168528                   1         EM          0  None   Thierry   \n",
       "486228782                   1         EM          0   Ms.    Janice   \n",
       "42487730                    1         EM          0  None   Michael   \n",
       "56920285                    1         EM          0  None    Sharon   \n",
       "24756624                    1         EM          0  None     David   \n",
       "253022876                   1         EM          0  None     Kevin   \n",
       "222969461                   1         EM          0  None      John   \n",
       "52541318                    1         EM          0  None      Mary   \n",
       "323403273                   1         EM          0  None    Wanida   \n",
       "243322160                   1         EM          0  None     Terry   \n",
       "95958330                    1         EM          0  None    Sariya   \n",
       "767955365                   1         EM          0  None      Mary   \n",
       "72636981                    1         EM          0   Ms.      Jill   \n",
       "519899904                   1         EM          0  None     James   \n",
       "\n",
       "                 MiddleName LastName Suffix  EmailPromotion  \\\n",
       "NationalIDNumber                                              \n",
       "295847284                 J      Doe   None               0   \n",
       "245797967               Lee      Doe   None               1   \n",
       "509647174              None      Doe   None               0   \n",
       "112457891              None      Doe   None               0   \n",
       "695256908                 A      Doe   None               0   \n",
       "998320692                 H      Doe   None               0   \n",
       "134969118                 A      Doe   None               2   \n",
       "811994146                 L      Doe   None               0   \n",
       "658797903                 N      Doe   None               0   \n",
       "879342154              None      Doe   None               2   \n",
       "974026903                 V      Doe   None               0   \n",
       "480168528                 B      Doe   None               2   \n",
       "486228782                 M      Doe   None               2   \n",
       "42487730                  I      Doe   None               2   \n",
       "56920285                  B      Doe   None               2   \n",
       "24756624                  M      Doe   None               1   \n",
       "253022876                 F      Doe   None               2   \n",
       "222969461                 L      Doe   None               2   \n",
       "52541318                  A      Doe   None               1   \n",
       "323403273                 M      Doe   None               2   \n",
       "243322160                 J      Doe   None               2   \n",
       "95958330                  E      Doe   None               0   \n",
       "767955365                 E      Doe   None               0   \n",
       "72636981                  A      Doe   None               0   \n",
       "519899904                 R      Doe   None               0   \n",
       "\n",
       "                 AdditionalContactInfo  \\\n",
       "NationalIDNumber                         \n",
       "295847284                         None   \n",
       "245797967                         None   \n",
       "509647174                         None   \n",
       "112457891                         None   \n",
       "695256908                         None   \n",
       "998320692                         None   \n",
       "134969118                         None   \n",
       "811994146                         None   \n",
       "658797903                         None   \n",
       "879342154                         None   \n",
       "974026903                         None   \n",
       "480168528                         None   \n",
       "486228782                         None   \n",
       "42487730                          None   \n",
       "56920285                          None   \n",
       "24756624                          None   \n",
       "253022876                         None   \n",
       "222969461                         None   \n",
       "52541318                          None   \n",
       "323403273                         None   \n",
       "243322160                         None   \n",
       "95958330                          None   \n",
       "767955365                         None   \n",
       "72636981                          None   \n",
       "519899904                         None   \n",
       "\n",
       "                                                       Demographics  \n",
       "NationalIDNumber                                                     \n",
       "295847284         <IndividualSurvey xmlns=\"http://schemas.micros...  \n",
       "245797967         <IndividualSurvey xmlns=\"http://schemas.micros...  \n",
       "509647174         <IndividualSurvey xmlns=\"http://schemas.micros...  \n",
       "112457891         <IndividualSurvey xmlns=\"http://schemas.micros...  \n",
       "695256908         <IndividualSurvey xmlns=\"http://schemas.micros...  \n",
       "998320692         <IndividualSurvey xmlns=\"http://schemas.micros...  \n",
       "134969118         <IndividualSurvey xmlns=\"http://schemas.micros...  \n",
       "811994146         <IndividualSurvey xmlns=\"http://schemas.micros...  \n",
       "658797903         <IndividualSurvey xmlns=\"http://schemas.micros...  \n",
       "879342154         <IndividualSurvey xmlns=\"http://schemas.micros...  \n",
       "974026903         <IndividualSurvey xmlns=\"http://schemas.micros...  \n",
       "480168528         <IndividualSurvey xmlns=\"http://schemas.micros...  \n",
       "486228782         <IndividualSurvey xmlns=\"http://schemas.micros...  \n",
       "42487730          <IndividualSurvey xmlns=\"http://schemas.micros...  \n",
       "56920285          <IndividualSurvey xmlns=\"http://schemas.micros...  \n",
       "24756624          <IndividualSurvey xmlns=\"http://schemas.micros...  \n",
       "253022876         <IndividualSurvey xmlns=\"http://schemas.micros...  \n",
       "222969461         <IndividualSurvey xmlns=\"http://schemas.micros...  \n",
       "52541318          <IndividualSurvey xmlns=\"http://schemas.micros...  \n",
       "323403273         <IndividualSurvey xmlns=\"http://schemas.micros...  \n",
       "243322160         <IndividualSurvey xmlns=\"http://schemas.micros...  \n",
       "95958330          <IndividualSurvey xmlns=\"http://schemas.micros...  \n",
       "767955365         <IndividualSurvey xmlns=\"http://schemas.micros...  \n",
       "72636981          <IndividualSurvey xmlns=\"http://schemas.micros...  \n",
       "519899904         <IndividualSurvey xmlns=\"http://schemas.micros...  "
      ]
     },
     "execution_count": 8,
     "metadata": {},
     "output_type": "execute_result"
    }
   ],
   "source": [
    "# And then at least take a quick look at the head of all attributes. (Part 2)\n",
    "dirty_employee_df[dirty_employee_df.columns[10:21]].head(25)"
   ]
  },
  {
   "cell_type": "markdown",
   "metadata": {
    "tags": [
     "specification"
    ]
   },
   "source": [
    "#### Incomplete\n",
    "\n",
    "Incomplete data can take many different forms. If you look at the present data set, you will notice `None` values in various attributes. "
   ]
  },
  {
   "cell_type": "code",
   "execution_count": 9,
   "metadata": {
    "tags": [
     "specification"
    ]
   },
   "outputs": [
    {
     "data": {
      "text/html": [
       "<div>\n",
       "<style scoped>\n",
       "    .dataframe tbody tr th:only-of-type {\n",
       "        vertical-align: middle;\n",
       "    }\n",
       "\n",
       "    .dataframe tbody tr th {\n",
       "        vertical-align: top;\n",
       "    }\n",
       "\n",
       "    .dataframe thead th {\n",
       "        text-align: right;\n",
       "    }\n",
       "</style>\n",
       "<table border=\"1\" class=\"dataframe\">\n",
       "  <thead>\n",
       "    <tr style=\"text-align: right;\">\n",
       "      <th></th>\n",
       "      <th>OrganizationNode</th>\n",
       "      <th>JobTitle</th>\n",
       "      <th>Title</th>\n",
       "      <th>MiddleName</th>\n",
       "      <th>Suffix</th>\n",
       "      <th>AdditionalContactInfo</th>\n",
       "    </tr>\n",
       "    <tr>\n",
       "      <th>NationalIDNumber</th>\n",
       "      <th></th>\n",
       "      <th></th>\n",
       "      <th></th>\n",
       "      <th></th>\n",
       "      <th></th>\n",
       "      <th></th>\n",
       "    </tr>\n",
       "  </thead>\n",
       "  <tbody>\n",
       "    <tr>\n",
       "      <th>295847284</th>\n",
       "      <td>None</td>\n",
       "      <td>Chief Executive Officer</td>\n",
       "      <td>None</td>\n",
       "      <td>J</td>\n",
       "      <td>None</td>\n",
       "      <td>None</td>\n",
       "    </tr>\n",
       "    <tr>\n",
       "      <th>245797967</th>\n",
       "      <td>b'X'</td>\n",
       "      <td>Vice President of Engineering</td>\n",
       "      <td>None</td>\n",
       "      <td>Lee</td>\n",
       "      <td>None</td>\n",
       "      <td>None</td>\n",
       "    </tr>\n",
       "    <tr>\n",
       "      <th>509647174</th>\n",
       "      <td>b'Z\\xc0'</td>\n",
       "      <td>Engineering Manager</td>\n",
       "      <td>None</td>\n",
       "      <td>None</td>\n",
       "      <td>None</td>\n",
       "      <td>None</td>\n",
       "    </tr>\n",
       "    <tr>\n",
       "      <th>112457891</th>\n",
       "      <td>b'Z\\xd6'</td>\n",
       "      <td>None</td>\n",
       "      <td>None</td>\n",
       "      <td>None</td>\n",
       "      <td>None</td>\n",
       "      <td>None</td>\n",
       "    </tr>\n",
       "    <tr>\n",
       "      <th>695256908</th>\n",
       "      <td>b'Z\\xda'</td>\n",
       "      <td>Design Engineer</td>\n",
       "      <td>Ms.</td>\n",
       "      <td>A</td>\n",
       "      <td>None</td>\n",
       "      <td>None</td>\n",
       "    </tr>\n",
       "    <tr>\n",
       "      <th>998320692</th>\n",
       "      <td>b'Z\\xde'</td>\n",
       "      <td>Design Engineer</td>\n",
       "      <td>Mr.</td>\n",
       "      <td>H</td>\n",
       "      <td>None</td>\n",
       "      <td>None</td>\n",
       "    </tr>\n",
       "    <tr>\n",
       "      <th>134969118</th>\n",
       "      <td>b'Z\\xe1'</td>\n",
       "      <td>Research and Development Manager</td>\n",
       "      <td>None</td>\n",
       "      <td>A</td>\n",
       "      <td>None</td>\n",
       "      <td>None</td>\n",
       "    </tr>\n",
       "    <tr>\n",
       "      <th>811994146</th>\n",
       "      <td>b'Z\\xe1X'</td>\n",
       "      <td>Research and Development Engineer</td>\n",
       "      <td>None</td>\n",
       "      <td>L</td>\n",
       "      <td>None</td>\n",
       "      <td>None</td>\n",
       "    </tr>\n",
       "    <tr>\n",
       "      <th>658797903</th>\n",
       "      <td>b'Z\\xe1h'</td>\n",
       "      <td>Research and Development Engineer</td>\n",
       "      <td>None</td>\n",
       "      <td>N</td>\n",
       "      <td>None</td>\n",
       "      <td>None</td>\n",
       "    </tr>\n",
       "    <tr>\n",
       "      <th>879342154</th>\n",
       "      <td>b'Z\\xe1x'</td>\n",
       "      <td>Research and Development Manager</td>\n",
       "      <td>None</td>\n",
       "      <td>None</td>\n",
       "      <td>None</td>\n",
       "      <td>None</td>\n",
       "    </tr>\n",
       "    <tr>\n",
       "      <th>974026903</th>\n",
       "      <td>b'Z\\xe3'</td>\n",
       "      <td>Senior Tool Designer</td>\n",
       "      <td>None</td>\n",
       "      <td>V</td>\n",
       "      <td>None</td>\n",
       "      <td>None</td>\n",
       "    </tr>\n",
       "    <tr>\n",
       "      <th>480168528</th>\n",
       "      <td>b'Z\\xe3X'</td>\n",
       "      <td>Tool Designer</td>\n",
       "      <td>None</td>\n",
       "      <td>B</td>\n",
       "      <td>None</td>\n",
       "      <td>None</td>\n",
       "    </tr>\n",
       "    <tr>\n",
       "      <th>486228782</th>\n",
       "      <td>b'Z\\xe3h'</td>\n",
       "      <td>Tool Designer</td>\n",
       "      <td>Ms.</td>\n",
       "      <td>M</td>\n",
       "      <td>None</td>\n",
       "      <td>None</td>\n",
       "    </tr>\n",
       "    <tr>\n",
       "      <th>42487730</th>\n",
       "      <td>b'Z\\xe5'</td>\n",
       "      <td>Senior Design Engineer</td>\n",
       "      <td>None</td>\n",
       "      <td>I</td>\n",
       "      <td>None</td>\n",
       "      <td>None</td>\n",
       "    </tr>\n",
       "    <tr>\n",
       "      <th>56920285</th>\n",
       "      <td>b'Z\\xe7'</td>\n",
       "      <td>Design Engineer</td>\n",
       "      <td>None</td>\n",
       "      <td>B</td>\n",
       "      <td>None</td>\n",
       "      <td>None</td>\n",
       "    </tr>\n",
       "    <tr>\n",
       "      <th>24756624</th>\n",
       "      <td>b'h'</td>\n",
       "      <td>Marketing Manager</td>\n",
       "      <td>None</td>\n",
       "      <td>M</td>\n",
       "      <td>None</td>\n",
       "      <td>None</td>\n",
       "    </tr>\n",
       "    <tr>\n",
       "      <th>253022876</th>\n",
       "      <td>b'j\\xc0'</td>\n",
       "      <td>Marketing Assistant</td>\n",
       "      <td>None</td>\n",
       "      <td>F</td>\n",
       "      <td>None</td>\n",
       "      <td>None</td>\n",
       "    </tr>\n",
       "    <tr>\n",
       "      <th>222969461</th>\n",
       "      <td>b'k@'</td>\n",
       "      <td>None</td>\n",
       "      <td>None</td>\n",
       "      <td>L</td>\n",
       "      <td>None</td>\n",
       "      <td>None</td>\n",
       "    </tr>\n",
       "    <tr>\n",
       "      <th>52541318</th>\n",
       "      <td>b'k\\xc0'</td>\n",
       "      <td>Marketing Assistant</td>\n",
       "      <td>None</td>\n",
       "      <td>A</td>\n",
       "      <td>None</td>\n",
       "      <td>None</td>\n",
       "    </tr>\n",
       "    <tr>\n",
       "      <th>323403273</th>\n",
       "      <td>b'l '</td>\n",
       "      <td>Marketing Assistant</td>\n",
       "      <td>None</td>\n",
       "      <td>M</td>\n",
       "      <td>None</td>\n",
       "      <td>None</td>\n",
       "    </tr>\n",
       "    <tr>\n",
       "      <th>243322160</th>\n",
       "      <td>b'l`'</td>\n",
       "      <td>Marketing Specialist</td>\n",
       "      <td>None</td>\n",
       "      <td>J</td>\n",
       "      <td>None</td>\n",
       "      <td>None</td>\n",
       "    </tr>\n",
       "    <tr>\n",
       "      <th>95958330</th>\n",
       "      <td>b'l\\xa0'</td>\n",
       "      <td>Marketing Specialist</td>\n",
       "      <td>None</td>\n",
       "      <td>E</td>\n",
       "      <td>None</td>\n",
       "      <td>None</td>\n",
       "    </tr>\n",
       "    <tr>\n",
       "      <th>767955365</th>\n",
       "      <td>b'l\\xe0'</td>\n",
       "      <td>Marketing Specialist</td>\n",
       "      <td>None</td>\n",
       "      <td>E</td>\n",
       "      <td>None</td>\n",
       "      <td>None</td>\n",
       "    </tr>\n",
       "    <tr>\n",
       "      <th>72636981</th>\n",
       "      <td>b'm\\x10'</td>\n",
       "      <td>None</td>\n",
       "      <td>Ms.</td>\n",
       "      <td>A</td>\n",
       "      <td>None</td>\n",
       "      <td>None</td>\n",
       "    </tr>\n",
       "    <tr>\n",
       "      <th>519899904</th>\n",
       "      <td>b'x'</td>\n",
       "      <td>Vice President of Production</td>\n",
       "      <td>None</td>\n",
       "      <td>R</td>\n",
       "      <td>None</td>\n",
       "      <td>None</td>\n",
       "    </tr>\n",
       "  </tbody>\n",
       "</table>\n",
       "</div>"
      ],
      "text/plain": [
       "                 OrganizationNode                           JobTitle Title  \\\n",
       "NationalIDNumber                                                             \n",
       "295847284                    None            Chief Executive Officer  None   \n",
       "245797967                    b'X'      Vice President of Engineering  None   \n",
       "509647174                b'Z\\xc0'                Engineering Manager  None   \n",
       "112457891                b'Z\\xd6'                               None  None   \n",
       "695256908                b'Z\\xda'                    Design Engineer   Ms.   \n",
       "998320692                b'Z\\xde'                    Design Engineer   Mr.   \n",
       "134969118                b'Z\\xe1'   Research and Development Manager  None   \n",
       "811994146               b'Z\\xe1X'  Research and Development Engineer  None   \n",
       "658797903               b'Z\\xe1h'  Research and Development Engineer  None   \n",
       "879342154               b'Z\\xe1x'   Research and Development Manager  None   \n",
       "974026903                b'Z\\xe3'               Senior Tool Designer  None   \n",
       "480168528               b'Z\\xe3X'                      Tool Designer  None   \n",
       "486228782               b'Z\\xe3h'                      Tool Designer   Ms.   \n",
       "42487730                 b'Z\\xe5'             Senior Design Engineer  None   \n",
       "56920285                 b'Z\\xe7'                    Design Engineer  None   \n",
       "24756624                     b'h'                  Marketing Manager  None   \n",
       "253022876                b'j\\xc0'                Marketing Assistant  None   \n",
       "222969461                   b'k@'                               None  None   \n",
       "52541318                 b'k\\xc0'                Marketing Assistant  None   \n",
       "323403273                   b'l '                Marketing Assistant  None   \n",
       "243322160                   b'l`'               Marketing Specialist  None   \n",
       "95958330                 b'l\\xa0'               Marketing Specialist  None   \n",
       "767955365                b'l\\xe0'               Marketing Specialist  None   \n",
       "72636981                 b'm\\x10'                               None   Ms.   \n",
       "519899904                    b'x'       Vice President of Production  None   \n",
       "\n",
       "                 MiddleName Suffix AdditionalContactInfo  \n",
       "NationalIDNumber                                          \n",
       "295847284                 J   None                  None  \n",
       "245797967               Lee   None                  None  \n",
       "509647174              None   None                  None  \n",
       "112457891              None   None                  None  \n",
       "695256908                 A   None                  None  \n",
       "998320692                 H   None                  None  \n",
       "134969118                 A   None                  None  \n",
       "811994146                 L   None                  None  \n",
       "658797903                 N   None                  None  \n",
       "879342154              None   None                  None  \n",
       "974026903                 V   None                  None  \n",
       "480168528                 B   None                  None  \n",
       "486228782                 M   None                  None  \n",
       "42487730                  I   None                  None  \n",
       "56920285                  B   None                  None  \n",
       "24756624                  M   None                  None  \n",
       "253022876                 F   None                  None  \n",
       "222969461                 L   None                  None  \n",
       "52541318                  A   None                  None  \n",
       "323403273                 M   None                  None  \n",
       "243322160                 J   None                  None  \n",
       "95958330                  E   None                  None  \n",
       "767955365                 E   None                  None  \n",
       "72636981                  A   None                  None  \n",
       "519899904                 R   None                  None  "
      ]
     },
     "execution_count": 9,
     "metadata": {},
     "output_type": "execute_result"
    }
   ],
   "source": [
    "# Print the columns containing at least one `None`\n",
    "dirty_employee_df[\n",
    "    [\n",
    "        \"OrganizationNode\",\n",
    "        \"JobTitle\",\n",
    "        \"Title\",\n",
    "        \"MiddleName\",\n",
    "        \"Suffix\",\n",
    "        \"AdditionalContactInfo\",\n",
    "    ]\n",
    "].head(25)"
   ]
  },
  {
   "cell_type": "markdown",
   "metadata": {
    "tags": [
     "specification"
    ]
   },
   "source": [
    "Not every `None` equates to missing data. Sometimes it is simply the correct information that the attribute value is \"nothing\". This can be seen in the six attributes presented. \n",
    "\n",
    "<div class=\"alert alert-block alert-info\">\n",
    "\n",
    "**Task:** For each of the attributes at hand, consider whether the `None` values indicate incomplete information, or if `None` is justified.\n",
    "</div>"
   ]
  },
  {
   "cell_type": "markdown",
   "metadata": {
    "tags": [
     "student"
    ]
   },
   "source": [
    "Write down your solution here:"
   ]
  },
  {
   "cell_type": "markdown",
   "metadata": {
    "tags": [
     "solution"
    ]
   },
   "source": [
    "A 100% assessment of which attributes are correct and which are not usually requires a knowledge of a domain expert. Without an domain expert we can only make educated assumptions like the following:\n",
    "\n",
    "<u>Most likely correct attributes:</u>\n",
    "\n",
    "- <b>MiddleName:</b> Some `None` values in the MiddleName are quite normal as not every person might have a middle name. However, it is still possible that this value is missing.\n",
    "- <b>Suffix:</b> Even if the first 25 tuples contain only `None` values, this column also contains values like `III` and `Jr.` Since also in the normal case not many people carry such a suffix in the name, it seems quite valid that there are also many `Null` values here.\n",
    "- <b>AdditionalContactInfo:</b> Again, the `None` values definitely suggest that this is a valid value. It also sounds reasonable that \"Additional\" information does not always have to be given.\n",
    "\n",
    "<u>Most likely incomplete attributes:</u>\n",
    "\n",
    "- <b>JobTitle:</b> It seems strange that in a dataset of employees, some people do not have a JobTitle. This is most likely incomplete information.\n",
    "- <b>Title:</b> If the non-`None` values in Title were academic titles such as \"Dr.\" or \"Prof.\" it would be expected that these titles do not actually exist for every employee. However, since titles such as \"Mr.\" or \"Ms.\" are also used, it can be assumed that information is simply missing. It should definitely be possible to specify these titles for each employee.\n",
    "\n",
    "<u>Attributes difficult to assess:</u>\n",
    "\n",
    "- <b>OrganizationNode:</b> There is also a `None` value in the OrganizationNode attribute. However, this is assigned to the CEO of all people (see JobTitle). It is quite possible that only employees with superiors should be assigned to an OrganizationNode. However, this could also be an error as the CEO may have been with the company the longest and may simply have forgotten to add his OrganizationNode."
   ]
  },
  {
   "cell_type": "markdown",
   "metadata": {
    "tags": [
     "specification"
    ]
   },
   "source": [
    "#### Noisy\n",
    "\n",
    "Noisy data, i.e. small measurement inaccuracies, are difficult to detect in the context of such an exercise. However, it is almost certain that the present data set does not contain any noisy data. \n",
    "\n",
    "<div class=\"alert alert-block alert-info\">\n",
    "\n",
    "**Task:** Consider why noisy data is unlikely to be included in `dirty_employee_df`.\n",
    "</div>"
   ]
  },
  {
   "cell_type": "markdown",
   "metadata": {
    "tags": [
     "student"
    ]
   },
   "source": [
    "Write down your solution here:"
   ]
  },
  {
   "cell_type": "markdown",
   "metadata": {
    "tags": [
     "solution"
    ]
   },
   "source": [
    "The `dirty_employee_df` does not contain measured data. It is therefore extremely unlikely that noise is included in the data."
   ]
  },
  {
   "cell_type": "markdown",
   "metadata": {
    "tags": [
     "specification"
    ]
   },
   "source": [
    "#### Inconsistencies\n",
    "\n",
    "Examples of inconsistencies of this data set can be found in the attributes `Gender`, `BirthDate`, and `HireDate`. \n",
    "\n",
    "<div class=\"alert alert-block alert-info\">\n",
    "\n",
    "**Task:** Print the head of the attributes `Gender`, `BirthDate`, and `HireDate`.\n",
    "</div>"
   ]
  },
  {
   "cell_type": "code",
   "execution_count": 10,
   "metadata": {
    "tags": [
     "student"
    ]
   },
   "outputs": [],
   "source": [
    "# Print the head of \"Gender\", \"BirthDate\", and \"HireDate\""
   ]
  },
  {
   "cell_type": "code",
   "execution_count": 11,
   "metadata": {
    "tags": [
     "solution"
    ]
   },
   "outputs": [
    {
     "data": {
      "text/html": [
       "<div>\n",
       "<style scoped>\n",
       "    .dataframe tbody tr th:only-of-type {\n",
       "        vertical-align: middle;\n",
       "    }\n",
       "\n",
       "    .dataframe tbody tr th {\n",
       "        vertical-align: top;\n",
       "    }\n",
       "\n",
       "    .dataframe thead th {\n",
       "        text-align: right;\n",
       "    }\n",
       "</style>\n",
       "<table border=\"1\" class=\"dataframe\">\n",
       "  <thead>\n",
       "    <tr style=\"text-align: right;\">\n",
       "      <th></th>\n",
       "      <th>Gender</th>\n",
       "      <th>BirthDate</th>\n",
       "      <th>HireDate</th>\n",
       "    </tr>\n",
       "    <tr>\n",
       "      <th>NationalIDNumber</th>\n",
       "      <th></th>\n",
       "      <th></th>\n",
       "      <th></th>\n",
       "    </tr>\n",
       "  </thead>\n",
       "  <tbody>\n",
       "    <tr>\n",
       "      <th>295847284</th>\n",
       "      <td>M</td>\n",
       "      <td>1969-01-29</td>\n",
       "      <td>1959-01-29 00:00:00</td>\n",
       "    </tr>\n",
       "    <tr>\n",
       "      <th>245797967</th>\n",
       "      <td>Female</td>\n",
       "      <td>1971-08-01</td>\n",
       "      <td>1961-08-01 00:00:00</td>\n",
       "    </tr>\n",
       "    <tr>\n",
       "      <th>509647174</th>\n",
       "      <td>M</td>\n",
       "      <td>1974-11-12 00:00:00</td>\n",
       "      <td>2007-11-11 00:00:00</td>\n",
       "    </tr>\n",
       "    <tr>\n",
       "      <th>112457891</th>\n",
       "      <td>M</td>\n",
       "      <td>1974-12-23</td>\n",
       "      <td>2007-12-05 00:00:00</td>\n",
       "    </tr>\n",
       "    <tr>\n",
       "      <th>695256908</th>\n",
       "      <td>F</td>\n",
       "      <td>1952-09-27</td>\n",
       "      <td>2008-01-06 00:00:00</td>\n",
       "    </tr>\n",
       "    <tr>\n",
       "      <th>998320692</th>\n",
       "      <td>M</td>\n",
       "      <td>1959-03-11</td>\n",
       "      <td>2008-01-24 00:00:00</td>\n",
       "    </tr>\n",
       "    <tr>\n",
       "      <th>134969118</th>\n",
       "      <td>Male</td>\n",
       "      <td>1987-02-24 00:00:00</td>\n",
       "      <td>2009-02-08 00:00:00</td>\n",
       "    </tr>\n",
       "    <tr>\n",
       "      <th>811994146</th>\n",
       "      <td>F</td>\n",
       "      <td>1986-06-05 00:00:00</td>\n",
       "      <td>2008-12-29 00:00:00</td>\n",
       "    </tr>\n",
       "    <tr>\n",
       "      <th>658797903</th>\n",
       "      <td>Female</td>\n",
       "      <td>1979-01-21 00:00:00</td>\n",
       "      <td>2009-01-16 00:00:00</td>\n",
       "    </tr>\n",
       "    <tr>\n",
       "      <th>879342154</th>\n",
       "      <td>M</td>\n",
       "      <td>1984-11-30</td>\n",
       "      <td>2009-05-03 00:00:00</td>\n",
       "    </tr>\n",
       "    <tr>\n",
       "      <th>974026903</th>\n",
       "      <td>M</td>\n",
       "      <td>1978-01-17</td>\n",
       "      <td>2010-12-05 00:00:00</td>\n",
       "    </tr>\n",
       "    <tr>\n",
       "      <th>480168528</th>\n",
       "      <td>Male</td>\n",
       "      <td>1959-07-29</td>\n",
       "      <td>2007-12-11 00:00:00</td>\n",
       "    </tr>\n",
       "    <tr>\n",
       "      <th>486228782</th>\n",
       "      <td>Female</td>\n",
       "      <td>1989-05-28</td>\n",
       "      <td>2010-12-23 00:00:00</td>\n",
       "    </tr>\n",
       "    <tr>\n",
       "      <th>42487730</th>\n",
       "      <td>M</td>\n",
       "      <td>1979-06-16</td>\n",
       "      <td>2010-12-30 00:00:00</td>\n",
       "    </tr>\n",
       "    <tr>\n",
       "      <th>56920285</th>\n",
       "      <td>F</td>\n",
       "      <td>1961-05-02</td>\n",
       "      <td>2011-01-18 00:00:00</td>\n",
       "    </tr>\n",
       "    <tr>\n",
       "      <th>24756624</th>\n",
       "      <td>M</td>\n",
       "      <td>1975-03-19</td>\n",
       "      <td>1965-03-19 00:00:00</td>\n",
       "    </tr>\n",
       "    <tr>\n",
       "      <th>253022876</th>\n",
       "      <td>M</td>\n",
       "      <td>1987-05-03</td>\n",
       "      <td>1977-05-03 00:00:00</td>\n",
       "    </tr>\n",
       "    <tr>\n",
       "      <th>222969461</th>\n",
       "      <td>M</td>\n",
       "      <td>1978-03-06</td>\n",
       "      <td>1968-03-06 00:00:00</td>\n",
       "    </tr>\n",
       "    <tr>\n",
       "      <th>52541318</th>\n",
       "      <td>F</td>\n",
       "      <td>1978-01-29</td>\n",
       "      <td>2011-02-14 00:00:00</td>\n",
       "    </tr>\n",
       "    <tr>\n",
       "      <th>323403273</th>\n",
       "      <td>Female</td>\n",
       "      <td>1975-03-17</td>\n",
       "      <td>2011-01-07 00:00:00</td>\n",
       "    </tr>\n",
       "    <tr>\n",
       "      <th>243322160</th>\n",
       "      <td>M</td>\n",
       "      <td>1986-02-04</td>\n",
       "      <td>1976-02-04 00:00:00</td>\n",
       "    </tr>\n",
       "    <tr>\n",
       "      <th>95958330</th>\n",
       "      <td>M</td>\n",
       "      <td>1987-05-21 00:00:00</td>\n",
       "      <td>2008-12-12 00:00:00</td>\n",
       "    </tr>\n",
       "    <tr>\n",
       "      <th>767955365</th>\n",
       "      <td>Female</td>\n",
       "      <td>1962-09-13 00:00:00</td>\n",
       "      <td>2009-01-12 00:00:00</td>\n",
       "    </tr>\n",
       "    <tr>\n",
       "      <th>72636981</th>\n",
       "      <td>Female</td>\n",
       "      <td>1979-06-18</td>\n",
       "      <td>2009-01-18 00:00:00</td>\n",
       "    </tr>\n",
       "    <tr>\n",
       "      <th>519899904</th>\n",
       "      <td>M</td>\n",
       "      <td>1983-01-07 00:00:00</td>\n",
       "      <td>2009-02-03 00:00:00</td>\n",
       "    </tr>\n",
       "  </tbody>\n",
       "</table>\n",
       "</div>"
      ],
      "text/plain": [
       "                  Gender            BirthDate             HireDate\n",
       "NationalIDNumber                                                  \n",
       "295847284              M           1969-01-29  1959-01-29 00:00:00\n",
       "245797967         Female           1971-08-01  1961-08-01 00:00:00\n",
       "509647174              M  1974-11-12 00:00:00  2007-11-11 00:00:00\n",
       "112457891              M           1974-12-23  2007-12-05 00:00:00\n",
       "695256908              F           1952-09-27  2008-01-06 00:00:00\n",
       "998320692              M           1959-03-11  2008-01-24 00:00:00\n",
       "134969118           Male  1987-02-24 00:00:00  2009-02-08 00:00:00\n",
       "811994146              F  1986-06-05 00:00:00  2008-12-29 00:00:00\n",
       "658797903         Female  1979-01-21 00:00:00  2009-01-16 00:00:00\n",
       "879342154              M           1984-11-30  2009-05-03 00:00:00\n",
       "974026903              M           1978-01-17  2010-12-05 00:00:00\n",
       "480168528           Male           1959-07-29  2007-12-11 00:00:00\n",
       "486228782         Female           1989-05-28  2010-12-23 00:00:00\n",
       "42487730               M           1979-06-16  2010-12-30 00:00:00\n",
       "56920285               F           1961-05-02  2011-01-18 00:00:00\n",
       "24756624               M           1975-03-19  1965-03-19 00:00:00\n",
       "253022876              M           1987-05-03  1977-05-03 00:00:00\n",
       "222969461              M           1978-03-06  1968-03-06 00:00:00\n",
       "52541318               F           1978-01-29  2011-02-14 00:00:00\n",
       "323403273         Female           1975-03-17  2011-01-07 00:00:00\n",
       "243322160              M           1986-02-04  1976-02-04 00:00:00\n",
       "95958330               M  1987-05-21 00:00:00  2008-12-12 00:00:00\n",
       "767955365         Female  1962-09-13 00:00:00  2009-01-12 00:00:00\n",
       "72636981          Female           1979-06-18  2009-01-18 00:00:00\n",
       "519899904              M  1983-01-07 00:00:00  2009-02-03 00:00:00"
      ]
     },
     "execution_count": 11,
     "metadata": {},
     "output_type": "execute_result"
    }
   ],
   "source": [
    "# Print the head of \"Gender\", \"BirthDate\", and \"HireDate\"\n",
    "dirty_employee_df[[\"Gender\", \"BirthDate\", \"HireDate\"]].head(25)"
   ]
  },
  {
   "cell_type": "markdown",
   "metadata": {
    "tags": [
     "specification"
    ]
   },
   "source": [
    "<div class=\"alert alert-block alert-info\">\n",
    "\n",
    "**Task:** Consider what inconsistencies are in the `Gender` attribute.\n",
    "</div>"
   ]
  },
  {
   "cell_type": "markdown",
   "metadata": {
    "tags": [
     "student"
    ]
   },
   "source": [
    "Write down your solution here:"
   ]
  },
  {
   "cell_type": "markdown",
   "metadata": {
    "tags": [
     "solution"
    ]
   },
   "source": [
    "The Gender in the data set is partly given as `F` and `M` and partly as `Female` and `Male`."
   ]
  },
  {
   "cell_type": "markdown",
   "metadata": {
    "tags": [
     "specification"
    ]
   },
   "source": [
    "<div class=\"alert alert-block alert-info\">\n",
    "\n",
    "**Task:** Consider what inconsistencies are in the `BirthDate` attribute.</div>"
   ]
  },
  {
   "cell_type": "markdown",
   "metadata": {
    "tags": [
     "student"
    ]
   },
   "source": [
    "Write down your solution here:"
   ]
  },
  {
   "cell_type": "markdown",
   "metadata": {
    "tags": [
     "solution"
    ]
   },
   "source": [
    "The format in which the `BirthDate` has been specified differs."
   ]
  },
  {
   "cell_type": "markdown",
   "metadata": {
    "tags": [
     "specification"
    ]
   },
   "source": [
    "<div class=\"alert alert-block alert-info\">\n",
    "\n",
    "**Task:** Consider what inconsistencies are in the `HireDate` attribute. (Hint: Consider the attribute in conjunction with the other two attributes)</div>"
   ]
  },
  {
   "cell_type": "markdown",
   "metadata": {
    "tags": [
     "student"
    ]
   },
   "source": [
    "Write down your solution here:"
   ]
  },
  {
   "cell_type": "markdown",
   "metadata": {
    "tags": [
     "solution"
    ]
   },
   "source": [
    "The `HireDate` is partly before the birthday. This is first of all an inconsistency, but the probability is high that this is actually even an error."
   ]
  },
  {
   "cell_type": "markdown",
   "metadata": {
    "tags": [
     "specification"
    ]
   },
   "source": [
    "#### Errors/Outlier\n",
    "\n",
    "Errors in numerical values and in the special outlier are sometimes not quite detectable at a glance. Fortunately, we have already learned methods in Part One that we can now use.\n",
    "\n",
    "Let's first consider the `SickLeaveHours` attribute. First, let's look at the `SickLeaveHours` attribute. Does it contain outliers or errors?\n",
    "\n",
    "<div class=\"alert alert-block alert-info\">\n",
    "\n",
    "**Task:** Use a boxplot diagram to graphically analyze whether `SickLeaveHours` contains Outliers.\n",
    "</div>"
   ]
  },
  {
   "cell_type": "code",
   "execution_count": 12,
   "metadata": {
    "tags": [
     "student"
    ]
   },
   "outputs": [],
   "source": [
    "# Draw a boxplot diagram for \"SickLeaveHours\""
   ]
  },
  {
   "cell_type": "code",
   "execution_count": 13,
   "metadata": {
    "tags": [
     "solution"
    ]
   },
   "outputs": [
    {
     "data": {
      "text/plain": [
       "<AxesSubplot:>"
      ]
     },
     "execution_count": 13,
     "metadata": {},
     "output_type": "execute_result"
    },
    {
     "data": {
      "image/png": "[encoded data removed]",
      "text/plain": [
       "<Figure size 432x288 with 1 Axes>"
      ]
     },
     "metadata": {
      "needs_background": "light"
     },
     "output_type": "display_data"
    }
   ],
   "source": [
    "# Draw a boxplot diagram for \"SickLeaveHours\"\n",
    "dirty_employee_df[\"SickLeaveHours\"].plot.box()"
   ]
  },
  {
   "cell_type": "markdown",
   "metadata": {
    "tags": [
     "specification"
    ]
   },
   "source": [
    "<div class=\"alert alert-block alert-info\">\n",
    "\n",
    "**Task:** Think about a way to find out which tuple contains the outlier in `SickLeaveHours`.\n",
    "</div>"
   ]
  },
  {
   "cell_type": "code",
   "execution_count": 14,
   "metadata": {
    "tags": [
     "student"
    ]
   },
   "outputs": [],
   "source": [
    "# Output the tuple containing the outlier"
   ]
  },
  {
   "cell_type": "code",
   "execution_count": 15,
   "metadata": {
    "tags": [
     "solution"
    ]
   },
   "outputs": [
    {
     "data": {
      "text/html": [
       "<div>\n",
       "<style scoped>\n",
       "    .dataframe tbody tr th:only-of-type {\n",
       "        vertical-align: middle;\n",
       "    }\n",
       "\n",
       "    .dataframe tbody tr th {\n",
       "        vertical-align: top;\n",
       "    }\n",
       "\n",
       "    .dataframe thead th {\n",
       "        text-align: right;\n",
       "    }\n",
       "</style>\n",
       "<table border=\"1\" class=\"dataframe\">\n",
       "  <thead>\n",
       "    <tr style=\"text-align: right;\">\n",
       "      <th></th>\n",
       "      <th>LoginID</th>\n",
       "      <th>OrganizationNode</th>\n",
       "      <th>JobTitle</th>\n",
       "      <th>BirthDate</th>\n",
       "      <th>MaritalStatus</th>\n",
       "      <th>Gender</th>\n",
       "      <th>HireDate</th>\n",
       "      <th>SalariedFlag</th>\n",
       "      <th>VacationHours</th>\n",
       "      <th>SickLeaveHours</th>\n",
       "      <th>...</th>\n",
       "      <th>PersonType</th>\n",
       "      <th>NameStyle</th>\n",
       "      <th>Title</th>\n",
       "      <th>FirstName</th>\n",
       "      <th>MiddleName</th>\n",
       "      <th>LastName</th>\n",
       "      <th>Suffix</th>\n",
       "      <th>EmailPromotion</th>\n",
       "      <th>AdditionalContactInfo</th>\n",
       "      <th>Demographics</th>\n",
       "    </tr>\n",
       "    <tr>\n",
       "      <th>NationalIDNumber</th>\n",
       "      <th></th>\n",
       "      <th></th>\n",
       "      <th></th>\n",
       "      <th></th>\n",
       "      <th></th>\n",
       "      <th></th>\n",
       "      <th></th>\n",
       "      <th></th>\n",
       "      <th></th>\n",
       "      <th></th>\n",
       "      <th></th>\n",
       "      <th></th>\n",
       "      <th></th>\n",
       "      <th></th>\n",
       "      <th></th>\n",
       "      <th></th>\n",
       "      <th></th>\n",
       "      <th></th>\n",
       "      <th></th>\n",
       "      <th></th>\n",
       "      <th></th>\n",
       "    </tr>\n",
       "  </thead>\n",
       "  <tbody>\n",
       "    <tr>\n",
       "      <th>879342154</th>\n",
       "      <td>adventure-works\\michael6</td>\n",
       "      <td>b'Z\\xe1x'</td>\n",
       "      <td>Research and Development Manager</td>\n",
       "      <td>1984-11-30</td>\n",
       "      <td>M</td>\n",
       "      <td>M</td>\n",
       "      <td>2009-05-03 00:00:00</td>\n",
       "      <td>1</td>\n",
       "      <td>16</td>\n",
       "      <td>2306</td>\n",
       "      <td>...</td>\n",
       "      <td>EM</td>\n",
       "      <td>0</td>\n",
       "      <td>None</td>\n",
       "      <td>Michael</td>\n",
       "      <td>None</td>\n",
       "      <td>Doe</td>\n",
       "      <td>None</td>\n",
       "      <td>2</td>\n",
       "      <td>None</td>\n",
       "      <td>&lt;IndividualSurvey xmlns=\"http://schemas.micros...</td>\n",
       "    </tr>\n",
       "  </tbody>\n",
       "</table>\n",
       "<p>1 rows × 21 columns</p>\n",
       "</div>"
      ],
      "text/plain": [
       "                                   LoginID OrganizationNode  \\\n",
       "NationalIDNumber                                              \n",
       "879342154         adventure-works\\michael6        b'Z\\xe1x'   \n",
       "\n",
       "                                          JobTitle   BirthDate MaritalStatus  \\\n",
       "NationalIDNumber                                                               \n",
       "879342154         Research and Development Manager  1984-11-30             M   \n",
       "\n",
       "                 Gender             HireDate  SalariedFlag  VacationHours  \\\n",
       "NationalIDNumber                                                            \n",
       "879342154             M  2009-05-03 00:00:00             1             16   \n",
       "\n",
       "                  SickLeaveHours  ...  PersonType NameStyle  Title FirstName  \\\n",
       "NationalIDNumber                  ...                                          \n",
       "879342154                   2306  ...          EM         0   None   Michael   \n",
       "\n",
       "                 MiddleName LastName Suffix EmailPromotion  \\\n",
       "NationalIDNumber                                             \n",
       "879342154              None      Doe   None              2   \n",
       "\n",
       "                  AdditionalContactInfo  \\\n",
       "NationalIDNumber                          \n",
       "879342154                          None   \n",
       "\n",
       "                                                       Demographics  \n",
       "NationalIDNumber                                                     \n",
       "879342154         <IndividualSurvey xmlns=\"http://schemas.micros...  \n",
       "\n",
       "[1 rows x 21 columns]"
      ]
     },
     "execution_count": 15,
     "metadata": {},
     "output_type": "execute_result"
    }
   ],
   "source": [
    "# It is clear from the boxplot diagram that the SickLeaveHours of the Outlier are above 2000. This can be used:\n",
    "dirty_employee_df[dirty_employee_df[\"SickLeaveHours\"] > 2000]"
   ]
  },
  {
   "cell_type": "markdown",
   "metadata": {
    "tags": [
     "specification"
    ]
   },
   "source": [
    "Additionally, let's take a look at `VacationHours`.\n",
    "\n",
    "<div class=\"alert alert-block alert-info\">\n",
    "\n",
    "**Task:** Use a boxplot diagram to graphically analyze whether `VacationHours` contains Outliers.\n",
    "</div>"
   ]
  },
  {
   "cell_type": "code",
   "execution_count": 16,
   "metadata": {
    "tags": [
     "student"
    ]
   },
   "outputs": [],
   "source": [
    "# Draw a boxplot diagram for \"VacationHours\""
   ]
  },
  {
   "cell_type": "code",
   "execution_count": 17,
   "metadata": {
    "tags": [
     "solution"
    ]
   },
   "outputs": [
    {
     "data": {
      "text/plain": [
       "<AxesSubplot:>"
      ]
     },
     "execution_count": 17,
     "metadata": {},
     "output_type": "execute_result"
    },
    {
     "data": {
      "image/png": "[encoded data removed]",
      "text/plain": [
       "<Figure size 432x288 with 1 Axes>"
      ]
     },
     "metadata": {
      "needs_background": "light"
     },
     "output_type": "display_data"
    }
   ],
   "source": [
    "# Draw a boxplot diagram for \"VacationHours\"\n",
    "dirty_employee_df[\"VacationHours\"].plot.box()"
   ]
  },
  {
   "cell_type": "markdown",
   "metadata": {
    "tags": [
     "specification"
    ]
   },
   "source": [
    "<div class=\"alert alert-block alert-info\">\n",
    "\n",
    "**Task:** Even though the boxplot diagram does not show any outliers, it clearly indicates a possible error in `VacationHours`. Which error?\n",
    "</div>"
   ]
  },
  {
   "cell_type": "markdown",
   "metadata": {
    "tags": [
     "student"
    ]
   },
   "source": [
    "Write down your solution here:"
   ]
  },
  {
   "cell_type": "markdown",
   "metadata": {
    "tags": [
     "solution"
    ]
   },
   "source": [
    "The minimum whisker extends to below 0 . It seems strange that hours can also become negative."
   ]
  },
  {
   "cell_type": "markdown",
   "metadata": {
    "tags": [
     "specification"
    ]
   },
   "source": [
    "<div class=\"alert alert-block alert-info\">\n",
    "\n",
    "**Task:** Output the affected tuples.\n",
    "</div>"
   ]
  },
  {
   "cell_type": "code",
   "execution_count": 18,
   "metadata": {
    "tags": [
     "student"
    ]
   },
   "outputs": [],
   "source": [
    "# Output the tuple(s) containing the error"
   ]
  },
  {
   "cell_type": "code",
   "execution_count": 19,
   "metadata": {
    "tags": [
     "solution"
    ]
   },
   "outputs": [
    {
     "data": {
      "text/html": [
       "<div>\n",
       "<style scoped>\n",
       "    .dataframe tbody tr th:only-of-type {\n",
       "        vertical-align: middle;\n",
       "    }\n",
       "\n",
       "    .dataframe tbody tr th {\n",
       "        vertical-align: top;\n",
       "    }\n",
       "\n",
       "    .dataframe thead th {\n",
       "        text-align: right;\n",
       "    }\n",
       "</style>\n",
       "<table border=\"1\" class=\"dataframe\">\n",
       "  <thead>\n",
       "    <tr style=\"text-align: right;\">\n",
       "      <th></th>\n",
       "      <th>LoginID</th>\n",
       "      <th>OrganizationNode</th>\n",
       "      <th>JobTitle</th>\n",
       "      <th>BirthDate</th>\n",
       "      <th>MaritalStatus</th>\n",
       "      <th>Gender</th>\n",
       "      <th>HireDate</th>\n",
       "      <th>SalariedFlag</th>\n",
       "      <th>VacationHours</th>\n",
       "      <th>SickLeaveHours</th>\n",
       "      <th>...</th>\n",
       "      <th>PersonType</th>\n",
       "      <th>NameStyle</th>\n",
       "      <th>Title</th>\n",
       "      <th>FirstName</th>\n",
       "      <th>MiddleName</th>\n",
       "      <th>LastName</th>\n",
       "      <th>Suffix</th>\n",
       "      <th>EmailPromotion</th>\n",
       "      <th>AdditionalContactInfo</th>\n",
       "      <th>Demographics</th>\n",
       "    </tr>\n",
       "    <tr>\n",
       "      <th>NationalIDNumber</th>\n",
       "      <th></th>\n",
       "      <th></th>\n",
       "      <th></th>\n",
       "      <th></th>\n",
       "      <th></th>\n",
       "      <th></th>\n",
       "      <th></th>\n",
       "      <th></th>\n",
       "      <th></th>\n",
       "      <th></th>\n",
       "      <th></th>\n",
       "      <th></th>\n",
       "      <th></th>\n",
       "      <th></th>\n",
       "      <th></th>\n",
       "      <th></th>\n",
       "      <th></th>\n",
       "      <th></th>\n",
       "      <th></th>\n",
       "      <th></th>\n",
       "      <th></th>\n",
       "    </tr>\n",
       "  </thead>\n",
       "  <tbody>\n",
       "    <tr>\n",
       "      <th>243322160</th>\n",
       "      <td>adventure-works\\terry0</td>\n",
       "      <td>b'l`'</td>\n",
       "      <td>Marketing Specialist</td>\n",
       "      <td>1986-02-04</td>\n",
       "      <td>M</td>\n",
       "      <td>M</td>\n",
       "      <td>1976-02-04 00:00:00</td>\n",
       "      <td>0</td>\n",
       "      <td>-12</td>\n",
       "      <td>42</td>\n",
       "      <td>...</td>\n",
       "      <td>EM</td>\n",
       "      <td>0</td>\n",
       "      <td>None</td>\n",
       "      <td>Terry</td>\n",
       "      <td>J</td>\n",
       "      <td>Doe</td>\n",
       "      <td>None</td>\n",
       "      <td>2</td>\n",
       "      <td>None</td>\n",
       "      <td>&lt;IndividualSurvey xmlns=\"http://schemas.micros...</td>\n",
       "    </tr>\n",
       "  </tbody>\n",
       "</table>\n",
       "<p>1 rows × 21 columns</p>\n",
       "</div>"
      ],
      "text/plain": [
       "                                 LoginID OrganizationNode  \\\n",
       "NationalIDNumber                                            \n",
       "243322160         adventure-works\\terry0            b'l`'   \n",
       "\n",
       "                              JobTitle   BirthDate MaritalStatus Gender  \\\n",
       "NationalIDNumber                                                          \n",
       "243322160         Marketing Specialist  1986-02-04             M      M   \n",
       "\n",
       "                             HireDate  SalariedFlag  VacationHours  \\\n",
       "NationalIDNumber                                                     \n",
       "243322160         1976-02-04 00:00:00             0            -12   \n",
       "\n",
       "                  SickLeaveHours  ...  PersonType NameStyle  Title FirstName  \\\n",
       "NationalIDNumber                  ...                                          \n",
       "243322160                     42  ...          EM         0   None     Terry   \n",
       "\n",
       "                 MiddleName LastName Suffix EmailPromotion  \\\n",
       "NationalIDNumber                                             \n",
       "243322160                 J      Doe   None              2   \n",
       "\n",
       "                  AdditionalContactInfo  \\\n",
       "NationalIDNumber                          \n",
       "243322160                          None   \n",
       "\n",
       "                                                       Demographics  \n",
       "NationalIDNumber                                                     \n",
       "243322160         <IndividualSurvey xmlns=\"http://schemas.micros...  \n",
       "\n",
       "[1 rows x 21 columns]"
      ]
     },
     "execution_count": 19,
     "metadata": {},
     "output_type": "execute_result"
    }
   ],
   "source": [
    "# Output the tuple(s) containing the error\n",
    "dirty_employee_df[dirty_employee_df[\"VacationHours\"] < 0]"
   ]
  },
  {
   "cell_type": "markdown",
   "metadata": {
    "tags": [
     "specification"
    ]
   },
   "source": [
    "#### Intentional\n",
    "\n",
    "There is also an intentional error in the `dirty_employee_df`. It can be found in either the `MaritalStatus`, `SalariedFlag`, `FirstName`, or `LastName` attribute.\n",
    "\n",
    "<div class=\"alert alert-block alert-info\">\n",
    "\n",
    "**Task:** Again, independently use your learned skills to search the attributes `MaritalStatus`, `SalariedFlag`, `FirstName`, and `LastName` for the intentional error.\n",
    "</div>"
   ]
  },
  {
   "cell_type": "code",
   "execution_count": 20,
   "metadata": {
    "tags": [
     "student"
    ]
   },
   "outputs": [],
   "source": [
    "# Search for the intentional error"
   ]
  },
  {
   "cell_type": "code",
   "execution_count": 21,
   "metadata": {
    "tags": [
     "solution"
    ]
   },
   "outputs": [
    {
     "data": {
      "text/html": [
       "<div>\n",
       "<style scoped>\n",
       "    .dataframe tbody tr th:only-of-type {\n",
       "        vertical-align: middle;\n",
       "    }\n",
       "\n",
       "    .dataframe tbody tr th {\n",
       "        vertical-align: top;\n",
       "    }\n",
       "\n",
       "    .dataframe thead th {\n",
       "        text-align: right;\n",
       "    }\n",
       "</style>\n",
       "<table border=\"1\" class=\"dataframe\">\n",
       "  <thead>\n",
       "    <tr style=\"text-align: right;\">\n",
       "      <th></th>\n",
       "      <th>MaritalStatus</th>\n",
       "      <th>SalariedFlag</th>\n",
       "      <th>FirstName</th>\n",
       "      <th>LastName</th>\n",
       "    </tr>\n",
       "    <tr>\n",
       "      <th>NationalIDNumber</th>\n",
       "      <th></th>\n",
       "      <th></th>\n",
       "      <th></th>\n",
       "      <th></th>\n",
       "    </tr>\n",
       "  </thead>\n",
       "  <tbody>\n",
       "    <tr>\n",
       "      <th>295847284</th>\n",
       "      <td>S</td>\n",
       "      <td>1</td>\n",
       "      <td>Ken</td>\n",
       "      <td>Doe</td>\n",
       "    </tr>\n",
       "    <tr>\n",
       "      <th>245797967</th>\n",
       "      <td>S</td>\n",
       "      <td>1</td>\n",
       "      <td>Terri</td>\n",
       "      <td>Doe</td>\n",
       "    </tr>\n",
       "    <tr>\n",
       "      <th>509647174</th>\n",
       "      <td>M</td>\n",
       "      <td>1</td>\n",
       "      <td>Roberto</td>\n",
       "      <td>Doe</td>\n",
       "    </tr>\n",
       "    <tr>\n",
       "      <th>112457891</th>\n",
       "      <td>S</td>\n",
       "      <td>0</td>\n",
       "      <td>Rob</td>\n",
       "      <td>Doe</td>\n",
       "    </tr>\n",
       "    <tr>\n",
       "      <th>695256908</th>\n",
       "      <td>M</td>\n",
       "      <td>1</td>\n",
       "      <td>Gail</td>\n",
       "      <td>Doe</td>\n",
       "    </tr>\n",
       "    <tr>\n",
       "      <th>998320692</th>\n",
       "      <td>M</td>\n",
       "      <td>1</td>\n",
       "      <td>Jossef</td>\n",
       "      <td>Doe</td>\n",
       "    </tr>\n",
       "    <tr>\n",
       "      <th>134969118</th>\n",
       "      <td>M</td>\n",
       "      <td>1</td>\n",
       "      <td>Dylan</td>\n",
       "      <td>Doe</td>\n",
       "    </tr>\n",
       "    <tr>\n",
       "      <th>811994146</th>\n",
       "      <td>S</td>\n",
       "      <td>1</td>\n",
       "      <td>Diane</td>\n",
       "      <td>Doe</td>\n",
       "    </tr>\n",
       "    <tr>\n",
       "      <th>658797903</th>\n",
       "      <td>M</td>\n",
       "      <td>1</td>\n",
       "      <td>Gigi</td>\n",
       "      <td>Doe</td>\n",
       "    </tr>\n",
       "    <tr>\n",
       "      <th>879342154</th>\n",
       "      <td>M</td>\n",
       "      <td>1</td>\n",
       "      <td>Michael</td>\n",
       "      <td>Doe</td>\n",
       "    </tr>\n",
       "    <tr>\n",
       "      <th>974026903</th>\n",
       "      <td>S</td>\n",
       "      <td>0</td>\n",
       "      <td>Ovidiu</td>\n",
       "      <td>Doe</td>\n",
       "    </tr>\n",
       "    <tr>\n",
       "      <th>480168528</th>\n",
       "      <td>M</td>\n",
       "      <td>0</td>\n",
       "      <td>Thierry</td>\n",
       "      <td>Doe</td>\n",
       "    </tr>\n",
       "    <tr>\n",
       "      <th>486228782</th>\n",
       "      <td>M</td>\n",
       "      <td>0</td>\n",
       "      <td>Janice</td>\n",
       "      <td>Doe</td>\n",
       "    </tr>\n",
       "    <tr>\n",
       "      <th>42487730</th>\n",
       "      <td>S</td>\n",
       "      <td>1</td>\n",
       "      <td>Michael</td>\n",
       "      <td>Doe</td>\n",
       "    </tr>\n",
       "    <tr>\n",
       "      <th>56920285</th>\n",
       "      <td>M</td>\n",
       "      <td>1</td>\n",
       "      <td>Sharon</td>\n",
       "      <td>Doe</td>\n",
       "    </tr>\n",
       "    <tr>\n",
       "      <th>24756624</th>\n",
       "      <td>S</td>\n",
       "      <td>1</td>\n",
       "      <td>David</td>\n",
       "      <td>Doe</td>\n",
       "    </tr>\n",
       "    <tr>\n",
       "      <th>253022876</th>\n",
       "      <td>S</td>\n",
       "      <td>0</td>\n",
       "      <td>Kevin</td>\n",
       "      <td>Doe</td>\n",
       "    </tr>\n",
       "    <tr>\n",
       "      <th>222969461</th>\n",
       "      <td>S</td>\n",
       "      <td>0</td>\n",
       "      <td>John</td>\n",
       "      <td>Doe</td>\n",
       "    </tr>\n",
       "    <tr>\n",
       "      <th>52541318</th>\n",
       "      <td>S</td>\n",
       "      <td>0</td>\n",
       "      <td>Mary</td>\n",
       "      <td>Doe</td>\n",
       "    </tr>\n",
       "    <tr>\n",
       "      <th>323403273</th>\n",
       "      <td>M</td>\n",
       "      <td>0</td>\n",
       "      <td>Wanida</td>\n",
       "      <td>Doe</td>\n",
       "    </tr>\n",
       "    <tr>\n",
       "      <th>243322160</th>\n",
       "      <td>M</td>\n",
       "      <td>0</td>\n",
       "      <td>Terry</td>\n",
       "      <td>Doe</td>\n",
       "    </tr>\n",
       "    <tr>\n",
       "      <th>95958330</th>\n",
       "      <td>S</td>\n",
       "      <td>0</td>\n",
       "      <td>Sariya</td>\n",
       "      <td>Doe</td>\n",
       "    </tr>\n",
       "    <tr>\n",
       "      <th>767955365</th>\n",
       "      <td>M</td>\n",
       "      <td>0</td>\n",
       "      <td>Mary</td>\n",
       "      <td>Doe</td>\n",
       "    </tr>\n",
       "    <tr>\n",
       "      <th>72636981</th>\n",
       "      <td>M</td>\n",
       "      <td>0</td>\n",
       "      <td>Jill</td>\n",
       "      <td>Doe</td>\n",
       "    </tr>\n",
       "    <tr>\n",
       "      <th>519899904</th>\n",
       "      <td>S</td>\n",
       "      <td>1</td>\n",
       "      <td>James</td>\n",
       "      <td>Doe</td>\n",
       "    </tr>\n",
       "  </tbody>\n",
       "</table>\n",
       "</div>"
      ],
      "text/plain": [
       "                 MaritalStatus  SalariedFlag FirstName LastName\n",
       "NationalIDNumber                                               \n",
       "295847284                    S             1       Ken      Doe\n",
       "245797967                    S             1     Terri      Doe\n",
       "509647174                    M             1   Roberto      Doe\n",
       "112457891                    S             0       Rob      Doe\n",
       "695256908                    M             1      Gail      Doe\n",
       "998320692                    M             1    Jossef      Doe\n",
       "134969118                    M             1     Dylan      Doe\n",
       "811994146                    S             1     Diane      Doe\n",
       "658797903                    M             1      Gigi      Doe\n",
       "879342154                    M             1   Michael      Doe\n",
       "974026903                    S             0    Ovidiu      Doe\n",
       "480168528                    M             0   Thierry      Doe\n",
       "486228782                    M             0    Janice      Doe\n",
       "42487730                     S             1   Michael      Doe\n",
       "56920285                     M             1    Sharon      Doe\n",
       "24756624                     S             1     David      Doe\n",
       "253022876                    S             0     Kevin      Doe\n",
       "222969461                    S             0      John      Doe\n",
       "52541318                     S             0      Mary      Doe\n",
       "323403273                    M             0    Wanida      Doe\n",
       "243322160                    M             0     Terry      Doe\n",
       "95958330                     S             0    Sariya      Doe\n",
       "767955365                    M             0      Mary      Doe\n",
       "72636981                     M             0      Jill      Doe\n",
       "519899904                    S             1     James      Doe"
      ]
     },
     "execution_count": 21,
     "metadata": {},
     "output_type": "execute_result"
    }
   ],
   "source": [
    "# Search for the intentional error\n",
    "dirty_employee_df[[\"MaritalStatus\", \"SalariedFlag\", \"FirstName\", \"LastName\"]].head(25)"
   ]
  },
  {
   "cell_type": "markdown",
   "metadata": {
    "tags": [
     "specification"
    ]
   },
   "source": [
    "<div class=\"alert alert-block alert-info\">\n",
    "\n",
    "**Task:** In which of the attributes is the intentional error to be found.\n",
    "</div>"
   ]
  },
  {
   "cell_type": "markdown",
   "metadata": {
    "tags": [
     "student"
    ]
   },
   "source": [
    "<b>The attribute with the intentional error:</b>\n",
    "1. [ ] MaritalStatus\n",
    "2. [ ] SalariedFlag\n",
    "3. [ ] FirstName\n",
    "4. [ ] LastName"
   ]
  },
  {
   "cell_type": "markdown",
   "metadata": {
    "tags": [
     "solution"
    ]
   },
   "source": [
    "<b>The attribute with the intentional error:</b>\n",
    "1. [ ] MaritalStatus\n",
    "2. [ ] SalariedFlag\n",
    "3. [ ] FirstName\n",
    "4. [X] LastName"
   ]
  },
  {
   "cell_type": "markdown",
   "metadata": {
    "tags": [
     "specification"
    ]
   },
   "source": [
    "<div class=\"alert alert-block alert-info\">\n",
    "\n",
    "**Task:** Why do you think is this error intentional?\n",
    "</div>"
   ]
  },
  {
   "cell_type": "markdown",
   "metadata": {
    "tags": [
     "student"
    ]
   },
   "source": [
    "Write down your solution here:"
   ]
  },
  {
   "cell_type": "markdown",
   "metadata": {
    "tags": [
     "solution"
    ]
   },
   "source": [
    "For data protection reasons, it may sometimes be necessary to anonymize data. While it is rather atypical that this is the case with an employee database, if the data set had been issued for external analysis, for example, and it contained salary data, then one could explain such anonymization. However, it would be quite advantageous if not only this one attribute had been anonymized then."
   ]
  },
  {
   "cell_type": "markdown",
   "metadata": {
    "tags": [
     "specification"
    ]
   },
   "source": [
    "### Data Cleaning\n",
    "\n",
    "The mere detection of dirty data is, of course, only the first step in the data cleaning process. While it is a best case scenario to correct dirty data step by step once it has been identified, this is often a lengthy and difficult process. \n",
    "\n",
    "In our example from section [Incomplete](#Incomplete), for example, only inconsistencies in `Gender` and `BirthDate` can be quickly fixed.\n",
    "\n",
    "<div class=\"alert alert-block alert-info\">\n",
    "\n",
    "**Task:** Replace all occurrences of `Female` with `F` and all occurrences of `Male` with `M` in the `Gender` attribute of the `dirty_employee_df`. (Help: [pandas documentation](https://pandas.pydata.org/docs/reference/api/pandas.DataFrame.replace.html))\n",
    "</div>"
   ]
  },
  {
   "cell_type": "code",
   "execution_count": 22,
   "metadata": {
    "tags": [
     "student"
    ]
   },
   "outputs": [],
   "source": [
    "# Replace \"Female\" and \"Male\" values in \"Gender\""
   ]
  },
  {
   "cell_type": "code",
   "execution_count": 23,
   "metadata": {
    "tags": [
     "solution"
    ]
   },
   "outputs": [],
   "source": [
    "# Replace \"Female\" and \"Male\" values in \"Gender\"\n",
    "dirty_employee_df.replace({\"Gender\": {\"Female\": \"F\", \"Male\": \"M\"}}, inplace=True)"
   ]
  },
  {
   "cell_type": "markdown",
   "metadata": {
    "tags": [
     "specification"
    ]
   },
   "source": [
    "<div class=\"alert alert-block alert-info\">\n",
    "\n",
    "**Task:** Delete the suffix `00:00:00` in the `BirthDate` attribute. (Help: [pandas documentation](https://pandas.pydata.org/docs/reference/api/pandas.DataFrame.replace.html) - Hint: You may want to use a regular expression.)\n",
    "</div>"
   ]
  },
  {
   "cell_type": "code",
   "execution_count": 24,
   "metadata": {
    "tags": [
     "student"
    ]
   },
   "outputs": [
    {
     "data": {
      "text/html": [
       "<div>\n",
       "<style scoped>\n",
       "    .dataframe tbody tr th:only-of-type {\n",
       "        vertical-align: middle;\n",
       "    }\n",
       "\n",
       "    .dataframe tbody tr th {\n",
       "        vertical-align: top;\n",
       "    }\n",
       "\n",
       "    .dataframe thead th {\n",
       "        text-align: right;\n",
       "    }\n",
       "</style>\n",
       "<table border=\"1\" class=\"dataframe\">\n",
       "  <thead>\n",
       "    <tr style=\"text-align: right;\">\n",
       "      <th></th>\n",
       "      <th>LoginID</th>\n",
       "      <th>OrganizationNode</th>\n",
       "      <th>JobTitle</th>\n",
       "      <th>BirthDate</th>\n",
       "      <th>MaritalStatus</th>\n",
       "      <th>Gender</th>\n",
       "      <th>HireDate</th>\n",
       "      <th>SalariedFlag</th>\n",
       "      <th>VacationHours</th>\n",
       "      <th>SickLeaveHours</th>\n",
       "      <th>...</th>\n",
       "      <th>PersonType</th>\n",
       "      <th>NameStyle</th>\n",
       "      <th>Title</th>\n",
       "      <th>FirstName</th>\n",
       "      <th>MiddleName</th>\n",
       "      <th>LastName</th>\n",
       "      <th>Suffix</th>\n",
       "      <th>EmailPromotion</th>\n",
       "      <th>AdditionalContactInfo</th>\n",
       "      <th>Demographics</th>\n",
       "    </tr>\n",
       "    <tr>\n",
       "      <th>NationalIDNumber</th>\n",
       "      <th></th>\n",
       "      <th></th>\n",
       "      <th></th>\n",
       "      <th></th>\n",
       "      <th></th>\n",
       "      <th></th>\n",
       "      <th></th>\n",
       "      <th></th>\n",
       "      <th></th>\n",
       "      <th></th>\n",
       "      <th></th>\n",
       "      <th></th>\n",
       "      <th></th>\n",
       "      <th></th>\n",
       "      <th></th>\n",
       "      <th></th>\n",
       "      <th></th>\n",
       "      <th></th>\n",
       "      <th></th>\n",
       "      <th></th>\n",
       "      <th></th>\n",
       "    </tr>\n",
       "  </thead>\n",
       "  <tbody>\n",
       "    <tr>\n",
       "      <th>295847284</th>\n",
       "      <td>adventure-works\\ken0</td>\n",
       "      <td>None</td>\n",
       "      <td>Chief Executive Officer</td>\n",
       "      <td>1969-01-29</td>\n",
       "      <td>S</td>\n",
       "      <td>M</td>\n",
       "      <td>1959-01-29 00:00:00</td>\n",
       "      <td>1</td>\n",
       "      <td>99</td>\n",
       "      <td>69</td>\n",
       "      <td>...</td>\n",
       "      <td>EM</td>\n",
       "      <td>0</td>\n",
       "      <td>None</td>\n",
       "      <td>Ken</td>\n",
       "      <td>J</td>\n",
       "      <td>Doe</td>\n",
       "      <td>None</td>\n",
       "      <td>0</td>\n",
       "      <td>None</td>\n",
       "      <td>&lt;IndividualSurvey xmlns=\"http://schemas.micros...</td>\n",
       "    </tr>\n",
       "    <tr>\n",
       "      <th>245797967</th>\n",
       "      <td>adventure-works\\terri0</td>\n",
       "      <td>b'X'</td>\n",
       "      <td>Vice President of Engineering</td>\n",
       "      <td>1971-08-01</td>\n",
       "      <td>S</td>\n",
       "      <td>F</td>\n",
       "      <td>1961-08-01 00:00:00</td>\n",
       "      <td>1</td>\n",
       "      <td>1</td>\n",
       "      <td>20</td>\n",
       "      <td>...</td>\n",
       "      <td>EM</td>\n",
       "      <td>0</td>\n",
       "      <td>None</td>\n",
       "      <td>Terri</td>\n",
       "      <td>Lee</td>\n",
       "      <td>Doe</td>\n",
       "      <td>None</td>\n",
       "      <td>1</td>\n",
       "      <td>None</td>\n",
       "      <td>&lt;IndividualSurvey xmlns=\"http://schemas.micros...</td>\n",
       "    </tr>\n",
       "    <tr>\n",
       "      <th>509647174</th>\n",
       "      <td>adventure-works\\roberto0</td>\n",
       "      <td>b'Z\\xc0'</td>\n",
       "      <td>Engineering Manager</td>\n",
       "      <td>1974-11-12 00:00:00</td>\n",
       "      <td>M</td>\n",
       "      <td>M</td>\n",
       "      <td>2007-11-11 00:00:00</td>\n",
       "      <td>1</td>\n",
       "      <td>2</td>\n",
       "      <td>21</td>\n",
       "      <td>...</td>\n",
       "      <td>EM</td>\n",
       "      <td>0</td>\n",
       "      <td>None</td>\n",
       "      <td>Roberto</td>\n",
       "      <td>None</td>\n",
       "      <td>Doe</td>\n",
       "      <td>None</td>\n",
       "      <td>0</td>\n",
       "      <td>None</td>\n",
       "      <td>&lt;IndividualSurvey xmlns=\"http://schemas.micros...</td>\n",
       "    </tr>\n",
       "    <tr>\n",
       "      <th>112457891</th>\n",
       "      <td>adventure-works\\rob0</td>\n",
       "      <td>b'Z\\xd6'</td>\n",
       "      <td>None</td>\n",
       "      <td>1974-12-23</td>\n",
       "      <td>S</td>\n",
       "      <td>M</td>\n",
       "      <td>2007-12-05 00:00:00</td>\n",
       "      <td>0</td>\n",
       "      <td>48</td>\n",
       "      <td>80</td>\n",
       "      <td>...</td>\n",
       "      <td>EM</td>\n",
       "      <td>0</td>\n",
       "      <td>None</td>\n",
       "      <td>Rob</td>\n",
       "      <td>None</td>\n",
       "      <td>Doe</td>\n",
       "      <td>None</td>\n",
       "      <td>0</td>\n",
       "      <td>None</td>\n",
       "      <td>&lt;IndividualSurvey xmlns=\"http://schemas.micros...</td>\n",
       "    </tr>\n",
       "    <tr>\n",
       "      <th>695256908</th>\n",
       "      <td>adventure-works\\gail0</td>\n",
       "      <td>b'Z\\xda'</td>\n",
       "      <td>Design Engineer</td>\n",
       "      <td>1952-09-27</td>\n",
       "      <td>M</td>\n",
       "      <td>F</td>\n",
       "      <td>2008-01-06 00:00:00</td>\n",
       "      <td>1</td>\n",
       "      <td>5</td>\n",
       "      <td>22</td>\n",
       "      <td>...</td>\n",
       "      <td>EM</td>\n",
       "      <td>0</td>\n",
       "      <td>Ms.</td>\n",
       "      <td>Gail</td>\n",
       "      <td>A</td>\n",
       "      <td>Doe</td>\n",
       "      <td>None</td>\n",
       "      <td>0</td>\n",
       "      <td>None</td>\n",
       "      <td>&lt;IndividualSurvey xmlns=\"http://schemas.micros...</td>\n",
       "    </tr>\n",
       "    <tr>\n",
       "      <th>...</th>\n",
       "      <td>...</td>\n",
       "      <td>...</td>\n",
       "      <td>...</td>\n",
       "      <td>...</td>\n",
       "      <td>...</td>\n",
       "      <td>...</td>\n",
       "      <td>...</td>\n",
       "      <td>...</td>\n",
       "      <td>...</td>\n",
       "      <td>...</td>\n",
       "      <td>...</td>\n",
       "      <td>...</td>\n",
       "      <td>...</td>\n",
       "      <td>...</td>\n",
       "      <td>...</td>\n",
       "      <td>...</td>\n",
       "      <td>...</td>\n",
       "      <td>...</td>\n",
       "      <td>...</td>\n",
       "      <td>...</td>\n",
       "      <td>...</td>\n",
       "    </tr>\n",
       "    <tr>\n",
       "      <th>758596752</th>\n",
       "      <td>adventure-works\\lynn0</td>\n",
       "      <td>b'\\x95\\xab'</td>\n",
       "      <td>Sales Representative</td>\n",
       "      <td>1977-02-14</td>\n",
       "      <td>S</td>\n",
       "      <td>F</td>\n",
       "      <td>2013-05-30 00:00:00</td>\n",
       "      <td>1</td>\n",
       "      <td>36</td>\n",
       "      <td>38</td>\n",
       "      <td>...</td>\n",
       "      <td>SP</td>\n",
       "      <td>0</td>\n",
       "      <td>None</td>\n",
       "      <td>Lynn</td>\n",
       "      <td>N</td>\n",
       "      <td>Doe</td>\n",
       "      <td>None</td>\n",
       "      <td>2</td>\n",
       "      <td>None</td>\n",
       "      <td>&lt;IndividualSurvey xmlns=\"http://schemas.micros...</td>\n",
       "    </tr>\n",
       "    <tr>\n",
       "      <th>982310417</th>\n",
       "      <td>adventure-works\\amy0</td>\n",
       "      <td>b'\\x95\\xe0'</td>\n",
       "      <td>European Sales Manager</td>\n",
       "      <td>1957-09-20</td>\n",
       "      <td>M</td>\n",
       "      <td>F</td>\n",
       "      <td>2012-04-16 00:00:00</td>\n",
       "      <td>1</td>\n",
       "      <td>21</td>\n",
       "      <td>30</td>\n",
       "      <td>...</td>\n",
       "      <td>SP</td>\n",
       "      <td>0</td>\n",
       "      <td>None</td>\n",
       "      <td>Amy</td>\n",
       "      <td>E</td>\n",
       "      <td>Doe</td>\n",
       "      <td>None</td>\n",
       "      <td>1</td>\n",
       "      <td>None</td>\n",
       "      <td>&lt;IndividualSurvey xmlns=\"http://schemas.micros...</td>\n",
       "    </tr>\n",
       "    <tr>\n",
       "      <th>954276278</th>\n",
       "      <td>adventure-works\\rachel0</td>\n",
       "      <td>b'\\x95\\xeb'</td>\n",
       "      <td>Sales Representative</td>\n",
       "      <td>1975-07-09</td>\n",
       "      <td>S</td>\n",
       "      <td>F</td>\n",
       "      <td>2013-05-30 00:00:00</td>\n",
       "      <td>1</td>\n",
       "      <td>35</td>\n",
       "      <td>37</td>\n",
       "      <td>...</td>\n",
       "      <td>SP</td>\n",
       "      <td>0</td>\n",
       "      <td>None</td>\n",
       "      <td>Rachel</td>\n",
       "      <td>B</td>\n",
       "      <td>Doe</td>\n",
       "      <td>None</td>\n",
       "      <td>0</td>\n",
       "      <td>None</td>\n",
       "      <td>&lt;IndividualSurvey xmlns=\"http://schemas.micros...</td>\n",
       "    </tr>\n",
       "    <tr>\n",
       "      <th>668991357</th>\n",
       "      <td>adventure-works\\jae0</td>\n",
       "      <td>b'\\x95\\xed'</td>\n",
       "      <td>Sales Representative</td>\n",
       "      <td>1968-03-17 00:00:00</td>\n",
       "      <td>M</td>\n",
       "      <td>F</td>\n",
       "      <td>2012-05-30 00:00:00</td>\n",
       "      <td>1</td>\n",
       "      <td>37</td>\n",
       "      <td>38</td>\n",
       "      <td>...</td>\n",
       "      <td>SP</td>\n",
       "      <td>0</td>\n",
       "      <td>None</td>\n",
       "      <td>Jae</td>\n",
       "      <td>B</td>\n",
       "      <td>Doe</td>\n",
       "      <td>None</td>\n",
       "      <td>0</td>\n",
       "      <td>None</td>\n",
       "      <td>&lt;IndividualSurvey xmlns=\"http://schemas.micros...</td>\n",
       "    </tr>\n",
       "    <tr>\n",
       "      <th>134219713</th>\n",
       "      <td>adventure-works\\ranjit0</td>\n",
       "      <td>b'\\x95\\xef'</td>\n",
       "      <td>Sales Representative</td>\n",
       "      <td>1975-09-30</td>\n",
       "      <td>S</td>\n",
       "      <td>M</td>\n",
       "      <td>2012-05-30 00:00:00</td>\n",
       "      <td>1</td>\n",
       "      <td>34</td>\n",
       "      <td>37</td>\n",
       "      <td>...</td>\n",
       "      <td>SP</td>\n",
       "      <td>0</td>\n",
       "      <td>None</td>\n",
       "      <td>Ranjit</td>\n",
       "      <td>R</td>\n",
       "      <td>Doe</td>\n",
       "      <td>None</td>\n",
       "      <td>0</td>\n",
       "      <td>None</td>\n",
       "      <td>&lt;IndividualSurvey xmlns=\"http://schemas.micros...</td>\n",
       "    </tr>\n",
       "  </tbody>\n",
       "</table>\n",
       "<p>290 rows × 21 columns</p>\n",
       "</div>"
      ],
      "text/plain": [
       "                                   LoginID OrganizationNode  \\\n",
       "NationalIDNumber                                              \n",
       "295847284             adventure-works\\ken0             None   \n",
       "245797967           adventure-works\\terri0             b'X'   \n",
       "509647174         adventure-works\\roberto0         b'Z\\xc0'   \n",
       "112457891             adventure-works\\rob0         b'Z\\xd6'   \n",
       "695256908            adventure-works\\gail0         b'Z\\xda'   \n",
       "...                                    ...              ...   \n",
       "758596752            adventure-works\\lynn0      b'\\x95\\xab'   \n",
       "982310417             adventure-works\\amy0      b'\\x95\\xe0'   \n",
       "954276278          adventure-works\\rachel0      b'\\x95\\xeb'   \n",
       "668991357             adventure-works\\jae0      b'\\x95\\xed'   \n",
       "134219713          adventure-works\\ranjit0      b'\\x95\\xef'   \n",
       "\n",
       "                                       JobTitle            BirthDate  \\\n",
       "NationalIDNumber                                                       \n",
       "295847284               Chief Executive Officer           1969-01-29   \n",
       "245797967         Vice President of Engineering           1971-08-01   \n",
       "509647174                   Engineering Manager  1974-11-12 00:00:00   \n",
       "112457891                                  None           1974-12-23   \n",
       "695256908                       Design Engineer           1952-09-27   \n",
       "...                                         ...                  ...   \n",
       "758596752                  Sales Representative           1977-02-14   \n",
       "982310417                European Sales Manager           1957-09-20   \n",
       "954276278                  Sales Representative           1975-07-09   \n",
       "668991357                  Sales Representative  1968-03-17 00:00:00   \n",
       "134219713                  Sales Representative           1975-09-30   \n",
       "\n",
       "                 MaritalStatus Gender             HireDate  SalariedFlag  \\\n",
       "NationalIDNumber                                                           \n",
       "295847284                    S      M  1959-01-29 00:00:00             1   \n",
       "245797967                    S      F  1961-08-01 00:00:00             1   \n",
       "509647174                    M      M  2007-11-11 00:00:00             1   \n",
       "112457891                    S      M  2007-12-05 00:00:00             0   \n",
       "695256908                    M      F  2008-01-06 00:00:00             1   \n",
       "...                        ...    ...                  ...           ...   \n",
       "758596752                    S      F  2013-05-30 00:00:00             1   \n",
       "982310417                    M      F  2012-04-16 00:00:00             1   \n",
       "954276278                    S      F  2013-05-30 00:00:00             1   \n",
       "668991357                    M      F  2012-05-30 00:00:00             1   \n",
       "134219713                    S      M  2012-05-30 00:00:00             1   \n",
       "\n",
       "                  VacationHours  SickLeaveHours  ...  PersonType NameStyle  \\\n",
       "NationalIDNumber                                 ...                         \n",
       "295847284                    99              69  ...          EM         0   \n",
       "245797967                     1              20  ...          EM         0   \n",
       "509647174                     2              21  ...          EM         0   \n",
       "112457891                    48              80  ...          EM         0   \n",
       "695256908                     5              22  ...          EM         0   \n",
       "...                         ...             ...  ...         ...       ...   \n",
       "758596752                    36              38  ...          SP         0   \n",
       "982310417                    21              30  ...          SP         0   \n",
       "954276278                    35              37  ...          SP         0   \n",
       "668991357                    37              38  ...          SP         0   \n",
       "134219713                    34              37  ...          SP         0   \n",
       "\n",
       "                  Title FirstName MiddleName LastName Suffix EmailPromotion  \\\n",
       "NationalIDNumber                                                              \n",
       "295847284          None       Ken          J      Doe   None              0   \n",
       "245797967          None     Terri        Lee      Doe   None              1   \n",
       "509647174          None   Roberto       None      Doe   None              0   \n",
       "112457891          None       Rob       None      Doe   None              0   \n",
       "695256908           Ms.      Gail          A      Doe   None              0   \n",
       "...                 ...       ...        ...      ...    ...            ...   \n",
       "758596752          None      Lynn          N      Doe   None              2   \n",
       "982310417          None       Amy          E      Doe   None              1   \n",
       "954276278          None    Rachel          B      Doe   None              0   \n",
       "668991357          None       Jae          B      Doe   None              0   \n",
       "134219713          None    Ranjit          R      Doe   None              0   \n",
       "\n",
       "                  AdditionalContactInfo  \\\n",
       "NationalIDNumber                          \n",
       "295847284                          None   \n",
       "245797967                          None   \n",
       "509647174                          None   \n",
       "112457891                          None   \n",
       "695256908                          None   \n",
       "...                                 ...   \n",
       "758596752                          None   \n",
       "982310417                          None   \n",
       "954276278                          None   \n",
       "668991357                          None   \n",
       "134219713                          None   \n",
       "\n",
       "                                                       Demographics  \n",
       "NationalIDNumber                                                     \n",
       "295847284         <IndividualSurvey xmlns=\"http://schemas.micros...  \n",
       "245797967         <IndividualSurvey xmlns=\"http://schemas.micros...  \n",
       "509647174         <IndividualSurvey xmlns=\"http://schemas.micros...  \n",
       "112457891         <IndividualSurvey xmlns=\"http://schemas.micros...  \n",
       "695256908         <IndividualSurvey xmlns=\"http://schemas.micros...  \n",
       "...                                                             ...  \n",
       "758596752         <IndividualSurvey xmlns=\"http://schemas.micros...  \n",
       "982310417         <IndividualSurvey xmlns=\"http://schemas.micros...  \n",
       "954276278         <IndividualSurvey xmlns=\"http://schemas.micros...  \n",
       "668991357         <IndividualSurvey xmlns=\"http://schemas.micros...  \n",
       "134219713         <IndividualSurvey xmlns=\"http://schemas.micros...  \n",
       "\n",
       "[290 rows x 21 columns]"
      ]
     },
     "execution_count": 24,
     "metadata": {},
     "output_type": "execute_result"
    }
   ],
   "source": [
    "# Delete the suffix 00:00:00 in BirthDate"
   ]
  },
  {
   "cell_type": "code",
   "execution_count": null,
   "metadata": {
    "tags": [
     "solution"
    ]
   },
   "outputs": [],
   "source": [
    "# Delete the suffix 00:00:00 in BirthDate\n",
    "dirty_employee_df.replace(\n",
    "    {\"BirthDate\": r\"\\ 00:00:00\"}, {\"BirthDate\": \"\"}, regex=True, inplace=True\n",
    ")"
   ]
  },
  {
   "cell_type": "markdown",
   "metadata": {
    "tags": [
     "specification"
    ]
   },
   "source": [
    "If only individual tuples contain an error/outlier and these cannot be manually fixed, the most efficient approach is often to simply remove these tuples from the dataset. \n",
    "\n",
    "For example this would apply to the tuples with `NationalIDNumber` 243322160 and 879342154 in the `dirty_employee_df`.\n",
    "\n",
    "<div class=\"alert alert-block alert-info\">\n",
    "\n",
    "**Task:** Delete the tuples with `NationalIDNumber` 243322160 and 879342154. (Help: [pandas documentation](https://pandas.pydata.org/docs/reference/api/pandas.DataFrame.drop.html))\n",
    "</div>"
   ]
  },
  {
   "cell_type": "code",
   "execution_count": null,
   "metadata": {
    "tags": [
     "student"
    ]
   },
   "outputs": [],
   "source": [
    "# Delete the tuples with NationalIDNumber 243322160 and 879342154"
   ]
  },
  {
   "cell_type": "code",
   "execution_count": null,
   "metadata": {
    "tags": [
     "solution"
    ]
   },
   "outputs": [],
   "source": [
    "# Delete the tuples with NationalIDNumber 243322160 and 879342154\n",
    "dirty_employee_df.drop(\"243322160\", inplace=True)\n",
    "dirty_employee_df.drop(\"879342154\", inplace=True)"
   ]
  },
  {
   "cell_type": "markdown",
   "metadata": {
    "tags": [
     "specification"
    ]
   },
   "source": [
    "Even for attributes that do not contain any information, it usually makes more sense to remove them from the data set. \n",
    "\n",
    "In this example this is the case with the attribute `LastName`.\n",
    "\n",
    "<div class=\"alert alert-block alert-info\">\n",
    "\n",
    "**Task:** Delete the attribute `LastName`. (Help: [pandas documentation](https://pandas.pydata.org/docs/reference/api/pandas.DataFrame.drop.html))\n",
    "</div>"
   ]
  },
  {
   "cell_type": "code",
   "execution_count": null,
   "metadata": {
    "tags": [
     "student"
    ]
   },
   "outputs": [],
   "source": [
    "# Delete the attribute LastName"
   ]
  },
  {
   "cell_type": "code",
   "execution_count": null,
   "metadata": {
    "tags": [
     "solution"
    ]
   },
   "outputs": [],
   "source": [
    "# Delete the attribute LastName\n",
    "dirty_employee_df.drop(columns=[\"LastName\"], inplace=True)"
   ]
  },
  {
   "cell_type": "markdown",
   "metadata": {
    "tags": [
     "specification"
    ]
   },
   "source": [
    "### Data integration\n",
    "\n",
    "In the context of data integration, we mainly looked at correlation in the lecture. Calculation of this depends on the type of data."
   ]
  },
  {
   "cell_type": "markdown",
   "metadata": {
    "tags": [
     "specification"
    ]
   },
   "source": [
    "#### Nominal data\n",
    "\n",
    "One of the two data types we looked at in more detail in the lecture is nominal data. This describes all data that that is used to label variables without providing any quantitative value.\n",
    "\n",
    "The first combination of nominal attributes we will look at in this section are `Gender` and `CurrentFlag`. We start by displaying the contigency table for these attributes.\n",
    "\n",
    "<div class=\"alert alert-block alert-info\">\n",
    "\n",
    "**Task:** Use the pandas function `crosstab()` to create a contingency table for the attributes `Gender` and `CurrentFlag`. Show the subtotals one time and once not. (Help: [pandas documentation](https://pandas.pydata.org/docs/reference/api/pandas.crosstab.html))\n",
    "</div>"
   ]
  },
  {
   "cell_type": "code",
   "execution_count": null,
   "metadata": {
    "tags": [
     "student"
    ]
   },
   "outputs": [],
   "source": [
    "# Display a contingency table without subtotals"
   ]
  },
  {
   "cell_type": "code",
   "execution_count": null,
   "metadata": {
    "tags": [
     "student"
    ]
   },
   "outputs": [],
   "source": [
    "# Display a contingency table with subtotals"
   ]
  },
  {
   "cell_type": "code",
   "execution_count": null,
   "metadata": {
    "tags": [
     "solution"
    ]
   },
   "outputs": [],
   "source": [
    "# Display a contingency table without subtotals\n",
    "pd.crosstab(dirty_employee_df[\"Gender\"], dirty_employee_df[\"CurrentFlag\"])"
   ]
  },
  {
   "cell_type": "code",
   "execution_count": null,
   "metadata": {
    "tags": [
     "solution"
    ]
   },
   "outputs": [],
   "source": [
    "# Display a contingency table with subtotals\n",
    "pd.crosstab(\n",
    "    dirty_employee_df[\"Gender\"],\n",
    "    dirty_employee_df[\"CurrentFlag\"],\n",
    "    margins=True,\n",
    ")"
   ]
  },
  {
   "cell_type": "markdown",
   "metadata": {
    "tags": [
     "specification"
    ]
   },
   "source": [
    "The disadvantage of this contingency table is, of course, that only the observed quantities are displayed. For the calculation of the correlation, however, the expected quantities are also important. These can be calculated for example with the function `expected_freq()` from SciPy.\n",
    "\n",
    "<div class=\"alert alert-block alert-info\">\n",
    "\n",
    "**Task:** Use `expected_freq()` to output the expected quantities for the attributes `Gender` and `CurrentFlag`. (Help: [SciPy documentation](https://docs.scipy.org/doc/scipy/reference/generated/scipy.stats.contingency.expected_freq.html#scipy.stats.contingency.expected_freq))\n",
    "</div>"
   ]
  },
  {
   "cell_type": "code",
   "execution_count": null,
   "metadata": {
    "tags": [
     "student"
    ]
   },
   "outputs": [],
   "source": [
    "# Display the expected quantities"
   ]
  },
  {
   "cell_type": "code",
   "execution_count": null,
   "metadata": {
    "tags": [
     "solution"
    ]
   },
   "outputs": [],
   "source": [
    "# Display the expected quantities\n",
    "# Sample solution 1: Use pd.crosstab\n",
    "pd_crosstab = pd.crosstab(dirty_employee_df[\"Gender\"], dirty_employee_df[\"CurrentFlag\"])\n",
    "\n",
    "# Compute the expected_frequencies\n",
    "# (it is fine if you just output them - the creation of a pd.DataFrame is just a bonus)\n",
    "pd_expected_frequencies = scipy.stats.contingency.expected_freq(pd_crosstab)\n",
    "\n",
    "# Create a pd.DataFrame\n",
    "pd.DataFrame(\n",
    "    data=pd_expected_frequencies, index=pd_crosstab.index, columns=pd_crosstab.columns\n",
    ")"
   ]
  },
  {
   "cell_type": "code",
   "execution_count": null,
   "metadata": {
    "tags": [
     "solution"
    ]
   },
   "outputs": [],
   "source": [
    "# Sample solution 2: Use scipy.stats.contingency.crosstab\n",
    "sp_crosstab_elements, sp_crosstab_count = scipy.stats.contingency.crosstab(\n",
    "    dirty_employee_df[\"Gender\"], dirty_employee_df[\"CurrentFlag\"]\n",
    ")\n",
    "\n",
    "# Compute the expected_frequencies\n",
    "# (it is fine if you just output them - the creation of a pd.DataFrame is just a bonus)\n",
    "sp_expected_frequencies = scipy.stats.contingency.expected_freq(sp_crosstab_count)\n",
    "\n",
    "# Create a pd.DataFrame\n",
    "pd.DataFrame(\n",
    "    data=sp_expected_frequencies,\n",
    "    index=sp_crosstab_elements[0],\n",
    "    columns=sp_crosstab_elements[1],\n",
    ")"
   ]
  },
  {
   "cell_type": "markdown",
   "metadata": {
    "tags": [
     "specification"
    ]
   },
   "source": [
    "One can see that both the expected and observed values are quite close indicating a small correlation. \n",
    "\n",
    "However, in the lecture, the Chi-squared test was presented as a method to validate this more accurately.\n",
    "\n",
    "<div class=\"alert alert-block alert-info\">\n",
    "\n",
    "**Task:** Use the function `chi2_contingency` from SciPy to determine the correlation between `Gender` and `CurrentFlag`. (Help: [SciPy documentation](https://docs.scipy.org/doc/scipy/reference/generated/scipy.stats.chi2_contingency.html#scipy.stats.chi2_contingency))\n",
    "</div>"
   ]
  },
  {
   "cell_type": "code",
   "execution_count": null,
   "metadata": {
    "tags": [
     "student"
    ]
   },
   "outputs": [],
   "source": [
    "# Compute chi-squared for \"Gender\" and \"CurrentFlag\""
   ]
  },
  {
   "cell_type": "code",
   "execution_count": null,
   "metadata": {
    "tags": [
     "solution"
    ]
   },
   "outputs": [],
   "source": [
    "# Compute chi-squared for \"Gender\" and \"CurrentFlag\"\n",
    "scipy.stats.chi2_contingency(pd_crosstab)"
   ]
  },
  {
   "cell_type": "markdown",
   "metadata": {
    "tags": [
     "specification"
    ]
   },
   "source": [
    "<div class=\"alert alert-block alert-info\">\n",
    "\n",
    "**Task:** Find out what the different values in the above output of `chi2_contingency` stand for and describe how to interpret them in this case.\n",
    "</div>"
   ]
  },
  {
   "cell_type": "markdown",
   "metadata": {
    "tags": [
     "student"
    ]
   },
   "source": [
    "Write down your solution here:"
   ]
  },
  {
   "cell_type": "markdown",
   "metadata": {
    "tags": [
     "solution"
    ]
   },
   "source": [
    "- <b>First value (0.0):</b><br />\n",
    "This value represents the actual Chi-squared value. The closer it is to 0, the less correlation there is between attributes. Since this value is 0.0, we can assume there is no correlation between \"Gender\" and \"CurrentFlag\". (However: see explanation of the second value)\n",
    "\n",
    "- <b>Second value (1.0):</b><br />\n",
    "This is the so-called p-value. If this value is higher than the selected level of statistical significance (usually 0.01, 0.05 or 0.10), the chi-squared value is not fully reliable. Since in this case the value is significantly higher than any normally selected value, it can be assumed that our chi-squared should be viewed with great caution. \n",
    "\n",
    "- <b>Third value (1):</b><br />\n",
    "The third value describes the degrees of freedom. This value is related to the number of categories (number of categories minus one). So there are two categories in our case (of course we already knew this from the contingency table).\n",
    "\n",
    "- <b>Last value (Array):</b><br />\n",
    "This is just another version of the expected values known from the previous task."
   ]
  },
  {
   "cell_type": "markdown",
   "metadata": {
    "tags": [
     "specification"
    ]
   },
   "source": [
    "Second, let's look at the `Gender` and `SalariedFlag` attributes.\n",
    "\n",
    "<div class=\"alert alert-block alert-info\">\n",
    "\n",
    "**Task:** Using the methods learned above, calculate Chi-squared for `Gender` and `SalariedFlag`.\n",
    "</div>"
   ]
  },
  {
   "cell_type": "code",
   "execution_count": null,
   "metadata": {
    "tags": [
     "student"
    ]
   },
   "outputs": [],
   "source": [
    "# Compute chi-squared for \"Gender\" and \"SalariedFlag\""
   ]
  },
  {
   "cell_type": "code",
   "execution_count": null,
   "metadata": {
    "tags": [
     "solution"
    ]
   },
   "outputs": [],
   "source": [
    "# Compute chi-squared for \"Gender\" and \"SalariedFlag\"\n",
    "pd_crosstab_salaried = pd.crosstab(\n",
    "    dirty_employee_df[\"Gender\"], dirty_employee_df[\"SalariedFlag\"]\n",
    ")\n",
    "scipy.stats.chi2_contingency(pd_crosstab_salaried)"
   ]
  },
  {
   "cell_type": "markdown",
   "metadata": {
    "tags": [
     "specification"
    ]
   },
   "source": [
    "<div class=\"alert alert-block alert-info\">\n",
    "\n",
    "**Task:** Interpret the chi-squared for `Gender` and `SalariedFlag`.\n",
    "</div>"
   ]
  },
  {
   "cell_type": "markdown",
   "metadata": {
    "tags": [
     "student"
    ]
   },
   "source": [
    "Write down your solution here:"
   ]
  },
  {
   "cell_type": "markdown",
   "metadata": {
    "tags": [
     "solution"
    ]
   },
   "source": [
    "The two most important values for interpretation are the actual chi-squared value and the p-value. \n",
    "\n",
    "The p-value in this case is just above 0.05, so it does not yet reach this level of statistical significance. Depending on how certain one wants to be in drawing conclusions, one can either accept or reject the result of the chi-squared test.\n",
    "\n",
    "The chi-squared value of about 3.65 is clearly above 0, so it is much more correlation than in the combination `Gender` and `CurrentFlag`."
   ]
  },
  {
   "cell_type": "markdown",
   "metadata": {
    "tags": [
     "specification"
    ]
   },
   "source": [
    "#### Numerical data\n",
    "\n",
    "The other data type we have considered in the context of correlation is the numeric data type. Here, it is suitable to look at the connection between `VacationHours` and `SickLeaveHours`. \n",
    "\n",
    "A method of graphical analysis of correlation in numerical data should already be known from Part One.\n",
    "\n",
    "<div class=\"alert alert-block alert-info\">\n",
    "\n",
    "**Task:** Draw a scatter plot regarding `VacationHours` and `SickLeaveHours`.\n",
    "</div>"
   ]
  },
  {
   "cell_type": "code",
   "execution_count": null,
   "metadata": {
    "tags": [
     "student"
    ]
   },
   "outputs": [],
   "source": [
    "# Draw a scatter plot regarding \"VacationHours\" and \"SickLeaveHours\""
   ]
  },
  {
   "cell_type": "code",
   "execution_count": null,
   "metadata": {
    "tags": [
     "solution"
    ]
   },
   "outputs": [],
   "source": [
    "# Draw a scatter plot regarding \"VacationHours\" and \"SickLeaveHours\"\n",
    "dirty_employee_df.plot.scatter(x=\"VacationHours\", y=\"SickLeaveHours\")"
   ]
  },
  {
   "cell_type": "markdown",
   "metadata": {
    "tags": [
     "specification"
    ]
   },
   "source": [
    "However, what was not part of the method in Part One is the interpretation of this diagram.\n",
    "\n",
    "<div class=\"alert alert-block alert-info\">\n",
    "\n",
    "**Task:** Interpret the scatter plot regarding `VacationHours` and `SickLeaveHours`.\n",
    "</div>"
   ]
  },
  {
   "cell_type": "markdown",
   "metadata": {
    "tags": [
     "student"
    ]
   },
   "source": [
    "Write down your solution here:"
   ]
  },
  {
   "cell_type": "markdown",
   "metadata": {
    "tags": [
     "solution"
    ]
   },
   "source": [
    "The scatter plot shows positive correlation between both variables indicating that employees who have been on more vacation are sick more often. \n",
    "\n",
    "**Caution in interpretation:** This may also be due to the fact that both `VacationHours` and `SickLeaveHours` were simply added over the contract period. We did not consider this in this analysis."
   ]
  },
  {
   "cell_type": "markdown",
   "metadata": {
    "tags": [
     "specification"
    ]
   },
   "source": [
    "We can, of course, evaluate this graphical analysis mathematically. In the lecture we used Pearson's product-moment coefficient for this purpose.\n",
    "\n",
    "<div class=\"alert alert-block alert-info\">\n",
    "\n",
    "**Task:** Compute pearson's product-moment coefficient for `VacationHours` and `SickLeaveHours`. Use SciPy's `pearsonr()` function. (Help: [SciPy documentation](https://docs.scipy.org/doc/scipy/reference/generated/scipy.stats.pearsonr.html))\n",
    "</div>"
   ]
  },
  {
   "cell_type": "code",
   "execution_count": null,
   "metadata": {
    "tags": [
     "student"
    ]
   },
   "outputs": [],
   "source": [
    "# Compute pearson's product-moment coefficient for \"VacationHours\" and \"SickLeaveHours\""
   ]
  },
  {
   "cell_type": "code",
   "execution_count": null,
   "metadata": {
    "tags": [
     "solution"
    ]
   },
   "outputs": [],
   "source": [
    "# Compute pearson's product-moment coefficient for \"VacationHours\" and \"SickLeaveHours\"\n",
    "scipy.stats.pearsonr(\n",
    "    dirty_employee_df[\"VacationHours\"],\n",
    "    dirty_employee_df[\"SickLeaveHours\"],\n",
    ")"
   ]
  },
  {
   "cell_type": "markdown",
   "metadata": {
    "tags": [
     "specification"
    ]
   },
   "source": [
    "<div class=\"alert alert-block alert-info\">\n",
    "\n",
    "**Task:** Find out what the different values in the above output of `pearsonr` stand for and describe how to interpret them in this case.\n",
    "</div>"
   ]
  },
  {
   "cell_type": "markdown",
   "metadata": {
    "tags": [
     "student"
    ]
   },
   "source": [
    "Write down your solution here:"
   ]
  },
  {
   "cell_type": "markdown",
   "metadata": {
    "tags": [
     "solution"
    ]
   },
   "source": [
    "- <b>First value (approx. 0.989):</b><br />\n",
    "This value represents the actual Pearson’s correlation coefficient. If it is positive, then there is a positive correlation between the two attributes. Our graphical analysis is confirmed here.\n",
    "\n",
    "- <b>Second value (approx. 0.000):</b><br />\n",
    "Similar to the chi-squared test, this is the p-value. Since this is virtually zero in this case, a high statistical significance can be assumed."
   ]
  }
 ],
 "metadata": {
  "celltoolbar": "Tags",
  "interpreter": {
   "hash": "916dbcbb3f70747c44a77c7bcd40155683ae19c65e1c03b4aa3499c5328201f1"
  },
  "kernelspec": {
   "display_name": "Python 3 (ipykernel)",
   "language": "python",
   "name": "python3"
  },
  "language_info": {
   "codemirror_mode": {
    "name": "ipython",
    "version": 3
   },
   "file_extension": ".py",
   "mimetype": "text/x-python",
   "name": "python",
   "nbconvert_exporter": "python",
   "pygments_lexer": "ipython3",
   "version": "3.10.2"
  }
 },
 "nbformat": 4,
 "nbformat_minor": 4
}
