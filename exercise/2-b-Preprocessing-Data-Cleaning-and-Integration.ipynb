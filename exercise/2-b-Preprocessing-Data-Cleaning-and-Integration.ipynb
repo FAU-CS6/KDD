{
 "cells": [
  {
   "cell_type": "markdown",
   "metadata": {
    "tags": [
     "specification"
    ]
   },
   "source": [
    "# 2. Data analysis & Preprocessing\n",
    "\n",
    "In this exercise you will get to know the basics from the lectures \"3. Getting to Know Your Data\" and \"4. Preprocessing\" in their practical use and apply them yourself.\n",
    "\n",
    "Since this practice sheet is designed to be used in three sessions, it is roughly divided into three parts:\n",
    "\n",
    "- Part One: Getting to Know Your Data\n",
    "- Part Two: Preprocessing - Data cleaning & Data integration\n",
    "- Part Three: Preprocessing - Data reduction, data transformation & data discretization\n",
    "\n",
    "Of course, depending on how quickly an exercise group progresses in the actual exercise, one of these parts may not be discussed entirely in the affected exercise, or parts of the subsequent part may already be addressed."
   ]
  },
  {
   "cell_type": "markdown",
   "metadata": {
    "tags": [
     "specification"
    ]
   },
   "source": [
    "## Part Two: Preprocessing - Data cleaning & Data integration\n",
    "\n",
    "In this part you will apply the theoretical knowledge gained in the first part of the lecture \"Preprocessing\". "
   ]
  },
  {
   "cell_type": "markdown",
   "metadata": {},
   "source": [
    "### Preparations"
   ]
  },
  {
   "cell_type": "code",
   "execution_count": null,
   "metadata": {
    "tags": [
     "specification"
    ]
   },
   "outputs": [],
   "source": [
    "# Import the required libraries\n",
    "import tempfile\n",
    "import sqlite3\n",
    "import urllib.request\n",
    "import scipy.stats\n",
    "import pandas as pd"
   ]
  },
  {
   "cell_type": "code",
   "execution_count": null,
   "metadata": {
    "tags": [
     "specification"
    ]
   },
   "outputs": [],
   "source": [
    "# Create a temporary directory\n",
    "dataset_folder = tempfile.mkdtemp()\n",
    "\n",
    "# Get the database\n",
    "urllib.request.urlretrieve(\n",
    "    \"https://github.com/FAU-CS6/KDD-Databases/raw/main/AdventureWorks/adventure-works.db\",\n",
    "    dataset_folder + \"/adventure-works.db\",\n",
    ")\n",
    "\n",
    "# Open connection to the adventure-works.db\n",
    "connection = sqlite3.connect(dataset_folder + \"/adventure-works.db\")"
   ]
  },
  {
   "cell_type": "code",
   "execution_count": null,
   "metadata": {
    "tags": [
     "specification"
    ]
   },
   "outputs": [],
   "source": [
    "# Modify the database to contain dirty data\n",
    "cursor = connection.cursor()\n",
    "cursor.executescript(\n",
    "    \"UPDATE Person SET LastName = 'Doe';\"\n",
    "    \"UPDATE Employee SET HireDate = STRFTIME('%Y-%m-%d %H:%M:%S', HireDate);\"\n",
    "    \"UPDATE Employee SET BirthDate = STRFTIME('%Y-%m-%d %H:%M:%S', BirthDate);\"\n",
    "    \"UPDATE Employee SET Gender = 'Male' WHERE Gender = 'M' AND NationalIDNumber LIKE \\\"%8\\\";\"\n",
    "    \"UPDATE Employee SET Gender = 'Female' WHERE Gender = 'F' AND NationalIDNumber LIKE \\\"%7%\\\";\"\n",
    "    \"UPDATE Employee SET BirthDate = STRFTIME('%Y-%m-%d', BirthDate) WHERE NationalIDNumber LIKE \\\"%2%\\\";\"\n",
    "    \"UPDATE Employee SET SickLeaveHours = 2306 WHERE BusinessEntityID = 10;\"\n",
    "    \"UPDATE Employee SET VacationHours = -12 WHERE BusinessEntityID = 21;\"\n",
    "    \"UPDATE Person SET LastName = 'Doe';\"\n",
    "    \"UPDATE Employee SET JobTitle = 'None' WHERE NationalIDNumber LIKE \\\"%1\\\";\"\n",
    "    \"UPDATE Employee SET CurrentFlag = 0 WHERE NationalIDNumber = 658797903 OR NationalIDNumber = 974026903;\"\n",
    "    \"UPDATE Employee SET HireDate = STRFTIME('%Y-%m-%d %H:%M:%S', DATE(BirthDate, '-10 year')) \"\n",
    "    'WHERE NationalIDNumber LIKE \"2%\";'\n",
    ")"
   ]
  },
  {
   "cell_type": "code",
   "execution_count": null,
   "metadata": {
    "tags": [
     "specification"
    ]
   },
   "outputs": [],
   "source": [
    "# Create the dirty dataframe(s)\n",
    "# Employee dataframe\n",
    "dirty_employee_dataframe = pd.read_sql_query(\n",
    "    \"SELECT NationalIDNumber, LoginID, OrganizationNode, JobTitle, BirthDate, MaritalStatus, Gender,\"\n",
    "    \"HireDate, SalariedFlag, VacationHours, SickLeaveHours, CurrentFlag, PersonType, NameStyle, Title,\"\n",
    "    \"FirstName, MiddleName, LastName, Suffix, EmailPromotion, AdditionalContactInfo, Demographics \"\n",
    "    \"FROM Employee \"\n",
    "    \"JOIN Person ON Employee.BusinessEntityID = Person.BusinessEntityID\",\n",
    "    connection,\n",
    "    index_col=\"NationalIDNumber\",\n",
    ")"
   ]
  },
  {
   "cell_type": "markdown",
   "metadata": {
    "tags": [
     "specification"
    ]
   },
   "source": [
    "### Recognizing dirty data\n",
    "\n",
    "We did not look for dirty data in the order_dataframe. It is rather unusual in the real world that there is no dirty data. For this reason, we will now look at the dirty_employee_dataframe, into which some obvious problems have been built in.\n",
    "\n",
    "<div class=\"alert alert-block alert-info\">\n",
    "<b>Task:</b> Independently use the skills you learned in Part One to familiarize yourself with the dirty_employee_dataframe. In doing so, try to identify as many problems as possible with the dataset at hand.</div>"
   ]
  },
  {
   "cell_type": "code",
   "execution_count": null,
   "metadata": {
    "tags": [
     "student"
    ]
   },
   "outputs": [],
   "source": [
    "# Use the methods you learned in Part One to familiarize yourself with the dirty_employee_dataframe\n",
    "# (You are of course allowed to create new code cells if necessary)"
   ]
  },
  {
   "cell_type": "code",
   "execution_count": null,
   "metadata": {
    "tags": [
     "solution"
    ]
   },
   "outputs": [],
   "source": [
    "# Since this task is very loosely defined, no 100% sample solution can be given here.\n",
    "\n",
    "# But a minimum is to look at the shape of the dataframe\n",
    "dirty_employee_dataframe.shape"
   ]
  },
  {
   "cell_type": "code",
   "execution_count": null,
   "metadata": {
    "tags": [
     "solution"
    ]
   },
   "outputs": [],
   "source": [
    "# And then at least take a quick look at the head of all attributes. (Part 1)\n",
    "dirty_employee_dataframe[dirty_employee_dataframe.columns[0:10]].head(25)"
   ]
  },
  {
   "cell_type": "code",
   "execution_count": null,
   "metadata": {
    "tags": [
     "solution"
    ]
   },
   "outputs": [],
   "source": [
    "# And then at least take a quick look at the head of all attributes. (Part 2)\n",
    "dirty_employee_dataframe[dirty_employee_dataframe.columns[10:21]].head(25)"
   ]
  },
  {
   "cell_type": "markdown",
   "metadata": {
    "tags": [
     "specification"
    ]
   },
   "source": [
    "#### Incomplete\n",
    "\n",
    "Incomplete data can take many different forms. If you look at the present data set, you will notice \"None\" values in various attributes. "
   ]
  },
  {
   "cell_type": "code",
   "execution_count": null,
   "metadata": {
    "tags": [
     "specification"
    ]
   },
   "outputs": [],
   "source": [
    "# Print the columns containing at least one \"None\"\n",
    "dirty_employee_dataframe[\n",
    "    [\n",
    "        \"OrganizationNode\",\n",
    "        \"JobTitle\",\n",
    "        \"Title\",\n",
    "        \"MiddleName\",\n",
    "        \"Suffix\",\n",
    "        \"AdditionalContactInfo\",\n",
    "    ]\n",
    "].head(25)"
   ]
  },
  {
   "cell_type": "markdown",
   "metadata": {
    "tags": [
     "specification"
    ]
   },
   "source": [
    "Not every \"None\" equates to missing data. Sometimes it is simply the correct information that the attribute value is \"nothing\". This can be seen in the six attributes presented. \n",
    "\n",
    "<div class=\"alert alert-block alert-info\">\n",
    "<b>Task:</b> For each of the attributes at hand, consider whether the \"None\" values are actually indicative of incomplete information, or whether the use of \"None\" is justified.</div>"
   ]
  },
  {
   "cell_type": "markdown",
   "metadata": {
    "tags": [
     "student"
    ]
   },
   "source": [
    "Write down your solution here:"
   ]
  },
  {
   "cell_type": "markdown",
   "metadata": {
    "tags": [
     "solution"
    ]
   },
   "source": [
    "A 100% assessment of which attributes are correct and which are not usually requires a lot of expert knowledge. Without this, only an approximate estimate can be given:\n",
    "\n",
    "<u>Most likely correct attributes:</u>\n",
    "\n",
    "- <b>MiddleName:</b> That there are some \"None\" values in the MiddleName is consistent with what you would expect. In the \"real\" world, there are people with MiddleName as well as those without. However, it is still possible that the entry was forgotten for an employee with MiddleName.\n",
    "- <b>Suffix:</b> The very fact that all of the first 25 tuples have no entry at the suffix shows that this is probably intentional. One possible reason why this could be an error is that the attribute was added to the database after the fact, which resulted in so many \"None\" values.\n",
    "- <b>AdditionalContactInfo:</b> Again, the \"None\" values definitely suggest that this is at least a valid value. It also sounds reasonable that \"Additional\" information does not always have to be given.\n",
    "\n",
    "<u>Most likely incomplete attributes:</u>\n",
    "\n",
    "- <b>JobTitle:</b> It seems strange that in a dataset of employees, some people do not have a JobTitle. This is most likely incomplete information.\n",
    "- <b>Title:</b> If the non-\"None\" values in Title were scientific titles such as \"Dr.\" or \"Prof.\" it would be expected that these titles do not actually exist for every employee. However, since titles such as \"Mr.\" or \"Ms.\" are also used, it can be assumed that information is simply missing. It should definitely be possible to specify these titles for each employee.\n",
    "\n",
    "<u>Difficult to assess attributes:</u>\n",
    "\n",
    "- <b>OrganizationNode:</b> There is also a \"None\" value in the OrganizationNode attribute. However, this is assigned to the CEO of all people (see JobTitle). It is quite possible that only employees with superiors should be assigned to an OrganizationNode. However, this could also be an error, as the CEO may have been with the company the longest and may simply have forgotten to add his OrganizationNode."
   ]
  },
  {
   "cell_type": "markdown",
   "metadata": {
    "tags": [
     "specification"
    ]
   },
   "source": [
    "#### Noisy\n",
    "\n",
    "Noisy data, i.e. small measurement inaccuracies, are difficult to detect in the context of such an exercise. However, it is almost certain that the present data set does not contain any noisy data. \n",
    "\n",
    "<div class=\"alert alert-block alert-info\">\n",
    "<b>Task:</b> Consider why noisy data is unlikely to be included in dirty_employee_dataframe.</div>"
   ]
  },
  {
   "cell_type": "markdown",
   "metadata": {
    "tags": [
     "student"
    ]
   },
   "source": [
    "Write down your solution here:"
   ]
  },
  {
   "cell_type": "markdown",
   "metadata": {
    "tags": [
     "solution"
    ]
   },
   "source": [
    "The dirty_employee_dataframe does not contain measured data. It is therefore extremely unlikely that noise is included in the data."
   ]
  },
  {
   "cell_type": "markdown",
   "metadata": {
    "tags": [
     "specification"
    ]
   },
   "source": [
    "#### Inconsistencies\n",
    "\n",
    "Examples of inconsistencies can be found in the present data set in the attributes \"Gender\", \"BirthDate\", and \"HireDate\". \n",
    "\n",
    "<div class=\"alert alert-block alert-info\">\n",
    "<b>Task:</b> Print the head of the attributes \"Gender\", \"BirthDate\", and \"HireDate\".</div>"
   ]
  },
  {
   "cell_type": "code",
   "execution_count": null,
   "metadata": {
    "tags": [
     "student"
    ]
   },
   "outputs": [],
   "source": [
    "# Print the head of \"Gender\", \"BirthDate\", and \"HireDate\""
   ]
  },
  {
   "cell_type": "code",
   "execution_count": null,
   "metadata": {
    "tags": [
     "solution"
    ]
   },
   "outputs": [],
   "source": [
    "# Print the head of \"Gender\", \"BirthDate\", and \"HireDate\"\n",
    "dirty_employee_dataframe[[\"Gender\", \"BirthDate\", \"HireDate\"]].head(25)"
   ]
  },
  {
   "cell_type": "markdown",
   "metadata": {
    "tags": [
     "specification"
    ]
   },
   "source": [
    "<div class=\"alert alert-block alert-info\">\n",
    "<b>Task:</b> Consider what inconsistencies are in the \"Gender\" attribute.</div>"
   ]
  },
  {
   "cell_type": "markdown",
   "metadata": {
    "tags": [
     "student"
    ]
   },
   "source": [
    "Write down your solution here:"
   ]
  },
  {
   "cell_type": "markdown",
   "metadata": {
    "tags": [
     "solution"
    ]
   },
   "source": [
    "The Gender in the data set is partly given as \"F\" and \"M\" and partly as \"Female\" and \"Male\"."
   ]
  },
  {
   "cell_type": "markdown",
   "metadata": {
    "tags": [
     "specification"
    ]
   },
   "source": [
    "<div class=\"alert alert-block alert-info\">\n",
    "<b>Task:</b> Consider what inconsistencies are in the \"BirthDate\" attribute.</div>"
   ]
  },
  {
   "cell_type": "markdown",
   "metadata": {
    "tags": [
     "student"
    ]
   },
   "source": [
    "Write down your solution here:"
   ]
  },
  {
   "cell_type": "markdown",
   "metadata": {
    "tags": [
     "solution"
    ]
   },
   "source": [
    "The format in which the BirthDate has been specified differs."
   ]
  },
  {
   "cell_type": "markdown",
   "metadata": {
    "tags": [
     "specification"
    ]
   },
   "source": [
    "<div class=\"alert alert-block alert-info\">\n",
    "<b>Task:</b> Consider what inconsistencies are in the \"HireDate\" attribute. (Hint: Consider the attribute in conjunction with the other two attributes)</div>"
   ]
  },
  {
   "cell_type": "markdown",
   "metadata": {
    "tags": [
     "student"
    ]
   },
   "source": [
    "Write down your solution here:"
   ]
  },
  {
   "cell_type": "markdown",
   "metadata": {
    "tags": [
     "solution"
    ]
   },
   "source": [
    "The HireDate is partly before the birthday. This is first of all an inconsistency, but the probability is high that this is actually even an error."
   ]
  },
  {
   "cell_type": "markdown",
   "metadata": {
    "tags": [
     "specification"
    ]
   },
   "source": [
    "#### Errors/Outlier\n",
    "\n",
    "Errors in numerical values and in the special outlier are sometimes not quite detectable at a glance. Fortunately, we have already learned methods in Part One that we can now use.\n",
    "\n",
    "Let's first consider the \"SickLeaveHours\" attribute. First, let's look at the \"SickLeaveHours\" attribute. Does it contain outliers or errors?\n",
    "\n",
    "<div class=\"alert alert-block alert-info\">\n",
    "<b>Task:</b> Use a boxplot diagram to graphically analyze whether \"SickLeaveHours\" contains Outliers.</div>"
   ]
  },
  {
   "cell_type": "code",
   "execution_count": null,
   "metadata": {
    "tags": [
     "student"
    ]
   },
   "outputs": [],
   "source": [
    "# Draw a boxplot diagram for \"SickLeaveHours\""
   ]
  },
  {
   "cell_type": "code",
   "execution_count": null,
   "metadata": {
    "tags": [
     "solution"
    ]
   },
   "outputs": [],
   "source": [
    "# Draw a boxplot diagram for \"SickLeaveHours\"\n",
    "dirty_employee_dataframe[\"SickLeaveHours\"].plot.box()"
   ]
  },
  {
   "cell_type": "markdown",
   "metadata": {
    "tags": [
     "specification"
    ]
   },
   "source": [
    "<div class=\"alert alert-block alert-info\">\n",
    "<b>Task:</b> Think about a way to find out which tuple contains the outlier in \"SickLeaveHours\".</div>"
   ]
  },
  {
   "cell_type": "code",
   "execution_count": null,
   "metadata": {
    "tags": [
     "student"
    ]
   },
   "outputs": [],
   "source": [
    "# Output the tuple containing the outlier"
   ]
  },
  {
   "cell_type": "code",
   "execution_count": null,
   "metadata": {
    "tags": [
     "solution"
    ]
   },
   "outputs": [],
   "source": [
    "# It is clear from the boxplot diagram that the SickLeaveHours of the Outlier are above 2000. This can be used:\n",
    "dirty_employee_dataframe[dirty_employee_dataframe[\"SickLeaveHours\"] > 2000]"
   ]
  },
  {
   "cell_type": "markdown",
   "metadata": {
    "tags": [
     "specification"
    ]
   },
   "source": [
    "Secondly, let's take a look at \"VacationHours\".\n",
    "\n",
    "<div class=\"alert alert-block alert-info\">\n",
    "<b>Task:</b> Use a boxplot diagram to graphically analyze whether \"VacationHours\" contains Outliers.</div>"
   ]
  },
  {
   "cell_type": "code",
   "execution_count": null,
   "metadata": {
    "tags": [
     "student"
    ]
   },
   "outputs": [],
   "source": [
    "# Draw a boxplot diagram for \"VacationHours\""
   ]
  },
  {
   "cell_type": "code",
   "execution_count": null,
   "metadata": {
    "tags": [
     "solution"
    ]
   },
   "outputs": [],
   "source": [
    "# Draw a boxplot diagram for \"VacationHours\"\n",
    "dirty_employee_dataframe[\"VacationHours\"].plot.box()"
   ]
  },
  {
   "cell_type": "markdown",
   "metadata": {
    "tags": [
     "specification"
    ]
   },
   "source": [
    "<div class=\"alert alert-block alert-info\">\n",
    "<b>Task:</b> Even though the boxplot diagram does not show any outliers, it clearly indicates a possible error in \"VacationHours\". Which error?</div>"
   ]
  },
  {
   "cell_type": "markdown",
   "metadata": {
    "tags": [
     "student"
    ]
   },
   "source": [
    "Write down your solution here:"
   ]
  },
  {
   "cell_type": "markdown",
   "metadata": {
    "tags": [
     "solution"
    ]
   },
   "source": [
    "The minimum whisker extends to below 0 . It seems strange that hours can also become negative."
   ]
  },
  {
   "cell_type": "markdown",
   "metadata": {
    "tags": [
     "specification"
    ]
   },
   "source": [
    "<div class=\"alert alert-block alert-info\">\n",
    "<b>Task:</b> Output the affected tuples.</div>"
   ]
  },
  {
   "cell_type": "code",
   "execution_count": null,
   "metadata": {
    "tags": [
     "student"
    ]
   },
   "outputs": [],
   "source": [
    "# Output the tuple(s) containing the error"
   ]
  },
  {
   "cell_type": "code",
   "execution_count": null,
   "metadata": {
    "tags": [
     "solution"
    ]
   },
   "outputs": [],
   "source": [
    "# Output the tuple(s) containing the error\n",
    "dirty_employee_dataframe[dirty_employee_dataframe[\"VacationHours\"] < 0]"
   ]
  },
  {
   "cell_type": "markdown",
   "metadata": {
    "tags": [
     "specification"
    ]
   },
   "source": [
    "#### Intentional\n",
    "\n",
    "There is also an intentional error in the dirty_employee_dataframe. It can be found in either the \"MaritalStatus\", \"SalariedFlag\", \"FirstName\" or \"LastName\" attribute.\n",
    "\n",
    "<div class=\"alert alert-block alert-info\">\n",
    "<b>Task:</b> Again, independently use your learned skills to search the attributes \"MaritalStatus\", \"SalariedFlag\", \"FirstName\" and \"LastName\" for the intentional error.</div>"
   ]
  },
  {
   "cell_type": "code",
   "execution_count": null,
   "metadata": {
    "tags": [
     "student"
    ]
   },
   "outputs": [],
   "source": [
    "# Search for the intentional error"
   ]
  },
  {
   "cell_type": "code",
   "execution_count": null,
   "metadata": {
    "tags": [
     "solution"
    ]
   },
   "outputs": [],
   "source": [
    "# Search for the intentional error\n",
    "dirty_employee_dataframe[\n",
    "    [\"MaritalStatus\", \"SalariedFlag\", \"FirstName\", \"LastName\"]\n",
    "].head(25)"
   ]
  },
  {
   "cell_type": "markdown",
   "metadata": {
    "tags": [
     "specification"
    ]
   },
   "source": [
    "<div class=\"alert alert-block alert-info\">\n",
    "<b>Task:</b> In which of the attributes is the intentional error to be found.</div>"
   ]
  },
  {
   "cell_type": "markdown",
   "metadata": {
    "tags": [
     "student"
    ]
   },
   "source": [
    "<b>The attribute with the intentional error:</b>\n",
    "1. [ ] MaritalStatus\n",
    "2. [ ] SalariedFlag\n",
    "3. [ ] FirstName\n",
    "4. [ ] LastName"
   ]
  },
  {
   "cell_type": "markdown",
   "metadata": {
    "tags": [
     "solution"
    ]
   },
   "source": [
    "<b>The attribute with the intentional error:</b>\n",
    "1. [ ] MaritalStatus\n",
    "2. [ ] SalariedFlag\n",
    "3. [ ] FirstName\n",
    "4. [X] LastName"
   ]
  },
  {
   "cell_type": "markdown",
   "metadata": {
    "tags": [
     "specification"
    ]
   },
   "source": [
    "<div class=\"alert alert-block alert-info\">\n",
    "<b>Task:</b> Why this error could have been built in on purpose?</div>"
   ]
  },
  {
   "cell_type": "markdown",
   "metadata": {
    "tags": [
     "student"
    ]
   },
   "source": [
    "Write down your solution here:"
   ]
  },
  {
   "cell_type": "markdown",
   "metadata": {
    "tags": [
     "solution"
    ]
   },
   "source": [
    "For data protection reasons, it may sometimes be necessary to anonymize data. While it is rather atypical that this is the case with an employee database, if the data set had been issued for external analysis, for example, and it contained salary data, then one could explain such anonymization. However, it would be quite advantageous if not only this one attribute had been anonymized then."
   ]
  },
  {
   "cell_type": "markdown",
   "metadata": {
    "tags": [
     "specification"
    ]
   },
   "source": [
    "### Data cleaning\n",
    "\n",
    "The mere detection of dirty data is, of course, only the first step in the data cleaning process. While it is a best case scenario to correct dirty data step by step once it has been identified, this is often a lengthy and difficult process. \n",
    "\n",
    "In our example from 2.2.1, for example, only the inconsistencies in \"Gender\" and \"BirthDate\" can be quickly fixed.\n",
    "\n",
    "<div class=\"alert alert-block alert-info\">\n",
    "<b>Task:</b> Replace all occurrences of \"Female\" with \"F\" and all occurrences of \"Male\" with \"M\" in the \"Gender\" attribute of the dirty_employee_dataframe. (Help: <a href=\"https://pandas.pydata.org/docs/reference/api/pandas.DataFrame.replace.html\">Pandas documentation</a>)</div>"
   ]
  },
  {
   "cell_type": "code",
   "execution_count": null,
   "metadata": {
    "tags": [
     "student"
    ]
   },
   "outputs": [],
   "source": [
    "# Replace \"Female\" and \"Male\" values in \"Gender\""
   ]
  },
  {
   "cell_type": "code",
   "execution_count": null,
   "metadata": {
    "tags": [
     "solution"
    ]
   },
   "outputs": [],
   "source": [
    "# Replace \"Female\" and \"Male\" values in \"Gender\"\n",
    "dirty_employee_dataframe.replace({\"Gender\": {\"Female\": \"F\", \"Male\": \"M\"}}, inplace=True)"
   ]
  },
  {
   "cell_type": "markdown",
   "metadata": {
    "tags": [
     "specification"
    ]
   },
   "source": [
    "<div class=\"alert alert-block alert-info\">\n",
    "<b>Task:</b> Delete the 00:00:00 suffix in the BirthDate attribute. (Help: <a href=\"https://pandas.pydata.org/docs/reference/api/pandas.DataFrame.replace.html\">Pandas documentation</a> - Hint: Use RegEx)</div>"
   ]
  },
  {
   "cell_type": "code",
   "execution_count": null,
   "metadata": {
    "tags": [
     "student"
    ]
   },
   "outputs": [],
   "source": [
    "# Delete the 00:00:00 suffix in BirthDate"
   ]
  },
  {
   "cell_type": "code",
   "execution_count": null,
   "metadata": {
    "tags": [
     "solution"
    ]
   },
   "outputs": [],
   "source": [
    "# Delete the 00:00:00 suffix in BirthDate\n",
    "dirty_employee_dataframe.replace(\n",
    "    {\"BirthDate\": r\"\\ 00:00:00\"}, {\"BirthDate\": \"\"}, regex=True, inplace=True\n",
    ")"
   ]
  },
  {
   "cell_type": "markdown",
   "metadata": {
    "tags": [
     "specification"
    ]
   },
   "source": [
    "If only individual tuples contain an error/outlier and these cannot be manually fixed, the most efficient approach is often to simply remove these tuples from the dataset. \n",
    "\n",
    "For example this would apply to the tuples with NationalIDNumber 243322160 and 879342154 in the dirty_employee_dataframe.\n",
    "\n",
    "<div class=\"alert alert-block alert-info\">\n",
    "<b>Task:</b> Delete the tuples with NationalIDNumber 243322160 and 879342154. (Help: <a href=\"https://pandas.pydata.org/docs/reference/api/pandas.DataFrame.drop.html\">Pandas documentation</a>)</div>"
   ]
  },
  {
   "cell_type": "code",
   "execution_count": null,
   "metadata": {
    "tags": [
     "student"
    ]
   },
   "outputs": [],
   "source": [
    "# Delete the tuples with NationalIDNumber 243322160 and 879342154"
   ]
  },
  {
   "cell_type": "code",
   "execution_count": null,
   "metadata": {
    "tags": [
     "solution"
    ]
   },
   "outputs": [],
   "source": [
    "# Delete the tuples with NationalIDNumber 243322160 and 879342154\n",
    "dirty_employee_dataframe.drop(\"243322160\", inplace=True)\n",
    "dirty_employee_dataframe.drop(\"879342154\", inplace=True)"
   ]
  },
  {
   "cell_type": "markdown",
   "metadata": {
    "tags": [
     "specification"
    ]
   },
   "source": [
    "Even for attributes that do not contain any information, it usually makes more sense to remove them from the data set. \n",
    "\n",
    "In this example this is the case with the attribute LastName.\n",
    "\n",
    "<div class=\"alert alert-block alert-info\">\n",
    "<b>Task:</b> Delete the attribute LastName. (Help: <a href=\"https://pandas.pydata.org/docs/reference/api/pandas.DataFrame.drop.html\">Pandas documentation</a>)</div>"
   ]
  },
  {
   "cell_type": "code",
   "execution_count": null,
   "metadata": {
    "tags": [
     "student"
    ]
   },
   "outputs": [],
   "source": [
    "# Delete the attribute LastName"
   ]
  },
  {
   "cell_type": "code",
   "execution_count": null,
   "metadata": {
    "tags": [
     "solution"
    ]
   },
   "outputs": [],
   "source": [
    "# Delete the attribute LastName\n",
    "dirty_employee_dataframe.drop(columns=[\"LastName\"], inplace=True)"
   ]
  },
  {
   "cell_type": "markdown",
   "metadata": {
    "tags": [
     "specification"
    ]
   },
   "source": [
    "### Data integration\n",
    "\n",
    "In the context of data integration, we mainly looked at correlation in the lecture. The calculation of this depends on the type of data."
   ]
  },
  {
   "cell_type": "markdown",
   "metadata": {
    "tags": [
     "specification"
    ]
   },
   "source": [
    "#### Nominal data\n",
    "\n",
    "One of the two data types we looked at in more detail in the lecture is nominal data. This describes all data that that is used to label variables without providing any quantitative value.\n",
    "\n",
    "The first combination of nominal attributes we will look at in this section are \"Gender\" and \"CurrentFlag\". We start by displaying the contigency table for these attributes.\n",
    "\n",
    "<div class=\"alert alert-block alert-info\">\n",
    "<b>Task:</b> Use the pandas function crosstab() to create a contingency table for the attributes \"Gender\" and \"CurrentFlag\". Show the subtotals one time and once not. (Help: <a href=\"https://pandas.pydata.org/docs/reference/api/pandas.crosstab.html\">Pandas documentation</a>)</div>"
   ]
  },
  {
   "cell_type": "code",
   "execution_count": null,
   "metadata": {
    "tags": [
     "student"
    ]
   },
   "outputs": [],
   "source": [
    "# Display a contingency table without subtotals"
   ]
  },
  {
   "cell_type": "code",
   "execution_count": null,
   "metadata": {
    "tags": [
     "student"
    ]
   },
   "outputs": [],
   "source": [
    "# Display a contingency table with subtotals"
   ]
  },
  {
   "cell_type": "code",
   "execution_count": null,
   "metadata": {
    "tags": [
     "solution"
    ]
   },
   "outputs": [],
   "source": [
    "# Display a contingency table without subtotals\n",
    "pd.crosstab(dirty_employee_dataframe[\"Gender\"], dirty_employee_dataframe[\"CurrentFlag\"])"
   ]
  },
  {
   "cell_type": "code",
   "execution_count": null,
   "metadata": {
    "tags": [
     "solution"
    ]
   },
   "outputs": [],
   "source": [
    "# Display a contingency table with subtotals\n",
    "pd.crosstab(\n",
    "    dirty_employee_dataframe[\"Gender\"],\n",
    "    dirty_employee_dataframe[\"CurrentFlag\"],\n",
    "    margins=True,\n",
    ")"
   ]
  },
  {
   "cell_type": "markdown",
   "metadata": {
    "tags": [
     "specification"
    ]
   },
   "source": [
    "The disadvantage of this contingency table is, of course, that only the observed quantities are displayed. For the calculation of the correlation, however, the expected quantities are also important. These can be calculated for example with the expected_freq() function from SciPy.\n",
    "\n",
    "<div class=\"alert alert-block alert-info\">\n",
    "<b>Task:</b> Use expected_freq() to output the expected quantities for the attributes \"Gender\" and \"CurrentFlag\". (Help: <a href=\"https://docs.scipy.org/doc/scipy/reference/generated/scipy.stats.contingency.expected_freq.html#scipy.stats.contingency.expected_freq\">SciPy documentation</a>)</div>"
   ]
  },
  {
   "cell_type": "code",
   "execution_count": null,
   "metadata": {
    "tags": [
     "student"
    ]
   },
   "outputs": [],
   "source": [
    "# Display the expected quantities"
   ]
  },
  {
   "cell_type": "code",
   "execution_count": null,
   "metadata": {
    "tags": [
     "solution"
    ]
   },
   "outputs": [],
   "source": [
    "# Display the expected quantities\n",
    "# Sample solution 1: Use pd.crosstab\n",
    "pd_crosstab = pd.crosstab(\n",
    "    dirty_employee_dataframe[\"Gender\"], dirty_employee_dataframe[\"CurrentFlag\"]\n",
    ")\n",
    "\n",
    "# Compute the expected_frequencies\n",
    "# (it is fine if you just output them - the creation of a pd.DataFrame is just a bonus)\n",
    "pd_expected_frequencies = scipy.stats.contingency.expected_freq(pd_crosstab)\n",
    "\n",
    "# Create a pd.DataFrame\n",
    "pd.DataFrame(\n",
    "    data=pd_expected_frequencies, index=pd_crosstab.index, columns=pd_crosstab.columns\n",
    ")"
   ]
  },
  {
   "cell_type": "code",
   "execution_count": null,
   "metadata": {
    "tags": [
     "solution"
    ]
   },
   "outputs": [],
   "source": [
    "# Sample solution 2: Use scipy.stats.contingency.crosstab\n",
    "sp_crosstab_elements, sp_crosstab_count = scipy.stats.contingency.crosstab(\n",
    "    dirty_employee_dataframe[\"Gender\"], dirty_employee_dataframe[\"CurrentFlag\"]\n",
    ")\n",
    "\n",
    "# Compute the expected_frequencies\n",
    "# (it is fine if you just output them - the creation of a pd.DataFrame is just a bonus)\n",
    "sp_expected_frequencies = scipy.stats.contingency.expected_freq(sp_crosstab_count)\n",
    "\n",
    "# Create a pd.DataFrame\n",
    "pd.DataFrame(\n",
    "    data=sp_expected_frequencies,\n",
    "    index=sp_crosstab_elements[0],\n",
    "    columns=sp_crosstab_elements[1],\n",
    ")"
   ]
  },
  {
   "cell_type": "markdown",
   "metadata": {
    "tags": [
     "specification"
    ]
   },
   "source": [
    "One can see that both the expected values and the observed ones are quite close. This indicates that it is probably a small correlation. \n",
    "\n",
    "However, in the lecture, the Chi-squared test was presented as a method to validate this more accurately.\n",
    "\n",
    "<div class=\"alert alert-block alert-info\">\n",
    "<b>Task:</b> Use the chi2_contingency function from SciPy to determine the correlation between \"Gender\" and \"CurrentFlag\". (Help: <a href=\"https://docs.scipy.org/doc/scipy/reference/generated/scipy.stats.chi2_contingency.html#scipy.stats.chi2_contingency\">SciPy documentation</a>)</div>"
   ]
  },
  {
   "cell_type": "code",
   "execution_count": null,
   "metadata": {
    "tags": [
     "student"
    ]
   },
   "outputs": [],
   "source": [
    "# Compute chi-squared for \"Gender\" and \"CurrentFlag\""
   ]
  },
  {
   "cell_type": "code",
   "execution_count": null,
   "metadata": {
    "tags": [
     "solution"
    ]
   },
   "outputs": [],
   "source": [
    "# Compute chi-squared for \"Gender\" and \"CurrentFlag\"\n",
    "scipy.stats.chi2_contingency(pd_crosstab)"
   ]
  },
  {
   "cell_type": "markdown",
   "metadata": {
    "tags": [
     "specification"
    ]
   },
   "source": [
    "<div class=\"alert alert-block alert-info\">\n",
    "<b>Task:</b> Find out what the different values in the above output of chi2_contingency stand for and describe how to interpret them in this case.</div>"
   ]
  },
  {
   "cell_type": "markdown",
   "metadata": {
    "tags": [
     "student"
    ]
   },
   "source": [
    "Write down your solution here:"
   ]
  },
  {
   "cell_type": "markdown",
   "metadata": {
    "tags": [
     "solution"
    ]
   },
   "source": [
    "- <b>First value (0.0):</b><br />\n",
    "This value represents the actual Chi-squared value. The closer it is to 0, the less correlation there is between the attributes. Since this value is 0.0, we can assume there is no correlation between \"Gender\" and \"CurrentFlag\". (However: see explanation of the second value)\n",
    "\n",
    "- <b>Second value (1.0):</b><br />\n",
    "This is the so-called p-value. If this value is higher than the selected level of statistical significance (usually 0.01, 0.05 or 0.10), the chi-squared value is not fully reliable. Since in this case the value is significantly higher than any normally selected value, it can be assumed that our chi-squared should be viewed with great caution. \n",
    "\n",
    "- <b>Third value (1):</b><br />\n",
    "The third return value describes the degrees of freedom. This value is related to the number of categories (number of categories minus one). So there are two categories in our case (of course we already knew this from the contingency table).\n",
    "\n",
    "- <b>Last value (Array):</b><br />\n",
    "This is just another version of the expected values known from the previous task."
   ]
  },
  {
   "cell_type": "markdown",
   "metadata": {
    "tags": [
     "specification"
    ]
   },
   "source": [
    "Second, let's look at the \"Gender\" and \"SalariedFlag\" attributes.\n",
    "\n",
    "<div class=\"alert alert-block alert-info\">\n",
    "<b>Task:</b> Using the methods learned above, calculate Chi-squared for \"Gender\" and \"SalariedFlag\".</div>"
   ]
  },
  {
   "cell_type": "code",
   "execution_count": null,
   "metadata": {
    "tags": [
     "student"
    ]
   },
   "outputs": [],
   "source": [
    "# Compute chi-squared for \"Gender\" and \"SalariedFlag\""
   ]
  },
  {
   "cell_type": "code",
   "execution_count": null,
   "metadata": {
    "tags": [
     "solution"
    ]
   },
   "outputs": [],
   "source": [
    "# Compute chi-squared for \"Gender\" and \"SalariedFlag\"\n",
    "pd_crosstab_salaried = pd.crosstab(\n",
    "    dirty_employee_dataframe[\"Gender\"], dirty_employee_dataframe[\"SalariedFlag\"]\n",
    ")\n",
    "scipy.stats.chi2_contingency(pd_crosstab_salaried)"
   ]
  },
  {
   "cell_type": "markdown",
   "metadata": {
    "tags": [
     "specification"
    ]
   },
   "source": [
    "<div class=\"alert alert-block alert-info\">\n",
    "<b>Task:</b> Interpret the chi-squared for \"Gender\" and \"SalariedFlag\".</div>"
   ]
  },
  {
   "cell_type": "markdown",
   "metadata": {
    "tags": [
     "student"
    ]
   },
   "source": [
    "Write down your solution here:"
   ]
  },
  {
   "cell_type": "markdown",
   "metadata": {
    "tags": [
     "solution"
    ]
   },
   "source": [
    "The two most important values for interpretation are the actual chi-squared value and the p-value. \n",
    "\n",
    "The p-value in this case is just above 0.05, so it does not yet reach this level of statistical significance. Depending on how certain one wants to be in drawing conclusions, one can either accept or reject the result of the chi-squared test.\n",
    "\n",
    "The chi-squared value of about 3.65 is clearly above 0, so it is much more correlation than in the combination \"Gender\" and \"CurrentFlag\"."
   ]
  },
  {
   "cell_type": "markdown",
   "metadata": {
    "tags": [
     "specification"
    ]
   },
   "source": [
    "#### Numerical data\n",
    "\n",
    "The other data type we have considered in the context of Correlation is the numeric data type. Here it is suitable to look at the connection between \"VacationHours\" and \"SickLeaveHours\". \n",
    "\n",
    "A method of graphical analysis of correlation in numerical data should already be known from Part One.\n",
    "\n",
    "<div class=\"alert alert-block alert-info\">\n",
    "<b>Task:</b> Draw a scatter plot regarding \"VacationHours\" and \"SickLeaveHours\".\n",
    "</div>"
   ]
  },
  {
   "cell_type": "code",
   "execution_count": null,
   "metadata": {
    "tags": [
     "student"
    ]
   },
   "outputs": [],
   "source": [
    "# Draw a scatter plot regarding \"VacationHours\" and \"SickLeaveHours\""
   ]
  },
  {
   "cell_type": "code",
   "execution_count": null,
   "metadata": {
    "tags": [
     "solution"
    ]
   },
   "outputs": [],
   "source": [
    "# Draw a scatter plot regarding \"VacationHours\" and \"SickLeaveHours\"\n",
    "dirty_employee_dataframe.plot.scatter(x=\"VacationHours\", y=\"SickLeaveHours\")"
   ]
  },
  {
   "cell_type": "markdown",
   "metadata": {
    "tags": [
     "specification"
    ]
   },
   "source": [
    "However, what was not part of the method in Part One is the interpretation of this diagram.\n",
    "\n",
    "<div class=\"alert alert-block alert-info\">\n",
    "<b>Task:</b> Interpret the scatter plot regarding \"VacationHours\" and \"SickLeaveHours\".\n",
    "</div>"
   ]
  },
  {
   "cell_type": "markdown",
   "metadata": {
    "tags": [
     "student"
    ]
   },
   "source": [
    "Write down your solution here:"
   ]
  },
  {
   "cell_type": "markdown",
   "metadata": {
    "tags": [
     "solution"
    ]
   },
   "source": [
    "The scatter plot clearly shows positive correlation between both variables. So it seems that employees who were on vacation more often were also on vacation more often. \n",
    "\n",
    "(Caution in interpretation: This may also be due to the fact that both VacationHours and SickLeaveHours were simply added over the contract period. We did not consider this in this analysis)."
   ]
  },
  {
   "cell_type": "markdown",
   "metadata": {
    "tags": [
     "specification"
    ]
   },
   "source": [
    "We can, of course, evaluate this graphical analysis mathematically. In the lecture we used Pearson's product-moment coefficient for this purpose.\n",
    "\n",
    "<div class=\"alert alert-block alert-info\">\n",
    "<b>Task:</b> Compute pearson's product-moment coefficient for \"VacationHours\" and \"SickLeaveHours\". Use the pearsonr() function from SciPy. (Help: <a href=\"https://docs.scipy.org/doc/scipy/reference/generated/scipy.stats.pearsonr.html\">SciPy documentation</a>)\n",
    "</div>"
   ]
  },
  {
   "cell_type": "code",
   "execution_count": null,
   "metadata": {
    "tags": [
     "student"
    ]
   },
   "outputs": [],
   "source": [
    "# Compute pearson's product-moment coefficient for \"VacationHours\" and \"SickLeaveHours\""
   ]
  },
  {
   "cell_type": "code",
   "execution_count": null,
   "metadata": {
    "tags": [
     "solution"
    ]
   },
   "outputs": [],
   "source": [
    "# Compute pearson's product-moment coefficient for \"VacationHours\" and \"SickLeaveHours\"\n",
    "scipy.stats.pearsonr(\n",
    "    dirty_employee_dataframe[\"VacationHours\"],\n",
    "    dirty_employee_dataframe[\"SickLeaveHours\"],\n",
    ")"
   ]
  },
  {
   "cell_type": "markdown",
   "metadata": {
    "tags": [
     "specification"
    ]
   },
   "source": [
    "<div class=\"alert alert-block alert-info\">\n",
    "<b>Task:</b> Find out what the different values in the above output of pearsonr stand for and describe how to interpret them in this case.</div>"
   ]
  },
  {
   "cell_type": "markdown",
   "metadata": {
    "tags": [
     "student"
    ]
   },
   "source": [
    "Write down your solution here:"
   ]
  },
  {
   "cell_type": "markdown",
   "metadata": {
    "tags": [
     "solution"
    ]
   },
   "source": [
    "- <b>First value (approx. 0.989):</b><br />\n",
    "This value represents the actual Pearson’s correlation coefficient. If it is positive, then there is a positive correlation between the two attributes. Our graphical analysis is confirmed here.\n",
    "\n",
    "- <b>Second value (approx. 0.000):</b><br />\n",
    "Similar to the chi-squared test, this is the p-value. Since this is virtually zero in this case, a high statistical significance can be assumed."
   ]
  }
 ],
 "metadata": {
  "celltoolbar": "Tags",
  "interpreter": {
   "hash": "916dbcbb3f70747c44a77c7bcd40155683ae19c65e1c03b4aa3499c5328201f1"
  },
  "kernelspec": {
   "display_name": "Python 3 (ipykernel)",
   "language": "python",
   "name": "python3"
  },
  "language_info": {
   "codemirror_mode": {
    "name": "ipython",
    "version": 3
   },
   "file_extension": ".py",
   "mimetype": "text/x-python",
   "name": "python",
   "nbconvert_exporter": "python",
   "pygments_lexer": "ipython3",
   "version": "3.10.2"
  }
 },
 "nbformat": 4,
 "nbformat_minor": 2
}
