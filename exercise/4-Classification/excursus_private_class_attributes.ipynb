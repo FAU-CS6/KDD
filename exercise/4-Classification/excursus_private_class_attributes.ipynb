{
 "cells": [
  {
   "cell_type": "markdown",
   "metadata": {},
   "source": [
    "# Short Excursus to Private Class Attributes in Python\n",
    "\n",
    "We know private attributes from Java or C#. These can only be accessed within the object - unless `getter` and `setter` methods exist. In Python there is no `private` keyword, but there is the possibility to create a \"private\" attribute with the help of two underscores. \n",
    "\n",
    "Example:"
   ]
  },
  {
   "cell_type": "code",
   "execution_count": null,
   "metadata": {},
   "outputs": [],
   "source": [
    "class Dog:\n",
    "    good_boy = \"I am a good boy!\"  # class variable\n",
    "\n",
    "    def __init__(self, name):\n",
    "        print(f\"We are in {self}\")\n",
    "        self.name = name\n",
    "        self.__mood = \"energetic\"  # Private variable"
   ]
  },
  {
   "cell_type": "code",
   "execution_count": null,
   "metadata": {},
   "outputs": [],
   "source": [
    "dog = Dog(name=\"Black Baron\")\n",
    "print(dog.name, dog.good_boy, sep=\"\\n\")"
   ]
  },
  {
   "cell_type": "markdown",
   "metadata": {},
   "source": [
    "We cannot access the variable `__mood`:"
   ]
  },
  {
   "cell_type": "code",
   "execution_count": null,
   "metadata": {},
   "outputs": [],
   "source": [
    "dog.__mood"
   ]
  },
  {
   "cell_type": "markdown",
   "metadata": {},
   "source": [
    "Why is that the case? \"'Dog' object has no attribute '__mood'\"? What is going on here?\n",
    "\n",
    "Let's take a look what attributes are available in our dog object:"
   ]
  },
  {
   "cell_type": "code",
   "execution_count": null,
   "metadata": {},
   "outputs": [],
   "source": [
    "dog.__dict__"
   ]
  },
  {
   "cell_type": "markdown",
   "metadata": {},
   "source": [
    "We have received the attribute `_Dog__mood`. This means that such a \"private\" attribute is automatically preceded by the class name. This is prefixed to prevent this attribute from being overwritten by mistake or to prevent a name collision in the case of a derivation. The whole thing is called **name mangling** and is received controversly among the Python community.\n",
    "\n",
    "However, this attribute is anything but private. Since we now know what it is called, we can still modify it:"
   ]
  },
  {
   "cell_type": "code",
   "execution_count": null,
   "metadata": {},
   "outputs": [],
   "source": [
    "dog._Dog__mood = \"mischief managed\"\n",
    "dog.__dict__"
   ]
  },
  {
   "cell_type": "markdown",
   "metadata": {},
   "source": [
    "## Name Mangling and Inheritance\n",
    "\n",
    "Let's take a look how this private attribute looks like when we derive a new class from `Dog`:"
   ]
  },
  {
   "cell_type": "code",
   "execution_count": null,
   "metadata": {},
   "outputs": [],
   "source": [
    "class Beagle(Dog):\n",
    "    def __init__(self, name):\n",
    "        super().__init__(name)\n",
    "        self.__mood = \"comfortable\""
   ]
  },
  {
   "cell_type": "code",
   "execution_count": null,
   "metadata": {},
   "outputs": [],
   "source": [
    "snoopy = Beagle(name=\"Snoopy\")\n",
    "print(snoopy.name, snoopy.good_boy, snoopy.__dict__, sep=\"\\n\")"
   ]
  },
  {
   "cell_type": "markdown",
   "metadata": {},
   "source": [
    "We have now two `__mood` attributes: one for `Beagle` and one from `Dog`."
   ]
  },
  {
   "cell_type": "markdown",
   "metadata": {},
   "source": [
    "This Python peculiarity is not well received by everyone, so it has become common practice to mark \"private\" attributes or methods with only a preceding underscore. This should signal to the programmer that this attribute or method is only used internally and should not be accessed or called. Such attributes or methods are also called \"protected\"."
   ]
  },
  {
   "cell_type": "markdown",
   "metadata": {},
   "source": [
    "Let's create another class that inherits from `Dog`:"
   ]
  },
  {
   "cell_type": "code",
   "execution_count": null,
   "metadata": {},
   "outputs": [],
   "source": [
    "class GermanShepherd(Dog):\n",
    "    def __init__(self, name):\n",
    "        super().__init__(name)\n",
    "        self.__mood = (\n",
    "            \"solving crimes in exchange of Leberkaassemmeln\"  # \"protected\" attribut\n",
    "        )\n",
    "        self._my_kinda_protected_variable = \"please do not touch from outside\"\n",
    "\n",
    "\n",
    "rex = GermanShepherd(name=\"Kommissar Rex\")\n",
    "rex.__dict__"
   ]
  },
  {
   "cell_type": "markdown",
   "metadata": {},
   "source": [
    "This object now has the private attributes from `Dog` and `GermanShepherd`, and our somewhat \"private\" attribute.\n",
    "\n",
    "Let's create another class:"
   ]
  },
  {
   "cell_type": "code",
   "execution_count": null,
   "metadata": {},
   "outputs": [],
   "source": [
    "class SomeOtherDog(GermanShepherd):\n",
    "    def __init__(self, name):\n",
    "        super().__init__(name)\n",
    "\n",
    "\n",
    "other = SomeOtherDog(name=\"whatever\")\n",
    "other.__dict__"
   ]
  },
  {
   "cell_type": "markdown",
   "metadata": {},
   "source": [
    "As you can see, name mangled attributes persist with their respective class prefix. Our \"private\" attribute, however, is inherited without any problems."
   ]
  },
  {
   "cell_type": "markdown",
   "metadata": {},
   "source": [
    "**Note:** Name mangling not only applies to attributes/variables but also to methods. "
   ]
  }
 ],
 "metadata": {
  "interpreter": {
   "hash": "520e995520d0f28b9f1e7cacfd9ba1493aa60b57e5f0cc1543205df7dd9220a2"
  },
  "kernelspec": {
   "display_name": "Python 3 (ipykernel)",
   "language": "python",
   "name": "python3"
  },
  "language_info": {
   "codemirror_mode": {
    "name": "ipython",
    "version": 3
   },
   "file_extension": ".py",
   "mimetype": "text/x-python",
   "name": "python",
   "nbconvert_exporter": "python",
   "pygments_lexer": "ipython3",
   "version": "3.11.0"
  }
 },
 "nbformat": 4,
 "nbformat_minor": 2
}
