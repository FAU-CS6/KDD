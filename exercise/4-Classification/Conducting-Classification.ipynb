{
 "cells": [
  {
   "attachments": {},
   "cell_type": "markdown",
   "metadata": {
    "tags": [
     "specification"
    ]
   },
   "source": [
    "# Exercise 3: Conducting Classification\n"
   ]
  },
  {
   "attachments": {},
   "cell_type": "markdown",
   "metadata": {
    "tags": [
     "specification"
    ]
   },
   "source": [
    "Imagine the following scenario:"
   ]
  },
  {
   "attachments": {},
   "cell_type": "markdown",
   "metadata": {
    "tags": [
     "specification"
    ]
   },
   "source": [
    "*You are an employee in the fictitious company Adventure Works GmbH.*\n",
    "???"
   ]
  },
  {
   "cell_type": "code",
   "execution_count": null,
   "metadata": {
    "tags": [
     "specification"
    ]
   },
   "outputs": [],
   "source": [
    "# Import helpful libraries\n",
    "import os\n",
    "import tempfile\n",
    "import sqlite3\n",
    "import urllib.request\n",
    "import pandas as pd"
   ]
  },
  {
   "cell_type": "code",
   "execution_count": null,
   "metadata": {
    "tags": [
     "specification"
    ]
   },
   "outputs": [],
   "source": [
    "# Create a temporary directory\n",
    "dataset_folder = tempfile.mkdtemp()\n",
    "\n",
    "# Build path to database\n",
    "database_path = os.path.join(dataset_folder, \"adventure-works.db\")\n",
    "\n",
    "# Get the database\n",
    "urllib.request.urlretrieve(\n",
    "    \"https://github.com/FAU-CS6/KDD-Databases/raw/main/AdventureWorks/adventure-works.db\",\n",
    "    database_path,\n",
    ")\n",
    "\n",
    "# Open connection to the adventure-works.db\n",
    "connection = sqlite3.connect(database_path)"
   ]
  },
  {
   "attachments": {},
   "cell_type": "markdown",
   "metadata": {
    "tags": [
     "specification"
    ]
   },
   "source": [
    "<div class=\"alert alert-block alert-info\">\n",
    "\n",
    "**Task 1:**\n",
    "    \n",
    "???\n",
    "\n",
    "</div>"
   ]
  },
  {
   "cell_type": "code",
   "execution_count": null,
   "metadata": {
    "tags": [
     "student"
    ]
   },
   "outputs": [],
   "source": [
    "# Classify the products into ??? (Code placeholder 01/10)"
   ]
  },
  {
   "cell_type": "code",
   "execution_count": null,
   "metadata": {
    "tags": [
     "student"
    ]
   },
   "outputs": [],
   "source": [
    "# Classify the products into ??? (Code placeholder 02/10)"
   ]
  },
  {
   "cell_type": "code",
   "execution_count": null,
   "metadata": {
    "tags": [
     "student"
    ]
   },
   "outputs": [],
   "source": [
    "# Classify the products into ??? (Code placeholder 03/10)"
   ]
  },
  {
   "cell_type": "code",
   "execution_count": null,
   "metadata": {
    "tags": [
     "student"
    ]
   },
   "outputs": [],
   "source": [
    "# Classify the products into ??? (Code placeholder 04/10)"
   ]
  },
  {
   "cell_type": "code",
   "execution_count": null,
   "metadata": {
    "tags": [
     "student"
    ]
   },
   "outputs": [],
   "source": [
    "# Classify the products into ??? (Code placeholder 05/10)"
   ]
  },
  {
   "cell_type": "code",
   "execution_count": null,
   "metadata": {
    "tags": [
     "student"
    ]
   },
   "outputs": [],
   "source": [
    "# Classify the products into ??? (Code placeholder 06/10)"
   ]
  },
  {
   "cell_type": "code",
   "execution_count": null,
   "metadata": {
    "tags": [
     "student"
    ]
   },
   "outputs": [],
   "source": [
    "# Classify the products into ??? (Code placeholder 07/10)"
   ]
  },
  {
   "cell_type": "code",
   "execution_count": null,
   "metadata": {
    "tags": [
     "student"
    ]
   },
   "outputs": [],
   "source": [
    "# Classify the products into ??? (Code placeholder 08/10)"
   ]
  },
  {
   "cell_type": "code",
   "execution_count": null,
   "metadata": {
    "tags": [
     "student"
    ]
   },
   "outputs": [],
   "source": [
    "# Classify the products into ??? (Code placeholder 09/10)"
   ]
  },
  {
   "cell_type": "code",
   "execution_count": null,
   "metadata": {},
   "outputs": [],
   "source": [
    "import pandas as pd\n",
    "import numpy as np\n",
    "from sklearn.model_selection import train_test_split\n",
    "from sklearn.tree import DecisionTreeClassifier\n",
    "from sklearn.metrics import classification_report\n",
    "from sklearn.preprocessing import LabelEncoder"
   ]
  },
  {
   "cell_type": "code",
   "execution_count": null,
   "metadata": {
    "tags": [
     "solution"
    ]
   },
   "outputs": [],
   "source": [
    "# Load Product into a DataFrame and display the first ten rows\n",
    "product_df = pd.read_sql_query(\"SELECT * FROM Product\", connection)\n",
    "\n",
    "# Get the number of nan values per column\n",
    "nan_values = product_df.isna().sum()\n",
    "print(nan_values)"
   ]
  },
  {
   "cell_type": "code",
   "execution_count": null,
   "metadata": {},
   "outputs": [],
   "source": [
    "# Get the number of unique values per column\n",
    "unique_values = product_df.nunique()\n",
    "print(unique_values)"
   ]
  },
  {
   "cell_type": "code",
   "execution_count": null,
   "metadata": {},
   "outputs": [],
   "source": [
    "# Get the number of unique values per column for all columns that do not contain NaN values\n",
    "product_df[\n",
    "    [\n",
    "        \"ProductID\",\n",
    "        \"Name\",\n",
    "        \"ProductNumber\",\n",
    "        \"MakeFlag\",\n",
    "        \"SafetyStockLevel\",\n",
    "        \"ReorderPoint\",\n",
    "        \"StandardCost\",\n",
    "        \"ListPrice\",\n",
    "        \"DaysToManufacture\",\n",
    "        \"SellStartDate\",\n",
    "        \"rowguid\",\n",
    "        \"ModifiedDate\",\n",
    "    ]\n",
    "].nunique()"
   ]
  },
  {
   "cell_type": "code",
   "execution_count": null,
   "metadata": {},
   "outputs": [],
   "source": [
    "# Load Product into a DataFrame and display the first ten rows\n",
    "product_df = pd.read_sql_query(\"SELECT * FROM Product\", connection)\n",
    "\n",
    "# Select the columns we want to use\n",
    "product_df = product_df[\n",
    "    [\n",
    "        \"ProductID\",\n",
    "        \"Name\",\n",
    "        \"ProductNumber\",\n",
    "        \"MakeFlag\",\n",
    "        \"SafetyStockLevel\",\n",
    "        \"ReorderPoint\",\n",
    "        \"StandardCost\",\n",
    "        \"ListPrice\",\n",
    "        \"DaysToManufacture\",\n",
    "        \"SellStartDate\",\n",
    "        \"rowguid\",\n",
    "        \"ModifiedDate\",\n",
    "    ]\n",
    "]\n",
    "\n",
    "# Drop nas\n",
    "# product_df = product_df[[\"Name\",\"MakeFlag\",\"FinishedGoodsFlag\"]].dropna()\n",
    "# product_df.nunique()"
   ]
  },
  {
   "cell_type": "code",
   "execution_count": null,
   "metadata": {},
   "outputs": [],
   "source": [
    "# If there is a product_df_copy DataFrame, make it the product_df DataFrame\n",
    "if \"product_df_copy\" in locals():\n",
    "    product_df = product_df_copy\n",
    "\n",
    "# Save the DataFrame as a backup copy\n",
    "product_df_copy = product_df.copy()\n",
    "\n",
    "# Kategorische Variablen umwandeln\n",
    "label_encoders = {}\n",
    "for column in product_df.columns:\n",
    "    if product_df[column].dtype == type(\n",
    "        object\n",
    "    ):  # Überprüfen, ob die Spalte kategorisch ist\n",
    "        le = LabelEncoder()\n",
    "        # Fit und Transform LabelEncoder auf die Spalte\n",
    "        product_df[column] = le.fit_transform(product_df[column].astype(str))\n",
    "        label_encoders[column] = le\n",
    "\n",
    "# Merkmale und Zielvariable definieren\n",
    "X = product_df.drop(\"MakeFlag\", axis=1)\n",
    "y = product_df[\"MakeFlag\"]\n",
    "\n",
    "# Aufteilung der Daten in Trainings- und Testdaten\n",
    "X_train, X_test, y_train, y_test = train_test_split(\n",
    "    X, y, test_size=0.3, random_state=42\n",
    ")\n",
    "\n",
    "# Entscheidungsbaum Modell\n",
    "tree_model = DecisionTreeClassifier(\n",
    "    criterion=\"entropy\", random_state=42\n",
    ")  # 'gini' oder 'entropy'\n",
    "\n",
    "# Training des Modells\n",
    "tree_model.fit(X_train, y_train)\n",
    "\n",
    "# Vorhersage auf Testdaten\n",
    "y_pred = tree_model.predict(X_test)\n",
    "\n",
    "# Bewertung des Modells\n",
    "print(classification_report(y_test, y_pred))"
   ]
  },
  {
   "cell_type": "code",
   "execution_count": null,
   "metadata": {},
   "outputs": [],
   "source": []
  },
  {
   "cell_type": "code",
   "execution_count": null,
   "metadata": {},
   "outputs": [],
   "source": []
  }
 ],
 "metadata": {
  "celltoolbar": "Tags",
  "interpreter": {
   "hash": "916dbcbb3f70747c44a77c7bcd40155683ae19c65e1c03b4aa3499c5328201f1"
  },
  "kernelspec": {
   "display_name": "Python 3 (ipykernel)",
   "language": "python",
   "name": "python3"
  },
  "language_info": {
   "codemirror_mode": {
    "name": "ipython",
    "version": 3
   },
   "file_extension": ".py",
   "mimetype": "text/x-python",
   "name": "python",
   "nbconvert_exporter": "python",
   "pygments_lexer": "ipython3",
   "version": "3.11.5"
  }
 },
 "nbformat": 4,
 "nbformat_minor": 4
}
