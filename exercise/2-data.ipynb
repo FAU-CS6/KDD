{
 "cells": [
  {
   "cell_type": "markdown",
   "metadata": {},
   "source": [
    "# 2. Data analysis & Preprocessing\n",
    "\n",
    "In this exercise you will get to know the basics from the lectures \"3. Getting to Know Your Data\" and \"4. Preprocessing\" in their practical use and apply them yourself.\n",
    "\n",
    "Since this practice sheet is designed to be used in three sessions, it is roughly divided into three parts:\n",
    "\n",
    "- [2.1. Part One: Getting to Know Your Data](## 2.1. Part One: Getting to Know Your Data)\n",
    "- [2.2. Part Two: Preprocessing - Data cleaning & data integration](## 2.2. Part Two: Preprocessing - Data cleaning & Data integration)\n",
    "- [2.3. Part Three: Preprocessing - Data reduction, data transformation & data discretization](## 2.3. Part Three: Preprocessing - Data reduction, data transformation & data discretization)\n",
    "\n",
    "Of course, depending on how quickly an exercise group progresses in the actual exercise, one of these parts may not be discussed entirely in the affected exercise, or parts of the subsequent part may already be addressed."
   ]
  },
  {
   "cell_type": "markdown",
   "metadata": {},
   "source": [
    "### Preparation: Importing required libraries"
   ]
  },
  {
   "cell_type": "code",
   "execution_count": 37,
   "metadata": {},
   "outputs": [],
   "source": [
    "import tempfile\n",
    "import sqlite3\n",
    "import urllib.request\n",
    "import pandas as pd"
   ]
  },
  {
   "cell_type": "markdown",
   "metadata": {},
   "source": [
    "### Preparation: Download the datasets"
   ]
  },
  {
   "cell_type": "code",
   "execution_count": 38,
   "metadata": {},
   "outputs": [
    {
     "name": "stdout",
     "output_type": "stream",
     "text": [
      "     ProductID                   Name ProductNumber  MakeFlag  \\\n",
      "0            1        Adjustable Race       AR-5381         0   \n",
      "1            2           Bearing Ball       BA-8327         0   \n",
      "2            3        BB Ball Bearing       BE-2349         1   \n",
      "3            4  Headset Ball Bearings       BE-2908         0   \n",
      "4          316                  Blade       BL-2036         1   \n",
      "..         ...                    ...           ...       ...   \n",
      "499        995      ML Bottom Bracket       BB-8107         1   \n",
      "500        996      HL Bottom Bracket       BB-9108         1   \n",
      "501        997     Road-750 Black, 44    BK-R19B-44         1   \n",
      "502        998     Road-750 Black, 48    BK-R19B-48         1   \n",
      "503        999     Road-750 Black, 52    BK-R19B-52         1   \n",
      "\n",
      "     FinishedGoodsFlag  Color  SafetyStockLevel  ReorderPoint  StandardCost  \\\n",
      "0                    0   None              1000           750        0.0000   \n",
      "1                    0   None              1000           750        0.0000   \n",
      "2                    0   None               800           600        0.0000   \n",
      "3                    0   None               800           600        0.0000   \n",
      "4                    0   None               800           600        0.0000   \n",
      "..                 ...    ...               ...           ...           ...   \n",
      "499                  1   None               500           375       44.9506   \n",
      "500                  1   None               500           375       53.9416   \n",
      "501                  1  Black               100            75      343.6496   \n",
      "502                  1  Black               100            75      343.6496   \n",
      "503                  1  Black               100            75      343.6496   \n",
      "\n",
      "     ListPrice  ... ProductLine Class Style  ProductSubcategoryID  \\\n",
      "0         0.00  ...        None  None  None                   NaN   \n",
      "1         0.00  ...        None  None  None                   NaN   \n",
      "2         0.00  ...        None  None  None                   NaN   \n",
      "3         0.00  ...        None  None  None                   NaN   \n",
      "4         0.00  ...        None  None  None                   NaN   \n",
      "..         ...  ...         ...   ...   ...                   ...   \n",
      "499     101.24  ...        None    M   None                   5.0   \n",
      "500     121.49  ...        None    H   None                   5.0   \n",
      "501     539.99  ...          R     L     U                    2.0   \n",
      "502     539.99  ...          R     L     U                    2.0   \n",
      "503     539.99  ...          R     L     U                    2.0   \n",
      "\n",
      "     ProductModelID            SellStartDate SellEndDate DiscontinuedDate  \\\n",
      "0               NaN  2008-04-30 00:00:00.000        None             None   \n",
      "1               NaN  2008-04-30 00:00:00.000        None             None   \n",
      "2               NaN  2008-04-30 00:00:00.000        None             None   \n",
      "3               NaN  2008-04-30 00:00:00.000        None             None   \n",
      "4               NaN  2008-04-30 00:00:00.000        None             None   \n",
      "..              ...                      ...         ...              ...   \n",
      "499            96.0  2013-05-30 00:00:00.000        None             None   \n",
      "500            97.0  2013-05-30 00:00:00.000        None             None   \n",
      "501            31.0  2013-05-30 00:00:00.000        None             None   \n",
      "502            31.0  2013-05-30 00:00:00.000        None             None   \n",
      "503            31.0  2013-05-30 00:00:00.000        None             None   \n",
      "\n",
      "                                  rowguid             ModifiedDate  \n",
      "0    694215b7-08f7-4c0d-acb1-d734ba44c0c8  2014-02-08 10:01:36.827  \n",
      "1    58ae3c20-4f3a-4749-a7d4-d568806cc537  2014-02-08 10:01:36.827  \n",
      "2    9c21aed2-5bfa-4f18-bcb8-f11638dc2e4e  2014-02-08 10:01:36.827  \n",
      "3    ecfed6cb-51ff-49b5-b06c-7d8ac834db8b  2014-02-08 10:01:36.827  \n",
      "4    e73e9750-603b-4131-89f5-3dd15ed5ff80  2014-02-08 10:01:36.827  \n",
      "..                                    ...                      ...  \n",
      "499  71ab847f-d091-42d6-b735-7b0c2d82fc84  2014-02-08 10:01:36.827  \n",
      "500  230c47c5-08b2-4ce3-b706-69c0bdd62965  2014-02-08 10:01:36.827  \n",
      "501  44ce4802-409f-43ab-9b27-ca53421805be  2014-02-08 10:01:36.827  \n",
      "502  3de9a212-1d49-40b6-b10a-f564d981dbde  2014-02-08 10:01:36.827  \n",
      "503  ae638923-2b67-4679-b90e-abbab17dca31  2014-02-08 10:01:36.827  \n",
      "\n",
      "[504 rows x 25 columns]\n"
     ]
    }
   ],
   "source": [
    "# Create a temporary directory\n",
    "dataset_folder = tempfile.mkdtemp()\n",
    "\n",
    "# Get the database\n",
    "urllib.request.urlretrieve(\"https://github.com/FAU-CS6/KDD-Databases/raw/main/AdventureWorks/adventure-works.db\", dataset_folder + \"/adventure-works.db\")\n",
    "\n",
    "# Create connection to the adventure-works.db \n",
    "cnx = sqlite3.connect(dataset_folder + \"/adventure-works.db\")\n",
    "\n",
    "# Read a dataframe to test this connection\n",
    "df = pd.read_sql_query(\"SELECT ProductID, Name FROM Product\", cnx)\n",
    "\n",
    "print(df)"
   ]
  },
  {
   "cell_type": "markdown",
   "metadata": {},
   "source": [
    "## 2.1. Part One: Getting to Know Your Data\n",
    "\n",
    "<div class=\"alert alert-block alert-info\">\n",
    "TODO\n",
    "</div>"
   ]
  },
  {
   "cell_type": "markdown",
   "metadata": {},
   "source": [
    "## 2.2. Part Two: Preprocessing - Data cleaning & Data integration\n",
    "\n",
    "<div class=\"alert alert-block alert-info\">\n",
    "TODO\n",
    "</div>"
   ]
  },
  {
   "cell_type": "markdown",
   "metadata": {},
   "source": [
    "## 2.3. Part Three: Preprocessing - Data reduction, data transformation & data discretization\n",
    "\n",
    "<div class=\"alert alert-block alert-info\">\n",
    "TODO\n",
    "</div>"
   ]
  }
 ],
 "metadata": {
  "interpreter": {
   "hash": "916dbcbb3f70747c44a77c7bcd40155683ae19c65e1c03b4aa3499c5328201f1"
  },
  "kernelspec": {
   "display_name": "Python 3.9.2 64-bit",
   "language": "python",
   "name": "python3"
  },
  "language_info": {
   "codemirror_mode": {
    "name": "ipython",
    "version": 3
   },
   "file_extension": ".py",
   "mimetype": "text/x-python",
   "name": "python",
   "nbconvert_exporter": "python",
   "pygments_lexer": "ipython3",
   "version": "3.9.2"
  },
  "orig_nbformat": 4
 },
 "nbformat": 4,
 "nbformat_minor": 2
}
