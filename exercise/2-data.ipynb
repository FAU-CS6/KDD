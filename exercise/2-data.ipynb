{
 "cells": [
  {
   "cell_type": "markdown",
   "metadata": {
    "deletable": false,
    "tags": [
     "specification"
    ]
   },
   "source": [
    "# 2. Data analysis & Preprocessing\n",
    "\n",
    "In this exercise you will get to know the basics from the lectures \"3. Getting to Know Your Data\" and \"4. Preprocessing\" in their practical use and apply them yourself.\n",
    "\n",
    "Since this practice sheet is designed to be used in three sessions, it is roughly divided into three sections:\n",
    "\n",
    "- [2.1. Part One: Getting to Know Your Data](#2.1. Part One: Getting to Know Your Data)\n",
    "- [2.2. Part Two: Preprocessing - Data cleaning & data integration](#2.2. Part Two: Preprocessing - Data cleaning & Data integration)\n",
    "- [2.3. Part Three: Preprocessing - Data reduction, data transformation & data discretization](#2.3. Part Three: Preprocessing - Data reduction, data transformation & data discretization)\n",
    "\n",
    "Of course, depending on how quickly an exercise group progresses in the actual exercise, one of these parts may not be discussed entirely in the affected exercise, or parts of the subsequent part may already be addressed."
   ]
  },
  {
   "cell_type": "markdown",
   "metadata": {},
   "source": [
    "### Preparation: Import required libraries"
   ]
  },
  {
   "cell_type": "code",
   "execution_count": 1,
   "metadata": {
    "tags": [
     "specification"
    ]
   },
   "outputs": [],
   "source": [
    "# Import the required libraries\n",
    "import tempfile\n",
    "import sqlite3\n",
    "import urllib.request\n",
    "import pandas as pd"
   ]
  },
  {
   "cell_type": "markdown",
   "metadata": {
    "tags": [
     "specification"
    ]
   },
   "source": [
    "### Preparation: Download the datasets"
   ]
  },
  {
   "cell_type": "code",
   "execution_count": 6,
   "metadata": {
    "tags": [
     "specification"
    ]
   },
   "outputs": [],
   "source": [
    "# Create a temporary directory\n",
    "dataset_folder = tempfile.mkdtemp()\n",
    "\n",
    "# Get the database\n",
    "urllib.request.urlretrieve(\n",
    "    \"https://github.com/FAU-CS6/KDD-Databases/raw/main/AdventureWorks/adventure-works.db\",\n",
    "    dataset_folder + \"/adventure-works.db\",\n",
    ")\n",
    "\n",
    "# Open connection to the adventure-works.db\n",
    "connection = sqlite3.connect(dataset_folder + \"/adventure-works.db\")\n",
    "\n",
    "# Create the dataframe(s)\n",
    "order_dataframe = pd.read_sql_query(\n",
    "    \"SELECT * FROM Product JOIN PurchaseOrderDetail ON Product.ProductID = PurchaseOrderDetail.ProductID\",\n",
    "    connection,\n",
    ")"
   ]
  },
  {
   "cell_type": "markdown",
   "metadata": {
    "tags": [
     "specification"
    ]
   },
   "source": [
    "## 2.1. Part One: Getting to Know Your Data\n",
    "\n",
    "In this part you will apply the theoretical knowledge gained in the lecture \"Getting to Know Your Data\". In doing so, you will familiarize yourself step by step with the `order_dataframe` dataframe defined above."
   ]
  },
  {
   "cell_type": "markdown",
   "metadata": {
    "tags": [
     "specification"
    ]
   },
   "source": [
    "#### 2.1.1. Structure of the Dataframe\n",
    "\n",
    "Currently you don't know anything about the order dataframe except for the fact that it consists of the two tables `Product` and `PurchaseOrderDetail` of a database named `AdventureWorks`. \n",
    "In order to gather an initial understanding of the structure of the dataframe, it can be quite useful to first look at an excerpt of the dataframe.\n",
    "\n",
    "This is possible for example with the function `print()`.\n"
   ]
  },
  {
   "cell_type": "code",
   "execution_count": 3,
   "metadata": {
    "tags": [
     "specification"
    ]
   },
   "outputs": [
    {
     "name": "stdout",
     "output_type": "stream",
     "text": [
      "     ProductID                             Name ProductNumber  MakeFlag  \\\n",
      "0            1                  Adjustable Race       AR-5381         0   \n",
      "1          359               Thin-Jam Hex Nut 9       HJ-1213         0   \n",
      "2          360              Thin-Jam Hex Nut 10       HJ-1220         0   \n",
      "3          530                        Seat Post       SP-2981         0   \n",
      "4            4            Headset Ball Bearings       BE-2908         0   \n",
      "...        ...                              ...           ...       ...   \n",
      "8840       880          Hydration Pack - 70 oz.    HY-1023-70         0   \n",
      "8841       881   Short-Sleeve Classic Jersey, S     SJ-0194-S         0   \n",
      "8842       882   Short-Sleeve Classic Jersey, M     SJ-0194-M         0   \n",
      "8843       883   Short-Sleeve Classic Jersey, L     SJ-0194-L         0   \n",
      "8844       884  Short-Sleeve Classic Jersey, XL     SJ-0194-X         0   \n",
      "\n",
      "      FinishedGoodsFlag   Color  SafetyStockLevel  ReorderPoint  StandardCost  \\\n",
      "0                     0    None              1000           750        0.0000   \n",
      "1                     0    None              1000           750        0.0000   \n",
      "2                     0    None              1000           750        0.0000   \n",
      "3                     0    None               500           375        0.0000   \n",
      "4                     0    None               800           600        0.0000   \n",
      "...                 ...     ...               ...           ...           ...   \n",
      "8840                  1  Silver                 4             3       20.5663   \n",
      "8841                  1  Yellow                 4             3       41.5723   \n",
      "8842                  1  Yellow                 4             3       41.5723   \n",
      "8843                  1  Yellow                 4             3       41.5723   \n",
      "8844                  1  Yellow                 4             3       41.5723   \n",
      "\n",
      "      ListPrice  ...             ModifiedDate PurchaseOrderID  \\\n",
      "0          0.00  ...  2014-02-08 10:01:36.827               1   \n",
      "1          0.00  ...  2014-02-08 10:01:36.827               2   \n",
      "2          0.00  ...  2014-02-08 10:01:36.827               2   \n",
      "3          0.00  ...  2014-02-08 10:01:36.827               3   \n",
      "4          0.00  ...  2014-02-08 10:01:36.827               4   \n",
      "...         ...  ...                      ...             ...   \n",
      "8840      54.99  ...  2014-02-08 10:01:36.827            4011   \n",
      "8841      53.99  ...  2014-02-08 10:01:36.827            4012   \n",
      "8842      53.99  ...  2014-02-08 10:01:36.827            4012   \n",
      "8843      53.99  ...  2014-02-08 10:01:36.827            4012   \n",
      "8844      53.99  ...  2014-02-08 10:01:36.827            4012   \n",
      "\n",
      "     PurchaseOrderDetailID                  DueDate  OrderQty ProductID  \\\n",
      "0                        1  2011-04-30 00:00:00.000         4         1   \n",
      "1                        2  2011-04-30 00:00:00.000         3       359   \n",
      "2                        3  2011-04-30 00:00:00.000         3       360   \n",
      "3                        4  2011-04-30 00:00:00.000       550       530   \n",
      "4                        5  2011-04-30 00:00:00.000         3         4   \n",
      "...                    ...                      ...       ...       ...   \n",
      "8840                  8841  2014-07-24 00:00:00.000      1000       880   \n",
      "8841                  8842  2014-07-24 00:00:00.000      6000       881   \n",
      "8842                  8843  2014-07-24 00:00:00.000      6000       882   \n",
      "8843                  8844  2014-07-24 00:00:00.000      6000       883   \n",
      "8844                  8845  2014-07-24 00:00:00.000      6000       884   \n",
      "\n",
      "     UnitPrice ReceivedQty  RejectedQty             ModifiedDate  \n",
      "0      50.2600           3            0  2011-04-23 00:00:00.000  \n",
      "1      45.1200           3            0  2011-04-23 00:00:00.000  \n",
      "2      45.5805           3            0  2011-04-23 00:00:00.000  \n",
      "3      16.0860         550            0  2011-04-23 00:00:00.000  \n",
      "4      57.0255           2            1  2011-04-23 00:00:00.000  \n",
      "...        ...         ...          ...                      ...  \n",
      "8840   20.5600        1000            0  2015-08-12 12:25:46.470  \n",
      "8841   41.5700        6000            0  2015-08-12 12:25:46.483  \n",
      "8842   41.5700        6000            0  2015-08-12 12:25:46.483  \n",
      "8843   41.5700        6000            0  2015-08-12 12:25:46.483  \n",
      "8844   41.5700        6000            0  2015-08-12 12:25:46.483  \n",
      "\n",
      "[8845 rows x 34 columns]\n"
     ]
    }
   ],
   "source": [
    "# Print the order_dataframe\n",
    "print(order_dataframe)"
   ]
  },
  {
   "cell_type": "markdown",
   "metadata": {
    "tags": [
     "specification"
    ]
   },
   "source": [
    "However, as you can see, this method outputs the entire content of the dataframe without any specific layout. This can cause problems, especially with very large dataframes. Therefore, it is more common to use the dataframe member function `head()`.\n",
    "\n",
    "<div class=\"alert alert-block alert-warning\">\n",
    "<b>Task 1:</b> Use the <a href=\"https://pandas.pydata.org/docs/reference/api/pandas.DataFrame.head.html\">Pandas documentation about the function</a> to familiarize yourself with head(), then apply it to the order_dataframe so that the first 10 tuples are displayed.</div>"
   ]
  },
  {
   "cell_type": "code",
   "execution_count": null,
   "metadata": {
    "tags": [
     "student"
    ]
   },
   "outputs": [],
   "source": []
  },
  {
   "cell_type": "code",
   "execution_count": 4,
   "metadata": {
    "tags": [
     "solution"
    ]
   },
   "outputs": [
    {
     "data": {
      "text/html": [
       "<div>\n",
       "<style scoped>\n",
       "    .dataframe tbody tr th:only-of-type {\n",
       "        vertical-align: middle;\n",
       "    }\n",
       "\n",
       "    .dataframe tbody tr th {\n",
       "        vertical-align: top;\n",
       "    }\n",
       "\n",
       "    .dataframe thead th {\n",
       "        text-align: right;\n",
       "    }\n",
       "</style>\n",
       "<table border=\"1\" class=\"dataframe\">\n",
       "  <thead>\n",
       "    <tr style=\"text-align: right;\">\n",
       "      <th></th>\n",
       "      <th>ProductID</th>\n",
       "      <th>Name</th>\n",
       "      <th>ProductNumber</th>\n",
       "      <th>MakeFlag</th>\n",
       "      <th>FinishedGoodsFlag</th>\n",
       "      <th>Color</th>\n",
       "      <th>SafetyStockLevel</th>\n",
       "      <th>ReorderPoint</th>\n",
       "      <th>StandardCost</th>\n",
       "      <th>ListPrice</th>\n",
       "      <th>...</th>\n",
       "      <th>ModifiedDate</th>\n",
       "      <th>PurchaseOrderID</th>\n",
       "      <th>PurchaseOrderDetailID</th>\n",
       "      <th>DueDate</th>\n",
       "      <th>OrderQty</th>\n",
       "      <th>ProductID</th>\n",
       "      <th>UnitPrice</th>\n",
       "      <th>ReceivedQty</th>\n",
       "      <th>RejectedQty</th>\n",
       "      <th>ModifiedDate</th>\n",
       "    </tr>\n",
       "  </thead>\n",
       "  <tbody>\n",
       "    <tr>\n",
       "      <th>0</th>\n",
       "      <td>1</td>\n",
       "      <td>Adjustable Race</td>\n",
       "      <td>AR-5381</td>\n",
       "      <td>0</td>\n",
       "      <td>0</td>\n",
       "      <td>None</td>\n",
       "      <td>1000</td>\n",
       "      <td>750</td>\n",
       "      <td>0.0</td>\n",
       "      <td>0.0</td>\n",
       "      <td>...</td>\n",
       "      <td>2014-02-08 10:01:36.827</td>\n",
       "      <td>1</td>\n",
       "      <td>1</td>\n",
       "      <td>2011-04-30 00:00:00.000</td>\n",
       "      <td>4</td>\n",
       "      <td>1</td>\n",
       "      <td>50.2600</td>\n",
       "      <td>3</td>\n",
       "      <td>0</td>\n",
       "      <td>2011-04-23 00:00:00.000</td>\n",
       "    </tr>\n",
       "    <tr>\n",
       "      <th>1</th>\n",
       "      <td>359</td>\n",
       "      <td>Thin-Jam Hex Nut 9</td>\n",
       "      <td>HJ-1213</td>\n",
       "      <td>0</td>\n",
       "      <td>0</td>\n",
       "      <td>None</td>\n",
       "      <td>1000</td>\n",
       "      <td>750</td>\n",
       "      <td>0.0</td>\n",
       "      <td>0.0</td>\n",
       "      <td>...</td>\n",
       "      <td>2014-02-08 10:01:36.827</td>\n",
       "      <td>2</td>\n",
       "      <td>2</td>\n",
       "      <td>2011-04-30 00:00:00.000</td>\n",
       "      <td>3</td>\n",
       "      <td>359</td>\n",
       "      <td>45.1200</td>\n",
       "      <td>3</td>\n",
       "      <td>0</td>\n",
       "      <td>2011-04-23 00:00:00.000</td>\n",
       "    </tr>\n",
       "    <tr>\n",
       "      <th>2</th>\n",
       "      <td>360</td>\n",
       "      <td>Thin-Jam Hex Nut 10</td>\n",
       "      <td>HJ-1220</td>\n",
       "      <td>0</td>\n",
       "      <td>0</td>\n",
       "      <td>None</td>\n",
       "      <td>1000</td>\n",
       "      <td>750</td>\n",
       "      <td>0.0</td>\n",
       "      <td>0.0</td>\n",
       "      <td>...</td>\n",
       "      <td>2014-02-08 10:01:36.827</td>\n",
       "      <td>2</td>\n",
       "      <td>3</td>\n",
       "      <td>2011-04-30 00:00:00.000</td>\n",
       "      <td>3</td>\n",
       "      <td>360</td>\n",
       "      <td>45.5805</td>\n",
       "      <td>3</td>\n",
       "      <td>0</td>\n",
       "      <td>2011-04-23 00:00:00.000</td>\n",
       "    </tr>\n",
       "    <tr>\n",
       "      <th>3</th>\n",
       "      <td>530</td>\n",
       "      <td>Seat Post</td>\n",
       "      <td>SP-2981</td>\n",
       "      <td>0</td>\n",
       "      <td>0</td>\n",
       "      <td>None</td>\n",
       "      <td>500</td>\n",
       "      <td>375</td>\n",
       "      <td>0.0</td>\n",
       "      <td>0.0</td>\n",
       "      <td>...</td>\n",
       "      <td>2014-02-08 10:01:36.827</td>\n",
       "      <td>3</td>\n",
       "      <td>4</td>\n",
       "      <td>2011-04-30 00:00:00.000</td>\n",
       "      <td>550</td>\n",
       "      <td>530</td>\n",
       "      <td>16.0860</td>\n",
       "      <td>550</td>\n",
       "      <td>0</td>\n",
       "      <td>2011-04-23 00:00:00.000</td>\n",
       "    </tr>\n",
       "    <tr>\n",
       "      <th>4</th>\n",
       "      <td>4</td>\n",
       "      <td>Headset Ball Bearings</td>\n",
       "      <td>BE-2908</td>\n",
       "      <td>0</td>\n",
       "      <td>0</td>\n",
       "      <td>None</td>\n",
       "      <td>800</td>\n",
       "      <td>600</td>\n",
       "      <td>0.0</td>\n",
       "      <td>0.0</td>\n",
       "      <td>...</td>\n",
       "      <td>2014-02-08 10:01:36.827</td>\n",
       "      <td>4</td>\n",
       "      <td>5</td>\n",
       "      <td>2011-04-30 00:00:00.000</td>\n",
       "      <td>3</td>\n",
       "      <td>4</td>\n",
       "      <td>57.0255</td>\n",
       "      <td>2</td>\n",
       "      <td>1</td>\n",
       "      <td>2011-04-23 00:00:00.000</td>\n",
       "    </tr>\n",
       "    <tr>\n",
       "      <th>5</th>\n",
       "      <td>512</td>\n",
       "      <td>HL Road Rim</td>\n",
       "      <td>RM-R800</td>\n",
       "      <td>0</td>\n",
       "      <td>0</td>\n",
       "      <td>None</td>\n",
       "      <td>800</td>\n",
       "      <td>600</td>\n",
       "      <td>0.0</td>\n",
       "      <td>0.0</td>\n",
       "      <td>...</td>\n",
       "      <td>2014-02-08 10:01:36.827</td>\n",
       "      <td>5</td>\n",
       "      <td>6</td>\n",
       "      <td>2011-05-14 00:00:00.000</td>\n",
       "      <td>550</td>\n",
       "      <td>512</td>\n",
       "      <td>37.0860</td>\n",
       "      <td>550</td>\n",
       "      <td>0</td>\n",
       "      <td>2011-05-07 00:00:00.000</td>\n",
       "    </tr>\n",
       "    <tr>\n",
       "      <th>6</th>\n",
       "      <td>513</td>\n",
       "      <td>Touring Rim</td>\n",
       "      <td>RM-T801</td>\n",
       "      <td>0</td>\n",
       "      <td>0</td>\n",
       "      <td>None</td>\n",
       "      <td>800</td>\n",
       "      <td>600</td>\n",
       "      <td>0.0</td>\n",
       "      <td>0.0</td>\n",
       "      <td>...</td>\n",
       "      <td>2014-02-08 10:01:36.827</td>\n",
       "      <td>6</td>\n",
       "      <td>7</td>\n",
       "      <td>2011-05-14 00:00:00.000</td>\n",
       "      <td>550</td>\n",
       "      <td>513</td>\n",
       "      <td>26.5965</td>\n",
       "      <td>468</td>\n",
       "      <td>0</td>\n",
       "      <td>2011-05-07 00:00:00.000</td>\n",
       "    </tr>\n",
       "    <tr>\n",
       "      <th>7</th>\n",
       "      <td>317</td>\n",
       "      <td>LL Crankarm</td>\n",
       "      <td>CA-5965</td>\n",
       "      <td>0</td>\n",
       "      <td>0</td>\n",
       "      <td>Black</td>\n",
       "      <td>500</td>\n",
       "      <td>375</td>\n",
       "      <td>0.0</td>\n",
       "      <td>0.0</td>\n",
       "      <td>...</td>\n",
       "      <td>2014-02-08 10:01:36.827</td>\n",
       "      <td>7</td>\n",
       "      <td>8</td>\n",
       "      <td>2011-05-14 00:00:00.000</td>\n",
       "      <td>550</td>\n",
       "      <td>317</td>\n",
       "      <td>27.0585</td>\n",
       "      <td>550</td>\n",
       "      <td>0</td>\n",
       "      <td>2011-05-07 00:00:00.000</td>\n",
       "    </tr>\n",
       "    <tr>\n",
       "      <th>8</th>\n",
       "      <td>318</td>\n",
       "      <td>ML Crankarm</td>\n",
       "      <td>CA-6738</td>\n",
       "      <td>0</td>\n",
       "      <td>0</td>\n",
       "      <td>Black</td>\n",
       "      <td>500</td>\n",
       "      <td>375</td>\n",
       "      <td>0.0</td>\n",
       "      <td>0.0</td>\n",
       "      <td>...</td>\n",
       "      <td>2014-02-08 10:01:36.827</td>\n",
       "      <td>7</td>\n",
       "      <td>9</td>\n",
       "      <td>2011-05-14 00:00:00.000</td>\n",
       "      <td>550</td>\n",
       "      <td>318</td>\n",
       "      <td>33.5790</td>\n",
       "      <td>550</td>\n",
       "      <td>0</td>\n",
       "      <td>2011-05-07 00:00:00.000</td>\n",
       "    </tr>\n",
       "    <tr>\n",
       "      <th>9</th>\n",
       "      <td>319</td>\n",
       "      <td>HL Crankarm</td>\n",
       "      <td>CA-7457</td>\n",
       "      <td>0</td>\n",
       "      <td>0</td>\n",
       "      <td>Black</td>\n",
       "      <td>500</td>\n",
       "      <td>375</td>\n",
       "      <td>0.0</td>\n",
       "      <td>0.0</td>\n",
       "      <td>...</td>\n",
       "      <td>2014-02-08 10:01:36.827</td>\n",
       "      <td>7</td>\n",
       "      <td>10</td>\n",
       "      <td>2011-05-14 00:00:00.000</td>\n",
       "      <td>550</td>\n",
       "      <td>319</td>\n",
       "      <td>46.0635</td>\n",
       "      <td>550</td>\n",
       "      <td>0</td>\n",
       "      <td>2011-05-07 00:00:00.000</td>\n",
       "    </tr>\n",
       "  </tbody>\n",
       "</table>\n",
       "<p>10 rows × 34 columns</p>\n",
       "</div>"
      ],
      "text/plain": [
       "  ProductID                   Name ProductNumber  MakeFlag  FinishedGoodsFlag  \\\n",
       "0         1        Adjustable Race       AR-5381         0                  0   \n",
       "1       359     Thin-Jam Hex Nut 9       HJ-1213         0                  0   \n",
       "2       360    Thin-Jam Hex Nut 10       HJ-1220         0                  0   \n",
       "3       530              Seat Post       SP-2981         0                  0   \n",
       "4         4  Headset Ball Bearings       BE-2908         0                  0   \n",
       "5       512            HL Road Rim       RM-R800         0                  0   \n",
       "6       513            Touring Rim       RM-T801         0                  0   \n",
       "7       317            LL Crankarm       CA-5965         0                  0   \n",
       "8       318            ML Crankarm       CA-6738         0                  0   \n",
       "9       319            HL Crankarm       CA-7457         0                  0   \n",
       "\n",
       "   Color  SafetyStockLevel  ReorderPoint  StandardCost  ListPrice  ...  \\\n",
       "0   None              1000           750           0.0        0.0  ...   \n",
       "1   None              1000           750           0.0        0.0  ...   \n",
       "2   None              1000           750           0.0        0.0  ...   \n",
       "3   None               500           375           0.0        0.0  ...   \n",
       "4   None               800           600           0.0        0.0  ...   \n",
       "5   None               800           600           0.0        0.0  ...   \n",
       "6   None               800           600           0.0        0.0  ...   \n",
       "7  Black               500           375           0.0        0.0  ...   \n",
       "8  Black               500           375           0.0        0.0  ...   \n",
       "9  Black               500           375           0.0        0.0  ...   \n",
       "\n",
       "              ModifiedDate PurchaseOrderID PurchaseOrderDetailID  \\\n",
       "0  2014-02-08 10:01:36.827               1                     1   \n",
       "1  2014-02-08 10:01:36.827               2                     2   \n",
       "2  2014-02-08 10:01:36.827               2                     3   \n",
       "3  2014-02-08 10:01:36.827               3                     4   \n",
       "4  2014-02-08 10:01:36.827               4                     5   \n",
       "5  2014-02-08 10:01:36.827               5                     6   \n",
       "6  2014-02-08 10:01:36.827               6                     7   \n",
       "7  2014-02-08 10:01:36.827               7                     8   \n",
       "8  2014-02-08 10:01:36.827               7                     9   \n",
       "9  2014-02-08 10:01:36.827               7                    10   \n",
       "\n",
       "                   DueDate  OrderQty ProductID UnitPrice ReceivedQty  \\\n",
       "0  2011-04-30 00:00:00.000         4         1   50.2600           3   \n",
       "1  2011-04-30 00:00:00.000         3       359   45.1200           3   \n",
       "2  2011-04-30 00:00:00.000         3       360   45.5805           3   \n",
       "3  2011-04-30 00:00:00.000       550       530   16.0860         550   \n",
       "4  2011-04-30 00:00:00.000         3         4   57.0255           2   \n",
       "5  2011-05-14 00:00:00.000       550       512   37.0860         550   \n",
       "6  2011-05-14 00:00:00.000       550       513   26.5965         468   \n",
       "7  2011-05-14 00:00:00.000       550       317   27.0585         550   \n",
       "8  2011-05-14 00:00:00.000       550       318   33.5790         550   \n",
       "9  2011-05-14 00:00:00.000       550       319   46.0635         550   \n",
       "\n",
       "   RejectedQty             ModifiedDate  \n",
       "0            0  2011-04-23 00:00:00.000  \n",
       "1            0  2011-04-23 00:00:00.000  \n",
       "2            0  2011-04-23 00:00:00.000  \n",
       "3            0  2011-04-23 00:00:00.000  \n",
       "4            1  2011-04-23 00:00:00.000  \n",
       "5            0  2011-05-07 00:00:00.000  \n",
       "6            0  2011-05-07 00:00:00.000  \n",
       "7            0  2011-05-07 00:00:00.000  \n",
       "8            0  2011-05-07 00:00:00.000  \n",
       "9            0  2011-05-07 00:00:00.000  \n",
       "\n",
       "[10 rows x 34 columns]"
      ]
     },
     "execution_count": 4,
     "metadata": {},
     "output_type": "execute_result"
    }
   ],
   "source": [
    "# Use the head() function on the order_dataframe while setting the number of rows displayed to 10\n",
    "order_dataframe.head(10)"
   ]
  },
  {
   "cell_type": "markdown",
   "metadata": {
    "tags": [
     "specification"
    ]
   },
   "source": [
    "As you can see, the representation by head() is easier to read. However, head() also has its limitations. For example, in this case we do not get all columns displayed.\n",
    "\n",
    "<div class=\"alert alert-block alert-warning\">\n",
    "<b>Task 2:</b> All attributes of a data frame are stored in the <a href=\"https://pandas.pydata.org/docs/reference/api/pandas.DataFrame.columns.html\">member variable columns</a>. Use this information to output a list (without special formatting) of all attributes contained in order_dataframe.\n",
    "</div>"
   ]
  },
  {
   "cell_type": "code",
   "execution_count": null,
   "metadata": {
    "tags": [
     "student"
    ]
   },
   "outputs": [],
   "source": []
  },
  {
   "cell_type": "code",
   "execution_count": 5,
   "metadata": {
    "tags": [
     "solution"
    ]
   },
   "outputs": [
    {
     "name": "stdout",
     "output_type": "stream",
     "text": [
      "ProductID,Name,ProductNumber,MakeFlag,FinishedGoodsFlag,Color,SafetyStockLevel,ReorderPoint,StandardCost,ListPrice,Size,SizeUnitMeasureCode,WeightUnitMeasureCode,Weight,DaysToManufacture,ProductLine,Class,Style,ProductSubcategoryID,ProductModelID,SellStartDate,SellEndDate,DiscontinuedDate,rowguid,ModifiedDate,PurchaseOrderID,PurchaseOrderDetailID,DueDate,OrderQty,ProductID,UnitPrice,ReceivedQty,RejectedQty,ModifiedDate,"
     ]
    }
   ],
   "source": [
    "# There are many equal solutions, e.g.:\n",
    "# Solution 1: Iterate over the columns\n",
    "for column in order_dataframe.columns:\n",
    "    print(column, end=\",\")\n",
    "\n",
    "# Solution 2: List the columns\n",
    "# list(order_dataframe.columns)\n",
    "\n",
    "# And many more ..."
   ]
  },
  {
   "cell_type": "markdown",
   "metadata": {},
   "source": [
    "<div class=\"alert alert-block alert-info\">\n",
    "TODO\n",
    "</div>"
   ]
  },
  {
   "cell_type": "markdown",
   "metadata": {},
   "source": [
    "## 2.2. Part Two: Preprocessing - Data cleaning & Data integration\n",
    "\n",
    "<div class=\"alert alert-block alert-info\">\n",
    "TODO\n",
    "</div>"
   ]
  },
  {
   "cell_type": "markdown",
   "metadata": {},
   "source": [
    "## 2.3. Part Three: Preprocessing - Data reduction, data transformation & data discretization\n",
    "\n",
    "<div class=\"alert alert-block alert-info\">\n",
    "TODO\n",
    "</div>"
   ]
  }
 ],
 "metadata": {
  "celltoolbar": "Edit Metadata",
  "interpreter": {
   "hash": "916dbcbb3f70747c44a77c7bcd40155683ae19c65e1c03b4aa3499c5328201f1"
  },
  "kernelspec": {
   "display_name": "Python 3 (ipykernel)",
   "language": "python",
   "name": "python3"
  },
  "language_info": {
   "codemirror_mode": {
    "name": "ipython",
    "version": 3
   },
   "file_extension": ".py",
   "mimetype": "text/x-python",
   "name": "python",
   "nbconvert_exporter": "python",
   "pygments_lexer": "ipython3",
   "version": "3.10.2"
  }
 },
 "nbformat": 4,
 "nbformat_minor": 2
}
