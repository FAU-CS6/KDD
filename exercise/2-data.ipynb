{
 "cells": [
  {
   "cell_type": "markdown",
   "metadata": {},
   "source": [
    "# 2. Data analysis & Preprocessing\n",
    "\n",
    "In this exercise you will get to know the basics from the lectures \"3. Getting to Know Your Data\" and \"4. Preprocessing\" in their practical use and apply them yourself.\n",
    "\n",
    "Since this practice sheet is designed to be used in three sessions, it is roughly divided into three parts:\n",
    "\n",
    "- [2.1. Part One: Getting to Know Your Data](## 2.1. Part One: Getting to Know Your Data)\n",
    "- [2.2. Part Two: Preprocessing - Data cleaning & data integration](## 2.2. Part Two: Preprocessing - Data cleaning & Data integration)\n",
    "- [2.3. Part Three: Preprocessing - Data reduction, data transformation & data discretization](## 2.3. Part Three: Preprocessing - Data reduction, data transformation & data discretization)\n",
    "\n",
    "Of course, depending on how quickly an exercise group progresses in the actual exercise, one of these parts may not be discussed entirely in the affected exercise, or parts of the subsequent part may already be addressed."
   ]
  },
  {
   "cell_type": "markdown",
   "metadata": {},
   "source": [
    "### Preparation: Importing required libraries"
   ]
  },
  {
   "cell_type": "code",
   "execution_count": null,
   "metadata": {},
   "outputs": [],
   "source": [
    "import tempfile\n",
    "import git\n",
    "import sqlite3\n",
    "import glob\n",
    "import os\n",
    "import pandas as pd"
   ]
  },
  {
   "cell_type": "markdown",
   "metadata": {},
   "source": [
    "### Preparation: Download the datasets"
   ]
  },
  {
   "cell_type": "code",
   "execution_count": null,
   "metadata": {},
   "outputs": [],
   "source": [
    "# Create a temporary directory\n",
    "dataset_folder = tempfile.mkdtemp()\n",
    "\n",
    "# Clone the dataset Git repository\n",
    "git.Git(dataset_folder).clone(\"https://github.com/FAU-CS6/KDD-Databases.git\")\n",
    "\n",
    "print(print(glob.glob(dataset_folder+\"/KDD-Databases/AdventureWorks/*\")))\n",
    "print(dataset_folder+\"/KDD-Databases/AdventureWorks/adventure-works.db\")\n",
    "print(os.path.getsize(dataset_folder+\"/KDD-Databases/AdventureWorks/adventure-works.db\"))\n",
    "\n",
    "# Create connection to the adventure-works.db \n",
    "cnx = sqlite3.connect(dataset_folder+\"/KDD-Databases/AdventureWorks/adventure-works.db\")\n",
    "\n",
    "# Read a dataframe to test this connection\n",
    "df = pd.read_sql_query(\"SELECT * FROM Adress\", cnx)\n",
    "\n",
    "print(df)"
   ]
  },
  {
   "cell_type": "markdown",
   "metadata": {},
   "source": [
    "## 2.1. Part One: Getting to Know Your Data\n",
    "\n",
    "<div class=\"alert alert-block alert-info\">\n",
    "TODO\n",
    "</div>"
   ]
  },
  {
   "cell_type": "markdown",
   "metadata": {},
   "source": [
    "## 2.2. Part Two: Preprocessing - Data cleaning & Data integration\n",
    "\n",
    "<div class=\"alert alert-block alert-info\">\n",
    "TODO\n",
    "</div>"
   ]
  },
  {
   "cell_type": "markdown",
   "metadata": {},
   "source": [
    "## 2.3. Part Three: Preprocessing - Data reduction, data transformation & data discretization\n",
    "\n",
    "<div class=\"alert alert-block alert-info\">\n",
    "TODO\n",
    "</div>"
   ]
  }
 ],
 "metadata": {
  "interpreter": {
   "hash": "916dbcbb3f70747c44a77c7bcd40155683ae19c65e1c03b4aa3499c5328201f1"
  },
  "kernelspec": {
   "display_name": "Python 3.9.2 64-bit",
   "language": "python",
   "name": "python3"
  },
  "language_info": {
   "codemirror_mode": {
    "name": "ipython",
    "version": 3
   },
   "file_extension": ".py",
   "mimetype": "text/x-python",
   "name": "python",
   "nbconvert_exporter": "python",
   "pygments_lexer": "ipython3",
   "version": "3.9.2"
  },
  "orig_nbformat": 4
 },
 "nbformat": 4,
 "nbformat_minor": 2
}
