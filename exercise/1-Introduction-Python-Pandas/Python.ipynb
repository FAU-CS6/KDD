{
 "cells": [
  {
   "cell_type": "markdown",
   "metadata": {
    "tags": [
     "specification"
    ]
   },
   "source": [
    "# Exercise 2: Get to know Python "
   ]
  },
  {
   "cell_type": "markdown",
   "metadata": {
    "tags": [
     "specification"
    ]
   },
   "source": [
    "Python is a high-level, general-purpose programming language that is highly flexible. For example, Python can be used effortlessly for simple mathematical calculations.\n",
    "\n",
    "<div class=\"alert alert-info\" role=\"alert\">\n",
    "\n",
    "**Task 1**:\n",
    "    \n",
    "In the box below, enter a simple mathematical calculation (such as `1+2`) and press the execute button.\n",
    "\n",
    "</div>"
   ]
  },
  {
   "cell_type": "code",
   "execution_count": null,
   "metadata": {
    "tags": [
     "student"
    ]
   },
   "outputs": [],
   "source": []
  },
  {
   "cell_type": "code",
   "execution_count": null,
   "metadata": {
    "tags": [
     "solution"
    ]
   },
   "outputs": [],
   "source": [
    "1 + 2"
   ]
  },
  {
   "cell_type": "markdown",
   "metadata": {
    "tags": [
     "specification"
    ]
   },
   "source": [
    "Values can be defined elsewhere, rather than directly in the calculation. The placeholders for these values are called `variables`.\n",
    "\n",
    "<div class=\"alert alert-info\" role=\"alert\">\n",
    "\n",
    "**Task 2**:\n",
    "    \n",
    "Add a line to the code below where the variables `x` and `y` are added together, and execute the code.\n",
    "\n",
    "</div>"
   ]
  },
  {
   "cell_type": "code",
   "execution_count": null,
   "metadata": {
    "tags": [
     "student"
    ]
   },
   "outputs": [],
   "source": [
    "x = 1\n",
    "y = 2"
   ]
  },
  {
   "cell_type": "code",
   "execution_count": null,
   "metadata": {
    "tags": [
     "solution"
    ]
   },
   "outputs": [],
   "source": [
    "x = 1\n",
    "y = 2\n",
    "\n",
    "x + y"
   ]
  },
  {
   "cell_type": "markdown",
   "metadata": {
    "tags": [
     "specification"
    ]
   },
   "source": [
    "It is important to note that variables are always internally associated with a so-called data type. Thus, in addition to variables containing numerical values, there are also variables that contain text."
   ]
  },
  {
   "cell_type": "code",
   "execution_count": null,
   "metadata": {
    "tags": [
     "specification"
    ]
   },
   "outputs": [],
   "source": [
    "text = \"Woof\"  # Variable containing a text\n",
    "number = 1  # Variable containing a number"
   ]
  },
  {
   "cell_type": "markdown",
   "metadata": {
    "tags": [
     "specification"
    ]
   },
   "source": [
    "It is important to know the data type of a variable, as different operations may function differently or may not work at all with different data types.\n",
    "\n",
    "<div class=\"alert alert-info\" role=\"alert\">\n",
    "\n",
    "**Task 3**:\n",
    "    \n",
    "Execute the code examples provided below and describe how the `+` operation behaves with the different data types.\n",
    "\n",
    "</div>"
   ]
  },
  {
   "cell_type": "code",
   "execution_count": null,
   "metadata": {
    "tags": [
     "student"
    ]
   },
   "outputs": [],
   "source": [
    "number + number"
   ]
  },
  {
   "cell_type": "code",
   "execution_count": null,
   "metadata": {
    "tags": [
     "solution"
    ]
   },
   "outputs": [],
   "source": [
    "number + number  # Addition"
   ]
  },
  {
   "cell_type": "code",
   "execution_count": null,
   "metadata": {
    "tags": [
     "student"
    ]
   },
   "outputs": [],
   "source": [
    "text + text"
   ]
  },
  {
   "cell_type": "code",
   "execution_count": null,
   "metadata": {
    "tags": [
     "solution"
    ]
   },
   "outputs": [],
   "source": [
    "text + text  # Concatenation"
   ]
  },
  {
   "cell_type": "code",
   "execution_count": null,
   "metadata": {
    "tags": [
     "student"
    ]
   },
   "outputs": [],
   "source": [
    "text + number"
   ]
  },
  {
   "cell_type": "code",
   "execution_count": null,
   "metadata": {
    "tags": [
     "solution"
    ]
   },
   "outputs": [],
   "source": [
    "text + number  # Error"
   ]
  },
  {
   "cell_type": "code",
   "execution_count": null,
   "metadata": {
    "tags": [
     "student"
    ]
   },
   "outputs": [],
   "source": [
    "number + text"
   ]
  },
  {
   "cell_type": "code",
   "execution_count": null,
   "metadata": {
    "tags": [
     "solution"
    ]
   },
   "outputs": [],
   "source": [
    "number + text  # Error"
   ]
  },
  {
   "cell_type": "markdown",
   "metadata": {
    "tags": [
     "specification"
    ]
   },
   "source": [
    "To state that `number` is of the data type Number and `text` is of the data type Text, however, is a simplification.\n",
    "\n",
    "<div class=\"alert alert-info\" role=\"alert\">\n",
    "\n",
    "**Task 4**:\n",
    "    \n",
    "Execute the code examples provided below and get to know the true data types of `number` and `text`.\n",
    "\n",
    "</div>"
   ]
  },
  {
   "cell_type": "code",
   "execution_count": null,
   "metadata": {
    "tags": [
     "student"
    ]
   },
   "outputs": [],
   "source": [
    "print(\"Variable text =\", text, \"is of type\", type(text))\n",
    "print(\"Variable number =\", number, \"is of type\", type(number))"
   ]
  },
  {
   "cell_type": "code",
   "execution_count": null,
   "metadata": {
    "tags": [
     "solution"
    ]
   },
   "outputs": [],
   "source": [
    "print(\n",
    "    \"Variable text =\", text, \"is of type\", type(text)\n",
    ")  # Datatype is \"str\" (short for string)\n",
    "print(\n",
    "    \"Variable number =\", number, \"is of type\", type(number)\n",
    ")  # Datatype is \"int\" (short for integer)"
   ]
  },
  {
   "cell_type": "markdown",
   "metadata": {
    "tags": [
     "specification"
    ]
   },
   "source": [
    "In addition to these data types, Python directly offers several others.\n",
    "\n",
    "<div class=\"alert alert-info\" role=\"alert\">\n",
    "\n",
    "**Task 5**:\n",
    "    \n",
    "Use the [Python documentation](https://docs.python.org/3.8/library/stdtypes.html) to find out which numeric data types other than `int` are built into Python. Enter an example of each as code.\n",
    "\n",
    "</div>"
   ]
  },
  {
   "cell_type": "code",
   "execution_count": null,
   "metadata": {
    "tags": [
     "student"
    ]
   },
   "outputs": [],
   "source": []
  },
  {
   "cell_type": "code",
   "execution_count": null,
   "metadata": {
    "tags": [
     "solution"
    ]
   },
   "outputs": [],
   "source": [
    "float_number = 1.0  # Variable containing a float number\n",
    "print(\"Variable float_number =\", float_number, \"is of type\", type(float_number))\n",
    "\n",
    "complex_number = 1 + 2j  # Variable containing a complex number\n",
    "print(\"Variable complex_number =\", complex_number, \"is of type\", type(complex_number))"
   ]
  },
  {
   "cell_type": "markdown",
   "metadata": {
    "tags": [
     "specification"
    ]
   },
   "source": [
    "In Python, numerical data types are also utilized to store truth values.\n",
    "\n",
    "<div class=\"alert alert-info\" role=\"alert\">\n",
    "\n",
    "**Task 6**:\n",
    "    \n",
    "Determine which data type is used for the truth values listed below. Refer to the [Python documentation](https://docs.python.org/3.8/library/stdtypes.html) to understand why this data type is also considered a numerical data type.\n",
    "\n",
    "</div>"
   ]
  },
  {
   "cell_type": "code",
   "execution_count": null,
   "metadata": {
    "tags": [
     "student"
    ]
   },
   "outputs": [],
   "source": [
    "truth_value_true = True\n",
    "truth_value_false = False"
   ]
  },
  {
   "cell_type": "code",
   "execution_count": null,
   "metadata": {
    "tags": [
     "solution"
    ]
   },
   "outputs": [],
   "source": [
    "truth_value_true = True\n",
    "truth_value_false = False\n",
    "\n",
    "print(\n",
    "    \"Variable truth_value_true =\",\n",
    "    truth_value_true,\n",
    "    \"is of type\",\n",
    "    type(truth_value_true),\n",
    ")\n",
    "print(\n",
    "    \"Variable truth_value_false =\",\n",
    "    truth_value_false,\n",
    "    \"is of type\",\n",
    "    type(truth_value_false),\n",
    ")\n",
    "# Boolean is a special case of integer (https://docs.python.org/3.8/library/functions.html?highlight=bool#bool)"
   ]
  },
  {
   "cell_type": "markdown",
   "metadata": {
    "tags": [
     "specification"
    ]
   },
   "source": [
    "In addition to individual values, a variable can also store multiple values.\n",
    "\n",
    "<div class=\"alert alert-info\" role=\"alert\">\n",
    "\n",
    "**Task 7**:\n",
    "    \n",
    "Take a look at the data types `list`, `tuple`, `set`, and `dictionary` in the Python documentation. Provide a brief example for each data type below and explain the differences between these data types.\n",
    "\n",
    "</div>"
   ]
  },
  {
   "cell_type": "code",
   "execution_count": null,
   "metadata": {
    "tags": [
     "student"
    ]
   },
   "outputs": [],
   "source": []
  },
  {
   "cell_type": "code",
   "execution_count": null,
   "metadata": {
    "tags": [
     "solution"
    ]
   },
   "outputs": [],
   "source": [
    "# List\n",
    "list_variable = [1, 2, 3]\n",
    "# A list is a collection which is ordered and changeable. It allows duplicate members. Different data types are allowed.\n",
    "\n",
    "# Tuple\n",
    "tuple_variable = (1, 2, 3)\n",
    "# A tuple is a collection which is ordered and unchangeable. It allows duplicate members. Different data types are allowed.\n",
    "\n",
    "# Set\n",
    "set_variable = {1, 2, 3}\n",
    "# A set is a collection which is unordered and unindexed. No duplicate members. Different data types are allowed.\n",
    "\n",
    "# Dictionary\n",
    "dictionary_variable = {\"key1\": 1, \"key2\": 2, \"key3\": 3}\n",
    "# A dictionary is a collection which is unordered, changeable and indexed. No duplicate members. Different data types are allowed."
   ]
  },
  {
   "cell_type": "markdown",
   "metadata": {
    "tags": [
     "specification"
    ]
   },
   "source": [
    "Depending on which data type has been selected, it may also be possible to access individual values. \n",
    "\n",
    "<div class=\"alert alert-info\" role=\"alert\">\n",
    "\n",
    "**Task 8**:\n",
    "    \n",
    "Access the value `42` in each of the following variables. \n",
    "\n",
    "</div>"
   ]
  },
  {
   "cell_type": "code",
   "execution_count": null,
   "metadata": {
    "tags": [
     "student"
    ]
   },
   "outputs": [],
   "source": [
    "# Variable\n",
    "variable_1 = [23, 42, 12]"
   ]
  },
  {
   "cell_type": "code",
   "execution_count": null,
   "metadata": {
    "tags": [
     "solution"
    ]
   },
   "outputs": [],
   "source": [
    "# Variable\n",
    "variable_1 = [23, 42, 12]\n",
    "\n",
    "# Access the value \"42\"\n",
    "variable_1[1]"
   ]
  },
  {
   "cell_type": "code",
   "execution_count": null,
   "metadata": {
    "tags": [
     "student"
    ]
   },
   "outputs": [],
   "source": [
    "# Variable\n",
    "variable_2 = (42, 11, 1)"
   ]
  },
  {
   "cell_type": "code",
   "execution_count": null,
   "metadata": {
    "tags": [
     "solution"
    ]
   },
   "outputs": [],
   "source": [
    "# Variable\n",
    "variable_2 = (42, 11, 1)\n",
    "\n",
    "# Access the value \"42\"\n",
    "variable_2[0]"
   ]
  },
  {
   "cell_type": "code",
   "execution_count": null,
   "metadata": {
    "tags": [
     "student"
    ]
   },
   "outputs": [],
   "source": [
    "# Variable\n",
    "variable_3 = {\"best_grade\": 1, \"answer_to_everything\": 42}"
   ]
  },
  {
   "cell_type": "code",
   "execution_count": null,
   "metadata": {
    "tags": [
     "solution"
    ]
   },
   "outputs": [],
   "source": [
    "# Variable\n",
    "variable_3 = {\"best_grade\": 1, \"answer_to_everything\": 42}\n",
    "\n",
    "# Access the value \"42\"\n",
    "variable_3[\"answer_to_everything\"]"
   ]
  },
  {
   "cell_type": "code",
   "execution_count": null,
   "metadata": {
    "tags": [
     "student"
    ]
   },
   "outputs": [],
   "source": [
    "# Variable\n",
    "variable_4 = [{\"best_grade\": 1, \"worst_grade\": 6}, {\"answer_to_everything\": 42}]"
   ]
  },
  {
   "cell_type": "code",
   "execution_count": null,
   "metadata": {
    "tags": [
     "solution"
    ]
   },
   "outputs": [],
   "source": [
    "# Variable\n",
    "variable_4 = [{\"best_grade\": 1, \"worst_grade\": 6}, {\"answer_to_everything\": 42}]\n",
    "\n",
    "# Access the value \"42\"\n",
    "variable_4[1][\"answer_to_everything\"]"
   ]
  },
  {
   "cell_type": "markdown",
   "metadata": {
    "tags": [
     "specification"
    ]
   },
   "source": [
    "<div class=\"alert alert-info\" role=\"alert\">\n",
    "\n",
    "**Task 9**:\n",
    "    \n",
    "Why does the following access not work?\n",
    "\n",
    "</div>"
   ]
  },
  {
   "cell_type": "code",
   "execution_count": null,
   "metadata": {
    "tags": [
     "student"
    ]
   },
   "outputs": [],
   "source": [
    "# Variable\n",
    "variable_5 = {1, 6, 42}\n",
    "\n",
    "# Access the value \"42\"\n",
    "variable_5[2]"
   ]
  },
  {
   "cell_type": "code",
   "execution_count": null,
   "metadata": {
    "tags": [
     "solution"
    ]
   },
   "outputs": [],
   "source": [
    "# Variable\n",
    "variable_5 = {1, 6, 42}\n",
    "\n",
    "# Access the value \"42\"\n",
    "variable_5[2]\n",
    "\n",
    "# Sets are unordered, so you cannot access items by index."
   ]
  },
  {
   "cell_type": "markdown",
   "metadata": {
    "tags": [
     "specification"
    ]
   },
   "source": [
    "<div class=\"alert alert-info\" role=\"alert\">\n",
    "\n",
    "**Task 10**:\n",
    "    \n",
    "Refer to the Python documentation and search for a method to at least verify the presence of the value `42` in the set. The output should be a boolean (`True`/`False`).\n",
    "\n",
    "</div>"
   ]
  },
  {
   "cell_type": "code",
   "execution_count": null,
   "metadata": {
    "tags": [
     "student"
    ]
   },
   "outputs": [],
   "source": []
  },
  {
   "cell_type": "code",
   "execution_count": null,
   "metadata": {
    "tags": [
     "solution"
    ]
   },
   "outputs": [],
   "source": [
    "42 in variable_5"
   ]
  },
  {
   "cell_type": "markdown",
   "metadata": {
    "tags": [
     "specification"
    ]
   },
   "source": [
    "In Python, there are control structures use boolean values to distinguish between different behaviors.\n",
    "\n",
    "<div class=\"alert alert-info\" role=\"alert\">\n",
    "\n",
    "**Task 11**:\n",
    "    \n",
    "Refer to the [Python documentation](https://docs.python.org/3.8/tutorial/controlflow.html) to understand `if` statements. \n",
    "\n",
    "Modify the the code below to print the statements only when the corresponding situation has occurred.\n",
    "\n",
    "</div>"
   ]
  },
  {
   "cell_type": "code",
   "execution_count": null,
   "metadata": {
    "tags": [
     "student"
    ]
   },
   "outputs": [],
   "source": [
    "variable_6 = {1,2,3,4,5}\n",
    "\n",
    "if #???\n",
    "    print(\"42 is in the set\")\n",
    "elif #???\n",
    "    print(\"42 is not in the set, but there is a 5\")\n",
    "else #???\n",
    "    print(\"Neither 42 nor 5 are in the set\")\n"
   ]
  },
  {
   "cell_type": "code",
   "execution_count": null,
   "metadata": {
    "tags": [
     "solution"
    ]
   },
   "outputs": [],
   "source": [
    "variable_6 = {1, 2, 3, 4, 5}\n",
    "\n",
    "if 42 in variable_6:\n",
    "    print(\"42 is in the set\")\n",
    "elif 5 in variable_6:\n",
    "    print(\"42 is not in the set, but there is a 5\")\n",
    "else:\n",
    "    print(\"Neither 42 nor 5 are in the set\")"
   ]
  },
  {
   "cell_type": "markdown",
   "metadata": {
    "tags": [
     "specification"
    ]
   },
   "source": [
    "Mathematical comparison operators also return booleans that can be used in control structures.\n",
    "\n",
    "<div class=\"alert alert-info\" role=\"alert\">\n",
    "\n",
    "**Task 12**:\n",
    "    \n",
    "Refer to the [Python documentation](https://docs.python.org/3.8/reference/compound_stmts.html#while) to understand `while` statements. \n",
    "\n",
    "Modify the code below, to add `1` to the counter as long as it is below the count of `6`.\n",
    "\n",
    "</div>"
   ]
  },
  {
   "cell_type": "code",
   "execution_count": null,
   "metadata": {
    "tags": [
     "student"
    ]
   },
   "outputs": [],
   "source": [
    "counter = 0\n",
    "\n",
    "while #???\n",
    "    print(\"Counter is at \", counter)\n",
    "    counter += 1\n",
    "\n",
    "print (\"Final count is\", counter)"
   ]
  },
  {
   "cell_type": "code",
   "execution_count": null,
   "metadata": {
    "tags": [
     "solution"
    ]
   },
   "outputs": [],
   "source": [
    "counter = 0\n",
    "\n",
    "while counter < 6:\n",
    "    print(\"Counter is at \", counter)\n",
    "    counter += 1\n",
    "\n",
    "print(\"Final count is\", counter)"
   ]
  },
  {
   "cell_type": "markdown",
   "metadata": {
    "tags": [
     "specification"
    ]
   },
   "source": [
    "A control structure that does not directly utilize booleans is the `for` loop. \n",
    "\n",
    "<div class=\"alert alert-info\" role=\"alert\">\n",
    "\n",
    "**Task 13**:\n",
    "    \n",
    "Refer to the [Python documentation](https://docs.python.org/3.8/tutorial/controlflow.html) to understand `for` statements. \n",
    "\n",
    "Write a `for`-loop printing all the values within the given `set_variable`.\n",
    "\n",
    "</div>"
   ]
  },
  {
   "cell_type": "code",
   "execution_count": null,
   "metadata": {
    "tags": [
     "student"
    ]
   },
   "outputs": [],
   "source": [
    "set_variable = {1, 4, 7, 9, 11}"
   ]
  },
  {
   "cell_type": "code",
   "execution_count": null,
   "metadata": {
    "tags": [
     "solution"
    ]
   },
   "outputs": [],
   "source": [
    "set_variable = {1, 4, 7, 9, 11}\n",
    "\n",
    "for value in set_variable:\n",
    "    print(\"Value is\", value)"
   ]
  },
  {
   "cell_type": "markdown",
   "metadata": {
    "tags": [
     "specification"
    ]
   },
   "source": [
    "When there is a task that needs to be performed repeatedly, it is advisable to encapsulate this task within a function.\n",
    "\n",
    "<div class=\"alert alert-info\" role=\"alert\">\n",
    "\n",
    "**Task 14**:\n",
    "    \n",
    "Take a look at [W3Schools introduction of Python functions](https://www.w3schools.com/python/python_functions.asp) and add a function call to the code below. \n",
    "\n",
    "</div>"
   ]
  },
  {
   "cell_type": "code",
   "execution_count": null,
   "metadata": {
    "tags": [
     "student"
    ]
   },
   "outputs": [],
   "source": [
    "def absolute_value(x):\n",
    "    # If x is negative, reverse the sign\n",
    "    if x < 0:\n",
    "        return -x\n",
    "    else:\n",
    "        return x"
   ]
  },
  {
   "cell_type": "code",
   "execution_count": null,
   "metadata": {
    "tags": [
     "solution"
    ]
   },
   "outputs": [],
   "source": [
    "def absolute_value(x):\n",
    "    # If x is negative, reverse the sign\n",
    "    if x < 0:\n",
    "        return -x\n",
    "    else:\n",
    "        return x\n",
    "\n",
    "\n",
    "absolute_value(-100)"
   ]
  },
  {
   "cell_type": "markdown",
   "metadata": {
    "tags": [
     "specification"
    ]
   },
   "source": [
    "Functions within a Jupyter Notebook can also be used in other code cells, as long as these cells are executed after the cell that defines the function.\n",
    "\n",
    "<div class=\"alert alert-info\" role=\"alert\">\n",
    "\n",
    "**Task 15**:\n",
    "    \n",
    "Try what happens if you call `absolute_value` with a string as parameter.\n",
    "\n",
    "</div>"
   ]
  },
  {
   "cell_type": "code",
   "execution_count": null,
   "metadata": {
    "tags": [
     "student"
    ]
   },
   "outputs": [],
   "source": []
  },
  {
   "cell_type": "code",
   "execution_count": null,
   "metadata": {
    "tags": [
     "solution"
    ]
   },
   "outputs": [],
   "source": [
    "absolute_value(\"Test\")  # Error"
   ]
  },
  {
   "cell_type": "markdown",
   "metadata": {
    "tags": [
     "specification"
    ]
   },
   "source": [
    "Best practice dictates that at the beginning of a function, one should always check whether a variable has the correct data type and, if necessary, whether it falls within the expected specifications (for example, if only values greater than 1000 are anticipated).\n",
    "\n",
    "<div class=\"alert alert-info\" role=\"alert\">\n",
    "\n",
    "**Task 16**:\n",
    "    \n",
    "Augment the function `absolute_value` with a check that verifies whether the input is an `int` or a `float`. In all other cases, a `ValueError` ([Python documentation](https://docs.python.org/3.8/library/exceptions.html?highlight=valueerror#ValueError)) should be thrown.\n",
    "\n",
    "</div>"
   ]
  },
  {
   "cell_type": "code",
   "execution_count": null,
   "metadata": {
    "tags": [
     "student"
    ]
   },
   "outputs": [],
   "source": [
    "def absolute_value(x):\n",
    "    # If x is not a int or float, throw a ValueError\n",
    "    # ???\n",
    "\n",
    "    # If x is negative, reverse the sign\n",
    "    if x < 0:\n",
    "        return -x\n",
    "    else:\n",
    "        return x"
   ]
  },
  {
   "cell_type": "code",
   "execution_count": null,
   "metadata": {
    "tags": [
     "solution"
    ]
   },
   "outputs": [],
   "source": [
    "def absolute_value(x):\n",
    "    # If x is not a int or float, throw an error\n",
    "    if type(x) not in [int, float]:\n",
    "        raise ValueError(\"x must be an int or a float\")\n",
    "\n",
    "    # If x is negative, reverse the sign\n",
    "    if x < 0:\n",
    "        return -x\n",
    "    else:\n",
    "        return x"
   ]
  },
  {
   "cell_type": "markdown",
   "metadata": {
    "tags": [
     "specification"
    ]
   },
   "source": [
    "Another important structure in Python consists of classes. Classes essentially act as blueprints for objects, possessing variables and functions uniquely associated with these objects.\n",
    "\n",
    "When there is a task that needs to be performed repeatedly, it is advisable to encapsulate this task within a function.\n",
    "\n",
    "<div class=\"alert alert-info\" role=\"alert\">\n",
    "\n",
    "**Task 17**:\n",
    "    \n",
    "Take a look at [W3Schools introduction of Python classes](https://www.w3schools.com/python/python_classes.asp) and use the class `Car` to create a `BMUU` (Brand) `Striker` (Model) with a maximum speed of `175` km/h.\n",
    "\n",
    "After you have created the object, calculate the time required to travel `100` km if traveling a maximum speed. Use `travel_time_at_max_speed`.\n",
    "\n",
    "</div>"
   ]
  },
  {
   "cell_type": "code",
   "execution_count": null,
   "metadata": {
    "tags": [
     "student"
    ]
   },
   "outputs": [],
   "source": [
    "class Car:\n",
    "    def __init__(self, brand, model, max_speed):\n",
    "        # If brand is not a string, throw an error\n",
    "        if type(brand) != str:\n",
    "            raise ValueError(\"brand must be a string\")\n",
    "\n",
    "        # If model is not a string, throw an error\n",
    "        if type(model) != str:\n",
    "            raise ValueError(\"model must be a string\")\n",
    "\n",
    "        # If max_speed is not a int or float, throw an error\n",
    "        if type(max_speed) not in [int, float]:\n",
    "            raise ValueError(\"max_speed must be an int or a float\")\n",
    "\n",
    "        self.brand = brand\n",
    "        self.model = model\n",
    "        self.max_speed = max_speed  # In km/h\n",
    "\n",
    "    def travel_time_at_max_speed(\n",
    "        self, distance\n",
    "    ):  # Distance is in km, travel time is in hours\n",
    "        # If distance is not a int or float, throw an error\n",
    "        if type(distance) not in [int, float]:\n",
    "            raise ValueError(\"distance must be an int or a float\")\n",
    "\n",
    "        return distance / self.max_speed"
   ]
  },
  {
   "cell_type": "code",
   "execution_count": null,
   "metadata": {
    "tags": [
     "solution"
    ]
   },
   "outputs": [],
   "source": [
    "class Car:\n",
    "    def __init__(self, brand, model, max_speed):\n",
    "        # If brand is not a string, throw an error\n",
    "        if type(brand) != str:\n",
    "            raise ValueError(\"brand must be a string\")\n",
    "\n",
    "        # If model is not a string, throw an error\n",
    "        if type(model) != str:\n",
    "            raise ValueError(\"model must be a string\")\n",
    "\n",
    "        # If max_speed is not a int or float, throw an error\n",
    "        if type(max_speed) not in [int, float]:\n",
    "            raise ValueError(\"max_speed must be an int or a float\")\n",
    "\n",
    "        self.brand = brand\n",
    "        self.model = model\n",
    "        self.max_speed = max_speed  # In km/h\n",
    "\n",
    "    def travel_time_at_max_speed(\n",
    "        self, distance\n",
    "    ):  # Distance is in km, travel time is in hours\n",
    "        # If distance is not a int or float, throw an error\n",
    "        if type(distance) not in [int, float]:\n",
    "            raise ValueError(\"distance must be an int or a float\")\n",
    "\n",
    "        return distance / self.max_speed\n",
    "\n",
    "\n",
    "bmuu_striker = Car(\"BMUU\", \"Striker\", 175)\n",
    "print(bmuu_striker.travel_time_at_max_speed(100))"
   ]
  },
  {
   "cell_type": "markdown",
   "metadata": {
    "tags": [
     "specification"
    ]
   },
   "source": [
    "Of course, Python is capable of much more, but this should suffice as an introduction to Python for now.\n",
    "\n",
    "However, over the course of the semester, you will most likely require additional constructs. Remember the [Python documentation](https://docs.python.org/3.8/library/index.html) and [W3Schools](https://www.w3schools.com/python/default.asp). It is less important to know constructs by heart immediately than to know where to look them up to understand them."
   ]
  }
 ],
 "metadata": {
  "celltoolbar": "Tags",
  "interpreter": {
   "hash": "d634d9120e07fcb10ea4e2485f922980f44c65c5790b35d436a0dd63f2b90915"
  },
  "kernelspec": {
   "display_name": "Python 3 (ipykernel)",
   "language": "python",
   "name": "python3"
  },
  "language_info": {
   "codemirror_mode": {
    "name": "ipython",
    "version": 3
   },
   "file_extension": ".py",
   "mimetype": "text/x-python",
   "name": "python",
   "nbconvert_exporter": "python",
   "pygments_lexer": "ipython3",
   "version": "3.11.5"
  }
 },
 "nbformat": 4,
 "nbformat_minor": 2
}
