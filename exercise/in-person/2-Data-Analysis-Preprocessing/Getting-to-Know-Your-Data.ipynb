{
 "cells": [
  {
   "cell_type": "markdown",
   "metadata": {
    "tags": [
     "specification"
    ]
   },
   "source": [
    "# Exercise 1: Getting to Know Your Data\n",
    "\n",
    "For this exercise, we require a series of libraries. They are imported by executing the following code cell."
   ]
  },
  {
   "cell_type": "code",
   "execution_count": null,
   "metadata": {
    "tags": [
     "specification"
    ]
   },
   "outputs": [],
   "source": [
    "# Import required libraries\n",
    "import os\n",
    "import tempfile\n",
    "import sqlite3\n",
    "import urllib.request\n",
    "import squarify\n",
    "import pywaffle\n",
    "import pandas as pd\n",
    "import matplotlib.pyplot as plt\n",
    "import plotly.express as px\n",
    "import plotly.graph_objects as go\n",
    "import seaborn as sns"
   ]
  },
  {
   "cell_type": "markdown",
   "metadata": {
    "tags": [
     "specification"
    ]
   },
   "source": [
    "In addition to the libraries, we also need data with which we can familiarize ourselves during the exercise. For this purpose, we use the so-called AdventureWorks database, which is modeled after a fictional shop.\n",
    "\n",
    "The following code cells download the database from GitHub (first cell) and then import the data required for this exercise into a pandas `DataFrame` (second cell)."
   ]
  },
  {
   "cell_type": "code",
   "execution_count": null,
   "metadata": {
    "tags": [
     "specification"
    ]
   },
   "outputs": [],
   "source": [
    "# Create a temporary directory\n",
    "dataset_folder = tempfile.mkdtemp()\n",
    "\n",
    "# Build path to database\n",
    "database_path = os.path.join(dataset_folder, \"adventure-works.db\")\n",
    "\n",
    "# Get the database\n",
    "urllib.request.urlretrieve(\n",
    "    \"https://github.com/FAU-CS6/KDD-Databases/raw/main/AdventureWorks/adventure-works.db\",\n",
    "    database_path,\n",
    ")\n",
    "\n",
    "# Open connection to the adventure-works.db\n",
    "connection = sqlite3.connect(database_path)"
   ]
  },
  {
   "cell_type": "code",
   "execution_count": null,
   "metadata": {
    "tags": [
     "specification"
    ]
   },
   "outputs": [],
   "source": [
    "# Create the clean DataFrame(s)\n",
    "# Order DataFrame\n",
    "order_df = pd.read_sql_query(\n",
    "    \"SELECT p.ProductID,p.Name,p.ProductNumber,p.MakeFlag,p.FinishedGoodsFlag,p.Color,p.SafetyStockLevel,\"\n",
    "    \"p.ReorderPoint,p.StandardCost,p.ListPrice,p.Size,p.SizeUnitMeasureCode,p.WeightUnitMeasureCode,p.Weight,\"\n",
    "    \"p.DaysToManufacture,p.ProductLine,p.Class,p.Style,p.ProductSubcategoryID,p.ProductModelID,p.SellStartDate,\"\n",
    "    \"p.SellEndDate,p.DiscontinuedDate,d.PurchaseOrderID,d.PurchaseOrderDetailID,d.DueDate,d.OrderQty,d.ProductID,\"\n",
    "    \"d.UnitPrice,d.ReceivedQty,d.RejectedQty,h.RevisionNumber,h.Status,h.EmployeeID,h.VendorID,h.ShipMethodID,\"\n",
    "    \"h.OrderDate,h.ShipDate,h.SubTotal,h.TaxAmt,h.Freight,h.TotalDue,e.NationalIDNumber,e.LoginID,e.OrganizationNode,\"\n",
    "    \"e.JobTitle,e.BirthDate,e.MaritalStatus,e.Gender,e.HireDate,e.SalariedFlag,e.VacationHours,e.SickLeaveHours,\"\n",
    "    \"e.CurrentFlag,r.PersonType,r.NameStyle,r.Title,r.FirstName,r.MiddleName,r.LastName,r.Suffix,r.EmailPromotion,\"\n",
    "    \"r.AdditionalContactInfo,r.Demographics \"\n",
    "    \"FROM Product p \"\n",
    "    \"JOIN PurchaseOrderDetail d ON p.ProductID = d.ProductID \"\n",
    "    \"JOIN PurchaseOrderHeader h ON d.PurchaseOrderID = h.PurchaseOrderID \"\n",
    "    \"JOIN Employee e ON h.EmployeeID = e.BusinessEntityID \"\n",
    "    \"JOIN Person r ON e.BusinessEntityID = r.BusinessEntityID\",\n",
    "    connection,\n",
    "    index_col=\"PurchaseOrderDetailID\",\n",
    ")"
   ]
  },
  {
   "cell_type": "markdown",
   "metadata": {
    "tags": [
     "specification"
    ]
   },
   "source": [
    "Currently we don't know anything about the `DataFrame` `order_df`. \n",
    "In order to gather an initial understanding of the structure of the `DataFrame`, it is useful to know the dimensions of the `DataFrame`. The corresponding information is stored in the shape property of a pandas `DataFrame`.\n",
    "\n",
    "<div class=\"alert alert-block alert-info\">\n",
    "\n",
    "**Task 1:** \n",
    "    \n",
    "Figure out the shape of `order_df`. You may take a look at the [pandas documentation](https://pandas.pydata.org/docs/reference/api/pandas.DataFrame.shape.html) regarding the mentioned property.\n",
    "    \n",
    "</div>\n"
   ]
  },
  {
   "cell_type": "code",
   "execution_count": null,
   "metadata": {
    "tags": [
     "student"
    ]
   },
   "outputs": [],
   "source": [
    "# Get the shape of the DataFrame"
   ]
  },
  {
   "cell_type": "code",
   "execution_count": null,
   "metadata": {
    "tags": [
     "solution"
    ]
   },
   "outputs": [],
   "source": [
    "# Get the shape of the DataFrame\n",
    "order_df.shape"
   ]
  },
  {
   "cell_type": "markdown",
   "metadata": {
    "tags": [
     "specification"
    ]
   },
   "source": [
    "The output of shape is a tuple containing two values. It is of course important to know which number is the number of attributes and which is the number tuples/samples in our `DataFrame`.\n",
    "\n",
    "<div class=\"alert alert-block alert-info\">\n",
    "\n",
    "**Task 2:** \n",
    "\n",
    "Take a look at the documentation to determine which element stands for the number of attributes and which for the number of tuples. \n",
    "    \n",
    "</div>"
   ]
  },
  {
   "cell_type": "markdown",
   "metadata": {
    "tags": [
     "student"
    ]
   },
   "source": [
    "The count of attributes/features: ?\n",
    "\n",
    "The count of tuples/samples: ?"
   ]
  },
  {
   "cell_type": "markdown",
   "metadata": {
    "tags": [
     "solution"
    ]
   },
   "source": [
    "The count of attributes/features: 63\n",
    "\n",
    "The count of tuples/samples: 8845\n"
   ]
  },
  {
   "cell_type": "markdown",
   "metadata": {
    "tags": [
     "specification"
    ]
   },
   "source": [
    "Now that we know the count of tuples and attributes in our `DataFrame`, we still do not know what data is contained in the data set.\n",
    "\n",
    "In order to get a first impression in this respect, it can be useful to look at (a sample of) the `DataFrame`. The supposedly simplest method to make this possible is the `print()` function."
   ]
  },
  {
   "cell_type": "code",
   "execution_count": null,
   "metadata": {
    "tags": [
     "specification"
    ]
   },
   "outputs": [],
   "source": [
    "# Print the order_df\n",
    "print(order_df)"
   ]
  },
  {
   "cell_type": "markdown",
   "metadata": {
    "tags": [
     "specification"
    ]
   },
   "source": [
    "However, as you can see, this method outputs the entire content of the `DataFrame` without any specific layout. This can cause problems, especially with very large `DataFrames` and is therefore not recommended. It is far more common to use the `DataFrame` member function `head()`.\n",
    "\n",
    "<div class=\"alert alert-block alert-info\">\n",
    "\n",
    "**Task 3:** \n",
    "    \n",
    "Use the pandas documentation to familiarize yourself with `head()`, then apply it to the `order_df` to display the first 10 tuples.\n",
    "    \n",
    "</div>"
   ]
  },
  {
   "cell_type": "code",
   "execution_count": null,
   "metadata": {
    "tags": [
     "student"
    ]
   },
   "outputs": [],
   "source": [
    "# Use the head() function on the order_df while setting the number of rows displayed to 10"
   ]
  },
  {
   "cell_type": "code",
   "execution_count": null,
   "metadata": {
    "tags": [
     "solution"
    ]
   },
   "outputs": [],
   "source": [
    "# Use the head() function on the order_df while setting the number of rows displayed to 10\n",
    "order_df.head(10)"
   ]
  },
  {
   "cell_type": "markdown",
   "metadata": {
    "tags": [
     "specification"
    ]
   },
   "source": [
    "As you can see, the representation by `head()` is easier to read. However, `head()` also has its limitations. For example, not all attributes are displayed when the number of attribute is large.\n",
    "\n",
    "<div class=\"alert alert-block alert-info\">\n",
    "\n",
    "**Task 4:** \n",
    "    \n",
    "List the names of all columns.\n",
    "    \n",
    "</div>"
   ]
  },
  {
   "cell_type": "code",
   "execution_count": null,
   "metadata": {
    "tags": [
     "student"
    ]
   },
   "outputs": [],
   "source": [
    "# Output a list of all columns"
   ]
  },
  {
   "cell_type": "code",
   "execution_count": null,
   "metadata": {
    "tags": [
     "solution"
    ]
   },
   "outputs": [],
   "source": [
    "# There are multiple possible solutions, e.g.:\n",
    "# Sample solution 1: Iterate over the columns\n",
    "for column in order_df.columns:\n",
    "    print(column, end=\",\")"
   ]
  },
  {
   "cell_type": "code",
   "execution_count": null,
   "metadata": {
    "tags": [
     "solution"
    ]
   },
   "outputs": [],
   "source": [
    "# Sample solution 2: Use list()\n",
    "list(order_df.columns)"
   ]
  },
  {
   "cell_type": "code",
   "execution_count": null,
   "metadata": {
    "tags": [
     "solution"
    ]
   },
   "outputs": [],
   "source": [
    "# Sample solution 3: simply access columns and print them\n",
    "order_df.columns"
   ]
  },
  {
   "cell_type": "markdown",
   "metadata": {
    "tags": [
     "specification"
    ]
   },
   "source": [
    "For example, we did not see the columns `WeightUnitMeasureCode`, `Weight`, `DaysToManufacture`, `ProductLine`, `Class` and `Style` in the above execution of `head()`.  \n",
    "\n",
    "<div class=\"alert alert-block alert-info\">\n",
    "\n",
    "**Task 5:** \n",
    "\n",
    "Show the first 10 tuples of the attributes `WeightUnitMeasureCode`, `Weight`, `DaysToManufacture`, `ProductLine`, `Class` and `Style`.\n",
    "    \n",
    "</div>"
   ]
  },
  {
   "cell_type": "code",
   "execution_count": null,
   "metadata": {
    "tags": [
     "student"
    ]
   },
   "outputs": [],
   "source": [
    "# Print the attributes WeightUnitMeasureCode, Weight, DaysToManufacture, ProductLine, Class\n",
    "# and \"Style\" of the first ten attributes"
   ]
  },
  {
   "cell_type": "code",
   "execution_count": null,
   "metadata": {
    "tags": [
     "solution"
    ]
   },
   "outputs": [],
   "source": [
    "# There are multiple possible solutions, e.g.:\n",
    "# Sample solution 1: Explicit naming of the identifiers\n",
    "order_df[\n",
    "    [\n",
    "        \"WeightUnitMeasureCode\",\n",
    "        \"Weight\",\n",
    "        \"DaysToManufacture\",\n",
    "        \"ProductLine\",\n",
    "        \"Class\",\n",
    "        \"Style\",\n",
    "    ]\n",
    "].head(10)"
   ]
  },
  {
   "cell_type": "code",
   "execution_count": null,
   "metadata": {
    "tags": [
     "solution"
    ]
   },
   "outputs": [],
   "source": [
    "# Sample solution 2: Using the columns attribute\n",
    "order_df[order_df.columns[12:18]].head(10)"
   ]
  },
  {
   "cell_type": "markdown",
   "metadata": {
    "tags": [
     "specification"
    ]
   },
   "source": [
    "Of course, it is a pity that all the attribute values shown are `0` in the `DaysToManufacture` attribute and `None` in the `ProductLine` attribute. However, this does not mean that this is the case for the entire `DataFrame`.\n",
    "\n",
    "<div class=\"alert alert-block alert-info\">\n",
    "\n",
    "**Task 6:** \n",
    "    \n",
    "Save all with `DaysToManufacture` higher than 0 into a new `DataFrame` called `order_dtm_not_zero_dataframe`. \n",
    "    \n",
    "</div>"
   ]
  },
  {
   "cell_type": "code",
   "execution_count": null,
   "metadata": {
    "tags": [
     "student"
    ]
   },
   "outputs": [],
   "source": [
    "# Select all tuples with DaysToManufacture > 0"
   ]
  },
  {
   "cell_type": "code",
   "execution_count": null,
   "metadata": {
    "tags": [
     "solution"
    ]
   },
   "outputs": [],
   "source": [
    "# Select all tuples with DaysToManufacture > 0\n",
    "order_dtm_not_zero_dataframe = order_df[order_df[\"DaysToManufacture\"] > 0]"
   ]
  },
  {
   "cell_type": "markdown",
   "metadata": {
    "tags": [
     "specification"
    ]
   },
   "source": [
    "<div class=\"alert alert-block alert-info\">\n",
    "\n",
    "**Task 7:** \n",
    "\n",
    "Display the columns `WeightUnitMeasureCode`, `Weight`, `DaysToManufacture`, `ProductLine`, `Class`, and `Style` of `order_dtm_not_zero_dataframe`. Limit the output to 10 tuples. \n",
    "    \n",
    "</div>"
   ]
  },
  {
   "cell_type": "code",
   "execution_count": null,
   "metadata": {
    "tags": [
     "student"
    ]
   },
   "outputs": [],
   "source": [
    "# Print the attributes \"WeightUnitMeasureCode\", \"Weight\", \"DaysToManufacture\", \"ProductLine\", \"Class\"\n",
    "# and \"Style\" of the first ten attributes of the new order_dtm_not_zero_dataframe"
   ]
  },
  {
   "cell_type": "code",
   "execution_count": null,
   "metadata": {
    "tags": [
     "solution"
    ]
   },
   "outputs": [],
   "source": [
    "# Print the attributes \"WeightUnitMeasureCode\", \"Weight\", \"DaysToManufacture\", \"ProductLine\", \"Class\"\n",
    "# and \"Style\" of the first ten attributes of the new order_dtm_not_zero_dataframe\n",
    "order_dtm_not_zero_dataframe[\n",
    "    [\n",
    "        \"WeightUnitMeasureCode\",\n",
    "        \"Weight\",\n",
    "        \"DaysToManufacture\",\n",
    "        \"ProductLine\",\n",
    "        \"Class\",\n",
    "        \"Style\",\n",
    "    ]\n",
    "].head(10)"
   ]
  },
  {
   "cell_type": "markdown",
   "metadata": {
    "tags": [
     "specification"
    ]
   },
   "source": [
    "In addition to simply outputting data from the `DataFrame`, it can also be useful to examine some basic statistical descriptors. \n",
    "\n",
    "In this case we will focus here on the attributes `ReorderPoint`, `DaysToManufacture`, and `UnitPrice`. "
   ]
  },
  {
   "cell_type": "code",
   "execution_count": null,
   "metadata": {
    "tags": [
     "specification"
    ]
   },
   "outputs": [],
   "source": [
    "# Print the attributes \"ReorderPoint\", \"DaysToManufacture\", and \"UnitPrice\" of the first ten tuples\n",
    "order_df[[\"ReorderPoint\", \"DaysToManufacture\", \"UnitPrice\"]].head(10)"
   ]
  },
  {
   "cell_type": "markdown",
   "metadata": {
    "tags": [
     "specification"
    ]
   },
   "source": [
    "<div class=\"alert alert-block alert-info\">\n",
    "\n",
    "**Task 8:** \n",
    "    \n",
    "Determine the mean for each of the three attributes and print it. (Help: [pandas documentation](https://pandas.pydata.org/docs/reference/api/pandas.DataFrame.mean.html))\n",
    "\n",
    "</div>"
   ]
  },
  {
   "cell_type": "code",
   "execution_count": null,
   "metadata": {
    "tags": [
     "student"
    ]
   },
   "outputs": [],
   "source": [
    "# Output the mean of \"ReorderPoint\""
   ]
  },
  {
   "cell_type": "code",
   "execution_count": null,
   "metadata": {
    "tags": [
     "student"
    ]
   },
   "outputs": [],
   "source": [
    "# Output the mean of \"DaysToManufacture\""
   ]
  },
  {
   "cell_type": "code",
   "execution_count": null,
   "metadata": {
    "tags": [
     "student"
    ]
   },
   "outputs": [],
   "source": [
    "# Output the mean of \"UnitPrice\""
   ]
  },
  {
   "cell_type": "code",
   "execution_count": null,
   "metadata": {
    "tags": [
     "solution"
    ]
   },
   "outputs": [],
   "source": [
    "# Output the mean of \"ReorderPoint\"\n",
    "order_df[\"ReorderPoint\"].mean()"
   ]
  },
  {
   "cell_type": "code",
   "execution_count": null,
   "metadata": {
    "tags": [
     "solution"
    ]
   },
   "outputs": [],
   "source": [
    "# Output the mean of \"DaysToManufacture\"\n",
    "order_df[\"DaysToManufacture\"].mean()"
   ]
  },
  {
   "cell_type": "code",
   "execution_count": null,
   "metadata": {
    "tags": [
     "solution"
    ]
   },
   "outputs": [],
   "source": [
    "# Output the mean of \"UnitPrice\"\n",
    "order_df[\"UnitPrice\"].mean()"
   ]
  },
  {
   "cell_type": "markdown",
   "metadata": {
    "tags": [
     "specification"
    ]
   },
   "source": [
    "<div class=\"alert alert-block alert-info\">\n",
    "\n",
    "**Task 9:** \n",
    "   \n",
    "Determine the median for each of the three attributes and print it. (Help: [pandas documentation](https://pandas.pydata.org/docs/reference/api/pandas.DataFrame.median.html))\n",
    "    \n",
    "</div>"
   ]
  },
  {
   "cell_type": "code",
   "execution_count": null,
   "metadata": {
    "tags": [
     "student"
    ]
   },
   "outputs": [],
   "source": [
    "# Output the median of \"ReorderPoint\""
   ]
  },
  {
   "cell_type": "code",
   "execution_count": null,
   "metadata": {
    "tags": [
     "student"
    ]
   },
   "outputs": [],
   "source": [
    "# Output the median of \"DaysToManufacture\""
   ]
  },
  {
   "cell_type": "code",
   "execution_count": null,
   "metadata": {
    "tags": [
     "student"
    ]
   },
   "outputs": [],
   "source": [
    "# Output the median of \"UnitPrice\""
   ]
  },
  {
   "cell_type": "code",
   "execution_count": null,
   "metadata": {
    "tags": [
     "solution"
    ]
   },
   "outputs": [],
   "source": [
    "# Output the median of \"ReorderPoint\"\n",
    "order_df[\"ReorderPoint\"].median()"
   ]
  },
  {
   "cell_type": "code",
   "execution_count": null,
   "metadata": {
    "tags": [
     "solution"
    ]
   },
   "outputs": [],
   "source": [
    "# Output the median of \"DaysToManufacture\"\n",
    "order_df[\"DaysToManufacture\"].median()"
   ]
  },
  {
   "cell_type": "code",
   "execution_count": null,
   "metadata": {
    "tags": [
     "solution"
    ]
   },
   "outputs": [],
   "source": [
    "# Output the median of \"UnitPrice\"\n",
    "order_df[\"UnitPrice\"].median()"
   ]
  },
  {
   "cell_type": "markdown",
   "metadata": {
    "tags": [
     "specification"
    ]
   },
   "source": [
    "<div class=\"alert alert-block alert-info\">\n",
    "\n",
    "**Task 10:** \n",
    "    \n",
    "Determine the minimum value for each of the three attributes and print it.\n",
    "    \n",
    "</div>"
   ]
  },
  {
   "cell_type": "code",
   "execution_count": null,
   "metadata": {
    "tags": [
     "student"
    ]
   },
   "outputs": [],
   "source": [
    "# Output the min of \"ReorderPoint\""
   ]
  },
  {
   "cell_type": "code",
   "execution_count": null,
   "metadata": {
    "tags": [
     "student"
    ]
   },
   "outputs": [],
   "source": [
    "# Output the min of \"DaysToManufacture\""
   ]
  },
  {
   "cell_type": "code",
   "execution_count": null,
   "metadata": {
    "tags": [
     "student"
    ]
   },
   "outputs": [],
   "source": [
    "# Output the min of \"UnitPrice\""
   ]
  },
  {
   "cell_type": "code",
   "execution_count": null,
   "metadata": {
    "tags": [
     "solution"
    ]
   },
   "outputs": [],
   "source": [
    "# Output the min of \"ReorderPoint\"\n",
    "order_df[\"ReorderPoint\"].min()"
   ]
  },
  {
   "cell_type": "code",
   "execution_count": null,
   "metadata": {
    "tags": [
     "solution"
    ]
   },
   "outputs": [],
   "source": [
    "# Output the min of \"DaysToManufacture\"\n",
    "order_df[\"DaysToManufacture\"].min()"
   ]
  },
  {
   "cell_type": "code",
   "execution_count": null,
   "metadata": {
    "tags": [
     "solution"
    ]
   },
   "outputs": [],
   "source": [
    "# Output the min of \"UnitPrice\"\n",
    "order_df[\"UnitPrice\"].min()"
   ]
  },
  {
   "cell_type": "markdown",
   "metadata": {
    "tags": [
     "specification"
    ]
   },
   "source": [
    "<div class=\"alert alert-block alert-info\">\n",
    "\n",
    "**Task 11:** \n",
    "    \n",
    "Determine the maximum value for each of the three attributes and print it.\n",
    "\n",
    "</div>"
   ]
  },
  {
   "cell_type": "code",
   "execution_count": null,
   "metadata": {
    "tags": [
     "student"
    ]
   },
   "outputs": [],
   "source": [
    "# Output the max of \"ReorderPoint\""
   ]
  },
  {
   "cell_type": "code",
   "execution_count": null,
   "metadata": {
    "tags": [
     "student"
    ]
   },
   "outputs": [],
   "source": [
    "# Output the max of \"DaysToManufacture\""
   ]
  },
  {
   "cell_type": "code",
   "execution_count": null,
   "metadata": {
    "tags": [
     "student"
    ]
   },
   "outputs": [],
   "source": [
    "# Output the max of \"UnitPrice\""
   ]
  },
  {
   "cell_type": "code",
   "execution_count": null,
   "metadata": {
    "tags": [
     "solution"
    ]
   },
   "outputs": [],
   "source": [
    "# Output the max of \"ReorderPoint\"\n",
    "order_df[\"ReorderPoint\"].max()"
   ]
  },
  {
   "cell_type": "code",
   "execution_count": null,
   "metadata": {
    "tags": [
     "solution"
    ]
   },
   "outputs": [],
   "source": [
    "# Output the max of \"DaysToManufacture\"\n",
    "order_df[\"DaysToManufacture\"].max()"
   ]
  },
  {
   "cell_type": "code",
   "execution_count": null,
   "metadata": {
    "tags": [
     "solution"
    ]
   },
   "outputs": [],
   "source": [
    "# Output the max of \"UnitPrice\"\n",
    "order_df[\"UnitPrice\"].max()"
   ]
  },
  {
   "cell_type": "markdown",
   "metadata": {
    "tags": [
     "specification"
    ]
   },
   "source": [
    "<div class=\"alert alert-block alert-info\">\n",
    "\n",
    "**Task 12:** \n",
    "    \n",
    "Determine the mode for each of the three attributes and print it.\n",
    "\n",
    "</div>"
   ]
  },
  {
   "cell_type": "code",
   "execution_count": null,
   "metadata": {
    "tags": [
     "student"
    ]
   },
   "outputs": [],
   "source": [
    "# Output the mode of \"ReorderPoint\""
   ]
  },
  {
   "cell_type": "code",
   "execution_count": null,
   "metadata": {
    "tags": [
     "student"
    ]
   },
   "outputs": [],
   "source": [
    "# Output the mode of \"DaysToManufacture\""
   ]
  },
  {
   "cell_type": "code",
   "execution_count": null,
   "metadata": {
    "tags": [
     "student"
    ]
   },
   "outputs": [],
   "source": [
    "# Output the mode of \"UnitPrice\""
   ]
  },
  {
   "cell_type": "code",
   "execution_count": null,
   "metadata": {
    "tags": [
     "solution"
    ]
   },
   "outputs": [],
   "source": [
    "# Output the mode of \"ReorderPoint\"\n",
    "order_df[\"ReorderPoint\"].mode()"
   ]
  },
  {
   "cell_type": "code",
   "execution_count": null,
   "metadata": {
    "tags": [
     "solution"
    ]
   },
   "outputs": [],
   "source": [
    "# Output the mode of \"DaysToManufacture\"\n",
    "order_df[\"DaysToManufacture\"].mode()"
   ]
  },
  {
   "cell_type": "code",
   "execution_count": null,
   "metadata": {
    "tags": [
     "solution"
    ]
   },
   "outputs": [],
   "source": [
    "# Output the mode of \"UnitPrice\"\n",
    "order_df[\"UnitPrice\"].mode()"
   ]
  },
  {
   "cell_type": "markdown",
   "metadata": {
    "tags": [
     "specification"
    ]
   },
   "source": [
    "<div class=\"alert alert-block alert-info\">\n",
    "\n",
    "**Task 13:** \n",
    "    \n",
    "Determine the number of unique values for each of the three attributes and output it. (Help: Take a look at the function `nunique` in the pandas documentation.)\n",
    "\n",
    "</div>"
   ]
  },
  {
   "cell_type": "code",
   "execution_count": null,
   "metadata": {
    "tags": [
     "student"
    ]
   },
   "outputs": [],
   "source": [
    "# Output the nunique of \"ReorderPoint\""
   ]
  },
  {
   "cell_type": "code",
   "execution_count": null,
   "metadata": {
    "tags": [
     "student"
    ]
   },
   "outputs": [],
   "source": [
    "# Output the nunique of \"DaysToManufacture\""
   ]
  },
  {
   "cell_type": "code",
   "execution_count": null,
   "metadata": {
    "tags": [
     "student"
    ]
   },
   "outputs": [],
   "source": [
    "# Output the nunique of \"UnitPrice\""
   ]
  },
  {
   "cell_type": "code",
   "execution_count": null,
   "metadata": {
    "tags": [
     "solution"
    ]
   },
   "outputs": [],
   "source": [
    "# Output the nunique of \"ReorderPoint\"\n",
    "order_df[\"ReorderPoint\"].nunique()"
   ]
  },
  {
   "cell_type": "code",
   "execution_count": null,
   "metadata": {
    "tags": [
     "solution"
    ]
   },
   "outputs": [],
   "source": [
    "# Output the nunique of \"DaysToManufacture\"\n",
    "order_df[\"DaysToManufacture\"].nunique()"
   ]
  },
  {
   "cell_type": "code",
   "execution_count": null,
   "metadata": {
    "tags": [
     "solution"
    ]
   },
   "outputs": [],
   "source": [
    "# Output the nunique of \"UnitPrice\"\n",
    "order_df[\"UnitPrice\"].nunique()"
   ]
  },
  {
   "cell_type": "markdown",
   "metadata": {
    "tags": [
     "specification"
    ]
   },
   "source": [
    "There are also methods in pandas that can be used to obtain multiple simple statistical values simultaneously for a `DataFrame`. An example is `describe`, which encapsulates the output of count, maximum, minimum, mean, standard deviation, and some quantiles in one function.\n",
    "\n",
    "<div class=\"alert alert-block alert-info\">\n",
    "    \n",
    "**Task 14:** \n",
    "    \n",
    "Output the result for `describe` for each of the three attributes.\n",
    "\n",
    "</div>"
   ]
  },
  {
   "cell_type": "code",
   "execution_count": null,
   "metadata": {
    "tags": [
     "student"
    ]
   },
   "outputs": [],
   "source": [
    "# Output the result for describe of \"ReorderPoint\""
   ]
  },
  {
   "cell_type": "code",
   "execution_count": null,
   "metadata": {
    "tags": [
     "student"
    ]
   },
   "outputs": [],
   "source": [
    "# Output the result for describe of \"DaysToManufacture\""
   ]
  },
  {
   "cell_type": "code",
   "execution_count": null,
   "metadata": {
    "tags": [
     "student"
    ]
   },
   "outputs": [],
   "source": [
    "# Output the result for describe of \"UnitPrice\""
   ]
  },
  {
   "cell_type": "code",
   "execution_count": null,
   "metadata": {
    "tags": [
     "solution"
    ]
   },
   "outputs": [],
   "source": [
    "# Output the result for describe of \"ReorderPoint\"\n",
    "order_df[\"ReorderPoint\"].describe()"
   ]
  },
  {
   "cell_type": "code",
   "execution_count": null,
   "metadata": {
    "tags": [
     "solution"
    ]
   },
   "outputs": [],
   "source": [
    "# Output the result for describe of \"DaysToManufacture\"\n",
    "order_df[\"DaysToManufacture\"].describe()"
   ]
  },
  {
   "cell_type": "code",
   "execution_count": null,
   "metadata": {
    "tags": [
     "solution"
    ]
   },
   "outputs": [],
   "source": [
    "# Output the result for describe of \"UnitPrice\"\n",
    "order_df[\"UnitPrice\"].describe()"
   ]
  },
  {
   "cell_type": "markdown",
   "metadata": {
    "tags": [
     "specification"
    ]
   },
   "source": [
    "Another method is `agg`, with the help of which several self-defined statistical values are calculated for a `DataFrame` in a single call.\n",
    "\n",
    "<div class=\"alert alert-block alert-info\">\n",
    "    \n",
    "**Task 15:** \n",
    "    \n",
    "Output the mean, median, minimum, maximum, and number of unique values again for each of the three attributes. This time, use `agg`.\n",
    "\n",
    "</div>"
   ]
  },
  {
   "cell_type": "code",
   "execution_count": null,
   "metadata": {
    "tags": [
     "student"
    ]
   },
   "outputs": [],
   "source": [
    "# Output the result for agg of \"ReorderPoint\""
   ]
  },
  {
   "cell_type": "code",
   "execution_count": null,
   "metadata": {
    "tags": [
     "student"
    ]
   },
   "outputs": [],
   "source": [
    "# Output the result for agg of \"DaysToManufacture\""
   ]
  },
  {
   "cell_type": "code",
   "execution_count": null,
   "metadata": {
    "tags": [
     "student"
    ]
   },
   "outputs": [],
   "source": [
    "# Output the result for agg of \"UnitPrice\""
   ]
  },
  {
   "cell_type": "code",
   "execution_count": null,
   "metadata": {
    "tags": [
     "solution"
    ]
   },
   "outputs": [],
   "source": [
    "# Output the result for agg of \"ReorderPoint\"\n",
    "order_df[\"ReorderPoint\"].agg([\"mean\", \"median\", \"min\", \"max\", \"nunique\"])"
   ]
  },
  {
   "cell_type": "code",
   "execution_count": null,
   "metadata": {
    "tags": [
     "solution"
    ]
   },
   "outputs": [],
   "source": [
    "# Output the result for agg of \"DaysToManufacture\"\n",
    "order_df[\"DaysToManufacture\"].agg([\"mean\", \"median\", \"min\", \"max\", \"nunique\"])"
   ]
  },
  {
   "cell_type": "code",
   "execution_count": null,
   "metadata": {
    "tags": [
     "solution"
    ]
   },
   "outputs": [],
   "source": [
    "# Output the result for agg of \"UnitPrice\"\n",
    "order_df[\"UnitPrice\"].agg([\"mean\", \"median\", \"min\", \"max\", \"nunique\"])"
   ]
  },
  {
   "cell_type": "markdown",
   "metadata": {
    "tags": [
     "specification"
    ]
   },
   "source": [
    "Even though the methods used here are fairly simple statistical methods, they can already tell us quite a bit about our data. \n",
    "\n",
    "<div class=\"alert alert-block alert-info\">\n",
    "\n",
    "**Task 16:** \n",
    "    \n",
    "Consider and describe what can be said about the attribute `ReorderPoint` based on the statistical values obtained.\n",
    "\n",
    "</div>"
   ]
  },
  {
   "cell_type": "markdown",
   "metadata": {
    "tags": [
     "student"
    ]
   },
   "source": [
    "\n"
   ]
  },
  {
   "cell_type": "markdown",
   "metadata": {
    "tags": [
     "solution"
    ]
   },
   "source": [
    "The attribute \"ReorderPoint\" has only five different values, which are distributed between the lowest value 3 and the highest value 750. It can therefore be assumed that there are sometimes large ranges between the individual values and that the attribute is most likely a discrete numeric attribute.\n",
    "\n",
    "The mean of approx. 589 and the median of 750 clearly indicate that many values are probably located in the higher part of the value range. The fact that the mode is 750 further confirms this thesis."
   ]
  },
  {
   "cell_type": "markdown",
   "metadata": {
    "tags": [
     "specification"
    ]
   },
   "source": [
    "<div class=\"alert alert-block alert-info\">\n",
    "\n",
    "**Task 17:** \n",
    "\n",
    "Consider and describe what can be said about the `DaysToManufacture` attribute based on the statistical values obtained.\n",
    "</div>"
   ]
  },
  {
   "cell_type": "markdown",
   "metadata": {
    "tags": [
     "student"
    ]
   },
   "source": [
    "\n"
   ]
  },
  {
   "cell_type": "markdown",
   "metadata": {
    "tags": [
     "solution"
    ]
   },
   "source": [
    "In contrast to `ReorderPoint`, `DaysToManufacture` apparently has only two different values. These seem to be the values `0` and `1`. The mode of `0` shows us that the value `0` is the most frequent appearance. The mean of about `0.13` even proofs that `0` occurs much more often than `1` (due to the binary value set)."
   ]
  },
  {
   "cell_type": "markdown",
   "metadata": {
    "tags": [
     "specification"
    ]
   },
   "source": [
    "<div class=\"alert alert-block alert-info\">\n",
    "\n",
    "**Task 18:**\n",
    "    \n",
    "Consider and describe what can be said about the `UnitPrice` attribute based on the statistical values obtained.\n",
    "</div>"
   ]
  },
  {
   "cell_type": "markdown",
   "metadata": {
    "tags": [
     "student"
    ]
   },
   "source": [
    "\n"
   ]
  },
  {
   "cell_type": "markdown",
   "metadata": {
    "tags": [
     "solution"
    ]
   },
   "source": [
    "The \"UnitPrice\" attribute, with its 177 different values ranging from 0.21 up to 82.8345, appears to be much less discrete than the other two attributes. It has two values that occur most frequently, 31.4895 and 48.2895. In general, this, along with the mean of about 34.743 and the median of 39.2805, suggests that most values are likely to be found in the middle of the range of values. However, it is possible that there are many values in the very low range as well as in the very high range, but they simply balance each other out."
   ]
  },
  {
   "cell_type": "markdown",
   "metadata": {
    "tags": [
     "specification"
    ]
   },
   "source": [
    "The distribution of the individual values within the attributes is something we can not specific with these simple statistical values. A possibility to get more information about this is a histogram.\n",
    "\n",
    "<div class=\"alert alert-block alert-info\">\n",
    "\n",
    "**Task 19:** \n",
    "    \n",
    "Draw a histogram for `ReorderPoint`. Consider what number of bins might be appropriate. (Help: [pandas documentation](https://pandas.pydata.org/docs/reference/api/pandas.DataFrame.plot.hist.html))\n",
    "</div>"
   ]
  },
  {
   "cell_type": "code",
   "execution_count": null,
   "metadata": {
    "tags": [
     "student"
    ]
   },
   "outputs": [],
   "source": [
    "# Histogram for \"ReorderPoint\""
   ]
  },
  {
   "cell_type": "code",
   "execution_count": null,
   "metadata": {
    "tags": [
     "solution"
    ]
   },
   "outputs": [],
   "source": [
    "# Histogram for \"ReorderPoint\"\n",
    "# 20 bins as the two lower values are to close to each other to be separated otherwise\n",
    "order_df[\"ReorderPoint\"].plot.hist(bins=20, rwidth=0.9)\n",
    "\n",
    "# Note: The rwidth parameter is not required, but it helps to better separate two buckets\n",
    "# that are directly next to each other.\n",
    "# An alternative would be to use an edge color that stands out. However, this is not\n",
    "# supported by Panda's internal histogram function and will therefore not be discussed here."
   ]
  },
  {
   "cell_type": "markdown",
   "metadata": {
    "tags": [
     "specification"
    ]
   },
   "source": [
    "<div class=\"alert alert-block alert-info\">\n",
    "\n",
    "**Task 20:**\n",
    "    \n",
    "Draw a histogram for `DaysToManufacture`. Consider what number of bins might be appropriate.\n",
    "</div>"
   ]
  },
  {
   "cell_type": "code",
   "execution_count": null,
   "metadata": {
    "tags": [
     "student"
    ]
   },
   "outputs": [],
   "source": [
    "# Histogram for \"DaysToManufacture\""
   ]
  },
  {
   "cell_type": "code",
   "execution_count": null,
   "metadata": {
    "tags": [
     "solution"
    ]
   },
   "outputs": [],
   "source": [
    "# Histogram for \"DaysToManufacture\"\n",
    "# 2 bins as there are only 2 unique values\n",
    "order_df[\"DaysToManufacture\"].plot.hist(bins=2, rwidth=0.8)"
   ]
  },
  {
   "cell_type": "markdown",
   "metadata": {
    "tags": [
     "specification"
    ]
   },
   "source": [
    "<div class=\"alert alert-block alert-info\">\n",
    "\n",
    "**Task 21:**\n",
    "    \n",
    "Draw a histogram for `UnitPrice`. Consider what number of bins might be appropriate. \n",
    "</div>"
   ]
  },
  {
   "cell_type": "code",
   "execution_count": null,
   "metadata": {
    "tags": [
     "student"
    ]
   },
   "outputs": [],
   "source": [
    "# Histogram for \"UnitPrice\""
   ]
  },
  {
   "cell_type": "code",
   "execution_count": null,
   "metadata": {
    "tags": [
     "solution"
    ]
   },
   "outputs": [],
   "source": [
    "# Histogram for \"UnitPrice\"\n",
    "# 20 bins as 177 would not be displayed very well\n",
    "order_df[\"UnitPrice\"].plot.hist(bins=20, rwidth=0.8)"
   ]
  },
  {
   "cell_type": "markdown",
   "metadata": {
    "tags": [
     "specification"
    ]
   },
   "source": [
    "It can be seen that it does not always make sense to choose the number of bins exactly like the number of unique values. \n",
    "\n",
    "Apart from that, we have to note that especially in the case of `UnitPrice`, insight is lost by merging multiple values. In such a case it can also be useful to look at boxplot and density curve instead of histogram.\n",
    "\n",
    "<div class=\"alert alert-block alert-info\">\n",
    "\n",
    "**Task 22:**\n",
    "    \n",
    "Draw a boxplot diagram for `UnitPrice`. (Help: [pandas documentation](https://pandas.pydata.org/docs/reference/api/pandas.DataFrame.plot.box.html))\n",
    "</div>\n"
   ]
  },
  {
   "cell_type": "code",
   "execution_count": null,
   "metadata": {
    "tags": [
     "student"
    ]
   },
   "outputs": [],
   "source": [
    "# Boxplot for \"UnitPrice\""
   ]
  },
  {
   "cell_type": "code",
   "execution_count": null,
   "metadata": {
    "tags": [
     "solution"
    ]
   },
   "outputs": [],
   "source": [
    "# Boxplot for \"UnitPrice\"\n",
    "order_df[\"UnitPrice\"].plot.box()"
   ]
  },
  {
   "cell_type": "markdown",
   "metadata": {
    "tags": [
     "specification"
    ]
   },
   "source": [
    "<div class=\"alert alert-block alert-info\">\n",
    "\n",
    "**Task 23:**\n",
    "    \n",
    "Draw a density diagram for \"UnitPrice\". (Help: [pandas documentation](https://pandas.pydata.org/docs/reference/api/pandas.DataFrame.plot.density.html))\n",
    "</div>\n"
   ]
  },
  {
   "cell_type": "code",
   "execution_count": null,
   "metadata": {
    "tags": [
     "student"
    ]
   },
   "outputs": [],
   "source": [
    "# Density curve for \"UnitPrice\""
   ]
  },
  {
   "cell_type": "code",
   "execution_count": null,
   "metadata": {
    "tags": [
     "solution"
    ]
   },
   "outputs": [],
   "source": [
    "# Density curve for \"UnitPrice\"\n",
    "order_df[\"UnitPrice\"].plot.density()"
   ]
  },
  {
   "cell_type": "markdown",
   "metadata": {
    "tags": [
     "specification"
    ]
   },
   "source": [
    "While simple chart types such as histograms, boxplots and density plots can be directly used with pandas, a variety of libraries are available for more advanced visualizations. "
   ]
  },
  {
   "cell_type": "markdown",
   "metadata": {
    "tags": [
     "specification"
    ]
   },
   "source": [
    "\n",
    "\n",
    "In the lecture you were introduced to Polar Plots, also called Radar Chart. In this type of chart, you look at multiple attributes of a single tuple.\n",
    "\n",
    "<div class=\"alert alert-block alert-info\">\n",
    "\n",
    "**Task 24:**\n",
    "    \n",
    "Use Plotly's graph function `Scatterpolar` to output the prepared tuples within one polar plot. (Help: [Plotly Documentation](https://plotly.com/python/radar-chart/) and [Plotly API Reference](https://plotly.com/python-api-reference/generated/plotly.graph_objects.scatterpolar.html?highlight=scatterpolar#module-plotly.graph_objects.scatterpolar))\n",
    "</div>"
   ]
  },
  {
   "cell_type": "code",
   "execution_count": null,
   "metadata": {
    "tags": [
     "specification"
    ]
   },
   "outputs": [],
   "source": [
    "# Set the attributes to select\n",
    "attributes = [\"OrderQty\", \"ReceivedQty\", \"RejectedQty\"]\n",
    "\n",
    "# Prepare tuple_6, tuple_77, tuple_82\n",
    "tuple_6 = pd.DataFrame(dict(r=order_df[attributes].iloc[6].values, theta=attributes))\n",
    "tuple_77 = pd.DataFrame(dict(r=order_df[attributes].iloc[77].values, theta=attributes))\n",
    "tuple_82 = pd.DataFrame(dict(r=order_df[attributes].iloc[82].values, theta=attributes))"
   ]
  },
  {
   "cell_type": "code",
   "execution_count": null,
   "metadata": {
    "tags": [
     "student"
    ]
   },
   "outputs": [],
   "source": [
    "# Draw a single polar diagram for tuple_6, tuple_77 and tuple_82"
   ]
  },
  {
   "cell_type": "code",
   "execution_count": null,
   "metadata": {
    "tags": [
     "solution"
    ]
   },
   "outputs": [],
   "source": [
    "# Draw a single polar diagram for tuple_6, tuple_77 and tuple_82\n",
    "fig = go.Figure()\n",
    "\n",
    "fig.add_trace(\n",
    "    go.Scatterpolar(\n",
    "        r=tuple_6[\"r\"],\n",
    "        theta=tuple_6[\"theta\"],\n",
    "        mode=\"lines\",\n",
    "        fill=\"tonext\",\n",
    "        name=\"tuple_6\",\n",
    "        line_color=\"peru\",\n",
    "    )\n",
    ")\n",
    "fig.add_trace(\n",
    "    go.Scatterpolar(\n",
    "        r=tuple_77[\"r\"],\n",
    "        theta=tuple_77[\"theta\"],\n",
    "        mode=\"lines\",\n",
    "        fill=\"tonext\",\n",
    "        name=\"tuple_77\",\n",
    "        line_color=\"deepskyblue\",\n",
    "    )\n",
    ")\n",
    "fig.add_trace(\n",
    "    go.Scatterpolar(\n",
    "        r=tuple_82[\"r\"],\n",
    "        theta=tuple_82[\"theta\"],\n",
    "        mode=\"lines\",\n",
    "        fill=\"tonext\",\n",
    "        name=\"tuple_82\",\n",
    "        line_color=\"seagreen\",\n",
    "    )\n",
    ")\n",
    "\n",
    "\n",
    "fig.update_layout(showlegend=True)\n",
    "\n",
    "fig.show()"
   ]
  },
  {
   "cell_type": "markdown",
   "metadata": {
    "tags": [
     "specification"
    ]
   },
   "source": [
    "One type of graph that we did not yet consider are scatter plots.\n",
    "\n",
    "<div class=\"alert alert-block alert-info\">\n",
    "\n",
    "**Task 25:**\n",
    "    \n",
    "Use the internal pandas functions to create a scatter plot of the `OrderQty` and `ReceivedQty` attributes in `order_df`. (Help: [pandas Documentation](https://pandas.pydata.org/pandas-docs/dev/reference/api/pandas.DataFrame.plot.scatter.html))\n",
    "</div>\n",
    "\n"
   ]
  },
  {
   "cell_type": "code",
   "execution_count": null,
   "metadata": {
    "tags": [
     "student"
    ]
   },
   "outputs": [],
   "source": [
    "# Draw a scatter plot regarding \"OrderQty\" and \"ReceivedQty\""
   ]
  },
  {
   "cell_type": "code",
   "execution_count": null,
   "metadata": {
    "tags": [
     "solution"
    ]
   },
   "outputs": [],
   "source": [
    "# Draw a scatter plot regarding \"OrderQty\" and \"ReceivedQty\"\n",
    "order_df.plot.scatter(x=\"OrderQty\", y=\"ReceivedQty\")"
   ]
  },
  {
   "cell_type": "markdown",
   "metadata": {
    "tags": [
     "specification"
    ]
   },
   "source": [
    "Within a scatter plot, exactly two attributes are always displayed on different axes. In order to compare more than two attributes with each other, a scatter plot matrix is often used. \n",
    "\n",
    "<div class=\"alert alert-block alert-info\">\n",
    "\n",
    "**Task 26:**\n",
    "    \n",
    "Use seaborn to plot a pair plot that creates a scatter plot matrix of the attributes `OrderQty`, `ReceivedQty` and `RejectedQty` in `order_df`. (Help: [Seaborn Documentation](https://seaborn.pydata.org/generated/seaborn.pairplot.html#seaborn.pairplot))\n",
    "</div>"
   ]
  },
  {
   "cell_type": "code",
   "execution_count": null,
   "metadata": {
    "tags": [
     "student"
    ]
   },
   "outputs": [],
   "source": [
    "# Draw a scatter plot regarding \"OrderQty\", \"ReceivedQty\" and \"RejectedQty\""
   ]
  },
  {
   "cell_type": "code",
   "execution_count": null,
   "metadata": {
    "tags": [
     "solution"
    ]
   },
   "outputs": [],
   "source": [
    "# Draw a scatter plot regarding \"OrderQty\", \"ReceivedQty\" and \"RejectedQty\"\n",
    "sns.pairplot(order_df[[\"OrderQty\", \"ReceivedQty\", \"RejectedQty\"]], diag_kind=\"kde\")"
   ]
  },
  {
   "cell_type": "markdown",
   "metadata": {
    "tags": [
     "specification"
    ]
   },
   "source": [
    "Icon Based Diagrams are often used to show percentage relationships in an understandable way. \n",
    "\n",
    "For example, it can be used to highlight the gender distribution of employees working with our orders."
   ]
  },
  {
   "cell_type": "code",
   "execution_count": null,
   "metadata": {
    "tags": [
     "specification"
    ]
   },
   "outputs": [],
   "source": [
    "# Get unique employees\n",
    "orders_per_employee_df = (\n",
    "    order_df.groupby([\"EmployeeID\", \"FirstName\", \"MiddleName\", \"LastName\", \"Gender\"])\n",
    "    .size()\n",
    "    .reset_index(name=\"Orders\")\n",
    ")\n",
    "\n",
    "# Sort the DataFrame\n",
    "orders_per_employee_df.sort_values(\"Orders\", ascending=False, inplace=True)\n",
    "\n",
    "# Show the head of the orders_per_employee_df\n",
    "orders_per_employee_df.head(15)"
   ]
  },
  {
   "cell_type": "code",
   "execution_count": null,
   "metadata": {
    "tags": [
     "specification"
    ]
   },
   "outputs": [],
   "source": [
    "# Get the count of employees per gender\n",
    "employees_per_gender_df = orders_per_employee_df.groupby([\"Gender\"]).size()\n",
    "\n",
    "# Print the head of this new DataFrame\n",
    "employees_per_gender_df"
   ]
  },
  {
   "cell_type": "markdown",
   "metadata": {
    "tags": [
     "specification"
    ]
   },
   "source": [
    "<div class=\"alert alert-block alert-info\">\n",
    "\n",
    "**Task 27:**\n",
    "    \n",
    "Use PyWaffle to draw an icon diagram regarding the genders of the employees. (Help: [PyWaffle Documentation](https://pywaffle.readthedocs.io/en/latest/examples/plot_with_characters_or_icons.html))\n",
    "</div>"
   ]
  },
  {
   "cell_type": "code",
   "execution_count": null,
   "metadata": {
    "tags": [
     "student"
    ]
   },
   "outputs": [],
   "source": [
    "# Draw the icon diagram"
   ]
  },
  {
   "cell_type": "code",
   "execution_count": null,
   "metadata": {
    "tags": [
     "solution"
    ]
   },
   "outputs": [],
   "source": [
    "# Draw the icon diagram\n",
    "plt.figure(\n",
    "    FigureClass=pywaffle.Waffle,\n",
    "    rows=2,\n",
    "    values=[employees_per_gender_df.loc[\"M\"], employees_per_gender_df.loc[\"F\"]],\n",
    "    colors=[\"#0000ff\", \"#ff0084\"],\n",
    "    font_size=30,\n",
    "    icon_legend=True,\n",
    "    legend={\n",
    "        \"labels\": [\"male\", \"female\"],\n",
    "        \"loc\": \"upper left\",\n",
    "        \"bbox_to_anchor\": (1, 1),\n",
    "    },\n",
    ")\n",
    "plt.tight_layout()"
   ]
  },
  {
   "cell_type": "markdown",
   "metadata": {
    "tags": [
     "specification"
    ]
   },
   "source": [
    "Even better than by Icon Diagrams, distributions can be displayed using tree maps. \n",
    "\n",
    "For example, a tree map can be used to display the count of orders processed per employee."
   ]
  },
  {
   "cell_type": "code",
   "execution_count": null,
   "metadata": {
    "tags": [
     "specification"
    ]
   },
   "outputs": [],
   "source": [
    "# Print the head of orders_per_employee (again)\n",
    "orders_per_employee_df.head(15)"
   ]
  },
  {
   "cell_type": "markdown",
   "metadata": {
    "tags": [
     "specification"
    ]
   },
   "source": [
    "<div class=\"alert alert-block alert-info\">\n",
    "\n",
    "**Task 28:**\n",
    "    \n",
    "Use Squarify to draw a tree map displaying the count of orders processed per employee. (Help: [Squarify Documentation](https://github.com/laserson/squarify#Usage))\n",
    "</div>"
   ]
  },
  {
   "cell_type": "code",
   "execution_count": null,
   "metadata": {
    "tags": [
     "student"
    ]
   },
   "outputs": [],
   "source": [
    "# Draw the tree map"
   ]
  },
  {
   "cell_type": "code",
   "execution_count": null,
   "metadata": {
    "tags": [
     "solution"
    ]
   },
   "outputs": [],
   "source": [
    "# Draw the tree map\n",
    "fig, ax = plt.subplots(1, figsize=(12, 12))\n",
    "squarify.plot(\n",
    "    sizes=orders_per_employee_df[\"Orders\"],\n",
    "    label=[\n",
    "        f'Employee #{employee[\"EmployeeID\"]}:\\n{employee[\"FirstName\"]} {employee[\"MiddleName\"]}. '\n",
    "        f'{employee[\"LastName\"]}\\n\\nOrders:\\n{employee[\"Orders\"]}'\n",
    "        for _, employee in orders_per_employee_df.iterrows()\n",
    "    ],\n",
    "    pad=True,\n",
    ")\n",
    "plt.axis(\"off\")\n",
    "plt.show()"
   ]
  },
  {
   "cell_type": "markdown",
   "metadata": {
    "tags": [
     "specification"
    ]
   },
   "source": [
    "In addition to data visualization, it can also be useful to determine the similarity of data.\n",
    "\n",
    "Data similarity refers to the distance between two data sets. There are many different methods to determine distances between different types of data. \n",
    "\n",
    "In this chapter, we will focus on the distance between numeric data. More specifically, here, we compare previously selected and created tuples, namely `tuple_77` and `tuple_82`."
   ]
  },
  {
   "cell_type": "code",
   "execution_count": null,
   "metadata": {
    "tags": [
     "specification"
    ]
   },
   "outputs": [],
   "source": [
    "tuple_77[\"r\"]"
   ]
  },
  {
   "cell_type": "code",
   "execution_count": null,
   "metadata": {
    "tags": [
     "specification"
    ]
   },
   "outputs": [],
   "source": [
    "tuple_82[\"r\"]"
   ]
  },
  {
   "cell_type": "markdown",
   "metadata": {
    "tags": [
     "specification"
    ]
   },
   "source": [
    "One of the most commonly used methods for calculating the distance between numerical values is the Manhattan distance, also called the L1 norm or City Block. A corresponding function that calculates the appropriate distance can be implemented relatively quickly using a for-loop."
   ]
  },
  {
   "cell_type": "code",
   "execution_count": null,
   "metadata": {
    "tags": [
     "specification"
    ]
   },
   "outputs": [],
   "source": [
    "# Method to compute the Manhattan distance using a for-loop\n",
    "def manhattan_distance(tuple_a, tuple_b):\n",
    "    # We do not check for correct datatypes and same length of both tuples\n",
    "    # However this should be done in a productive environment\n",
    "\n",
    "    # Set the distance to 0\n",
    "    distance = 0\n",
    "\n",
    "    # Add the distance for each tuple\n",
    "    for i in range(len(tuple_a)):\n",
    "        difference = tuple_a[i] - tuple_b[i]\n",
    "        absolute_difference = abs(difference)\n",
    "        distance += absolute_difference\n",
    "\n",
    "    # Return the distance\n",
    "    return distance"
   ]
  },
  {
   "cell_type": "markdown",
   "metadata": {
    "tags": [
     "specification"
    ]
   },
   "source": [
    "In Python, however, one would normally take a more elegant approach and avoid the for-loop."
   ]
  },
  {
   "cell_type": "code",
   "execution_count": null,
   "metadata": {
    "tags": [
     "specification"
    ]
   },
   "outputs": [],
   "source": [
    "# \"Pythonic\" method to compute the Manhattan distance\n",
    "def manhattan_distance(tuple_a, tuple_b):\n",
    "    # We do not check for correct datatypes and same length of both tuples\n",
    "    # However this should be done in a productive environment\n",
    "\n",
    "    # Convert lists to pandas Series\n",
    "    if isinstance(tuple_a, list):\n",
    "        a = pd.Series(tuple_a)\n",
    "    else:\n",
    "        a = tuple_a.copy()\n",
    "    if isinstance(tuple_b, list):\n",
    "        b = pd.Series(tuple_b)\n",
    "    else:\n",
    "        b = tuple_b.copy()\n",
    "\n",
    "    # Compute the manhattan distance with a simple formula\n",
    "    return (abs(a - b)).sum()"
   ]
  },
  {
   "cell_type": "markdown",
   "metadata": {
    "tags": [
     "specification"
    ]
   },
   "source": [
    "<div class=\"alert alert-block alert-info\">\n",
    "\n",
    "**Task 29:**\n",
    "    \n",
    "Use the defined function to compute the Manhattan distance between `tuple_77` and `tuple_82`.\n",
    "</div>"
   ]
  },
  {
   "cell_type": "code",
   "execution_count": null,
   "metadata": {
    "tags": [
     "student"
    ]
   },
   "outputs": [],
   "source": [
    "# Use the defined function to compute the Manhattan distance between tuple_77 and tuple_82"
   ]
  },
  {
   "cell_type": "code",
   "execution_count": null,
   "metadata": {
    "tags": [
     "solution"
    ]
   },
   "outputs": [],
   "source": [
    "# Use the defined function to compute the Manhattan distance between tuple_77 and tuple_82\n",
    "manhattan_distance(tuple_77[\"r\"], tuple_82[\"r\"])"
   ]
  },
  {
   "cell_type": "markdown",
   "metadata": {
    "tags": [
     "specification"
    ]
   },
   "source": [
    "A second common variant is the Euclidean distance, also called L2 norm.\n",
    "\n",
    "<div class=\"alert alert-block alert-info\">\n",
    "\n",
    "**Task 30:**\n",
    "    \n",
    "Complete the following source code to create a function to calculate the Euclidean distance and use it to calculate the Euclidean distance between `tuple_77` and `tuple_82`.\n",
    "</div>"
   ]
  },
  {
   "cell_type": "code",
   "execution_count": null,
   "metadata": {
    "tags": [
     "student"
    ]
   },
   "outputs": [],
   "source": [
    "# Method to compute the euclidean distance\n",
    "def euclidean_distance(tuple_a, tuple_b):\n",
    "    # ...\n",
    "    return -1\n",
    "\n",
    "\n",
    "# Use the defined function to compute the Euclidean distance between tuple_77 and tuple_82\n",
    "# ..."
   ]
  },
  {
   "cell_type": "code",
   "execution_count": null,
   "metadata": {
    "tags": [
     "solution"
    ]
   },
   "outputs": [],
   "source": [
    "# Sample solution 1: Method to compute the euclidean distance using a for-loop\n",
    "def euclidean_distance(tuple_a, tuple_b):\n",
    "    # We do not check for correct datatypes and same length of both tuples\n",
    "    # However this should be done in a productive environment\n",
    "\n",
    "    # Set the distance to 0\n",
    "    distance = 0\n",
    "\n",
    "    # Add the distance for each tuple\n",
    "    for i in range(len(tuple_a)):\n",
    "        difference = tuple_a[i] - tuple_b[i]\n",
    "        absolute_difference = abs(difference)\n",
    "        exponentiated_difference = absolute_difference**2\n",
    "        distance += exponentiated_difference\n",
    "\n",
    "    # Calculate the square root of the distance\n",
    "    distance = distance ** (1 / 2)\n",
    "\n",
    "    # Return the distance\n",
    "    return distance\n",
    "\n",
    "\n",
    "# Use the defined function to compute the distance between tuple_77 and tuple_82\n",
    "euclidean_distance(tuple_77[\"r\"], tuple_82[\"r\"])"
   ]
  },
  {
   "cell_type": "code",
   "execution_count": null,
   "metadata": {
    "tags": [
     "solution"
    ]
   },
   "outputs": [],
   "source": [
    "# Sample solution 2: \"Pythonic\" method to compute the euclidean distance\n",
    "def euclidean_distance(tuple_a, tuple_b):\n",
    "    # We do not check for correct datatypes and same length of both tuples\n",
    "    # However this should be done in a productive environment\n",
    "\n",
    "    # Convert lists to pandas Series\n",
    "    if isinstance(tuple_a, list):\n",
    "        a = pd.Series(tuple_a)\n",
    "    else:\n",
    "        a = tuple_a.copy()\n",
    "    if isinstance(tuple_b, list):\n",
    "        b = pd.Series(tuple_b)\n",
    "    else:\n",
    "        b = tuple_b.copy()\n",
    "\n",
    "    # Compute the euclidean distance with a simple formula\n",
    "    return (abs(a - b) ** 2).sum() ** 0.5\n",
    "\n",
    "\n",
    "# Use the defined function to compute the distance between tuple_77 and tuple_82\n",
    "euclidean_distance(tuple_77[\"r\"], tuple_82[\"r\"])"
   ]
  },
  {
   "cell_type": "markdown",
   "metadata": {
    "tags": [
     "specification"
    ]
   },
   "source": [
    "Apparently, for `tuple_77` and `tuple_82`, the Manhattan distance and the Euclidean distance do not differ. But what about the following two lists?"
   ]
  },
  {
   "cell_type": "code",
   "execution_count": null,
   "metadata": {
    "tags": [
     "specification"
    ]
   },
   "outputs": [],
   "source": [
    "# Lists to compare\n",
    "list_1 = [550, 550, 82]\n",
    "list_2 = [82, 550, 550]"
   ]
  },
  {
   "cell_type": "markdown",
   "metadata": {
    "tags": [
     "specification"
    ]
   },
   "source": [
    "<div class=\"alert alert-block alert-info\">\n",
    "\n",
    "**Task 31:**\n",
    "    \n",
    "Compute the Manhattan distance and the Euclidean distance between `list_1` and `list_2`. \n",
    "</div>"
   ]
  },
  {
   "cell_type": "code",
   "execution_count": null,
   "metadata": {
    "tags": [
     "student"
    ]
   },
   "outputs": [],
   "source": [
    "# Compute the manhattan distance"
   ]
  },
  {
   "cell_type": "code",
   "execution_count": null,
   "metadata": {
    "tags": [
     "student"
    ]
   },
   "outputs": [],
   "source": [
    "# Compute the euclidean distance"
   ]
  },
  {
   "cell_type": "code",
   "execution_count": null,
   "metadata": {
    "tags": [
     "solution"
    ]
   },
   "outputs": [],
   "source": [
    "# Compute the manhattan distance\n",
    "manhattan_distance(list_1, list_2)"
   ]
  },
  {
   "cell_type": "code",
   "execution_count": null,
   "metadata": {
    "tags": [
     "solution"
    ]
   },
   "outputs": [],
   "source": [
    "# Compute the euclidean distance\n",
    "euclidean_distance(list_1, list_2)"
   ]
  },
  {
   "cell_type": "markdown",
   "metadata": {
    "tags": [
     "specification"
    ]
   },
   "source": [
    "<div class=\"alert alert-block alert-info\">\n",
    "\n",
    "**Task 32:**\n",
    "    \n",
    "Consider and explain why the distance measures did not differ for `tuple_77` and `tuple_82`, but did for `list_1` and `list_2`.\n",
    "</div>"
   ]
  },
  {
   "cell_type": "markdown",
   "metadata": {
    "tags": [
     "student"
    ]
   },
   "source": [
    "Write down your solution here:\n"
   ]
  },
  {
   "cell_type": "markdown",
   "metadata": {
    "tags": [
     "solution"
    ]
   },
   "source": [
    "For `list_1` and `list_2`, each value appears in both lists. While the L1 norm evaluates that both the first values of both lists and the last values of both lists differ, the L2 norm \"recognizes\" that the values in both arrays are simply shifted and thus estimates the distance to be smaller."
   ]
  },
  {
   "cell_type": "markdown",
   "metadata": {
    "tags": [
     "specification"
    ]
   },
   "source": [
    "Both the Manhattan distance and the Euclidean distance are special forms of the Minkowski distance. \n",
    "\n",
    "<div class=\"alert alert-block alert-info\">\n",
    "\n",
    "**Task 33:**    \n",
    "    \n",
    "Implement the Minkowski distance using the given code fragment. Use the resulting function to calculate the Manhattan distance and the Euclidean distance of list 1 and list 2 again.\n",
    "</div>"
   ]
  },
  {
   "cell_type": "code",
   "execution_count": null,
   "metadata": {
    "tags": [
     "student"
    ]
   },
   "outputs": [],
   "source": [
    "# Method to compute the minkowski distance\n",
    "def minkowski_distance(tuple_a, tuple_b, h):\n",
    "    # ...\n",
    "    return -1\n",
    "\n",
    "\n",
    "# Use the function to compute the Manhattan and the Euclidean distance between list_1 and list_2 and print them\n",
    "# ..."
   ]
  },
  {
   "cell_type": "code",
   "execution_count": null,
   "metadata": {
    "tags": [
     "solution"
    ]
   },
   "outputs": [],
   "source": [
    "# Sample solution 1: Method to compute the minkowski distance using a for-loop\n",
    "def minkowski_distance(tuple_a, tuple_b, h):\n",
    "    # We do not check for correct datatypes, same length of both tuples and h > 0\n",
    "    # However this should be done in a productive environment\n",
    "\n",
    "    # Set the distance to 0\n",
    "    distance = 0\n",
    "\n",
    "    # Add the distance for each tuple\n",
    "    for i in range(len(tuple_a)):\n",
    "        difference = tuple_a[i] - tuple_b[i]\n",
    "        absolute_difference = abs(difference)\n",
    "        exponentiated_difference = absolute_difference**h\n",
    "        distance += exponentiated_difference\n",
    "\n",
    "    # Calculate the h root of the distance\n",
    "    distance = distance ** (1 / h)\n",
    "\n",
    "    # Return the distance\n",
    "    return distance\n",
    "\n",
    "\n",
    "# Use the function to compute the Manhattan and the Euclidean distance between list_1 and list_2 and print them\n",
    "print(\"Manhattan distance: \", minkowski_distance(list_1, list_2, 1))\n",
    "print(\"Euclidean distance: \", minkowski_distance(list_1, list_2, 2))"
   ]
  },
  {
   "cell_type": "code",
   "execution_count": null,
   "metadata": {
    "tags": [
     "solution"
    ]
   },
   "outputs": [],
   "source": [
    "# Sample solution 2: \"Pythonic\" method to compute the minkowski distance using pandas\n",
    "def minkowski_distance(tuple_a, tuple_b, h):\n",
    "    # We do not check for correct datatypes, same length of both tuples and h > 0\n",
    "    # However this should be done in a productive environment\n",
    "\n",
    "    # Convert lists to pandas Series\n",
    "    if isinstance(tuple_a, list):\n",
    "        a = pd.Series(tuple_a)\n",
    "    else:\n",
    "        a = tuple_a.copy()\n",
    "    if isinstance(tuple_b, list):\n",
    "        b = pd.Series(tuple_b)\n",
    "    else:\n",
    "        b = tuple_b.copy()\n",
    "\n",
    "    # Compute the minkowski distance with a simple formula\n",
    "    return (abs(a - b) ** h).sum() ** (1 / h)\n",
    "\n",
    "\n",
    "# Use the function to compute the Manhattan and the Euclidean distance between list_1 and list_2 and print them\n",
    "print(\"Manhattan distance: \", minkowski_distance(list_1, list_2, 1))\n",
    "print(\"Euclidean distance: \", minkowski_distance(list_1, list_2, 2))"
   ]
  },
  {
   "cell_type": "code",
   "execution_count": null,
   "metadata": {
    "tags": [
     "solution"
    ]
   },
   "outputs": [],
   "source": [
    "# Sample solution 3: \"Pythonic\" method to compute the minkowski distance without pandas\n",
    "def minkowski_distance(tuple_a, tuple_b, h):\n",
    "    # We do not check for correct datatypes, same length of both tuples and h > 0\n",
    "    # However this should be done in a productive environment\n",
    "\n",
    "    # Compute the minkowski distance with a simple formula\n",
    "    return sum([abs(a - b) ** h for a, b in zip(tuple_a, tuple_b)]) ** (1 / h)\n",
    "\n",
    "\n",
    "# Use the function to compute the Manhattan and the Euclidean distance between list_1 and list_2 and print them\n",
    "print(\"Manhattan distance: \", minkowski_distance(list_1, list_2, 1))\n",
    "print(\"Euclidean distance: \", minkowski_distance(list_1, list_2, 2))"
   ]
  }
 ],
 "metadata": {
  "celltoolbar": "Tags",
  "interpreter": {
   "hash": "916dbcbb3f70747c44a77c7bcd40155683ae19c65e1c03b4aa3499c5328201f1"
  },
  "kernelspec": {
   "display_name": "Python 3 (ipykernel)",
   "language": "python",
   "name": "python3"
  },
  "language_info": {
   "codemirror_mode": {
    "name": "ipython",
    "version": 3
   },
   "file_extension": ".py",
   "mimetype": "text/x-python",
   "name": "python",
   "nbconvert_exporter": "python",
   "pygments_lexer": "ipython3",
   "version": "3.11.5"
  }
 },
 "nbformat": 4,
 "nbformat_minor": 4
}
