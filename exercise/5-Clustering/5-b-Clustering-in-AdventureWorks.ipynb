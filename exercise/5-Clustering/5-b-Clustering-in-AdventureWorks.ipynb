{
 "cells": [
  {
   "cell_type": "markdown",
   "metadata": {
    "tags": [
     "specification"
    ]
   },
   "source": [
    "# 5. Clustering\n",
    "\n",
    "This JupyterNotebook is part of an exercise series titled *Clustering*.\n",
    "The series itself is based on lecture *8. Cluster Analysis*.\n",
    "\n",
    "There are two parts:\n",
    "\n",
    "- Part One: Implementing K-means and DBSCAN\n",
    "- Part Two: Clustering in the AdventureWorks Database\n",
    "\n",
    "Again we would like to remind you that we have multiple exercise groups.\n",
    "Depending on how each group progresses, some parts of these exercises may not be discussed in its entirety.\n",
    "If questions arise, ask them in your study group or in our StudOn forum."
   ]
  },
  {
   "cell_type": "markdown",
   "metadata": {
    "tags": [
     "specification"
    ]
   },
   "source": [
    "## Part Two: Clustering in the AdventureWorks Database\n",
    "\n",
    "After implementing two clustering methods in Part One, in this part you get to try out your knowledge of clustering methods within the AdventureWorks database as well. \n",
    "\n",
    "For this purpose, you will be presented with two fictitious scenarios, which you may work on either completely independently or guided:\n",
    "- Clustering of products based on their profitability\n",
    "- Clustering customers based on their interests"
   ]
  },
  {
   "cell_type": "code",
   "execution_count": null,
   "metadata": {
    "tags": [
     "specification"
    ]
   },
   "outputs": [],
   "source": [
    "# Import required libraries\n",
    "import os\n",
    "import tempfile\n",
    "import sqlite3\n",
    "import urllib.request\n",
    "import pandas as pd\n",
    "import seaborn as sns\n",
    "from matplotlib import pyplot as plt\n",
    "from sklearn.cluster import KMeans\n",
    "from sklearn.cluster import DBSCAN\n",
    "from sklearn.cluster import Birch\n",
    "from sklearn.preprocessing import MinMaxScaler"
   ]
  },
  {
   "cell_type": "code",
   "execution_count": null,
   "metadata": {
    "tags": [
     "specification"
    ]
   },
   "outputs": [],
   "source": [
    "# Create a temporary directory\n",
    "dataset_folder = tempfile.mkdtemp()\n",
    "\n",
    "# Build path to database\n",
    "database_path = os.path.join(dataset_folder, \"adventure-works.db\")\n",
    "\n",
    "# Get the database\n",
    "urllib.request.urlretrieve(\n",
    "    \"https://github.com/FAU-CS6/KDD-Databases/raw/main/AdventureWorks/adventure-works.db\",\n",
    "    database_path,\n",
    ")\n",
    "\n",
    "# Open connection to the adventure-works.db\n",
    "connection = sqlite3.connect(database_path)"
   ]
  },
  {
   "cell_type": "markdown",
   "metadata": {
    "tags": [
     "specification"
    ]
   },
   "source": [
    "### Clustering products based on their profitability\n",
    "\n",
    "The first scenario is intended to first look at clustering in practice without major stumbling blocks. For this purpose, you are to put yourself in the following scenario:"
   ]
  },
  {
   "cell_type": "markdown",
   "metadata": {
    "tags": [
     "specification"
    ]
   },
   "source": [
    "*You are once again a Data Scientist at the fictitious company Adventure Works GmbH. After your successful analyses on the topic of Frequent Patterns, your bosses now assign you the task of dividing the products into groups of different profitability.*\n",
    "\n",
    "*In discussions with your business administration colleagues, you learn that the decisive metrics here are probably the number of products actually sold and the profit per product (the sales price minus the production costs).*\n",
    "\n",
    "*The colleagues from IT tell you that you will probably find the required data in the tables `Product` and `SalesOrderDetail`.*"
   ]
  },
  {
   "cell_type": "markdown",
   "metadata": {
    "tags": [
     "specification"
    ]
   },
   "source": [
    "#### Option 1: Solve the Assignment Independently\n",
    "\n",
    "You may, of course, once again set about the task without help. Be aware that the two values suggested by your colleagues may not be available in the required form at the beginning. Also, think about which clustering method is best suited for the tasks.\n",
    "\n",
    "<div class=\"alert alert-block alert-info\">\n",
    "\n",
    "**Task:** Group the products within the OLTP database of the fictitious Adventure Works GmbH according to their profitability. Furthermore, visualize the result.\n",
    "\n",
    "</div>"
   ]
  },
  {
   "cell_type": "code",
   "execution_count": null,
   "metadata": {
    "tags": [
     "student"
    ]
   },
   "outputs": [],
   "source": [
    "# Cluster the products based on their profitability (Code placeholder 01/10)"
   ]
  },
  {
   "cell_type": "code",
   "execution_count": null,
   "metadata": {
    "tags": [
     "student"
    ]
   },
   "outputs": [],
   "source": [
    "# Cluster the products based on their profitability (Code placeholder 02/10)"
   ]
  },
  {
   "cell_type": "code",
   "execution_count": null,
   "metadata": {},
   "outputs": [],
   "source": [
    "# Cluster the products based on their profitability (Code placeholder 03/10)"
   ]
  },
  {
   "cell_type": "code",
   "execution_count": null,
   "metadata": {
    "tags": [
     "student"
    ]
   },
   "outputs": [],
   "source": [
    "# Cluster the products based on their profitability (Code placeholder 04/10)"
   ]
  },
  {
   "cell_type": "code",
   "execution_count": null,
   "metadata": {
    "tags": [
     "student"
    ]
   },
   "outputs": [],
   "source": [
    "# Cluster the products based on their profitability (Code placeholder 05/10)"
   ]
  },
  {
   "cell_type": "code",
   "execution_count": null,
   "metadata": {
    "tags": [
     "student"
    ]
   },
   "outputs": [],
   "source": [
    "# Cluster the products based on their profitability (Code placeholder 06/10)"
   ]
  },
  {
   "cell_type": "code",
   "execution_count": null,
   "metadata": {
    "tags": [
     "student"
    ]
   },
   "outputs": [],
   "source": [
    "# Cluster the products based on their profitability (Code placeholder 07/10)"
   ]
  },
  {
   "cell_type": "code",
   "execution_count": null,
   "metadata": {
    "tags": [
     "student"
    ]
   },
   "outputs": [],
   "source": [
    "# Cluster the products based on their profitability (Code placeholder 08/10)"
   ]
  },
  {
   "cell_type": "code",
   "execution_count": null,
   "metadata": {
    "tags": [
     "student"
    ]
   },
   "outputs": [],
   "source": [
    "# Cluster the products based on their profitability (Code placeholder 09/10)"
   ]
  },
  {
   "cell_type": "code",
   "execution_count": null,
   "metadata": {
    "tags": [
     "student"
    ]
   },
   "outputs": [],
   "source": [
    "# Cluster the products based on their profitability (Code placeholder 10/10)"
   ]
  },
  {
   "cell_type": "code",
   "execution_count": null,
   "metadata": {
    "tags": [
     "solution"
    ]
   },
   "outputs": [],
   "source": [
    "# Sample solution => See Option 2"
   ]
  },
  {
   "cell_type": "markdown",
   "metadata": {
    "tags": [
     "specification"
    ]
   },
   "source": [
    "#### Option 2: Solve the Assignment by Solving Small Tasks \n",
    "\n",
    "A first step in any KDD Task should always be to get a look at the available data. In this case we already know which tables may be relevant for us: `Product` and `SalesOrderDetail`.\n",
    "\n",
    "<div class=\"alert alert-block alert-info\">\n",
    "\n",
    "**Task:** Load the relations `Product` and `SalesOrderDetail` into two individual DataFrames and display the first ten rows of each DataFrame.\n",
    "\n",
    "</div>"
   ]
  },
  {
   "cell_type": "code",
   "execution_count": null,
   "metadata": {
    "tags": [
     "student"
    ]
   },
   "outputs": [],
   "source": [
    "# Load Product into a DataFrame and display the first ten rows"
   ]
  },
  {
   "cell_type": "code",
   "execution_count": null,
   "metadata": {
    "tags": [
     "student"
    ]
   },
   "outputs": [],
   "source": [
    "# Load SalesOrderDetail into a DataFrame and display the first ten rows"
   ]
  },
  {
   "cell_type": "code",
   "execution_count": null,
   "metadata": {
    "tags": [
     "solution"
    ]
   },
   "outputs": [],
   "source": [
    "# Load Product into a DataFrame and display the first ten rows\n",
    "product_df = pd.read_sql_query(\"SELECT * FROM Product\", connection)\n",
    "product_df.head(10)"
   ]
  },
  {
   "cell_type": "code",
   "execution_count": null,
   "metadata": {
    "tags": [
     "solution"
    ]
   },
   "outputs": [],
   "source": [
    "# Load SalesOrderDetail into a DataFrame and display the first ten rows\n",
    "sales_order_detail_df = pd.read_sql_query(\"SELECT * FROM SalesOrderDetail\", connection)\n",
    "sales_order_detail_df.head(10)"
   ]
  },
  {
   "cell_type": "markdown",
   "metadata": {
    "tags": [
     "specification"
    ]
   },
   "source": [
    "It can be seen that the attribute 'ProductID' is probably the link between the two tables. It is less clear how to calculate the two metrics suggested by the business colleagues.\n",
    "\n",
    "<div class=\"alert alert-block alert-info\">\n",
    "\n",
    "**Task:** Consider which attributes are needed for the two proposed metrics and how to combine them. Do not worry about the implementation in SQL/Python at this moment.\n",
    "If you do not yet know everything about the data sets that you need to accomplish this task, try to learn more about the data sets.\n",
    "\n",
    "</div>"
   ]
  },
  {
   "cell_type": "markdown",
   "metadata": {
    "tags": [
     "student"
    ]
   },
   "source": [
    "How to compute the metrics required for the clustering:\n",
    "\n",
    "- **Number of copies sold per product:**  \n",
    "Write down your solution here\n",
    "- **Average profit per copy sold (per product):**  \n",
    "Write down your solution here"
   ]
  },
  {
   "cell_type": "markdown",
   "metadata": {
    "tags": [
     "solution"
    ]
   },
   "source": [
    "How to compute the metrics required for the clustering:\n",
    "\n",
    "- **Number of copies sold per product:**  \n",
    "The table `SalesOrderDetail` contains information on how many products have been sold within that single order (`OrderQty`). If we sum up the `OrderQty` per product we get the number of copies sold per product.\n",
    "- **Average profit per copy sold (per product):**  \n",
    "First of all, it must be understood that the profit per sale can be calculated simply by subtracting the manufacturing cost (`StandardCost` in `Product`) from the actual selling price (`UnitPrice` in `SalesOrderDetail`). In this case, however, should not be summed up for a product, but the average should be determined."
   ]
  },
  {
   "cell_type": "markdown",
   "metadata": {
    "tags": [
     "specification"
    ]
   },
   "source": [
    "<div class=\"alert alert-block alert-info\">\n",
    "\n",
    "**Task:** Calculate both values (`ProfitPerUnit` and `OverallOrderQty`) and generate a corresponding DataFrame `product_overview_df` containing the `ProductID` as well as the `ProfitPerUnit` and the `OverallOrderQty`. You may use SQL and/or Python to perform the computation.\n",
    "\n",
    "</div>"
   ]
  },
  {
   "cell_type": "code",
   "execution_count": null,
   "metadata": {
    "tags": [
     "student"
    ]
   },
   "outputs": [],
   "source": [
    "# Load `ProductID`,`ProfitPerUnit` and `OverallOrderQty` into a DataFrame"
   ]
  },
  {
   "cell_type": "code",
   "execution_count": null,
   "metadata": {
    "tags": [
     "solution"
    ]
   },
   "outputs": [],
   "source": [
    "# Load `ProductID`,`ProfitPerUnit` and `OverallOrderQty` into a DataFrame\n",
    "product_overview_df = pd.read_sql_query(\n",
    "    \"SELECT p.ProductID, AVG(sod.UnitPrice - p.StandardCost) AS ProfitPerUnit, SUM(sod.OrderQty) AS OverallOrderQty FROM Product p, SalesOrderDetail sod WHERE p.ProductID = sod.ProductID GROUP BY p.ProductID\",\n",
    "    connection,\n",
    ")\n",
    "product_overview_df.head(10)"
   ]
  },
  {
   "cell_type": "markdown",
   "metadata": {
    "tags": [
     "specification"
    ]
   },
   "source": [
    "Since the value range of `OverallOrderQty` goes from 4 to 8311 and the value range of `ProfitPerUnit` only goes from about -55 to about 1155, this dataset would not currently be a good fit for most clustering techniques. The `OverallOrderQty` would have a much higher influence in this case, which is why it makes sense to normalize the `product_overview_df` first. \n",
    "\n",
    "<div class=\"alert alert-block alert-info\">\n",
    "\n",
    "**Task:** Normalize the `product_overview_df`. You may write your own function or use a library for this. Already imported is the `MinMaxScaler` from scikit-learn.\n",
    "\n",
    "</div>"
   ]
  },
  {
   "cell_type": "code",
   "execution_count": null,
   "metadata": {
    "tags": [
     "student"
    ]
   },
   "outputs": [],
   "source": [
    "# Normalize the product_overview_df"
   ]
  },
  {
   "cell_type": "code",
   "execution_count": null,
   "metadata": {
    "tags": [
     "solution"
    ]
   },
   "outputs": [],
   "source": [
    "# Normalize the product_overview_df\n",
    "min_max_scaler = MinMaxScaler()\n",
    "product_overview_df[\n",
    "    [\"ProfitPerUnit\", \"OverallOrderQty\"]\n",
    "] = min_max_scaler.fit_transform(\n",
    "    product_overview_df[[\"ProfitPerUnit\", \"OverallOrderQty\"]]\n",
    ")\n",
    "product_overview_df"
   ]
  },
  {
   "cell_type": "markdown",
   "metadata": {
    "tags": [
     "specification"
    ]
   },
   "source": [
    "The now generated DataFrame can be used well for clustering. However, the question is which clustering method should be used. We will focus on K-Mean, DBSCAN and Birch. All of these methods have been presented in the lecture and are implemented in scikit-learn. \n",
    "\n",
    "<div class=\"alert alert-block alert-info\">\n",
    "\n",
    "**Task:** Run scikit-learn's k-means for the DataFrame at hand. You have to determine a good number of clusters yourself. Visualize the results as known from Part One.\n",
    "\n",
    "</div>"
   ]
  },
  {
   "cell_type": "code",
   "execution_count": null,
   "metadata": {
    "tags": [
     "student"
    ]
   },
   "outputs": [],
   "source": [
    "# Perform scikit-learn's k-means clustering on the dataset"
   ]
  },
  {
   "cell_type": "code",
   "execution_count": null,
   "metadata": {
    "tags": [
     "solution"
    ]
   },
   "outputs": [],
   "source": [
    "# Perform scikit-learn's k-means clustering on the dataset\n",
    "kmeans = KMeans(n_clusters=6).fit(\n",
    "    product_overview_df[[\"ProfitPerUnit\", \"OverallOrderQty\"]]\n",
    ")\n",
    "\n",
    "# Save the labels to a copy of the big_dataset to generate the equivalent of our clustered_big_dataset\n",
    "clustered_product_overview_df = product_overview_df.copy()\n",
    "clustered_product_overview_df[\"cluster\"] = kmeans.labels_\n",
    "\n",
    "# Print the result\n",
    "plt.figure(figsize=(8, 8))\n",
    "sns.scatterplot(\n",
    "    x=clustered_product_overview_df[\"ProfitPerUnit\"],\n",
    "    y=clustered_product_overview_df[\"OverallOrderQty\"],\n",
    "    hue=clustered_product_overview_df[\"cluster\"],\n",
    "    palette=\"deep\",\n",
    ")\n",
    "plt.legend(bbox_to_anchor=(1.05, 1), loc=2, borderaxespad=0.0)"
   ]
  },
  {
   "cell_type": "markdown",
   "metadata": {
    "tags": [
     "specification"
    ]
   },
   "source": [
    "<div class=\"alert alert-block alert-info\">\n",
    "\n",
    "**Task:** Run scikit-learn's DBSCAN for the DataFrame at hand. You have to determine a good number of clusters yourself. Visualize the results as known from Part One.\n",
    "\n",
    "</div>"
   ]
  },
  {
   "cell_type": "code",
   "execution_count": null,
   "metadata": {
    "tags": [
     "student"
    ]
   },
   "outputs": [],
   "source": [
    "# Perform scikit-learn's DBSCAN clustering on the dataset"
   ]
  },
  {
   "cell_type": "code",
   "execution_count": null,
   "metadata": {
    "tags": [
     "solution"
    ]
   },
   "outputs": [],
   "source": [
    "# Perform scikit-learn's DBSCAN clustering on the dataset\n",
    "dbscan = DBSCAN(eps=0.2, min_samples=5).fit(\n",
    "    product_overview_df[[\"ProfitPerUnit\", \"OverallOrderQty\"]]\n",
    ")\n",
    "\n",
    "# Save the labels to a copy of the big_dataset to generate the equivalent of our clustered_big_dataset\n",
    "clustered_product_overview_df = product_overview_df.copy()\n",
    "clustered_product_overview_df[\"cluster\"] = dbscan.labels_\n",
    "\n",
    "# Print the result\n",
    "plt.figure(figsize=(8, 8))\n",
    "sns.scatterplot(\n",
    "    x=clustered_product_overview_df[\"ProfitPerUnit\"],\n",
    "    y=clustered_product_overview_df[\"OverallOrderQty\"],\n",
    "    hue=clustered_product_overview_df[\"cluster\"],\n",
    "    palette=\"deep\",\n",
    ")\n",
    "plt.legend(bbox_to_anchor=(1.05, 1), loc=2, borderaxespad=0.0)"
   ]
  },
  {
   "cell_type": "markdown",
   "metadata": {
    "tags": [
     "specification"
    ]
   },
   "source": [
    "<div class=\"alert alert-block alert-info\">\n",
    "\n",
    "**Task:** Run scikit-learn's Birch for the DataFrame at hand. You have to determine a good number of clusters yourself. Visualize the results as known from Part One.\n",
    "\n",
    "</div>"
   ]
  },
  {
   "cell_type": "code",
   "execution_count": null,
   "metadata": {
    "tags": [
     "student"
    ]
   },
   "outputs": [],
   "source": [
    "# Perform scikit-learn's Birch clustering on the dataset"
   ]
  },
  {
   "cell_type": "code",
   "execution_count": null,
   "metadata": {
    "tags": [
     "solution"
    ]
   },
   "outputs": [],
   "source": [
    "# Perform scikit-learn's Birch clustering on the dataset\n",
    "birch = Birch(threshold=0.1, n_clusters=6).fit(\n",
    "    product_overview_df[[\"ProfitPerUnit\", \"OverallOrderQty\"]]\n",
    ")\n",
    "\n",
    "# Save the labels to a copy of the big_dataset to generate the equivalent of our clustered_big_dataset\n",
    "clustered_product_overview_df = product_overview_df.copy()\n",
    "clustered_product_overview_df[\"cluster\"] = birch.labels_\n",
    "\n",
    "# Print the result\n",
    "plt.figure(figsize=(8, 8))\n",
    "sns.scatterplot(\n",
    "    x=clustered_product_overview_df[\"ProfitPerUnit\"],\n",
    "    y=clustered_product_overview_df[\"OverallOrderQty\"],\n",
    "    hue=clustered_product_overview_df[\"cluster\"],\n",
    "    palette=\"deep\",\n",
    ")\n",
    "plt.legend(bbox_to_anchor=(1.05, 1), loc=2, borderaxespad=0.0)"
   ]
  },
  {
   "cell_type": "markdown",
   "metadata": {
    "tags": [
     "specification"
    ]
   },
   "source": [
    "Of course, your fictitious bosses don't want to be presented with three different results from you. A clustering procedure should be chosen. For this purpose, it is useful to compare the results briefly.\n",
    "\n",
    "<div class=\"alert alert-block alert-info\">\n",
    "\n",
    "**Task:** Compare the results you have achieved with all three methods and consider which one you think is best.\n",
    "\n",
    "</div>"
   ]
  },
  {
   "cell_type": "markdown",
   "metadata": {
    "tags": [
     "student"
    ]
   },
   "source": [
    "Write down your solution here:"
   ]
  },
  {
   "cell_type": "markdown",
   "metadata": {
    "tags": [
     "solution"
    ]
   },
   "source": [
    "Of course, this comparison also depends on the results you were able to achieve through optimization of parameters. However some things should be unversally valid:\n",
    "\n",
    "- **K-means and Birch:**  \n",
    "Both k-means and Birch produce quite similar results in this case. With our parameters we can interpret the found clusters the following way: \n",
    "  - Less interesting from a business perspective:\n",
    "    - The cluster that does not bring much profit per unit and that was not sold frequently.\n",
    "    - The cluster that does not bring much profit per unit, but was sold at least a little more often.\n",
    "    - The cluster that brings a little more profit per unit, but which was not sold frequently.\n",
    "  - Interesting from a business perspective:\n",
    "    - The cluster that does not bring much profit per unit, but which was sold at least extremely often.\n",
    "    - The cluster that is average both in terms of profit per unit and frequency of sales.\n",
    "    - The cluster that brings extremely much profit, but which was hardly sold.\n",
    "\n",
    "- **DBSCAN:**  \n",
    "With our parameters we can interpret the found clusters the following way:\n",
    "  - Less interesting from a business perspective:\n",
    "    - Merged into one cluster\n",
    "  - Interesting from a business perspective:\n",
    "    - The cluster that does not bring much profit per unit, but which was sold at least extremely often.\n",
    "    - The cluster that is average both in terms of profit per unit and frequency of sales.\n",
    "    - The cluster that brings extremely much profit, but which was hardly sold.\n",
    "    \n",
    "Since DBSCAN merges the less interesting products into a cluster, it can be said that DBSCAN is probably the better choice here. This way, the focus in a presentation can be placed on the economically more interesting product clusters. \n",
    "\n",
    "However, it is of course not a big problem in this case if k-means or Birch are used, since one can at least argue that here a better distinction is made between completely uninteresting and at least somewhat interesting products."
   ]
  },
  {
   "cell_type": "markdown",
   "metadata": {},
   "source": [
    "### Clustering customers based on their interests\n",
    "\n",
    "<div class=\"alert alert-block alert-warning\">\n",
    "\n",
    "**TODO**: Use `Customer`, `SalesOrderHeader` and `SalesOrderDetail` to cluster Customers in groups interessted in different products.\n",
    "    \n",
    "There are two possiblities to take a look at:\n",
    "- Simple one hot encoding:\n",
    "One column per product id. If the customer ever ordered the product he is interested in the product.\n",
    "- One hot encoding with counts:\n",
    "One column per product id. If the customer ordered the product multiple times he is more interested in the product.   \n",
    "    \n",
    "</div>"
   ]
  }
 ],
 "metadata": {
  "celltoolbar": "Tags",
  "interpreter": {
   "hash": "916dbcbb3f70747c44a77c7bcd40155683ae19c65e1c03b4aa3499c5328201f1"
  },
  "kernelspec": {
   "display_name": "Python 3 (ipykernel)",
   "language": "python",
   "name": "python3"
  },
  "language_info": {
   "codemirror_mode": {
    "name": "ipython",
    "version": 3
   },
   "file_extension": ".py",
   "mimetype": "text/x-python",
   "name": "python",
   "nbconvert_exporter": "python",
   "pygments_lexer": "ipython3",
   "version": "3.10.2"
  }
 },
 "nbformat": 4,
 "nbformat_minor": 4
}
