{
 "cells": [
  {
   "cell_type": "code",
   "execution_count": null,
   "id": "d482660f",
   "metadata": {},
   "outputs": [],
   "source": []
  },
  {
   "cell_type": "markdown",
   "id": "c19c7a8e",
   "metadata": {},
   "source": [
    "# Example notebook\n",
    "\n",
    "This notebook is an example notebook to show colobarrators how to use the Gitlab Action to create a student and a solution version out a single Jupyter notebook.\n",
    "\n",
    "This is done by using `tags` within our Jupyter Notebooks. We use three different ones:\n",
    "    \n",
    "1. The tag `specification` \\\n",
    "Marking all cells that are part of the specification and should be part of the student version and the solution version.\n",
    "    \n",
    "2. The tag `student` \\\n",
    "Marking all cells that should be used by the students to enter their solution. Cells with this tag will be deleted while creating the solution version.\n",
    "    \n",
    "3. The tag `solution` \\\n",
    "Marking all cells that should be contain a solution. Cells with this tag will be deleted while creating the students version.\n",
    "\n",
    "We also use some additional Jupyter notebook cell metadata to avoid that specific cells are deleted or modified by the students:\n",
    "\n",
    "1. The metadata value `deletable` \\\n",
    "If a cell contains the metadata value `\"deletable\": false` it can not be deleted by any student.\n",
    "\n",
    "2. The metadata value `editable` \\\n",
    "If a cell contains the metadata value `\"editable\": false` it can not be modified by any student.\n",
    "\n",
    "These two settings should be set after finalizing an exercise sheet to avoid that the students change anything by mistake. However setting those two values after the inital creation of a cell is not recommended as they have to be unset every time you want to change the content of the cell.\n"
   ]
  },
  {
   "cell_type": "markdown",
   "id": "ff31789e",
   "metadata": {},
   "source": [
    "## Example cells\n",
    "\n",
    "Now we will show the different settings \"in action\".\n"
   ]
  },
  {
   "cell_type": "markdown",
   "id": "be12d806",
   "metadata": {
    "tags": [
     "specification"
    ]
   },
   "source": [
    "### Specification cell\n",
    "\n",
    "This markdown cell and the following code cell contain a specification and are marked with the `specification` tag."
   ]
  },
  {
   "cell_type": "code",
   "execution_count": null,
   "id": "60827c38",
   "metadata": {
    "tags": [
     "specification"
    ]
   },
   "outputs": [],
   "source": [
    "print(\"This is a specification\")"
   ]
  },
  {
   "cell_type": "markdown",
   "id": "eb6ae3fa",
   "metadata": {
    "tags": [
     "student"
    ]
   },
   "source": [
    "### Student cell\n",
    "\n",
    "This markdown cell and the following (empty) code cell contain space for a student solution and are marked with the `student` tag.\n",
    "\n",
    "1. [ ] Yes\n",
    "2. [ ] No\n",
    "3. [ ] Maybe"
   ]
  },
  {
   "cell_type": "code",
   "execution_count": null,
   "id": "6a8bbe31",
   "metadata": {
    "tags": [
     "student"
    ]
   },
   "outputs": [],
   "source": []
  },
  {
   "cell_type": "markdown",
   "id": "dcc39f2a",
   "metadata": {
    "tags": [
     "solution"
    ]
   },
   "source": [
    "### Solution cell\n",
    "\n",
    "This markdown cell and the following code cell contain a solution and are marked with the `solution` tag.\n",
    "\n",
    "1. [X] Yes\n",
    "2. [ ] No\n",
    "3. [ ] Maybe"
   ]
  },
  {
   "cell_type": "code",
   "execution_count": null,
   "id": "0f89ff4f",
   "metadata": {
    "tags": [
     "solution"
    ]
   },
   "outputs": [],
   "source": [
    "print(\"This is the solution\")"
   ]
  },
  {
   "cell_type": "markdown",
   "id": "c6ee4a4a",
   "metadata": {
    "deletable": false
   },
   "source": [
    "### (Not) Deletable cell\n",
    "\n",
    "This markdown cell and the following code cell are marked as being not deletable by the metadata setting `\"deletable\": false`."
   ]
  },
  {
   "cell_type": "code",
   "execution_count": null,
   "id": "70a0bdca",
   "metadata": {
    "deletable": false
   },
   "outputs": [],
   "source": [
    "print(\"This cell is not deletable\")"
   ]
  },
  {
   "cell_type": "markdown",
   "id": "368e3d98",
   "metadata": {
    "editable": false
   },
   "source": [
    "### (Not) Editable cell\n",
    "\n",
    "This markdown cell and the following code cell are marked as being not editable by the metadata setting `\"editable\": false`."
   ]
  },
  {
   "cell_type": "code",
   "execution_count": null,
   "id": "1b5b3ecb",
   "metadata": {
    "editable": false
   },
   "outputs": [],
   "source": [
    "print(\"This cell is not editable\")"
   ]
  }
 ],
 "metadata": {
  "celltoolbar": "Edit Metadata",
  "kernelspec": {
   "display_name": "Python 3 (ipykernel)",
   "language": "python",
   "name": "python3"
  },
  "language_info": {
   "codemirror_mode": {
    "name": "ipython",
    "version": 3
   },
   "file_extension": ".py",
   "mimetype": "text/x-python",
   "name": "python",
   "nbconvert_exporter": "python",
   "pygments_lexer": "ipython3",
   "version": "3.10.2"
  }
 },
 "nbformat": 4,
 "nbformat_minor": 5
}
