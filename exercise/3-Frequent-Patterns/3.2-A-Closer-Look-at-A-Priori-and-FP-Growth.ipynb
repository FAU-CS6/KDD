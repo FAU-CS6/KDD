{
 "cells": [
  {
   "cell_type": "markdown",
   "metadata": {
    "tags": [
     "specification"
    ]
   },
   "source": [
    "# 3. Frequent Patterns\n",
    "\n",
    "This JupyterNotebook is part of an exercise series titled *Frequent Patterns*.\\\n",
    "The series itself is based on lecture *6. Mining Frequent Patterns, Associations and Correlations*. \n",
    "\n",
    "This exercise series is divided into two parts. There will be one exercise session per part (= one part per week):\n",
    "\n",
    "- **3.1.** [Mining Frequent Patterns in Python](./3.1-Mining-Frequent-Patterns-in-Python.ipynb) (*last weeks notebook*)\n",
    "- **3.2.** A Closer Look at Apriori and FP-growth (*this notebook*)\n",
    "    - **3.2.1.** [Apriori](#3.2.1.-Apriori)\n",
    "        - **3.2.1.1.** [Application by Hand](#3.2.1.1.-Application-by-Hand)\n",
    "        - **3.2.1.2.** [Implementation](#3.2.1.2.-Implementation)\n",
    "    - **3.2.2.** [FP-growth](#3.2.2.-FP-growth)\n",
    "        - **3.2.2.1.** [Application by Hand](#3.2.2.1.-Application-by-Hand)\n",
    "        - **3.2.2.2.** [Implementation](#3.2.2.2.-Implementation)\n",
    "\n",
    "<div class=\"alert alert-block alert-warning\">\n",
    "\n",
    "**Important:**\n",
    "    \n",
    "Work on the respective part yourself **BEFORE** each exercise session. The exercise session is **NOT** intended to take a first look at the exercise sheet, but to solve problems students had while preparing the exercise sheet beforehand.\n",
    "    \n",
    "</div>"
   ]
  },
  {
   "cell_type": "markdown",
   "metadata": {
    "tags": [
     "specification"
    ]
   },
   "source": [
    "## 3.2. A Closer Look at Apriori and FP-growth\n",
    "\n",
    "In this part we will take a closer look at Apriori and FP-growth known from the lecture.\n",
    "\n",
    "In the following, you will first apply both methods step by step by hand to a data set and then write your own implementation for both methods."
   ]
  },
  {
   "cell_type": "code",
   "execution_count": null,
   "metadata": {
    "tags": [
     "specification"
    ]
   },
   "outputs": [],
   "source": [
    "# Import the required libraries\n",
    "import itertools\n",
    "import pandas as pd\n",
    "from dataclasses import dataclass, field"
   ]
  },
  {
   "cell_type": "markdown",
   "metadata": {
    "tags": [
     "specification"
    ]
   },
   "source": [
    "We will take a look at a very small example data set."
   ]
  },
  {
   "cell_type": "code",
   "execution_count": null,
   "metadata": {
    "tags": [
     "specification"
    ]
   },
   "outputs": [],
   "source": [
    "# A very small data set in the form of a list (transactions) of sets (items)\n",
    "dataset = [\n",
    "    {\"Apple\", \"Banana\", \"Cherry\"},\n",
    "    {\"Banana\", \"Cherry\"},\n",
    "    {\"Cherry\", \"Apple\"},\n",
    "    {\"Dragonfruit\", \"Apple\", \"Banana\"},\n",
    "    {\"Apple\", \"Dragonfruit\"},\n",
    "]"
   ]
  },
  {
   "cell_type": "markdown",
   "metadata": {
    "tags": [
     "specification"
    ]
   },
   "source": [
    "### 3.2.1. Apriori\n",
    "\n",
    "The first method we consider is Apriori.\n",
    "It is a very basic approach, which requires many accesses to the data set under consideration."
   ]
  },
  {
   "cell_type": "markdown",
   "metadata": {
    "tags": [
     "specification"
    ]
   },
   "source": [
    "#### 3.2.1.1. Application by Hand\n",
    "\n",
    "In order to familiarise yourself with Apriori, you should first apply Apriori by hand.\n",
    "\n",
    "Given is the small data set:"
   ]
  },
  {
   "cell_type": "markdown",
   "metadata": {
    "tags": [
     "specification"
    ]
   },
   "source": [
    "| ID |         Transaction        |\n",
    "|:--:|:--------------------------:|\n",
    "|  1 | *Apple*, *Banana*, *Cherry* |\n",
    "|  2 |       *Banana*, *Cherry*       |\n",
    "|  3 |        *Cherry*, *Apple*       |\n",
    "|  4 | *Dragonfruit*, *Apple*, *Banana* |\n",
    "|  5 |     *Apple*, *Dragonfruit*     |"
   ]
  },
  {
   "cell_type": "markdown",
   "metadata": {
    "tags": [
     "specification"
    ]
   },
   "source": [
    "You are now to apply Apriori - as it is known from the lecture - to this data set by hand. Use a minimum support count of two:\n",
    "\n",
    "- **Option 1:** [Apply Apriori on your own](#Option-1:-Apply-Apriori-on-your-own)\n",
    "- **Option 2:** [Apply Apriori step by step](#Option-2:-Apply-Apriori-step-by-step)\n",
    "\n",
    "It is recommended that you first try it on your own and only resort to the guided step-by-step variant if you have problems."
   ]
  },
  {
   "cell_type": "markdown",
   "metadata": {
    "tags": [
     "specification"
    ]
   },
   "source": [
    "##### Option 1: Apply Apriori on your own\n",
    "\n",
    "<div class=\"alert alert-block alert-info\">\n",
    "\n",
    "**Task 1.1:** \n",
    "    \n",
    "Use *Apriori* to find all frequent itemsets for a minimum support count of 2. Write down all intermediate steps.\n",
    "\n",
    "</div>"
   ]
  },
  {
   "cell_type": "markdown",
   "metadata": {
    "tags": [
     "student"
    ]
   },
   "source": [
    "Write down your solution here:"
   ]
  },
  {
   "cell_type": "markdown",
   "metadata": {
    "tags": [
     "solution"
    ]
   },
   "source": [
    "Sample solution => See Option 2"
   ]
  },
  {
   "cell_type": "markdown",
   "metadata": {
    "tags": [
     "specification"
    ]
   },
   "source": [
    "##### Option 2: Apply Apriori step by step\n",
    "\n",
    "The first step of Apriori is to count the occurrences of all 1-itemsets (e.g. in how many transactions does *Apple* occur?).\n",
    "\n",
    "<div class=\"alert alert-block alert-info\">\n",
    "\n",
    "**Task 1.2.1:** \n",
    "    \n",
    "Count the occurences of all 1-itemsets.\n",
    "\n",
    "</div>"
   ]
  },
  {
   "cell_type": "markdown",
   "metadata": {
    "tags": [
     "student"
    ]
   },
   "source": [
    "|  1-itemset  | Occurences |\n",
    "|:-----------:|:----------:|\n",
    "|    *Apple*    |      ?     |\n",
    "|    *Banana*   |      ?     |\n",
    "|    *Cherry*   |      ?     |\n",
    "| *Dragonfruit* |      ?     |"
   ]
  },
  {
   "cell_type": "markdown",
   "metadata": {
    "tags": [
     "solution"
    ]
   },
   "source": [
    "|  1-itemset  | Occurences |\n",
    "|:-----------:|:----------:|\n",
    "|    *Apple*    |      4     |\n",
    "|    *Banana*   |      3     |\n",
    "|    *Cherry*   |      3     |\n",
    "| *Dragonfruit* |      2     |"
   ]
  },
  {
   "cell_type": "markdown",
   "metadata": {
    "tags": [
     "specification"
    ]
   },
   "source": [
    "The second step is to prune all non-frequent 1-itemsets.\n",
    "\n",
    "<div class=\"alert alert-block alert-info\">\n",
    "\n",
    "**Task 1.2.2:**\n",
    "    \n",
    "Prune all non-frequent 1-itemsets. Use a minimum support count of 2.\n",
    "\n",
    "</div>"
   ]
  },
  {
   "cell_type": "markdown",
   "metadata": {
    "tags": [
     "student"
    ]
   },
   "source": [
    "Write down your solution here:"
   ]
  },
  {
   "cell_type": "markdown",
   "metadata": {
    "tags": [
     "solution"
    ]
   },
   "source": [
    "All 1-itemsets satisfy the minimum support count. Therefore the frequent 1-itemsets are:\n",
    "- *Apple* \n",
    "- *Banana*\n",
    "- *Cherry*\n",
    "- *Dragonfruit*"
   ]
  },
  {
   "cell_type": "markdown",
   "metadata": {
    "tags": [
     "specification"
    ]
   },
   "source": [
    "The third step is the generation of all length-2-candidates. \n",
    "\n",
    "<div class=\"alert alert-block alert-info\">\n",
    "\n",
    "**Task 1.2.3:**\n",
    "    \n",
    "Generate all lenght-2-candidates by combining the frequent 1-itemsets together.\n",
    "\n",
    "</div>"
   ]
  },
  {
   "cell_type": "markdown",
   "metadata": {
    "tags": [
     "student"
    ]
   },
   "source": [
    "Write down your solution here:"
   ]
  },
  {
   "cell_type": "markdown",
   "metadata": {
    "tags": [
     "solution"
    ]
   },
   "source": [
    "The lenght-2-candidates are:\n",
    "- *Apple*, *Banana*\n",
    "- *Apple*, *Cherry*\n",
    "- *Apple*, *Dragonfruit*\n",
    "- *Banana*, *Cherry*\n",
    "- *Banana*, *Dragonfruit*\n",
    "- *Cherry*, *Dragonfruit*"
   ]
  },
  {
   "cell_type": "markdown",
   "metadata": {
    "tags": [
     "specification"
    ]
   },
   "source": [
    "The fourth step is counting the occurrences of each candidate.\n",
    "\n",
    "<div class=\"alert alert-block alert-info\">\n",
    "\n",
    "**Task 1.2.4:**\n",
    "    \n",
    "Count the occurences of all lenght-2-candidates.\n",
    "\n",
    "</div>"
   ]
  },
  {
   "cell_type": "markdown",
   "metadata": {
    "tags": [
     "student"
    ]
   },
   "source": [
    "Write down your solution here:"
   ]
  },
  {
   "cell_type": "markdown",
   "metadata": {
    "tags": [
     "solution"
    ]
   },
   "source": [
    "|      2-itemset      | Occurences |\n",
    "|:-------------------:|:----------:|\n",
    "|    *Apple*, *Banana*    |      2     |\n",
    "|    *Apple*, *Cherry*    |      2     |\n",
    "|  *Apple*, *Dragonfruit* |      2     |\n",
    "|    *Banana*, *Cherry*   |      2     |\n",
    "| *Banana*, *Dragonfruit* |      1     |\n",
    "| *Cherry*, *Dragonfruit* |      0     |"
   ]
  },
  {
   "cell_type": "markdown",
   "metadata": {
    "tags": [
     "specification"
    ]
   },
   "source": [
    "The fifth step is to prune the non-frequent 2-itemsets.\n",
    "\n",
    "<div class=\"alert alert-block alert-info\">\n",
    "\n",
    "**Task 1.2.5:**\n",
    "    \n",
    "Prune all non-frequent 1-itemsets. Use a minimum support count of 2.\n",
    "\n",
    "</div>"
   ]
  },
  {
   "cell_type": "markdown",
   "metadata": {
    "tags": [
     "student"
    ]
   },
   "source": [
    "Write down your solution here:"
   ]
  },
  {
   "cell_type": "markdown",
   "metadata": {
    "tags": [
     "solution"
    ]
   },
   "source": [
    "All but two 2-itemsets satisfy the minimum support count. Therefore the frequent 2-itemsets are:\n",
    "- *Apple*, *Banana*\n",
    "- *Apple*, *Cherry*\n",
    "- *Apple*, *Dragonfruit*\n",
    "- *Banana*, *Cherry*"
   ]
  },
  {
   "cell_type": "markdown",
   "metadata": {
    "tags": [
     "specification"
    ]
   },
   "source": [
    "The sixth step is the generation of all length-3-candidates. \n",
    "\n",
    "<div class=\"alert alert-block alert-info\">\n",
    "\n",
    "**Task 1.2.6:**\n",
    "    \n",
    "Generate all lenght-3-candidates.\n",
    "\n",
    "</div>"
   ]
  },
  {
   "cell_type": "markdown",
   "metadata": {
    "tags": [
     "student"
    ]
   },
   "source": [
    "Write down your solution here:"
   ]
  },
  {
   "cell_type": "markdown",
   "metadata": {
    "tags": [
     "solution"
    ]
   },
   "source": [
    "The lenght-3-candidates are:\n",
    "- *Apple*, *Banana*, *Cherry*\n",
    "\n",
    "**Common mistake**:\n",
    "A *common mistake* is that *Apple*, *Banana*, *Dragonfruit* , *Apple*, *Cherry*, *Dragonfruit* and *Banana*, *Cherry*, *Dragonfruit* are generated as length-3-candidates. These 3-itemsets each contain at least one non-frequent 2-itemset (e.g  *Apple*, *Banana*, *Dragonfruit* contains *Banana*, *Dragonfruit*) and are therefore *not* valid length-3-candidates."
   ]
  },
  {
   "cell_type": "markdown",
   "metadata": {
    "tags": [
     "specification"
    ]
   },
   "source": [
    "The steps of counting, pruning and generation are repeated until the generation produces no new candidates.\n",
    "\n",
    "<div class=\"alert alert-block alert-info\">\n",
    "\n",
    "**Task 1.2.7:**\n",
    "    \n",
    "Continue Apriori until no new candidates are generated. Continue using a minimum support count of 2.\n",
    "\n",
    "</div>"
   ]
  },
  {
   "cell_type": "markdown",
   "metadata": {
    "tags": [
     "student"
    ]
   },
   "source": [
    "Write down your solution here:"
   ]
  },
  {
   "cell_type": "markdown",
   "metadata": {
    "tags": [
     "solution"
    ]
   },
   "source": [
    "**7. Step:** Count occurences of length-3-candidates:\n",
    "\n",
    "    - *Apple*, *Banana*, *Cherry* is occuring once.\n",
    "\n",
    "**8. Step:** Pruning of non-frequent 3-itemsets:\n",
    "\n",
    "    - No 3-itemsets satisfy the minimum support count.\n",
    "\n",
    "**9. Step:** Generation of length-4-candidates:\n",
    "\n",
    "    - No 4-itemsets are generated\n",
    "\n",
    "**10. Step:** Termination"
   ]
  },
  {
   "cell_type": "markdown",
   "metadata": {
    "tags": [
     "specification"
    ]
   },
   "source": [
    "<div class=\"alert alert-block alert-info\">\n",
    "\n",
    "**Task 1.2.8:**\n",
    "    \n",
    "Write down all the frequent itemsets you have found in the course of applying Apriori.\n",
    "\n",
    "</div>"
   ]
  },
  {
   "cell_type": "markdown",
   "metadata": {
    "tags": [
     "student"
    ]
   },
   "source": [
    "Write down your solution here:"
   ]
  },
  {
   "cell_type": "markdown",
   "metadata": {
    "tags": [
     "solution:"
    ]
   },
   "source": [
    "Frequent itemsets for are minimum support count of 2 are:\n",
    "- *Apple* \n",
    "- *Banana*\n",
    "- *Cherry*\n",
    "- *Dragonfruit*\n",
    "- *Apple*, *Banana*\n",
    "- *Apple*, *Cherry*\n",
    "- *Apple*, *Dragonfruit*\n",
    "- *Banana*, *Cherry*"
   ]
  },
  {
   "cell_type": "markdown",
   "metadata": {
    "tags": [
     "specification"
    ]
   },
   "source": [
    "#### 3.2.1.2. Implementation\n",
    "\n",
    "The next step in the learning process is to implement Apriori. \n",
    "\n",
    "To make your work a little easier, we will give you the classes `Itemset` and `ItemsetList` to hand.\n",
    "\n",
    "`Itemset` is a (data)class to store a set of items together with the count of occurrences of these items in our data set."
   ]
  },
  {
   "cell_type": "code",
   "execution_count": null,
   "metadata": {
    "tags": [
     "specification"
    ]
   },
   "outputs": [],
   "source": [
    "# The (data)class Itemset\n",
    "@dataclass\n",
    "class Itemset:\n",
    "    # Attributes\n",
    "    items: set\n",
    "    occurrence_count: int = 0\n",
    "\n",
    "\n",
    "# Example of usage (might be a hint for later tasks)\n",
    "# Create an example Itemset\n",
    "example_itemset = Itemset({\"Beer\", \"Nuts\"})\n",
    "\n",
    "# Increase the occurrence_count\n",
    "example_itemset.occurrence_count += 1\n",
    "\n",
    "# Check whether this itemset is a subset of a bigger set of items\n",
    "example_itemset.items.issubset({\"Beer\", \"Nuts\", \"Diapers\"})\n",
    "example_itemset"
   ]
  },
  {
   "cell_type": "markdown",
   "metadata": {
    "tags": [
     "specification"
    ]
   },
   "source": [
    "`ItemsetList` is a list of `Itemset`s providing some functions you might want to use in later tasks."
   ]
  },
  {
   "cell_type": "code",
   "execution_count": null,
   "metadata": {
    "tags": [
     "specification"
    ]
   },
   "outputs": [],
   "source": [
    "# The class ItemsetList\n",
    "class ItemsetList:\n",
    "    # Constructor\n",
    "    def __init__(self, itemsets: list[Itemset]):\n",
    "        self.itemsets = itemsets\n",
    "\n",
    "    # Functions\n",
    "    def get_itemsets_with_items(self, items: set):\n",
    "        \"\"\"Return all Itemsets which are containing exactly the passed items\"\"\"\n",
    "        return [x for x in self.itemsets if x.items == items]\n",
    "\n",
    "    def contains_itemset_with_items(self, items: set):\n",
    "        \"\"\"Check if a there is at least an Itemset containing exactly the passed items\"\"\"\n",
    "        return len(self.get_itemsets_with_items(items)) > 0\n",
    "\n",
    "    def get_itemsets_with_superset_of_items(self, items: set):\n",
    "        \"\"\"Return all Itemsets which are containing a superset of the passed items\"\"\"\n",
    "        return [x for x in self.itemsets if x.items.issuperset(items)]\n",
    "\n",
    "    def contains_itemset_with_superset_of_items(self, items: set):\n",
    "        \"\"\"Check if a there is at least an Itemset containing a superset of the passed items\"\"\"\n",
    "        return len(self.get_itemsets_with_superset_of_items(items)) > 0\n",
    "\n",
    "    def get_itemsets_with_subset_of_items(self, items: set):\n",
    "        \"\"\"Return all Itemsets which are containing a subset of the passed items\"\"\"\n",
    "        return [x for x in self.itemsets if x.items.issubset(items)]\n",
    "\n",
    "    def contains_itemset_with_subset_of_items(self, items: set):\n",
    "        \"\"\"Check if a there is at least an Itemset containing a subset of the passed items\"\"\"\n",
    "        return len(self.get_itemsets_with_subset_of_items(items)) > 0\n",
    "\n",
    "\n",
    "# Example of usage (might be a hint for later tasks)\n",
    "# Create an example ItemsetList\n",
    "example_itemset_list = ItemsetList([])\n",
    "\n",
    "# Add our example itemset to the list\n",
    "example_itemset_list.itemsets.append(example_itemset)\n",
    "\n",
    "# Check if there is a itemset with exactly the items Beer and Nuts\n",
    "example_itemset_list.contains_itemset_with_items({\"Beer\", \"Nuts\"})\n",
    "\n",
    "# Get the itemsets with a subset of the items Beer and Nuts\n",
    "example_itemset_list.get_itemsets_with_subset_of_items({\"Beer\", \"Nuts\", \"Diapers\"})\n",
    "example_itemset_list.itemsets"
   ]
  },
  {
   "cell_type": "markdown",
   "metadata": {
    "tags": [
     "specification"
    ]
   },
   "source": [
    "During implementation you are free to tackle the task completely on your own, or to be helped by a step-by-step guided task set:\n",
    "\n",
    "- **Option 1:** [Implementation of Apriori on your own](#Option-1:-Implementation-of-Apriori-on-your-own)\n",
    "- **Option 2:** [Step-by-step implementation of Apriori](#Option-2:-Step-by-step-implementation-of-Apriori)"
   ]
  },
  {
   "cell_type": "markdown",
   "metadata": {
    "tags": [
     "specification"
    ]
   },
   "source": [
    "##### Option 1: Implementation of Apriori on your own\n",
    "\n",
    "Some of you may prefer to come up with your own way to implement Apriori.\n",
    "In this case, a comprehensive explanation of the method is available in the lecture.\n",
    "\n",
    "<div class=\"alert alert-block alert-info\">\n",
    "\n",
    "**Task 2.1:**\n",
    "    \n",
    "Use the knowledge of Apriori that you acquired in the lecture to implement a method `a_priori` that extracts all frequent patterns from a dataset for a given `minimal_support_count`.\n",
    "Of course, you are also allowed to implement as many auxiliary functions as you want.\n",
    "If you are in need of more code cells than provided, feel free to add more.\n",
    "\n",
    "</div>\n"
   ]
  },
  {
   "cell_type": "code",
   "execution_count": null,
   "metadata": {
    "tags": [
     "student"
    ]
   },
   "outputs": [],
   "source": [
    "# Implement an a_priori function (Code placeholder 01/10)"
   ]
  },
  {
   "cell_type": "code",
   "execution_count": null,
   "metadata": {
    "tags": [
     "student"
    ]
   },
   "outputs": [],
   "source": [
    "# Implement an a_priori function (Code placeholder 02/10)"
   ]
  },
  {
   "cell_type": "code",
   "execution_count": null,
   "metadata": {
    "tags": [
     "student"
    ]
   },
   "outputs": [],
   "source": [
    "# Implement an a_priori function (Code placeholder 03/10)"
   ]
  },
  {
   "cell_type": "code",
   "execution_count": null,
   "metadata": {
    "tags": [
     "student"
    ]
   },
   "outputs": [],
   "source": [
    "# Implement an a_priori function (Code placeholder 04/10)"
   ]
  },
  {
   "cell_type": "code",
   "execution_count": null,
   "metadata": {
    "tags": [
     "student"
    ]
   },
   "outputs": [],
   "source": [
    "# Implement an a_priori function (Code placeholder 05/10)"
   ]
  },
  {
   "cell_type": "code",
   "execution_count": null,
   "metadata": {
    "tags": [
     "student"
    ]
   },
   "outputs": [],
   "source": [
    "# Implement an a_priori function (Code placeholder 06/10)"
   ]
  },
  {
   "cell_type": "code",
   "execution_count": null,
   "metadata": {
    "tags": [
     "student"
    ]
   },
   "outputs": [],
   "source": [
    "# Implement an a_priori function (Code placeholder 07/10)"
   ]
  },
  {
   "cell_type": "code",
   "execution_count": null,
   "metadata": {
    "tags": [
     "student"
    ]
   },
   "outputs": [],
   "source": [
    "# Implement an a_priori function (Code placeholder 08/10)"
   ]
  },
  {
   "cell_type": "code",
   "execution_count": null,
   "metadata": {
    "tags": [
     "student"
    ]
   },
   "outputs": [],
   "source": [
    "# Implement an a_priori function (Code placeholder 09/10)"
   ]
  },
  {
   "cell_type": "code",
   "execution_count": null,
   "metadata": {
    "tags": [
     "student"
    ]
   },
   "outputs": [],
   "source": [
    "# Implement an a_priori function (Code placeholder 10/10)"
   ]
  },
  {
   "cell_type": "code",
   "execution_count": null,
   "metadata": {
    "tags": [
     "student"
    ]
   },
   "outputs": [],
   "source": [
    "# Sample a_priori sceleton\n",
    "# NOTE: You are allowed to use this sceleton but don't have to\n",
    "def a_priori(dataset, minimal_support_count):\n",
    "    # ...\n",
    "    return ItemsetList([])"
   ]
  },
  {
   "cell_type": "code",
   "execution_count": null,
   "metadata": {
    "tags": [
     "student"
    ]
   },
   "outputs": [],
   "source": [
    "# Execute a_priori for our dataset (minimal_support_count = 3)\n",
    "# NOTE: You might want to change this \"test\" if it doesn't work this way with your function\n",
    "frequent_patterns = a_priori(dataset, 3)\n",
    "frequent_patterns"
   ]
  },
  {
   "cell_type": "code",
   "execution_count": null,
   "metadata": {
    "tags": [
     "solution"
    ]
   },
   "outputs": [],
   "source": [
    "# Sample solution => See Option 2"
   ]
  },
  {
   "cell_type": "markdown",
   "metadata": {
    "tags": [
     "specification"
    ]
   },
   "source": [
    "##### Option 2: Step-by-step implementation of Apriori\n",
    "\n",
    "The first step in Apriori is to scan the dataset once to get all 1-itemsets.\n",
    "To avoid scanning the dataset multiple times during the search for frequent 1-itemsets the count of occurrences of each item is determined during this step.\n",
    "\n",
    "<div class=\"alert alert-block alert-info\">\n",
    "\n",
    "**Task 2.2.1:**\n",
    "    \n",
    "Complete the function below, which is intended to generate all 1-itemsets and their occurrence count based on a given dataset.\n",
    "\n",
    "</div>"
   ]
  },
  {
   "cell_type": "code",
   "execution_count": null,
   "metadata": {
    "tags": [
     "student"
    ]
   },
   "outputs": [],
   "source": [
    "# Implement a function to generate all 1-itemsets\n",
    "def generate_one_itemsets(dataset):\n",
    "    # Initialize an ItemsetList\n",
    "    itemsets = ItemsetList([])\n",
    "\n",
    "    # ...\n",
    "\n",
    "    # Return the itemsets\n",
    "    return itemsets\n",
    "\n",
    "\n",
    "# Get all 1-itemsets (and their occurrence count) within our dataset\n",
    "one_itemsets = generate_one_itemsets(dataset)\n",
    "one_itemsets.itemsets"
   ]
  },
  {
   "cell_type": "code",
   "execution_count": null,
   "metadata": {
    "tags": [
     "solution"
    ]
   },
   "outputs": [],
   "source": [
    "# Implement a function to generate all 1-itemsets\n",
    "def generate_one_itemsets(dataset):\n",
    "    # Initialize an ItemsetList\n",
    "    itemsets = ItemsetList([])\n",
    "\n",
    "    # Iterate over all transactions\n",
    "    for transaction in dataset:\n",
    "        # Iterate over all items contained in that transaction\n",
    "        for item in transaction:\n",
    "            # Check whether the itemset already exists in itemsets\n",
    "            if itemsets.contains_itemset_with_items({item}):\n",
    "                # If yes just increment the items count\n",
    "                itemsets.get_itemsets_with_items({item})[0].occurrence_count += 1\n",
    "            else:\n",
    "                # If no add the item to itemsets (occurrence_count has to be 1, as it is the first occurrence)\n",
    "                itemsets.itemsets.append(Itemset({item}, 1))\n",
    "\n",
    "    # Return the itemsets\n",
    "    return itemsets\n",
    "\n",
    "\n",
    "# Get all 1-itemsets (and their occurrence count) within our dataset\n",
    "one_itemsets = generate_one_itemsets(dataset)\n",
    "one_itemsets.itemsets"
   ]
  },
  {
   "cell_type": "markdown",
   "metadata": {
    "tags": [
     "specification"
    ]
   },
   "source": [
    "Only items that are occurring more often or the same number of times as defined in `minimal_support_count` are frequent 1-itemsets.\n",
    "For this reason, the next necessary step is to prune all itemsets that occur less frequently than this value.\n",
    "\n",
    "<div class=\"alert alert-block alert-info\">\n",
    "\n",
    "**Task 2.2.2:**\n",
    "    \n",
    "Create the function `prune_itemsets` that removes itemsets that do not satisfy `minimal_support_count` (we use a `minimal_support_count` of 3 in this example).\n",
    "\n",
    "</div>"
   ]
  },
  {
   "cell_type": "code",
   "execution_count": null,
   "metadata": {
    "tags": [
     "student"
    ]
   },
   "outputs": [],
   "source": [
    "# Implement a function to prune itemsets that occurred less then minimal_support times\n",
    "def prune_itemsets(itemsets, minimal_support_count):\n",
    "    # Initialize an ItemsetList\n",
    "    frequent_itemsets = ItemsetList([])\n",
    "\n",
    "    # ...\n",
    "\n",
    "    # Return the itemsets\n",
    "    return frequent_itemsets\n",
    "\n",
    "\n",
    "# Prune every itemset occuring less then three times\n",
    "frequent_one_itemsets = prune_itemsets(one_itemsets, 3)\n",
    "frequent_one_itemsets.itemsets"
   ]
  },
  {
   "cell_type": "code",
   "execution_count": null,
   "metadata": {
    "tags": [
     "solution"
    ]
   },
   "outputs": [],
   "source": [
    "# Implement a function to prune itemsets that occurred less then minimal_support times\n",
    "def prune_itemsets(itemsets, minimal_support_count):\n",
    "    # Initialize an ItemsetList\n",
    "    frequent_itemsets = ItemsetList([])\n",
    "\n",
    "    # Get all itemsets that occurred at least minimal_support_count times\n",
    "    # This is very similar to the functions given in ItemsetList\n",
    "    # but yet it is not included in ItemsetList to provide a little challenge\n",
    "    frequent_itemsets.itemsets = [\n",
    "        x for x in itemsets.itemsets if x.occurrence_count >= minimal_support_count\n",
    "    ]\n",
    "\n",
    "    # Return the itemsets\n",
    "    return frequent_itemsets\n",
    "\n",
    "\n",
    "# Prune every itemset occuring less then three times\n",
    "frequent_one_itemsets = prune_itemsets(one_itemsets, 3)\n",
    "frequent_one_itemsets.itemsets"
   ]
  },
  {
   "cell_type": "markdown",
   "metadata": {
    "tags": [
     "specification"
    ]
   },
   "source": [
    "One of the most important principles that Apriori uses is that only itemsets that are themselves frequent can lead to supersets that are frequent.\n",
    "So to find possible candidates for frequent 2-itemsets, only the found frequent 1-itemsets have to be combined to 2-itemsets.\n",
    "\n",
    "<div class=\"alert alert-block alert-info\">\n",
    "\n",
    "**Task 2.2.3:**\n",
    "    \n",
    "Implement `generate_candidates` so it generates length-(k+1) candidate itemsets from lenght-k frequent itemsets.\n",
    "You are allowed to use `itertools`.\n",
    "\n",
    "</div>"
   ]
  },
  {
   "cell_type": "code",
   "execution_count": null,
   "metadata": {
    "tags": [
     "student"
    ]
   },
   "outputs": [],
   "source": [
    "# Implement a function to generate length-k+1 candidate itemsets from length-k frequent itemsets\n",
    "def generate_candidates(frequent_k_itemsets):\n",
    "    # Initialize an ItemsetList\n",
    "    candidates = ItemsetList([])\n",
    "\n",
    "    # ...\n",
    "\n",
    "    # Return the candidates\n",
    "    return candidates\n",
    "\n",
    "\n",
    "# Generate the candidates of the second level\n",
    "two_candidates = generate_candidates(frequent_one_itemsets)\n",
    "two_candidates.itemsets"
   ]
  },
  {
   "cell_type": "code",
   "execution_count": null,
   "metadata": {
    "tags": [
     "solution"
    ]
   },
   "outputs": [],
   "source": [
    "# Implement a function to generate length-k+1 candidate itemsets from length-k frequent itemsets\n",
    "def generate_candidates(frequent_k_itemsets):\n",
    "    # Initialize an ItemsetList\n",
    "    candidates = ItemsetList([])\n",
    "\n",
    "    # Get k\n",
    "    k = len(frequent_k_itemsets.itemsets[0].items)\n",
    "\n",
    "    # Iterate over the frequent_k_itemsets to get all items contained in at least a single frequent_k_itemset\n",
    "    items = set()\n",
    "    for itemset in frequent_k_itemsets.itemsets:\n",
    "        # Add the items of the itemset to items\n",
    "        items = items.union(itemset.items)\n",
    "\n",
    "    # Find all combinations with lenght k+1\n",
    "    for combination in itertools.combinations(items, k + 1):\n",
    "        # Check that all subsets with length k are part of frequent_k_itemsets\n",
    "        all_k_subsets_are_part_of_frequent_k_itemsets = True\n",
    "\n",
    "        for i in range(k + 1):\n",
    "            # Convert combination into a list\n",
    "            # (== copy of the combination)\n",
    "            k_subset = list(combination)\n",
    "\n",
    "            # Remove the i-th element\n",
    "            k_subset.pop(i)\n",
    "\n",
    "            # Convert the list into set\n",
    "            k_subset = set(k_subset)\n",
    "\n",
    "            # Check if k_subset is contained in frequent_k_itemsets\n",
    "            if not frequent_k_itemsets.contains_itemset_with_items(k_subset):\n",
    "                # A k_subset is not part of frequent_k_itemsets\n",
    "                # => The combination is no candidate for k+1\n",
    "                all_k_subsets_are_part_of_frequent_k_itemsets = False\n",
    "\n",
    "                # Of course we can skipping further checking now\n",
    "                break\n",
    "\n",
    "        # If all are part of frequent_k_itemsets the combination is a candidate\n",
    "        if all_k_subsets_are_part_of_frequent_k_itemsets:\n",
    "            candidates.itemsets.append(Itemset(set(combination), 0))\n",
    "\n",
    "    # Return the candidates\n",
    "    return candidates\n",
    "\n",
    "\n",
    "# Generate the candidates of the second level\n",
    "two_candidates = generate_candidates(frequent_one_itemsets)\n",
    "two_candidates.itemsets"
   ]
  },
  {
   "cell_type": "code",
   "execution_count": null,
   "metadata": {
    "tags": [
     "specification"
    ]
   },
   "outputs": [],
   "source": [
    "# You might want to check the list with an other example as well\n",
    "extra_frequent_two_itemsets = ItemsetList(\n",
    "    [\n",
    "        Itemset({\"Apple\", \"Banana\"}),\n",
    "        Itemset({\"Apple\", \"Cherry\"}),\n",
    "        Itemset({\"Apple\", \"Dragonfruit\"}),\n",
    "        Itemset({\"Banana\", \"Cherry\"}),\n",
    "    ]\n",
    ")\n",
    "\n",
    "# Generate the candidates of the third level\n",
    "extra_three_candidates = generate_candidates(extra_frequent_two_itemsets)\n",
    "extra_three_candidates.itemsets"
   ]
  },
  {
   "cell_type": "markdown",
   "metadata": {
    "tags": [
     "specification"
    ]
   },
   "source": [
    "After generating candidates, the next step is to scan the dataset to find out how often each candidate occurs.\n",
    "\n",
    "<div class=\"alert alert-block alert-info\">\n",
    "\n",
    "**Task 2.2.4:**\n",
    "    \n",
    "Finalize the `scan_candidates` function, which is used to determine how often each candidate Itemset occurs in the dataset.\n",
    "\n",
    "</div>"
   ]
  },
  {
   "cell_type": "code",
   "execution_count": null,
   "metadata": {
    "tags": [
     "student"
    ]
   },
   "outputs": [],
   "source": [
    "# Implement a function to determine how often each candidate Itemset occurs in the dataset\n",
    "def scan_candidates(dataset, candidates):\n",
    "    # ...\n",
    "\n",
    "    # Return the candidates\n",
    "    return candidates\n",
    "\n",
    "\n",
    "# Determine how often each candidate Itemset occurs\n",
    "two_candidates = scan_candidates(dataset, two_candidates)\n",
    "two_candidates.itemsets"
   ]
  },
  {
   "cell_type": "code",
   "execution_count": null,
   "metadata": {
    "tags": [
     "solution"
    ]
   },
   "outputs": [],
   "source": [
    "# Implement a function to determine how often each candidate Itemset occurs in the dataset\n",
    "def scan_candidates(dataset, candidates):\n",
    "    # Iterate over all transactions\n",
    "    for transaction in dataset:\n",
    "        # Get all candidates itemsets that are a subset of the items occurring in the dataset\n",
    "        subset_candidates = candidates.get_itemsets_with_subset_of_items(transaction)\n",
    "\n",
    "        # Increase the occurrence count of each candidate Itemset being a subset of the items occurring in the dataset\n",
    "        for subset_candidate in subset_candidates:\n",
    "            subset_candidate.occurrence_count += 1\n",
    "\n",
    "    # Return the candidates\n",
    "    return candidates\n",
    "\n",
    "\n",
    "# Determine how often each candidate Itemset occurs\n",
    "two_candidates = scan_candidates(dataset, two_candidates)\n",
    "two_candidates.itemsets"
   ]
  },
  {
   "cell_type": "markdown",
   "metadata": {
    "tags": [
     "specification"
    ]
   },
   "source": [
    "Once the number of occurrences of each candidate has been determined, `prune_itemsets` is used again to remove the candidates that do not match the `minimal_support_count` of 3."
   ]
  },
  {
   "cell_type": "code",
   "execution_count": null,
   "metadata": {
    "tags": [
     "specification"
    ]
   },
   "outputs": [],
   "source": [
    "# Prune all Itemset below the minimal_support_count of 3\n",
    "frequent_two_itemsets = prune_itemsets(two_candidates, 3)\n",
    "frequent_two_itemsets.itemsets"
   ]
  },
  {
   "cell_type": "markdown",
   "metadata": {
    "tags": [
     "specification"
    ]
   },
   "source": [
    "After the initial execution of `generate_one_itemsets`, the functions `prune_itemsets`, `generate_candidates` and `scan_candidates` are executed in a loop until no further candidates or frequent itemsets are found.\n",
    "\n",
    "<div class=\"alert alert-block alert-info\">\n",
    "\n",
    "**Task 2.2.5:**\n",
    "    \n",
    "Write the function a_priori that uses the functions `generate_one_itemsets`, `prune_itemsets`, `generate_candidates` and `scan_candidates` to perform a complete run of Apriori for an arbitrarily large data set.\n",
    "\n",
    "</div>"
   ]
  },
  {
   "cell_type": "code",
   "execution_count": null,
   "metadata": {
    "tags": [
     "student"
    ]
   },
   "outputs": [],
   "source": [
    "# Implement an Apriori wrapper\n",
    "def a_priori(dataset, minimal_support_count):\n",
    "    # Initialize an ItemsetList\n",
    "    frequent_itemsets = ItemsetList([])\n",
    "\n",
    "    # ...\n",
    "\n",
    "    # Return the frequent_itemsets\n",
    "    return frequent_itemsets\n",
    "\n",
    "\n",
    "# Get all frequent itemsets within our dataset satisfing the minimal_support_count of 3\n",
    "frequent_itemsets = a_priori(dataset, 3)\n",
    "frequent_itemsets.itemsets"
   ]
  },
  {
   "cell_type": "code",
   "execution_count": null,
   "metadata": {
    "tags": [
     "solution"
    ]
   },
   "outputs": [],
   "source": [
    "# Implement an Apriori wrapper\n",
    "def a_priori(dataset, minimal_support_count):\n",
    "    # Initialize an ItemsetList\n",
    "    frequent_itemsets = ItemsetList([])\n",
    "\n",
    "    # Start by generating all 1-itemsets and make the first candidates for becoming frequent itemsets\n",
    "    candidate_itemsets = generate_one_itemsets(dataset)\n",
    "\n",
    "    # Start the loop that will run as long as there are candidate_itemsets\n",
    "    while len(candidate_itemsets.itemsets) > 0:\n",
    "        # Prune the candidate itemsets not satisfing the minimal_support_count\n",
    "        frequent_k_itemsets = prune_itemsets(candidate_itemsets, minimal_support_count)\n",
    "\n",
    "        # If there are no frequent_k_itemset we might also break the loop (second termination criterion)\n",
    "        if len(frequent_k_itemsets.itemsets) == 0:\n",
    "            break\n",
    "\n",
    "        # Otherwise we should add the found frequent k-itemsets to the main list of frequent_itemsets\n",
    "        frequent_itemsets.itemsets.extend(frequent_k_itemsets.itemsets)\n",
    "\n",
    "        # Prepare the next loop run\n",
    "        # Generate possible candidates\n",
    "        candidate_itemsets = generate_candidates(frequent_k_itemsets)\n",
    "\n",
    "        # Determine how often each candidate occurs\n",
    "        candidate_itemsets = scan_candidates(dataset, candidate_itemsets)\n",
    "\n",
    "    # Return the frequent_itemsets\n",
    "    return frequent_itemsets\n",
    "\n",
    "\n",
    "# Get all frequent itemsets within our dataset satisfing the minimal_support_count of 3\n",
    "frequent_itemsets = a_priori(dataset, 3)\n",
    "frequent_itemsets.itemsets"
   ]
  },
  {
   "cell_type": "markdown",
   "metadata": {
    "tags": [
     "specification"
    ]
   },
   "source": [
    "### 3.2.2. FP-growth\n",
    "\n",
    "Somewhat more complex than Apriori is FP-growth.\n",
    "However, since this approach requires only two scans of the data set, it also has a clear advantage, especially for larger projects."
   ]
  },
  {
   "cell_type": "markdown",
   "metadata": {
    "tags": [
     "specification"
    ]
   },
   "source": [
    "#### 3.2.2.1. Application by Hand\n",
    "\n",
    "In order to familiarise yourself with FP-growth, the first task is applying FP-growth by hand.\n",
    "\n",
    "Given is the same small data set we already worked on is Chapter 3.2.1:"
   ]
  },
  {
   "cell_type": "markdown",
   "metadata": {
    "tags": [
     "specification"
    ]
   },
   "source": [
    "| ID |         Transaction        |\n",
    "|:--:|:--------------------------:|\n",
    "|  1 | *Apple*, *Banana*, *Cherry* |\n",
    "|  2 |       *Banana*, *Cherry*       |\n",
    "|  3 |        *Cherry*, *Apple*       |\n",
    "|  4 | *Dragonfruit*, *Apple*, *Banana* |\n",
    "|  5 |     *Apple*, *Dragonfruit*     |"
   ]
  },
  {
   "cell_type": "markdown",
   "metadata": {
    "tags": [
     "specification"
    ]
   },
   "source": [
    "You are now to apply FP-growth - as it is known from the lecture - to this data set by hand. Use a minimum support count of two:\n",
    "\n",
    "- **Option 1:** [Apply FP-growth on your own](#Option-1:-Apply-FP-growth-on-your-own)\n",
    "- **Option 2:** [Apply FP-growth step by step](#Option-2:-Apply-FP-growth-step-by-step)\n",
    "\n",
    "It is recommended that you first try it on your own and only resort to the guided step-by-step variant if you have problems."
   ]
  },
  {
   "cell_type": "markdown",
   "metadata": {
    "tags": [
     "specification"
    ]
   },
   "source": [
    "##### Option 1: Apply FP-growth on your own\n",
    "\n",
    "<div class=\"alert alert-block alert-info\">\n",
    "\n",
    "**Task 3.1:**\n",
    "    \n",
    "Use *FP-growth* to find all frequent itemsets for a minimum support count of 3. Write down all intermediate steps.\n",
    "\n",
    "</div>"
   ]
  },
  {
   "cell_type": "markdown",
   "metadata": {
    "tags": [
     "student"
    ]
   },
   "source": [
    "Write down your solution here:"
   ]
  },
  {
   "cell_type": "markdown",
   "metadata": {
    "tags": [
     "solution"
    ]
   },
   "source": [
    "Sample solution => See Option 2"
   ]
  },
  {
   "cell_type": "markdown",
   "metadata": {
    "tags": [
     "specification"
    ]
   },
   "source": [
    "##### Option 2: Apply FP-growth step by step\n",
    "\n",
    "The first steps of FP-growth are similar to the first steps of Apriori.\n",
    "\n",
    "<div class=\"alert alert-block alert-info\">\n",
    "\n",
    "**Task 3.2.1:**\n",
    "    \n",
    "Use the methodology known from *Apriori* to determine the frequent 1-itemsets for a minimum support count of 3.\n",
    "\n",
    "</div>"
   ]
  },
  {
   "cell_type": "markdown",
   "metadata": {
    "tags": [
     "student"
    ]
   },
   "source": [
    "Write down your solution here:"
   ]
  },
  {
   "cell_type": "markdown",
   "metadata": {
    "tags": [
     "solution"
    ]
   },
   "source": [
    "**1-itemsets:**\n",
    "\n",
    "|  1-itemset  | Occurences |\n",
    "|:-----------:|:----------:|\n",
    "|    *Apple*    |      4     |\n",
    "|    *Banana*   |      3     |\n",
    "|    *Cherry*   |      3     |\n",
    "| *Dragonfruit* |      2     |\n",
    "\n",
    "**Frequent 1-itemsets:**\n",
    "\n",
    "|  1-itemset  | Occurences |\n",
    "|:-----------:|:----------:|\n",
    "|    *Apple*    |      4     |\n",
    "|    *Banana*   |      3     |\n",
    "|    *Cherry*   |      3     |"
   ]
  },
  {
   "cell_type": "markdown",
   "metadata": {
    "tags": [
     "specification"
    ]
   },
   "source": [
    "Based on the 1-itemsets, a sorted list of all frequent 1-itemsets - called f-list - can be generated.\n",
    "\n",
    "<div class=\"alert alert-block alert-info\">\n",
    "\n",
    "**Task 3.2.2:**\n",
    "    \n",
    "Generate the f-list for our dataset.\n",
    "\n",
    "</div>"
   ]
  },
  {
   "cell_type": "markdown",
   "metadata": {
    "tags": [
     "student"
    ]
   },
   "source": [
    "Write down your solution here:"
   ]
  },
  {
   "cell_type": "markdown",
   "metadata": {
    "tags": [
     "solution"
    ]
   },
   "source": [
    "Two possible solutions:\n",
    "- *Apple* - *Banana* - *Cherry* (used by this sample solution)\n",
    "- *Apple* - *Cherry* - *Banana*"
   ]
  },
  {
   "cell_type": "markdown",
   "metadata": {
    "tags": [
     "specification"
    ]
   },
   "source": [
    "Based on this f-list, the items in the original transactions are now sorted. Items that are not frequent are pruned. \n",
    "\n",
    "<div class=\"alert alert-block alert-info\">\n",
    "\n",
    "**Task 3.2.3:**\n",
    "    \n",
    "Generate the sorted transactional dataset.\n",
    "\n",
    "</div>"
   ]
  },
  {
   "cell_type": "markdown",
   "metadata": {
    "tags": [
     "student"
    ]
   },
   "source": [
    "| ID |         Transaction        |\n",
    "|:--:|:--------------------------:|\n",
    "|  1 |              ?             |\n",
    "|  2 |              ?             |\n",
    "|  3 |              ?             |\n",
    "|  4 |              ?             |\n",
    "|  5 |              ?             |"
   ]
  },
  {
   "cell_type": "markdown",
   "metadata": {
    "tags": [
     "solution"
    ]
   },
   "source": [
    "| ID |         Transaction        |\n",
    "|:--:|:--------------------------:|\n",
    "|  1 | *Apple*, *Banana*, *Cherry* |\n",
    "|  2 |       *Banana*, *Cherry*       |\n",
    "|  3 |        *Apple*, *Cherry*       |\n",
    "|  4 |        *Apple*, *Banana*       |\n",
    "|  5 |            *Apple*             |"
   ]
  },
  {
   "cell_type": "markdown",
   "metadata": {
    "tags": [
     "specification"
    ]
   },
   "source": [
    "The items from the transactions are now inserted into the initial FP-tree one after the other.\n",
    "\n",
    "<div class=\"alert alert-block alert-info\">\n",
    "\n",
    "**Task 3.2.4:**\n",
    "    \n",
    "Insert each of the five transactions to get the intial FP-tree. Write down each intermediate step. In each step, also write down the header table.\n",
    "\n",
    "</div>\n",
    "\n",
    "<div class=\"alert alert-block alert-warning\">\n",
    "\n",
    "**Note**: \n",
    "    \n",
    "In JupyterNotebooks Markdown, it is unfortunately not possible to draw trees without further ado. For this reason, we use the following notation in the sample solution (and recommend that you do the same in your solution attempt):\n",
    "    \n",
    "Root <br />\n",
    "├── Item A: 3<br />\n",
    "&emsp;├── Item B: 2<br />\n",
    "&emsp;├── Item C: 1<br />\n",
    "├── Item B: 1<br />\n",
    "\n",
    "Item A (with three occurrences) and Item B (with one occurrence) are direct children of the root node. Item B (with two occurrences) and item C (with one occurrence) are themselves children of item A.\n",
    "</div>"
   ]
  },
  {
   "cell_type": "markdown",
   "metadata": {
    "tags": [
     "student:"
    ]
   },
   "source": [
    "**Adding Transaction 1:**\n",
    "\n",
    "?\n",
    "\n",
    "**Adding Transaction 2:**\n",
    "\n",
    "?\n",
    "\n",
    "**Adding Transaction 3:**\n",
    "\n",
    "?\n",
    "\n",
    "**Adding Transaction 4:**\n",
    "\n",
    "?\n",
    "\n",
    "**Adding Transaction 5:**\n",
    "\n",
    "?"
   ]
  },
  {
   "cell_type": "markdown",
   "metadata": {
    "tags": [
     "solution"
    ]
   },
   "source": [
    "**Adding Transaction 1:**  (*Apple*, *Banana*, *Cherry*)\n",
    "\n",
    "Root <br />\n",
    "├── *Apple*: 1<br />\n",
    "&emsp;├── *Banana*: 1<br />\n",
    "&emsp;&emsp;├── *Cherry*: 1<br />\n",
    "\n",
    "*Header table:*\n",
    "\n",
    "*Apple: 1 - Count of linked nodes: 1*<br />\n",
    "*Banana: 1 - Count of linked nodes: 1*<br />\n",
    "*Cherry: 1 - Count of linked nodes: 1*<br />\n",
    "\n",
    "**Adding Transaction 2:** (*Banana*, *Cherry*)\n",
    "\n",
    "Root <br />\n",
    "├── *Apple*: 1<br />\n",
    "&emsp;├── *Banana*: 1<br />\n",
    "&emsp;&emsp;├── *Cherry*: 1<br />\n",
    "├── *Banana*: 1<br />\n",
    "&emsp;├── *Cherry*: 1<br />\n",
    "\n",
    "*Header table:*\n",
    "\n",
    "*Apple: 1 - Count of linked nodes: 1*<br />\n",
    "*Banana: 2 - Count of linked nodes: 2*<br />\n",
    "*Cherry: 2 - Count of linked nodes: 2*<br />\n",
    "\n",
    "**Adding Transaction 3:** (*Apple*, *Cherry*)\n",
    "\n",
    "Root <br />\n",
    "├── *Apple*: 2<br />\n",
    "&emsp;├── *Banana*: 1<br />\n",
    "&emsp;&emsp;├── *Cherry*: 1<br />\n",
    "&emsp;├── *Cherry*: 1<br />\n",
    "├── *Banana*: 1<br />\n",
    "&emsp;├── *Cherry*: 1<br />\n",
    "\n",
    "*Header table:*\n",
    "\n",
    "*Apple: 2 - Count of linked nodes: 1*<br />\n",
    "*Banana: 2 - Count of linked nodes: 2*<br />\n",
    "*Cherry: 3 - Count of linked nodes: 3*<br />\n",
    "\n",
    "**Adding Transaction 4:** (*Apple*, *Banana*)\n",
    "\n",
    "Root <br />\n",
    "├── *Apple*: 3<br />\n",
    "&emsp;├── *Banana*: 2<br />\n",
    "&emsp;&emsp;├── *Cherry*: 1<br />\n",
    "&emsp;├── *Cherry*: 1<br />\n",
    "├── *Banana*: 1<br />\n",
    "&emsp;├── *Cherry*: 1<br />\n",
    "\n",
    "*Header table:*\n",
    "\n",
    "*Apple: 3 - Count of linked nodes: 1*<br />\n",
    "*Banana: 3 - Count of linked nodes: 2*<br />\n",
    "*Cherry: 3 - Count of linked nodes: 3*<br />\n",
    "\n",
    "**Adding Transaction 5:** (*Apple*)\n",
    "\n",
    "Root <br />\n",
    "├── *Apple*: 4<br />\n",
    "&emsp;├── *Banana*: 2<br />\n",
    "&emsp;&emsp;├── *Cherry*: 1<br />\n",
    "&emsp;├── *Cherry*: 1<br />\n",
    "├── *Banana*: 1<br />\n",
    "&emsp;├── *Cherry*: 1<br />\n",
    "\n",
    "*Header table:*\n",
    "\n",
    "*Apple: 4 - Count of linked nodes: 1*<br />\n",
    "*Banana: 3 - Count of linked nodes: 2*<br />\n",
    "*Cherry: 3 - Count of linked nodes: 3*<br />\n"
   ]
  },
  {
   "cell_type": "markdown",
   "metadata": {
    "tags": [
     "specification"
    ]
   },
   "source": [
    "Based on this initial FP-tree, the conditional pattern bases of the items can now be determined.\n",
    "\n",
    "<div class=\"alert alert-block alert-info\">\n",
    "\n",
    "**Task 3.2.5:**\n",
    "    \n",
    "Determine the conditional pattern bases for all items represented in the FP-tree. \n",
    "\n",
    "</div>"
   ]
  },
  {
   "cell_type": "markdown",
   "metadata": {
    "tags": [
     "student"
    ]
   },
   "source": [
    "**Conditional Pattern Base of *Apple*:**\n",
    "\n",
    "?\n",
    "\n",
    "**Conditional Pattern Base of *Banana*:**\n",
    "\n",
    "?\n",
    "\n",
    "**Conditional Pattern Base of *Cherry*:**\n",
    "\n",
    "?"
   ]
  },
  {
   "cell_type": "markdown",
   "metadata": {
    "tags": [
     "solution"
    ]
   },
   "source": [
    "**Conditional Pattern Base of *Apple*:**\n",
    "\n",
    "- \n",
    "\n",
    "**Conditional Pattern Base of *Banana*:**\n",
    "\n",
    "*Apple*: 2\n",
    "\n",
    "**Conditional Pattern Base of *Cherry*:**\n",
    "\n",
    "*Apple*,*Banana*: 1, *Apple*: 1, *Banana*: 1"
   ]
  },
  {
   "cell_type": "markdown",
   "metadata": {
    "tags": [
     "specification"
    ]
   },
   "source": [
    "While the conditional pattern base from *Apple* does not offer the possibility of a conditional FP-tree, this is different with *Banana* and *Cherry*. \n",
    "\n",
    "<div class=\"alert alert-block alert-info\">\n",
    "\n",
    "**Task 3.2.6:**\n",
    "    \n",
    "Create the conditional FP-trees of *Banana* and *Cherry*. Write down the resulting header tables, too.\n",
    "\n",
    "</div>"
   ]
  },
  {
   "cell_type": "markdown",
   "metadata": {
    "tags": [
     "student"
    ]
   },
   "source": [
    "**Conditional FP-tree of *Banana*:**\n",
    "\n",
    "?\n",
    "\n",
    "**Conditional FP-tree of *Cherry*:**\n",
    "\n",
    "?"
   ]
  },
  {
   "cell_type": "markdown",
   "metadata": {
    "tags": [
     "solution"
    ]
   },
   "source": [
    "**Conditional FP-tree of *Banana*:**\n",
    "\n",
    "Root <br />\n",
    "├── *Apple*: 2<br />\n",
    "\n",
    "*Header table:*\n",
    "\n",
    "*(Banana,) Apple: 2 - Count of linked nodes: 1*<br />\n",
    "\n",
    "**Conditional FP-tree of *Cherry*:**\n",
    "\n",
    "1 - Adding *Apple*, *Banana*: 1\n",
    "\n",
    "Root <br />\n",
    "├── *Apple*: 1<br />\n",
    "&emsp;├── *Banana*: 1<br />\n",
    "\n",
    "*Header table:*\n",
    "\n",
    "*(Cherry,) Apple: 1 - Count of linked nodes: 1*<br />\n",
    "*(Cherry,) Banana: 1 - Count of linked nodes: 1*<br />\n",
    "\n",
    "2 - Adding *Apple*: 1\n",
    "\n",
    "Root <br />\n",
    "├── *Apple*: 2<br />\n",
    "&emsp;├── *Banana*: 1<br />\n",
    "\n",
    "*Header table:*\n",
    "\n",
    "*(Cherry,) Apple: 2 - Count of linked nodes: 1*<br />\n",
    "*(Cherry,) Banana: 1 - Count of linked nodes: 1*<br />\n",
    "\n",
    "3  - Adding *Banana*/Result:\n",
    "\n",
    "Root <br />\n",
    "├── *Apple*: 2<br />\n",
    "&emsp;├── *Banana*: 1<br />\n",
    "├── *Banana*: 1<br />\n",
    "\n",
    "*Header table:*\n",
    "\n",
    "*(Cherry,) Apple: 2 - Count of linked nodes: 1*<br />\n",
    "*(Cherry,) Banana: 2 - Count of linked nodes: 2*<br />\n"
   ]
  },
  {
   "cell_type": "markdown",
   "metadata": {
    "tags": [
     "specification"
    ]
   },
   "source": [
    "Similar to *Apriori*, a recursion is now also started with *FP-growth*. For the conditional FP-trees, the corresponding conditional pattern bases are again searched for each item and their conditional FP-trees are generated. This is done until no more conditional pattern bases are generated. \n",
    "\n",
    "<div class=\"alert alert-block alert-info\">\n",
    "\n",
    "**Task 3.2.7:**\n",
    "    \n",
    "Continue the recursion by hand until FP-growth comes to a stop. Continue to specify each intermediate step along with all relevant data.\n",
    "\n",
    "</div>"
   ]
  },
  {
   "cell_type": "markdown",
   "metadata": {
    "tags": [
     "student"
    ]
   },
   "source": [
    "Write down your solution here:"
   ]
  },
  {
   "cell_type": "markdown",
   "metadata": {
    "tags": [
     "solution"
    ]
   },
   "source": [
    "**First Step:**\n",
    "\n",
    "&emsp;**Conditional Pattern Base of *Banana*, *Apple*:**\n",
    "\n",
    "&emsp;- \n",
    "\n",
    "&emsp;**Conditional Pattern Base of *Cherry*, *Apple*:**\n",
    "\n",
    "&emsp;- \n",
    "\n",
    "&emsp;**Conditional Pattern Base of *Cherry*, *Banana*:**\n",
    "\n",
    "&emsp;*Apple*: 1\n",
    "\n",
    "\n",
    "\n",
    "**Second Step:**\n",
    "\n",
    "&emsp;**Conditional FP-tree of *Cherry*, *Banana*:**\n",
    "\n",
    "&emsp;Root <br />\n",
    "&emsp;├── *Apple*: 1<br />\n",
    "\n",
    "&emsp;*Header table:*\n",
    "\n",
    "&emsp;*(Cherry, Banana,) Apple: 1 - Count of linked nodes: 1*<br />\n",
    "\n",
    "\n",
    "\n",
    "**Third Step:**\n",
    "\n",
    "&emsp;**Conditional FP-tree of *Cherry*, *Banana*, *Apple*:**\n",
    "\n",
    "&emsp;- \n",
    "\n",
    "\n",
    "\n",
    "**Termination**"
   ]
  },
  {
   "cell_type": "markdown",
   "metadata": {
    "tags": [
     "specification"
    ]
   },
   "source": [
    "Based on the header tables and the respective prefixes, the n-itemsets contained in the FP-tree can be determined. If all n-itemsets below the minimum support threshold are pruned, a list of all frequent n-itemsets is obtained.\n",
    "\n",
    "<div class=\"alert alert-block alert-info\">\n",
    "\n",
    "**Task 3.2.8:**\n",
    "    \n",
    "Determine all frequent n-itemsets for a minimum support count of 3 by using the generated (conditional) FP-trees and header tables.\n",
    "\n",
    "</div>"
   ]
  },
  {
   "cell_type": "markdown",
   "metadata": {
    "tags": [
     "student"
    ]
   },
   "source": [
    "Write down your solution here:"
   ]
  },
  {
   "cell_type": "markdown",
   "metadata": {
    "tags": [
     "solution"
    ]
   },
   "source": [
    "**All n-itemsets within the FP-trees:**\n",
    "\n",
    "- *Apple*: 4 (Header table of inital FP-tree)\n",
    "- *Banana*: 3 (Header table of inital FP-tree)\n",
    "- *Cherry*: 3 (Header table of inital FP-tree)\n",
    "- *Banana*, *Apple*: 2 (Header table of the conditional FP-tree of *Banana*)\n",
    "- *Cherry*, *Apple*: 2 (Header table of the conditional FP-tree of *Cherry*)\n",
    "- *Cherry*, *Banana*: 2 (Header table of the conditional FP-tree of *Cherry*)\n",
    "- *Cherry*, *Banana*, *Apple*: 1 (Header table of the conditional FP-tree of *Cherry*, *Banana*)\n",
    "\n",
    "\n",
    "**All frequent n-itemsets:**\n",
    "\n",
    "- *Apple*: 4\n",
    "- *Banana*: 3\n",
    "- *Cherry*: 3\n"
   ]
  },
  {
   "cell_type": "markdown",
   "metadata": {
    "tags": [
     "specification"
    ]
   },
   "source": [
    "### 3.2.2.2. Implementation\n",
    "\n",
    "\n",
    "The next step in the learning process is to implement Apriori. \n",
    "\n",
    "To make your work a little easier, we will we provide you with the classes `FPTree`, `RootNode` and `ItemNode`, that are supposed to serve as the correspondig data structures.\n",
    "\n",
    "Similar to the provided class `ItemsetList` they also provide some basic functionality you are allowed to use in your FP-growth implementation.\n",
    "\n",
    "<div class=\"alert alert-block alert-warning\">\n",
    "\n",
    "**Note**: \n",
    "    \n",
    "Don't be put off by the size of the classes.\n",
    "    \n",
    "In order to simplify the FP-growth implementation for you, some functionalities have been outsourced to these classes.  \n",
    "First get a rough overview of the respective class (variable and function names) and come back to the details when you want to use the functionality.\n",
    "\n",
    "</div>"
   ]
  },
  {
   "cell_type": "code",
   "execution_count": null,
   "metadata": {
    "tags": [
     "specification"
    ]
   },
   "outputs": [],
   "source": [
    "# The class FPTree\n",
    "class FPTree:\n",
    "    # Constructor\n",
    "    def __init__(self):\n",
    "        # Create a root node for the tree\n",
    "        self.root = RootNode()\n",
    "\n",
    "    # Functions\n",
    "    def add_items_to_tree(\n",
    "        self, items, f_list: list[Itemset], occurrence_count: int = 1\n",
    "    ):\n",
    "        \"\"\"Add a set of items to the FPTree\n",
    "        This function adds transactions to the FPTree (occurrence_count of a single transaction = 1)\n",
    "        OR a single frequent pattern that is part of a conditional frequent pattern base to the conditional\n",
    "        FPTree (occurrence_count is the occurrence count of this single frequent pattern)\n",
    "        \"\"\"\n",
    "        # Set the root node as current node\n",
    "        current_node = self.root\n",
    "\n",
    "        # Interate through the f_list\n",
    "        for item in f_list.itemsets:\n",
    "            # Check if the item is part items\n",
    "            if item.items.issubset(items):\n",
    "                # Check if the item is already present as a child of the current node\n",
    "                if len([x for x in current_node.childs if x.item in item.items]) > 0:\n",
    "                    # Set the node with the item to be the current_node\n",
    "                    current_node = [\n",
    "                        x for x in current_node.childs if x.item in item.items\n",
    "                    ][0]\n",
    "\n",
    "                    # Increase the occurence count of that node\n",
    "                    current_node.occurrence_count += occurrence_count\n",
    "                else:\n",
    "                    # Create a new node\n",
    "                    new_node = ItemNode(\n",
    "                        list(item.items)[0], occurrence_count, current_node\n",
    "                    )\n",
    "\n",
    "                    # Set the new_node as current_node\n",
    "                    current_node = new_node\n",
    "\n",
    "    def get_header_table(self):\n",
    "        \"\"\"Get the HeaderTable of the FPTree\"\"\"\n",
    "        # Create a HeaderTable\n",
    "        header_table = HeaderTable()\n",
    "\n",
    "        # Call the add_to_header_table() function of the RootNode\n",
    "        self.root.add_to_header_table(header_table)\n",
    "\n",
    "        # Return the header_table\n",
    "        return header_table\n",
    "\n",
    "    def get_all_item_nodes(self):\n",
    "        \"\"\"Get all item nodes within the FPTree\"\"\"\n",
    "        # Ask the root node\n",
    "        return self.root.get_all_item_nodes()\n",
    "\n",
    "    def is_single_path(self):\n",
    "        \"\"\"Check whether the FPTree has only a single path\"\"\"\n",
    "        # Ask the root node\n",
    "        return self.root.is_single_path()\n",
    "\n",
    "    def is_empty(self):\n",
    "        \"\"\"Check whether the FPTree is empty\"\"\"\n",
    "        # Ask the root node\n",
    "        return self.root.is_empty()\n",
    "\n",
    "    def __str__(self):\n",
    "        \"\"\"Get a human-readable string representation of the FPTree\"\"\"\n",
    "        # Get the string representation of the RootNode\n",
    "        return self.root.__str__()"
   ]
  },
  {
   "cell_type": "code",
   "execution_count": null,
   "metadata": {
    "tags": [
     "specification"
    ]
   },
   "outputs": [],
   "source": [
    "# The class RootNode\n",
    "class RootNode:\n",
    "    # Constructor\n",
    "    def __init__(self):\n",
    "        # Set some member variables\n",
    "        self.item = \"Root-Node\"\n",
    "        self.childs = list()\n",
    "\n",
    "    # Functions\n",
    "    def add_to_header_table(self, header_table):\n",
    "        \"\"\"Add the RootNode to a HeaderTable\"\"\"\n",
    "        # The root node itself is not part of the HeaderTable\n",
    "\n",
    "        # But the all childs have to be added\n",
    "        for child in self.childs:\n",
    "            # Recursive call of the add_to_header_table() function\n",
    "            child.add_to_header_table(header_table)\n",
    "\n",
    "    def get_predecessors(self):\n",
    "        \"\"\"Get the predecessors (there is no predecessor for the RootNode)\"\"\"\n",
    "        # Return an empty list as there are no predecessors\n",
    "        return []\n",
    "\n",
    "    def get_all_item_nodes(self):\n",
    "        \"\"\"Get all item nodes within the FPTree\"\"\"\n",
    "        # Init an empty list to add all ItemNodes to\n",
    "        node_list = []\n",
    "\n",
    "        # Go through all childs and add there lists to this node_list\n",
    "        for child in self.childs:\n",
    "            node_list.extend(child.get_all_item_nodes())\n",
    "\n",
    "        return node_list\n",
    "\n",
    "    def is_single_path(self):\n",
    "        \"\"\"Check whether the RootNode has only a single path behind it\"\"\"\n",
    "        # If there is more then one child return False\n",
    "        if len(self.childs) > 1:\n",
    "            return False\n",
    "        # If there is exactly one child ask that child if there is only a single path\n",
    "        elif len(self.childs) == 1:\n",
    "            return self.childs[0].is_single_path()\n",
    "        # If there are no childs there is only a single path\n",
    "        else:\n",
    "            return True\n",
    "\n",
    "    def is_empty(self):\n",
    "        \"\"\"Check whether the FPTree is empty\"\"\"\n",
    "        # If there at least one child return False\n",
    "        if len(self.childs) >= 1:\n",
    "            return False\n",
    "        # Otherwise return true\n",
    "        return True\n",
    "\n",
    "    def __str__(self):\n",
    "        \"\"\"Get a human-readable string representation of the RootNode\"\"\"\n",
    "        # Get the item of the RootNode\n",
    "        string_representation = self.item\n",
    "\n",
    "        # Get the string represetations of all childs\n",
    "        for child in self.childs:\n",
    "            string_representation = string_representation + \"\\n\" + child.__str__(1)\n",
    "\n",
    "        # Return the string representation\n",
    "        return string_representation"
   ]
  },
  {
   "cell_type": "code",
   "execution_count": null,
   "metadata": {
    "tags": [
     "specification"
    ]
   },
   "outputs": [],
   "source": [
    "# The class ItemNode\n",
    "class ItemNode:\n",
    "    # Constructor\n",
    "    def __init__(self, item: str, occurrence_count: int, parent):\n",
    "        # Save the arguments\n",
    "        self.item = item\n",
    "        self.occurrence_count = occurrence_count\n",
    "        self.parent = parent\n",
    "\n",
    "        # Set the other parameters used later in the lifespan\n",
    "        self.childs = list()\n",
    "\n",
    "        # Save the node as child in the parent node\n",
    "        parent.childs.append(self)\n",
    "\n",
    "    # Functions\n",
    "    def add_to_header_table(self, header_table):\n",
    "        \"\"\"Add the ItemNode to a HeaderTable\"\"\"\n",
    "        # Check if there already is a element for this item\n",
    "        if len([x for x in header_table.elements if x.item == self.item]) > 0:\n",
    "            # If there is already an element for this item in the HeaderTable\n",
    "            # Get the element\n",
    "            header_table_element = [\n",
    "                x for x in header_table.elements if x.item == self.item\n",
    "            ][0]\n",
    "\n",
    "            # Add the occurence count to the overall occurrence count\n",
    "            header_table_element.overall_occurrence_count += self.occurrence_count\n",
    "\n",
    "            # Add the ItemNode itself to the element_node_links\n",
    "            header_table_element.node_links.append(self)\n",
    "        else:\n",
    "            # If there is no element for this item in the HeaderTable\n",
    "            # Create a new HeaderTableElement\n",
    "            header_table_element = HeaderTableElement(\n",
    "                self.item, self.occurrence_count, [self]\n",
    "            )\n",
    "\n",
    "            # Add it to the HeaderTable\n",
    "            header_table.elements.append(header_table_element)\n",
    "\n",
    "        # Do a recursive call to add_to_header_table for all childs\n",
    "        for child in self.childs:\n",
    "            # Recursive call of the add_to_header_table() function\n",
    "            child.add_to_header_table(header_table)\n",
    "\n",
    "    def get_predecessors(self):\n",
    "        \"\"\"Get the predecessors of this element node (excluding the RootNode)\"\"\"\n",
    "        # Get the parents predecessors\n",
    "        predecessors = self.parent.get_predecessors()\n",
    "\n",
    "        # Add the parent to the predecessors if it is not the RootNode\n",
    "        if type(self.parent) != RootNode:\n",
    "            predecessors.append(self.parent)\n",
    "\n",
    "        # Return the predecessors\n",
    "        return predecessors\n",
    "\n",
    "    def get_all_item_nodes(self):\n",
    "        \"\"\"Get all item nodes within the FPTree\"\"\"\n",
    "        # Init an list and add this node to it\n",
    "        node_list = [self]\n",
    "\n",
    "        # Go through all childs and add their lists to this node_list\n",
    "        for child in self.childs:\n",
    "            node_list.extend(child.get_all_item_nodes())\n",
    "\n",
    "        return node_list\n",
    "\n",
    "    def is_single_path(self):\n",
    "        \"\"\"Check whether the RootNode has only a single path behind it\"\"\"\n",
    "        # If there is more then one child return False\n",
    "        if len(self.childs) > 1:\n",
    "            return False\n",
    "        # If there is exactly one child ask that child if there is only a single path\n",
    "        elif len(self.childs) == 1:\n",
    "            return self.childs[0].is_single_path()\n",
    "        # If there are no childs there is only a single path\n",
    "        else:\n",
    "            return True\n",
    "\n",
    "    def __str__(self, level=0):\n",
    "        \"\"\"Get a human-readable string representation of the ItemNode\"\"\"\n",
    "        # Get the string representation of the ItemNode\n",
    "        string_representation = (\n",
    "            (\" \" * (level - 1) * 2)\n",
    "            + \"├── \"\n",
    "            + self.item\n",
    "            + \": \"\n",
    "            + str(self.occurrence_count)\n",
    "        )\n",
    "\n",
    "        # Get the string represetations of all childs\n",
    "        for child in self.childs:\n",
    "            string_representation = (\n",
    "                string_representation + \"\\n\" + child.__str__(level + 1)\n",
    "            )\n",
    "\n",
    "        # Return the string representation\n",
    "        return string_representation"
   ]
  },
  {
   "cell_type": "markdown",
   "metadata": {
    "tags": [
     "specification"
    ]
   },
   "source": [
    "In addition to the central element FP-tree, FP-growth also uses another smaller data structure, the header table.\n",
    "This data structure is provided by us, too.\n",
    "The class `HeaderTable` represents the table, which consists of several elements, the `HeaderTableElement`s."
   ]
  },
  {
   "cell_type": "code",
   "execution_count": null,
   "metadata": {
    "tags": [
     "specification"
    ]
   },
   "outputs": [],
   "source": [
    "# The class HeaderTable\n",
    "class HeaderTable:\n",
    "    # Constructor\n",
    "    def __init__(self):\n",
    "        # Save the arguments\n",
    "        self.elements = list()\n",
    "\n",
    "    # Function(s)\n",
    "    def __str__(self):\n",
    "        \"\"\"Get a human-readable string representation of the HeaderTable\"\"\"\n",
    "        # Initialize the string representation\n",
    "        string_representation = \"\"\n",
    "\n",
    "        ## Get the string representations of all elements\n",
    "        for element in self.elements:\n",
    "            string_representation = string_representation + element.__str__() + \"\\n\"\n",
    "\n",
    "        # Return the string representation\n",
    "        return string_representation"
   ]
  },
  {
   "cell_type": "code",
   "execution_count": null,
   "metadata": {
    "tags": [
     "specification"
    ]
   },
   "outputs": [],
   "source": [
    "# The class HeaderTableElement\n",
    "class HeaderTableElement:\n",
    "    # Constructor\n",
    "    def __init__(self, item: str, overall_occurrence_count: int, node_links: list):\n",
    "        # Save the arguments\n",
    "        self.item = item\n",
    "        self.overall_occurrence_count = overall_occurrence_count\n",
    "        self.node_links = node_links  # Links to every item node regarding our item\n",
    "\n",
    "    # Function(s)\n",
    "    def __str__(self):\n",
    "        \"\"\"Get a human-readable string representation of the HeaderTableElement\"\"\"\n",
    "        # Create a string with all necessary information\n",
    "        return (\n",
    "            self.item\n",
    "            + \": \"\n",
    "            + str(self.overall_occurrence_count)\n",
    "            + \" - Count of linked nodes: \"\n",
    "            + str(len(self.node_links))\n",
    "        )"
   ]
  },
  {
   "cell_type": "markdown",
   "metadata": {
    "tags": [
     "specification"
    ]
   },
   "source": [
    "As with Apriori, you are of course free to try your hand at a free implementation (with or without the help of these classes), or to follow our step-by-step tasks:\n",
    "\n",
    "- **Option 1:** [Implementation of FP-growth on your own](#Option-1:-Implementation-of-FP-growth-on-your-own)\n",
    "- **Option 2:** [Step-by-step implementation of FP-growth](#Option-2:-Step-by-step-implementation-of-FP-growth)"
   ]
  },
  {
   "cell_type": "markdown",
   "metadata": {
    "tags": [
     "specification"
    ]
   },
   "source": [
    "##### Option 1: Implementation of FP-growth on your own\n",
    "\n",
    "If you prefer to implement FP-growth on your own, we recommend you to first fully understand the examples introduced in the lecutre.\n",
    "You should be able to reproduce every single step of FP-growth on paper, before you start implementing the corresponding algorithm.\n",
    "\n",
    "<div class=\"alert alert-block alert-info\">\n",
    "\n",
    "**Task 4.1:** Implement a function `fp_growth` that uses the FP-growth strategy to identify frequent patterns within a dataset.\n",
    "You are again allowed to implement as many auxiliary functions as you want.\n",
    "If you are in need of more code cells than provided, feel free to add more.\n",
    "\n",
    "</div>"
   ]
  },
  {
   "cell_type": "code",
   "execution_count": null,
   "metadata": {
    "tags": [
     "student"
    ]
   },
   "outputs": [],
   "source": [
    "# Implement a fp_growth function (Code placeholder 01/10)"
   ]
  },
  {
   "cell_type": "code",
   "execution_count": null,
   "metadata": {
    "tags": [
     "student"
    ]
   },
   "outputs": [],
   "source": [
    "# Implement a fp_growth function (Code placeholder 02/10)"
   ]
  },
  {
   "cell_type": "code",
   "execution_count": null,
   "metadata": {
    "tags": [
     "student"
    ]
   },
   "outputs": [],
   "source": [
    "# Implement a fp_growth function (Code placeholder 03/10)"
   ]
  },
  {
   "cell_type": "code",
   "execution_count": null,
   "metadata": {
    "tags": [
     "student"
    ]
   },
   "outputs": [],
   "source": [
    "# Implement a fp_growth function (Code placeholder 04/10)"
   ]
  },
  {
   "cell_type": "code",
   "execution_count": null,
   "metadata": {
    "tags": [
     "student"
    ]
   },
   "outputs": [],
   "source": [
    "# Implement a fp_growth function (Code placeholder 05/10)"
   ]
  },
  {
   "cell_type": "code",
   "execution_count": null,
   "metadata": {
    "tags": [
     "student"
    ]
   },
   "outputs": [],
   "source": [
    "# Implement a fp_growth function (Code placeholder 06/10)"
   ]
  },
  {
   "cell_type": "code",
   "execution_count": null,
   "metadata": {
    "tags": [
     "student"
    ]
   },
   "outputs": [],
   "source": [
    "# Implement a fp_growth function (Code placeholder 07/10)"
   ]
  },
  {
   "cell_type": "code",
   "execution_count": null,
   "metadata": {
    "tags": [
     "student"
    ]
   },
   "outputs": [],
   "source": [
    "# Implement a fp_growth function (Code placeholder 08/10)"
   ]
  },
  {
   "cell_type": "code",
   "execution_count": null,
   "metadata": {
    "tags": [
     "student"
    ]
   },
   "outputs": [],
   "source": [
    "# Implement a fp_growth function (Code placeholder 09/10)"
   ]
  },
  {
   "cell_type": "code",
   "execution_count": null,
   "metadata": {
    "tags": [
     "student"
    ]
   },
   "outputs": [],
   "source": [
    "# Implement a fp_growth function (Code placeholder 10/10)"
   ]
  },
  {
   "cell_type": "code",
   "execution_count": null,
   "metadata": {
    "tags": [
     "student"
    ]
   },
   "outputs": [],
   "source": [
    "# Sample fp_growth sceleton\n",
    "# NOTE: You are allowed to use this sceleton but don't have to\n",
    "def fp_growth(dataset, minimal_support_count):\n",
    "    # ...\n",
    "    return ItemsetList([])"
   ]
  },
  {
   "cell_type": "code",
   "execution_count": null,
   "metadata": {
    "tags": [
     "student"
    ]
   },
   "outputs": [],
   "source": [
    "# Execute fp_growth for our dataset (minimal_support_count = 3)\n",
    "# NOTE: You might want to change this \"test\" if it doesn't work this way with your function\n",
    "frequent_patterns = fp_growth(dataset, 3)\n",
    "frequent_patterns"
   ]
  },
  {
   "cell_type": "code",
   "execution_count": null,
   "metadata": {
    "tags": [
     "solution"
    ]
   },
   "outputs": [],
   "source": [
    "# Sample solution => See Option 2"
   ]
  },
  {
   "cell_type": "markdown",
   "metadata": {
    "tags": [
     "specification"
    ]
   },
   "source": [
    "##### Option 2: Step-by-step implementation of FP-growth\n",
    "\n",
    "A first important step in FP-growth can be done with the help of the functions already implemented for Apriori.\n",
    "Namely, the frequent 1-itemsets of a dataset have to be determined.\n",
    "\n",
    "<div class=\"alert alert-block alert-info\">\n",
    "\n",
    "**Task 4.2.1:**\n",
    "    \n",
    "Determine the frequent 1-itemsets occuring at least three times for our dataset `dataset` and store them as `frequent_one_itemsets`.\n",
    "You may use functions from your Apriori implementation to do this.\n",
    "\n",
    "</div>"
   ]
  },
  {
   "cell_type": "code",
   "execution_count": null,
   "metadata": {
    "tags": [
     "student"
    ]
   },
   "outputs": [],
   "source": [
    "# Find the frequent 1-itemsets occurring at least three times"
   ]
  },
  {
   "cell_type": "code",
   "execution_count": null,
   "metadata": {
    "tags": [
     "solution"
    ]
   },
   "outputs": [],
   "source": [
    "# Find the frequent 1-itemsets occurring at least three times\n",
    "one_itemsets = generate_one_itemsets(dataset)\n",
    "frequent_one_itemsets = prune_itemsets(one_itemsets, 3)\n",
    "frequent_one_itemsets.itemsets"
   ]
  },
  {
   "cell_type": "markdown",
   "metadata": {
    "tags": [
     "specification"
    ]
   },
   "source": [
    "Using the frequent 1-itemsets, the next step in the FP-growth algorithm is to create the so-called f-list:\n",
    "A list of the frequent 1-itemsets in frequency-descending order.\n",
    "\n",
    "<div class=\"alert alert-block alert-info\">\n",
    "\n",
    "**Task 4.2.2:**\n",
    "    \n",
    "Complete `create_f_list`, which computes the f-list required for FP-growth from frequent 1-itemsets.\n",
    "Make sure that the passed frequent 1-itemsets are not overwritten by the function.\n",
    "\n",
    "</div>"
   ]
  },
  {
   "cell_type": "code",
   "execution_count": null,
   "metadata": {
    "tags": [
     "student"
    ]
   },
   "outputs": [],
   "source": [
    "# Complete the function create_f_list"
   ]
  },
  {
   "cell_type": "code",
   "execution_count": null,
   "metadata": {
    "tags": [
     "solution"
    ]
   },
   "outputs": [],
   "source": [
    "# Complete the function create_f_list\n",
    "def create_f_list(frequent_one_itemsets: ItemsetList):\n",
    "    # Copy the itemset list\n",
    "    f_list = ItemsetList(frequent_one_itemsets.itemsets.copy())\n",
    "\n",
    "    # Sort the list copy and return it\n",
    "    f_list.itemsets.sort(key=lambda x: x.occurrence_count, reverse=True)\n",
    "\n",
    "    # Return the list\n",
    "    return f_list\n",
    "\n",
    "\n",
    "# Create the f-list\n",
    "f_list = create_f_list(frequent_one_itemsets)\n",
    "f_list.itemsets"
   ]
  },
  {
   "cell_type": "markdown",
   "metadata": {
    "tags": [
     "specification"
    ]
   },
   "source": [
    "Based on the f-list, the initial FP-tree can now be created.\n",
    "For this purpose the items occurring in each transaction are added to a hierarchical tree structure following their order in the f-list.\n",
    "\n",
    "<div class=\"alert alert-block alert-info\">\n",
    "    \n",
    "**Task 4.2.3:**\n",
    "    \n",
    "Take a look at `add_items_to_tree` within the `FPTree` class and consider how to create the initial FP-tree from the dataset and f-list.\n",
    "Then complete the function below accordingly.\n",
    "    \n",
    "</div>"
   ]
  },
  {
   "cell_type": "code",
   "execution_count": null,
   "metadata": {
    "tags": [
     "student"
    ]
   },
   "outputs": [],
   "source": [
    "# Complete the function construct_fp_tree used to construct the initial (non-conditional) FP-tree\n",
    "def construct_fp_tree(dataset, f_list):\n",
    "    # Initialize an FPTree\n",
    "    fp_tree = FPTree()\n",
    "\n",
    "    # ...\n",
    "\n",
    "    # Return the FPTree\n",
    "    return fp_tree\n",
    "\n",
    "\n",
    "# Construct the FP-tree\n",
    "fp_tree = construct_fp_tree(dataset, frequent_one_itemsets)\n",
    "\n",
    "# Print the FP-tree\n",
    "print(\"FP-Tree:\")\n",
    "print(fp_tree)\n",
    "\n",
    "# Display the header table\n",
    "print(\"\\nHeader table:\")\n",
    "print(fp_tree.get_header_table())"
   ]
  },
  {
   "cell_type": "code",
   "execution_count": null,
   "metadata": {
    "tags": [
     "solution"
    ]
   },
   "outputs": [],
   "source": [
    "# Complete the function construct_fp_tree used to construct the initial (non-conditional) FP-tree\n",
    "def construct_fp_tree(dataset, f_list):\n",
    "    # Initialize an FPTree\n",
    "    fp_tree = FPTree()\n",
    "\n",
    "    # Iterate over all transactions\n",
    "    for transaction in dataset:\n",
    "        # Add the transaction to the FPTree\n",
    "        fp_tree.add_items_to_tree(transaction, f_list, 1)\n",
    "\n",
    "    # Return the FPTree\n",
    "    return fp_tree\n",
    "\n",
    "\n",
    "# Construct the FP-tree\n",
    "fp_tree = construct_fp_tree(dataset, f_list)\n",
    "\n",
    "# Print the FP-tree\n",
    "print(\"FP-tree:\")\n",
    "print(fp_tree)\n",
    "\n",
    "# Display the header table\n",
    "print(\"\\nHeader table:\")\n",
    "print(fp_tree.get_header_table())"
   ]
  },
  {
   "cell_type": "markdown",
   "metadata": {
    "tags": [
     "specification"
    ]
   },
   "source": [
    "The FP-tree is used to determine the so-called conditional pattern base for any contained frequent 1-itemsets.\n",
    "This conditional pattern base describes which other items occur before the respective one in the FP-tree and how often they are found with the item in the data set.\n",
    "\n",
    "<div class=\"alert alert-block alert-info\">\n",
    "    \n",
    "**Task 4.2.4:**\n",
    "    \n",
    "Extend `get_conditional_pattern_base` to determine the conditional pattern base for any item within a FP-tree.\n",
    "    \n",
    "</div>"
   ]
  },
  {
   "cell_type": "code",
   "execution_count": null,
   "metadata": {
    "tags": [
     "student"
    ]
   },
   "outputs": [],
   "source": [
    "# Extend get_conditional_pattern_base to be able to determine a conditional pattern base for any itemset\n",
    "def get_conditional_pattern_base(item, fp_tree):\n",
    "    # Initialize an ItemsetList for the conditional pattern base\n",
    "    conditional_pattern_base = ItemsetList([])\n",
    "\n",
    "    # ...\n",
    "\n",
    "    # Return the found conditional_pattern_base\n",
    "    return conditional_pattern_base\n",
    "\n",
    "\n",
    "# Find the conditional pattern base of \"Cherry\"\n",
    "conditional_pattern_base = get_conditional_pattern_base(\"Cherry\", fp_tree)\n",
    "conditional_pattern_base.itemsets"
   ]
  },
  {
   "cell_type": "code",
   "execution_count": null,
   "metadata": {
    "tags": [
     "solution"
    ]
   },
   "outputs": [],
   "source": [
    "# Extend get_conditional_pattern_base to be able to determine a conditional pattern base for any itemset\n",
    "def get_conditional_pattern_base(itemset, fp_tree):\n",
    "    # Initialize an ItemsetList for the conditional pattern base\n",
    "    conditional_pattern_base = ItemsetList([])\n",
    "\n",
    "    # Get the header table of the fp_tree\n",
    "    header_table = fp_tree.get_header_table()\n",
    "\n",
    "    # Search for the items element within the header_table\n",
    "    header_table_element = [x for x in header_table.elements if x.item == itemset]\n",
    "\n",
    "    # If there is an element (otherwise there will be no conditional_pattern_base)\n",
    "    if len(header_table_element) == 1:\n",
    "        # In this case we can switch out the list of elements for a single element\n",
    "        header_table_element = header_table_element[0]\n",
    "\n",
    "        # For every linked node (ItemNodes regarding our item)\n",
    "        for linked_node in header_table_element.node_links:\n",
    "            # Get the predecessors\n",
    "            predecessors = linked_node.get_predecessors()\n",
    "\n",
    "            # If there are predecessors\n",
    "            if len(predecessors) > 0:\n",
    "                # Get all the the items part of the predecessors\n",
    "                predecessor_items = {x.item for x in predecessors}\n",
    "\n",
    "                # Create an Itemset with the occurrence_count set to the occurrence_count of the linked_node\n",
    "                # and the items set to the predecessor_items\n",
    "                itemset = Itemset(predecessor_items, linked_node.occurrence_count)\n",
    "\n",
    "                # Add the items to the conditional_pattern_bases\n",
    "                conditional_pattern_base.itemsets.append(itemset)\n",
    "\n",
    "    # Return the found conditional_pattern_base\n",
    "    return conditional_pattern_base\n",
    "\n",
    "\n",
    "# Find the conditional pattern base of \"Cherry\"\n",
    "conditional_pattern_base = get_conditional_pattern_base(\"Cherry\", fp_tree)\n",
    "conditional_pattern_base.itemsets"
   ]
  },
  {
   "cell_type": "markdown",
   "metadata": {
    "tags": [
     "specification"
    ]
   },
   "source": [
    "The conditional pattern base can be used to create a new FP-tree. \n",
    "\n",
    "<div class=\"alert alert-block alert-info\">\n",
    "    \n",
    "**Task 4.2.5:**\n",
    "    \n",
    "Implement the funtionality of `construct_conditional_fp_tree` so that it creates a conditional FP-tree out of any conditional pattern base.\n",
    "Remember what you have learned about the `FPTree`s `add_items_to_tree`.\n",
    "    \n",
    "</div>"
   ]
  },
  {
   "cell_type": "code",
   "execution_count": null,
   "metadata": {
    "tags": [
     "student"
    ]
   },
   "outputs": [],
   "source": [
    "# Implement a function to construct a conditional FP-tree out of a conditional pattern base\n",
    "def construct_conditional_fp_tree(conditional_pattern_base, f_list):\n",
    "    # Initialize an FPTree\n",
    "    fp_tree = FPTree()\n",
    "\n",
    "    # ...\n",
    "\n",
    "    # Return the FPTree\n",
    "    return fp_tree\n",
    "\n",
    "\n",
    "# Construct the conditional FP-tree for the conditional pattern base of \"Cherry\"\n",
    "conditional_fp_tree = construct_conditional_fp_tree(\n",
    "    conditional_pattern_base, frequent_one_itemsets\n",
    ")\n",
    "print(conditional_fp_tree)"
   ]
  },
  {
   "cell_type": "code",
   "execution_count": null,
   "metadata": {
    "tags": [
     "solution"
    ]
   },
   "outputs": [],
   "source": [
    "# Implement a function to construct a conditional FP-tree out of a conditional pattern base\n",
    "def construct_conditional_fp_tree(conditional_pattern_base, f_list):\n",
    "    # Initialize an FPTree\n",
    "    fp_tree = FPTree()\n",
    "\n",
    "    # Iterate over all conditional patterns\n",
    "    for conditional_pattern in conditional_pattern_base.itemsets:\n",
    "        # Add the conditional_pattern to the FPTree\n",
    "        fp_tree.add_items_to_tree(\n",
    "            conditional_pattern.items, f_list, conditional_pattern.occurrence_count\n",
    "        )\n",
    "\n",
    "    # Return the FPTree\n",
    "    return fp_tree\n",
    "\n",
    "\n",
    "# Construct the conditional FP-tree for the conditional pattern base of \"Cherry\"\n",
    "conditional_fp_tree = construct_conditional_fp_tree(conditional_pattern_base, f_list)\n",
    "print(conditional_fp_tree)"
   ]
  },
  {
   "cell_type": "markdown",
   "metadata": {
    "tags": [
     "specification"
    ]
   },
   "source": [
    "As introduced in the lecture FP-growth is ultimately a recursive process in which conditional pattern bases for all elements of the header table are generated from an FP-tree.\n",
    "From this tree conditional FP-trees are generated.\n",
    "Afterwards a new stage of recursion is performed.\n",
    "\n",
    "The recursion within FP-growth can be represented the following way (including a special case for a FP-tree with only path):\n",
    "```\n",
    "FP-GROWTH-RECURSION-STEP(FP-TREE, BASE-PATTERN, F-LIST):\n",
    "    Initialize an empty ITEMSETS-FOUND variable\n",
    "\n",
    "    If(BASE-PATTERN is not null):\n",
    "        Add the BASE-PATTERN to the ITEMSETS-FOUND\n",
    "\n",
    "    If(FP-TREE has only one path):\n",
    "        For each possible COMBINATION of the NODES within the FP-TREE:\n",
    "            Combine the items of the BASE-PATTERN with the items of the COMBINATION to build a new ITEMSET\n",
    "            Set the support of the ITEMSET to the support of the rarest item in the COMBINATION\n",
    "            Add the ITEMSET to the ITEMSETS-FOUND\n",
    "    Else:\n",
    "        For each ITEM in the HEADER-TABLE of the FP-TREE:\n",
    "            If(BASE-PATTERN is null):\n",
    "                Set the ITEM to be the NEW-BASE-PATTERN \n",
    "                Set the support of the NEW-BASE-PATTERN to the ITEMs overall occurrence count within the HEADER-TABLE\n",
    "            Else:\n",
    "                Combine the items of the BASE-PATTERN with the ITEM to become the NEW-BASE-PATTERN \n",
    "                Set the support of the NEW-BASE-PATTERN to MIN(BASE-PATTERNs support, ITEMs overall occurrence count)\n",
    "             \n",
    "            Determine the CONDITIONAL-PATTERN-BASE of the NEW-BASE-PATTERN\n",
    "            Use the CONDITIONAL-PATTERN-BASE to build the CONDITIONAL-FP-TREE\n",
    "            Call FP-GROWTH-RECURSION-STEP recursively with CONDITIONAL-FP-TREE and NEW-BASE-PATTERN\n",
    "            Add the result of the recursive call to the ITEMSETS-FOUND\n",
    "            \n",
    "    Return the ITEMSETS-FOUND\n",
    "```\n",
    "\n",
    "<div class=\"alert alert-block alert-info\">\n",
    "    \n",
    "**Task 4.2.6:**\n",
    "    \n",
    " Based on this pseudo code complete the function `fp_growth_recursion_step` below.\n",
    "    \n",
    "</div>"
   ]
  },
  {
   "cell_type": "code",
   "execution_count": null,
   "metadata": {
    "tags": [
     "student"
    ]
   },
   "outputs": [],
   "source": [
    "# Complete the function fp_growth_recursion_step to implement the FP-growth recursion step\n",
    "def fp_growth_recursion_step(fp_tree, base_pattern, f_list):\n",
    "    # Initialize an ItemsetList to return all the patterns found during this fp_growth step\n",
    "    patterns = ItemsetList([])\n",
    "\n",
    "    # ...\n",
    "\n",
    "    # Return the found patterns\n",
    "    return patterns\n",
    "\n",
    "\n",
    "# Use the method to get all Itemsets based on the base tree\n",
    "fp_growth_recursion_step(fp_tree, None, frequent_one_itemsets).itemsets"
   ]
  },
  {
   "cell_type": "code",
   "execution_count": null,
   "metadata": {
    "tags": [
     "solution"
    ]
   },
   "outputs": [],
   "source": [
    "# Complete the function fp_growth_recursion_step to implement the FP-growth recursion step\n",
    "def fp_growth_recursion_step(fp_tree, base_pattern, f_list):\n",
    "    # Initialize an ItemsetList to return all the patterns found during this fp_growth step\n",
    "    patterns = ItemsetList([])\n",
    "\n",
    "    # If the base path is not none add it to the pattern list\n",
    "    if base_pattern != None:\n",
    "        patterns.itemsets.append(base_pattern)\n",
    "\n",
    "    # If the fp_tree has only one path we can directly generate every pattern by combining each item with each item\n",
    "    if fp_tree.is_single_path():\n",
    "        # Get all nodes within the single path\n",
    "        node_list = fp_tree.get_all_item_nodes()\n",
    "\n",
    "        # There are combinations between length 1 - (incl.) length len(node_list)\n",
    "        for length in range(1, len(node_list) + 1):\n",
    "            # Create every possible combination with this length\n",
    "            for combination in itertools.combinations(node_list, length):\n",
    "                # Create a new Itemset for this pattern by merging the base pattern with the newly found combination\n",
    "                # The occurrence count is set to the lowest occurrence count in that combination\n",
    "                pattern = Itemset(\n",
    "                    {x.item for x in combination}.union(base_pattern.items),\n",
    "                    min([x.occurrence_count for x in combination]),\n",
    "                )\n",
    "\n",
    "                # Add the pattern to the patterns\n",
    "                patterns.itemsets.append(pattern)\n",
    "    # Otherwise we have to perform a recursive search\n",
    "    else:\n",
    "        # We have to generate the conditional pattern base for every item in the header_table\n",
    "        for header_table_element in fp_tree.get_header_table().elements:\n",
    "            if base_pattern == None:\n",
    "                # Set the new_base_pattern to be the header_table_item\n",
    "                new_base_pattern = Itemset(\n",
    "                    {header_table_element.item},\n",
    "                    header_table_element.overall_occurrence_count,\n",
    "                )\n",
    "            else:\n",
    "                # Merge the new item into the base_pattern to become the new_base_pattern\n",
    "                new_base_pattern = Itemset(\n",
    "                    {header_table_element.item}.union(base_pattern.items),\n",
    "                    min(\n",
    "                        base_pattern.occurrence_count,\n",
    "                        header_table_element.overall_occurrence_count,\n",
    "                    ),\n",
    "                )\n",
    "\n",
    "            # Construct the conditional patterns base\n",
    "            new_conditional_pattern_base = get_conditional_pattern_base(\n",
    "                header_table_element.item, fp_tree\n",
    "            )\n",
    "            new_conditional_fp_tree = construct_conditional_fp_tree(\n",
    "                new_conditional_pattern_base, f_list\n",
    "            )\n",
    "\n",
    "            # Start the recursion\n",
    "            patterns.itemsets.extend(\n",
    "                fp_growth_recursion_step(\n",
    "                    new_conditional_fp_tree, new_base_pattern, f_list\n",
    "                ).itemsets\n",
    "            )\n",
    "\n",
    "    # Return the found patterns\n",
    "    return patterns\n",
    "\n",
    "\n",
    "# Use the method to get all Itemsets based on the base tree\n",
    "fp_growth_recursion_step(fp_tree, None, f_list).itemsets"
   ]
  },
  {
   "cell_type": "markdown",
   "metadata": {
    "tags": [
     "specification"
    ]
   },
   "source": [
    "The last thing that needs to be done with FP-growth is to merge the individual components into a wrapper function.\n",
    "\n",
    "<div class=\"alert alert-block alert-info\">\n",
    "\n",
    " **Task 4.2.7:**\n",
    "    \n",
    "Write a function `fp_growth` that, for a given dataset and a given minimal support count, performs all steps of the FP-growth algorithm up to determining all frequent itemsets.\n",
    " Take into account that after execution of `fp_growth_recursion_step` itemsets that do not meet the minimum support count must be pruned.\n",
    " \n",
    "</div>"
   ]
  },
  {
   "cell_type": "code",
   "execution_count": null,
   "metadata": {
    "tags": [
     "student"
    ]
   },
   "outputs": [],
   "source": [
    "# Complete the function fp_growth combining all the functions to get a full FP-growth implementation\n",
    "def fp_growth(dataset, minimal_support_count):\n",
    "    # ...\n",
    "    return ItemsetList([])\n",
    "\n",
    "\n",
    "# Get all frequent patterns with a minimal support count 3 or higher\n",
    "fp_growth(dataset, 3).itemsets"
   ]
  },
  {
   "cell_type": "code",
   "execution_count": null,
   "metadata": {
    "tags": [
     "solution"
    ]
   },
   "outputs": [],
   "source": [
    "# Complete the function fp_growth combining all the functions to get a full FP-growth implementation\n",
    "def fp_growth(dataset, minimal_support_count):\n",
    "    # Find the frequent 1-itemsets\n",
    "    one_itemsets = generate_one_itemsets(dataset)\n",
    "    frequent_one_itemsets = prune_itemsets(one_itemsets, minimal_support_count)\n",
    "\n",
    "    # Create the f-list\n",
    "    frequent_one_itemsets.itemsets.sort(key=lambda x: x.occurrence_count, reverse=True)\n",
    "    f_list = frequent_one_itemsets\n",
    "\n",
    "    # Construct the initital FP-tree\n",
    "    fp_tree = construct_fp_tree(dataset, f_list)\n",
    "\n",
    "    # Use the recursive methode to get all n-itemsets (n > 1)\n",
    "    n_itemsets = fp_growth_recursion_step(fp_tree, None, frequent_one_itemsets)\n",
    "\n",
    "    # Prune all non frequent n-itemsets\n",
    "    frequent_n_itemsets = prune_itemsets(n_itemsets, minimal_support_count)\n",
    "\n",
    "    # Return the frequent_n_itemsets\n",
    "    return frequent_n_itemsets\n",
    "\n",
    "\n",
    "# Get all frequent patterns with a minimal support count 3 or higher\n",
    "fp_growth(dataset, 3).itemsets"
   ]
  }
 ],
 "metadata": {
  "celltoolbar": "Tags",
  "interpreter": {
   "hash": "916dbcbb3f70747c44a77c7bcd40155683ae19c65e1c03b4aa3499c5328201f1"
  },
  "kernelspec": {
   "display_name": "Python 3 (ipykernel)",
   "language": "python",
   "name": "python3"
  },
  "language_info": {
   "codemirror_mode": {
    "name": "ipython",
    "version": 3
   },
   "file_extension": ".py",
   "mimetype": "text/x-python",
   "name": "python",
   "nbconvert_exporter": "python",
   "pygments_lexer": "ipython3",
   "version": "3.11.0"
  }
 },
 "nbformat": 4,
 "nbformat_minor": 4
}
