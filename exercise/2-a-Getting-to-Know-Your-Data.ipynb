{
 "cells": [
  {
   "cell_type": "markdown",
   "metadata": {
    "tags": [
     "specification"
    ]
   },
   "source": [
    "# 2. Data analysis & Preprocessing\n",
    "\n",
    "In this exercise you will get to know the basics from the lectures \"3. Getting to Know Your Data\" and \"4. Preprocessing\" in their practical use and apply them yourself.\n",
    "\n",
    "Since this practice sheet is designed to be used in three sessions, it is roughly divided into three parts:\n",
    "\n",
    "- Part One: Getting to Know Your Data\n",
    "- Part Two: Preprocessing - Data cleaning & Data integration\n",
    "- Part Three: Preprocessing - Data reduction, data transformation & data discretization\n",
    "\n",
    "Of course, depending on how quickly an exercise group progresses in the actual exercise, one of these parts may not be discussed entirely in the affected exercise, or parts of the subsequent part may already be addressed."
   ]
  },
  {
   "cell_type": "markdown",
   "metadata": {
    "tags": [
     "specification"
    ]
   },
   "source": [
    "## Part One: Getting to Know Your Data\n",
    "\n",
    "In this part you will apply the theoretical knowledge gained in the lecture \"Getting to Know Your Data\". In doing so, you will familiarize yourself step by step with the order_dataframe defined above."
   ]
  },
  {
   "cell_type": "markdown",
   "metadata": {
    "tags": [
     "specification"
    ]
   },
   "source": [
    "### Preparations"
   ]
  },
  {
   "cell_type": "code",
   "execution_count": null,
   "metadata": {
    "tags": [
     "specification"
    ]
   },
   "outputs": [],
   "source": [
    "# Import the required libraries\n",
    "import tempfile\n",
    "import sqlite3\n",
    "import urllib.request\n",
    "import squarify\n",
    "import pywaffle\n",
    "import scipy\n",
    "import pandas as pd\n",
    "import matplotlib.pyplot as plt\n",
    "import plotly.express as px\n",
    "import plotly.graph_objects as go\n",
    "import seaborn as sns"
   ]
  },
  {
   "cell_type": "code",
   "execution_count": null,
   "metadata": {
    "tags": [
     "specification"
    ]
   },
   "outputs": [],
   "source": [
    "# Create a temporary directory\n",
    "dataset_folder = tempfile.mkdtemp()\n",
    "\n",
    "# Get the database\n",
    "urllib.request.urlretrieve(\n",
    "    \"https://github.com/FAU-CS6/KDD-Databases/raw/main/AdventureWorks/adventure-works.db\",\n",
    "    dataset_folder + \"/adventure-works.db\",\n",
    ")\n",
    "\n",
    "# Open connection to the adventure-works.db\n",
    "connection = sqlite3.connect(dataset_folder + \"/adventure-works.db\")"
   ]
  },
  {
   "cell_type": "code",
   "execution_count": null,
   "metadata": {
    "tags": [
     "specification"
    ]
   },
   "outputs": [],
   "source": [
    "# Create the clean dataframe(s)\n",
    "# Order dataframe\n",
    "order_dataframe = pd.read_sql_query(\n",
    "    \"SELECT p.ProductID,p.Name,p.ProductNumber,p.MakeFlag,p.FinishedGoodsFlag,p.Color,p.SafetyStockLevel,\"\n",
    "    \"p.ReorderPoint,p.StandardCost,p.ListPrice,p.Size,p.SizeUnitMeasureCode,p.WeightUnitMeasureCode,p.Weight,\"\n",
    "    \"p.DaysToManufacture,p.ProductLine,p.Class,p.Style,p.ProductSubcategoryID,p.ProductModelID,p.SellStartDate,\"\n",
    "    \"p.SellEndDate,p.DiscontinuedDate,d.PurchaseOrderID,d.PurchaseOrderDetailID,d.DueDate,d.OrderQty,d.ProductID,\"\n",
    "    \"d.UnitPrice,d.ReceivedQty,d.RejectedQty,h.RevisionNumber,h.Status,h.EmployeeID,h.VendorID,h.ShipMethodID,\"\n",
    "    \"h.OrderDate,h.ShipDate,h.SubTotal,h.TaxAmt,h.Freight,h.TotalDue,e.NationalIDNumber,e.LoginID,e.OrganizationNode,\"\n",
    "    \"e.JobTitle,e.BirthDate,e.MaritalStatus,e.Gender,e.HireDate,e.SalariedFlag,e.VacationHours,e.SickLeaveHours,\"\n",
    "    \"e.CurrentFlag,r.PersonType,r.NameStyle,r.Title,r.FirstName,r.MiddleName,r.LastName,r.Suffix,r.EmailPromotion,\"\n",
    "    \"r.AdditionalContactInfo,r.Demographics \"\n",
    "    \"FROM Product p \"\n",
    "    \"JOIN PurchaseOrderDetail d ON p.ProductID = d.ProductID \"\n",
    "    \"JOIN PurchaseOrderHeader h ON d.PurchaseOrderID = h.PurchaseOrderID \"\n",
    "    \"JOIN Employee e ON h.EmployeeID = e.BusinessEntityID \"\n",
    "    \"JOIN Person r ON e.BusinessEntityID = r.BusinessEntityID\",\n",
    "    connection,\n",
    "    index_col=\"PurchaseOrderDetailID\",\n",
    ")"
   ]
  },
  {
   "cell_type": "markdown",
   "metadata": {
    "tags": [
     "specification"
    ]
   },
   "source": [
    "### Structure of the Dataframe\n",
    "\n",
    "Currently you don't know anything about the order_dataframe except for the fact that it consists of the two tables Product and PurchaseOrderDetail of a database named AdventureWorks. \n",
    "In order to gather an initial understanding of the structure of the dataframe, it is useful to know the dimensions of the dataframe. The corresponding information is stored in the shape property of a panda dataframe.\n",
    "\n",
    "<div class=\"alert alert-block alert-info\">\n",
    "<b>Task:</b> Figure out the dimensions of order_dataframe. You are allowed to have a look at the <a href=\"https://pandas.pydata.org/docs/reference/api/pandas.DataFrame.shape.html\">Pandas documentation</a> regarding the mentioned property.</div>\n"
   ]
  },
  {
   "cell_type": "code",
   "execution_count": null,
   "metadata": {
    "tags": [
     "student"
    ]
   },
   "outputs": [],
   "source": [
    "# Get the shape of the dataframe"
   ]
  },
  {
   "cell_type": "code",
   "execution_count": null,
   "metadata": {
    "tags": [
     "solution"
    ]
   },
   "outputs": [],
   "source": [
    "# Get the shape of the dataframe\n",
    "order_dataframe.shape"
   ]
  },
  {
   "cell_type": "markdown",
   "metadata": {
    "tags": [
     "specification"
    ]
   },
   "source": [
    "The output of shape contains two dimensions. It is of course important to know which number is the count of attributes and which number is the count of tuples in our dataframe.\n",
    "\n",
    "<div class=\"alert alert-block alert-info\">\n",
    "<b>Task:</b> Use the <a href=\"https://pandas.pydata.org/docs/reference/api/pandas.DataFrame.shape.html\">Pandas documentation</a> to find out which number stands for the number of attributes and which for the number of tuples.</div>"
   ]
  },
  {
   "cell_type": "markdown",
   "metadata": {
    "tags": [
     "student"
    ]
   },
   "source": [
    "<b>The count of attributes:</b>\n",
    "1. [ ] 8845\n",
    "2. [ ] 3212\n",
    "3. [ ] 63\n",
    "4. [ ] 34"
   ]
  },
  {
   "cell_type": "markdown",
   "metadata": {
    "tags": [
     "student"
    ]
   },
   "source": [
    "<b>The count of tuples:</b>\n",
    "1. [ ] 8845\n",
    "2. [ ] 3212\n",
    "3. [ ] 63\n",
    "4. [ ] 34"
   ]
  },
  {
   "cell_type": "markdown",
   "metadata": {
    "tags": [
     "solution"
    ]
   },
   "source": [
    "<b>The count of attributes:</b>\n",
    "1. [X] 8845\n",
    "2. [ ] 3212\n",
    "3. [ ] 63\n",
    "4. [ ] 34"
   ]
  },
  {
   "cell_type": "markdown",
   "metadata": {
    "tags": [
     "solution"
    ]
   },
   "source": [
    "<b>The count of tuples:</b>\n",
    "1. [ ] 8845\n",
    "2. [ ] 3212\n",
    "3. [X] 63\n",
    "4. [ ] 34"
   ]
  },
  {
   "cell_type": "markdown",
   "metadata": {
    "tags": [
     "specification"
    ]
   },
   "source": [
    "Now that we now the count of tuples and attributes in our dataframe, we still do not know what data is contained in the data set.\n",
    "\n",
    "In order to get a first impression in this respect, it can be useful to look at (a sample of) the data frame. The supposedly simplest method to make this possible is the print() function."
   ]
  },
  {
   "cell_type": "code",
   "execution_count": null,
   "metadata": {
    "tags": [
     "specification"
    ]
   },
   "outputs": [],
   "source": [
    "# Print the order_dataframe\n",
    "print(order_dataframe)"
   ]
  },
  {
   "cell_type": "markdown",
   "metadata": {
    "tags": [
     "specification"
    ]
   },
   "source": [
    "However, as you can see, this method outputs the entire content of the dataframe without any specific layout. This can cause problems, especially with very large dataframes, and is therefore not recommended. It is far more common to use the dataframe member function head().\n",
    "\n",
    "<div class=\"alert alert-block alert-info\">\n",
    "<b>Task:</b> Use the <a href=\"https://pandas.pydata.org/docs/reference/api/pandas.DataFrame.head.html\">Pandas documentation</a> to familiarize yourself with head(), then apply it to the order_dataframe so that the first 10 tuples are displayed.</div>"
   ]
  },
  {
   "cell_type": "code",
   "execution_count": null,
   "metadata": {
    "tags": [
     "student"
    ]
   },
   "outputs": [],
   "source": [
    "# Use the head() function on the order_dataframe while setting the number of rows displayed to 10"
   ]
  },
  {
   "cell_type": "code",
   "execution_count": null,
   "metadata": {
    "tags": [
     "solution"
    ]
   },
   "outputs": [],
   "source": [
    "# Use the head() function on the order_dataframe while setting the number of rows displayed to 10\n",
    "order_dataframe.head(10)"
   ]
  },
  {
   "cell_type": "markdown",
   "metadata": {
    "tags": [
     "specification"
    ]
   },
   "source": [
    "As you can see, the representation by head() is easier to read. However, head() also has its limitations. For example, in this case we do not get all columns displayed.\n",
    "\n",
    "<div class=\"alert alert-block alert-info\">\n",
    "<b>Task:</b> All attributes of a data frame are stored in the <a href=\"https://pandas.pydata.org/docs/reference/api/pandas.DataFrame.columns.html\">member variable columns</a>. Use this information to output a list of all attributes contained in order_dataframe. No special formatting is asked, but it should be made sure that this time all column identifiers are directly named in the output.\n",
    "</div>"
   ]
  },
  {
   "cell_type": "code",
   "execution_count": null,
   "metadata": {
    "tags": [
     "student"
    ]
   },
   "outputs": [],
   "source": [
    "# Output a list of all columns"
   ]
  },
  {
   "cell_type": "code",
   "execution_count": null,
   "metadata": {
    "tags": [
     "solution"
    ]
   },
   "outputs": [],
   "source": [
    "# There are multiple possible solutions, e.g.:\n",
    "# Sample solution 1: Iterate over the columns\n",
    "for column in order_dataframe.columns:\n",
    "    print(column, end=\",\")"
   ]
  },
  {
   "cell_type": "code",
   "execution_count": null,
   "metadata": {
    "tags": [
     "solution"
    ]
   },
   "outputs": [],
   "source": [
    "# Sample solution 2: Use list()\n",
    "print(list(order_dataframe.columns))"
   ]
  },
  {
   "cell_type": "markdown",
   "metadata": {
    "tags": [
     "specification"
    ]
   },
   "source": [
    "For example, we did not see the columns \"WeightUnitMeasureCode\", \"Weight\", \"DaysToManufacture\", \"ProductLine\", \"Class\" and \"Style\" in the above execution of head().  \n",
    "\n",
    "<div class=\"alert alert-block alert-info\">\n",
    "<b>Task:</b> Show the attributes \"WeightUnitMeasureCode\", \"Weight\", \"DaysToManufacture\", \"ProductLine\", \"Class\", \"Style\" for the first 10 tuples. (Help: <a href=\"https://pandas.pydata.org/docs/getting_started/intro_tutorials/03_subset_data.html\">Pandas tutorial on selecting subsets</a>)\n",
    "</div>"
   ]
  },
  {
   "cell_type": "code",
   "execution_count": null,
   "metadata": {
    "tags": [
     "student"
    ]
   },
   "outputs": [],
   "source": [
    "# Print the attributes \"WeightUnitMeasureCode\", \"Weight\", \"DaysToManufacture\", \"ProductLine\", \"Class\"\n",
    "# and \"Style\" of the first ten attributes"
   ]
  },
  {
   "cell_type": "code",
   "execution_count": null,
   "metadata": {
    "tags": [
     "solution"
    ]
   },
   "outputs": [],
   "source": [
    "# There are multiple possible solutions, e.g.:\n",
    "# Sample solution 1: Explicit naming of the identifiers\n",
    "order_dataframe[\n",
    "    [\n",
    "        \"WeightUnitMeasureCode\",\n",
    "        \"Weight\",\n",
    "        \"DaysToManufacture\",\n",
    "        \"ProductLine\",\n",
    "        \"Class\",\n",
    "        \"Style\",\n",
    "    ]\n",
    "].head(10)"
   ]
  },
  {
   "cell_type": "code",
   "execution_count": null,
   "metadata": {
    "tags": [
     "solution"
    ]
   },
   "outputs": [],
   "source": [
    "# Sample solution 2: Using the columns attribute\n",
    "order_dataframe[order_dataframe.columns[12:18]].head(10)"
   ]
  },
  {
   "cell_type": "markdown",
   "metadata": {
    "tags": [
     "specification"
    ]
   },
   "source": [
    "Of course, it is a pity that all the attribute values shown are `0` in the \"DaysToManufacture\" attribute and `None` in the \"ProductLine\" attribute. However, this does not mean that this is the case for the entire dataframe.\n",
    "\n",
    "<div class=\"alert alert-block alert-info\">\n",
    "<b>Task:</b> Save all with \"DaysToManufacture\" higher than 0 into a new dataframe called order_dtm_not_zero_dataframe. (Help: <a href=\"https://pandas.pydata.org/docs/getting_started/intro_tutorials/03_subset_data.html\">Pandas tutorial on selecting subsets</a>)\n",
    "</div>"
   ]
  },
  {
   "cell_type": "code",
   "execution_count": null,
   "metadata": {
    "tags": [
     "student"
    ]
   },
   "outputs": [],
   "source": [
    "# Select all tuples with \"DaysToManufacture\" > 0"
   ]
  },
  {
   "cell_type": "code",
   "execution_count": null,
   "metadata": {
    "tags": [
     "solution"
    ]
   },
   "outputs": [],
   "source": [
    "# Select all tuples with \"DaysToManufacture\" > 0\n",
    "order_dtm_not_zero_dataframe = order_dataframe[order_dataframe[\"DaysToManufacture\"] > 0]"
   ]
  },
  {
   "cell_type": "markdown",
   "metadata": {
    "tags": [
     "specification"
    ]
   },
   "source": [
    "<div class=\"alert alert-block alert-info\">\n",
    "<b>Task:</b> Display the columns \"WeightUnitMeasureCode\", \"Weight\", \"DaysToManufacture\", \"ProductLine\", \"Class\" and \"Style\" of the new order_dtm_not_zero_dataframe. Limit the output to 10 tuples. (Help: <a href=\"https://pandas.pydata.org/docs/getting_started/intro_tutorials/03_subset_data.html\">Pandas tutorial on selecting subsets</a>)\n",
    "</div>"
   ]
  },
  {
   "cell_type": "code",
   "execution_count": null,
   "metadata": {
    "tags": [
     "student"
    ]
   },
   "outputs": [],
   "source": [
    "# Print the attributes \"WeightUnitMeasureCode\", \"Weight\", \"DaysToManufacture\", \"ProductLine\", \"Class\"\n",
    "# and \"Style\" of the first ten attributes of the new order_dtm_not_zero_dataframe"
   ]
  },
  {
   "cell_type": "code",
   "execution_count": null,
   "metadata": {
    "tags": [
     "solution"
    ]
   },
   "outputs": [],
   "source": [
    "# Print the attributes \"WeightUnitMeasureCode\", \"Weight\", \"DaysToManufacture\", \"ProductLine\", \"Class\"\n",
    "# and \"Style\" of the first ten attributes of the new order_dtm_not_zero_dataframe\n",
    "order_dtm_not_zero_dataframe[\n",
    "    [\n",
    "        \"WeightUnitMeasureCode\",\n",
    "        \"Weight\",\n",
    "        \"DaysToManufacture\",\n",
    "        \"ProductLine\",\n",
    "        \"Class\",\n",
    "        \"Style\",\n",
    "    ]\n",
    "].head(10)"
   ]
  },
  {
   "cell_type": "markdown",
   "metadata": {
    "tags": [
     "specification"
    ]
   },
   "source": [
    "You have now received a first impression of the data. The methods presented to you here can of course also be applied to any other attributes and tuples.\n",
    "\n",
    "<div class=\"alert alert-block alert-info\">\n",
    "<b>Task:</b> Consider the limitations of the methods presented in this section and give two examples (related to the data set at hand) of what information would be difficult to find out using only the methodology presented here.\n",
    "</div>"
   ]
  },
  {
   "cell_type": "markdown",
   "metadata": {
    "tags": [
     "student"
    ]
   },
   "source": [
    "Write down your solution here:\n"
   ]
  },
  {
   "cell_type": "markdown",
   "metadata": {
    "tags": [
     "solution"
    ]
   },
   "source": [
    "The methodology presented here is only used to get a first impression of the data. It is largely raw data that a human can only ever capture in part. For example, it would be difficult to answer the following questions using only this methodology:\n",
    "\n",
    "- What is the longest available production period in our database?\n",
    "- What is the average price of our products?\n",
    "- What is the most frequently ordered item?"
   ]
  },
  {
   "cell_type": "markdown",
   "metadata": {
    "tags": [
     "specification"
    ]
   },
   "source": [
    "### Basic Statistical Descriptors\n",
    "\n",
    "In this section we take a closer look at the attributes \"ReorderPoint\", \"DaysToManufacture\", and \"UnitPrice\". "
   ]
  },
  {
   "cell_type": "code",
   "execution_count": null,
   "metadata": {
    "tags": [
     "specification"
    ]
   },
   "outputs": [],
   "source": [
    "# Print the attributes \"ReorderPoint\", \"DaysToManufacture\", and \"UnitPrice\" of the first ten attributes\n",
    "order_dataframe[[\"ReorderPoint\", \"DaysToManufacture\", \"UnitPrice\"]].head(10)"
   ]
  },
  {
   "cell_type": "markdown",
   "metadata": {
    "tags": [
     "specification"
    ]
   },
   "source": [
    "It makes sense to first look at the simple statistical values \"Mean\", \"Median\", \"Min\", \"Max\", \"Mode\" and \"NUnique\" to get a rough estimate of these attributes. \n",
    "\n",
    "<div class=\"alert alert-block alert-info\">\n",
    "<b>Task:</b> Determine the mean for each of the three attributes and output it. (Help: <a href=\"https://pandas.pydata.org/docs/reference/api/pandas.DataFrame.mean.html\">Pandas documentation</a>)\n",
    "</div>"
   ]
  },
  {
   "cell_type": "code",
   "execution_count": null,
   "metadata": {
    "tags": [
     "student"
    ]
   },
   "outputs": [],
   "source": [
    "# Output the mean of \"ReorderPoint\""
   ]
  },
  {
   "cell_type": "code",
   "execution_count": null,
   "metadata": {
    "tags": [
     "student"
    ]
   },
   "outputs": [],
   "source": [
    "# Output the mean of \"DaysToManufacture\""
   ]
  },
  {
   "cell_type": "code",
   "execution_count": null,
   "metadata": {
    "tags": [
     "student"
    ]
   },
   "outputs": [],
   "source": [
    "# Output the mean of \"UnitPrice\""
   ]
  },
  {
   "cell_type": "code",
   "execution_count": null,
   "metadata": {
    "tags": [
     "solution"
    ]
   },
   "outputs": [],
   "source": [
    "# Output the mean of \"ReorderPoint\"\n",
    "print(\"ReorderPoint: \" + str(order_dataframe[\"ReorderPoint\"].mean()))"
   ]
  },
  {
   "cell_type": "code",
   "execution_count": null,
   "metadata": {
    "tags": [
     "solution"
    ]
   },
   "outputs": [],
   "source": [
    "# Output the mean of \"DaysToManufacture\"\n",
    "print(\"DaysToManufacture: \" + str(order_dataframe[\"DaysToManufacture\"].mean()))"
   ]
  },
  {
   "cell_type": "code",
   "execution_count": null,
   "metadata": {
    "tags": [
     "solution"
    ]
   },
   "outputs": [],
   "source": [
    "# Output the mean of \"UnitPrice\"\n",
    "print(\"UnitPrice: \" + str(order_dataframe[\"UnitPrice\"].mean()))"
   ]
  },
  {
   "cell_type": "markdown",
   "metadata": {
    "tags": [
     "specification"
    ]
   },
   "source": [
    "<div class=\"alert alert-block alert-info\">\n",
    "<b>Task:</b> Determine the median for each of the three attributes and output it. (Help: <a href=\"https://pandas.pydata.org/docs/reference/api/pandas.DataFrame.median.html\">Pandas documentation</a>)\n",
    "</div>"
   ]
  },
  {
   "cell_type": "code",
   "execution_count": null,
   "metadata": {
    "tags": [
     "student"
    ]
   },
   "outputs": [],
   "source": [
    "# Output the median of \"ReorderPoint\""
   ]
  },
  {
   "cell_type": "code",
   "execution_count": null,
   "metadata": {
    "tags": [
     "student"
    ]
   },
   "outputs": [],
   "source": [
    "# Output the median of \"DaysToManufacture\""
   ]
  },
  {
   "cell_type": "code",
   "execution_count": null,
   "metadata": {
    "tags": [
     "student"
    ]
   },
   "outputs": [],
   "source": [
    "# Output the median of \"UnitPrice\""
   ]
  },
  {
   "cell_type": "code",
   "execution_count": null,
   "metadata": {
    "tags": [
     "solution"
    ]
   },
   "outputs": [],
   "source": [
    "# Output the median of \"ReorderPoint\"\n",
    "print(\"ReorderPoint: \" + str(order_dataframe[\"ReorderPoint\"].median()))"
   ]
  },
  {
   "cell_type": "code",
   "execution_count": null,
   "metadata": {
    "tags": [
     "solution"
    ]
   },
   "outputs": [],
   "source": [
    "# Output the median of \"DaysToManufacture\"\n",
    "print(\"DaysToManufacture: \" + str(order_dataframe[\"DaysToManufacture\"].median()))"
   ]
  },
  {
   "cell_type": "code",
   "execution_count": null,
   "metadata": {
    "tags": [
     "solution"
    ]
   },
   "outputs": [],
   "source": [
    "# Output the median of \"UnitPrice\"\n",
    "print(\"UnitPrice: \" + str(order_dataframe[\"UnitPrice\"].median()))"
   ]
  },
  {
   "cell_type": "markdown",
   "metadata": {
    "tags": [
     "specification"
    ]
   },
   "source": [
    "<div class=\"alert alert-block alert-info\">\n",
    "<b>Task:</b> Determine the min for each of the three attributes and output it. (Help: <a href=\"https://pandas.pydata.org/docs/reference/api/pandas.DataFrame.min.html\">Pandas documentation</a>)\n",
    "</div>"
   ]
  },
  {
   "cell_type": "code",
   "execution_count": null,
   "metadata": {
    "tags": [
     "student"
    ]
   },
   "outputs": [],
   "source": [
    "# Output the min of \"ReorderPoint\""
   ]
  },
  {
   "cell_type": "code",
   "execution_count": null,
   "metadata": {
    "tags": [
     "student"
    ]
   },
   "outputs": [],
   "source": [
    "# Output the min of \"DaysToManufacture\""
   ]
  },
  {
   "cell_type": "code",
   "execution_count": null,
   "metadata": {
    "tags": [
     "student"
    ]
   },
   "outputs": [],
   "source": [
    "# Output the min of \"UnitPrice\""
   ]
  },
  {
   "cell_type": "code",
   "execution_count": null,
   "metadata": {
    "tags": [
     "solution"
    ]
   },
   "outputs": [],
   "source": [
    "# Output the min of \"ReorderPoint\"\n",
    "print(\"ReorderPoint: \" + str(order_dataframe[\"ReorderPoint\"].min()))"
   ]
  },
  {
   "cell_type": "code",
   "execution_count": null,
   "metadata": {
    "tags": [
     "solution"
    ]
   },
   "outputs": [],
   "source": [
    "# Output the min of \"DaysToManufacture\"\n",
    "print(\"DaysToManufacture: \" + str(order_dataframe[\"DaysToManufacture\"].min()))"
   ]
  },
  {
   "cell_type": "code",
   "execution_count": null,
   "metadata": {
    "tags": [
     "solution"
    ]
   },
   "outputs": [],
   "source": [
    "# Output the min of \"UnitPrice\"\n",
    "print(\"UnitPrice: \" + str(order_dataframe[\"UnitPrice\"].min()))"
   ]
  },
  {
   "cell_type": "markdown",
   "metadata": {
    "tags": [
     "specification"
    ]
   },
   "source": [
    "<div class=\"alert alert-block alert-info\">\n",
    "<b>Task:</b> Determine the max for each of the three attributes and output it. (Help: <a href=\"https://pandas.pydata.org/docs/reference/api/pandas.DataFrame.max.html\">Pandas documentation</a>)\n",
    "</div>"
   ]
  },
  {
   "cell_type": "code",
   "execution_count": null,
   "metadata": {
    "tags": [
     "student"
    ]
   },
   "outputs": [],
   "source": [
    "# Output the max of \"ReorderPoint\""
   ]
  },
  {
   "cell_type": "code",
   "execution_count": null,
   "metadata": {
    "tags": [
     "student"
    ]
   },
   "outputs": [],
   "source": [
    "# Output the max of \"DaysToManufacture\""
   ]
  },
  {
   "cell_type": "code",
   "execution_count": null,
   "metadata": {
    "tags": [
     "student"
    ]
   },
   "outputs": [],
   "source": [
    "# Output the max of \"UnitPrice\""
   ]
  },
  {
   "cell_type": "code",
   "execution_count": null,
   "metadata": {
    "tags": [
     "solution"
    ]
   },
   "outputs": [],
   "source": [
    "# Output the max of \"ReorderPoint\"\n",
    "print(\"ReorderPoint: \" + str(order_dataframe[\"ReorderPoint\"].max()))"
   ]
  },
  {
   "cell_type": "code",
   "execution_count": null,
   "metadata": {
    "tags": [
     "solution"
    ]
   },
   "outputs": [],
   "source": [
    "# Output the max of \"DaysToManufacture\"\n",
    "print(\"DaysToManufacture: \" + str(order_dataframe[\"DaysToManufacture\"].max()))"
   ]
  },
  {
   "cell_type": "code",
   "execution_count": null,
   "metadata": {
    "tags": [
     "solution"
    ]
   },
   "outputs": [],
   "source": [
    "# Output the max of \"UnitPrice\"\n",
    "print(\"UnitPrice: \" + str(order_dataframe[\"UnitPrice\"].max()))"
   ]
  },
  {
   "cell_type": "markdown",
   "metadata": {
    "tags": [
     "specification"
    ]
   },
   "source": [
    "<div class=\"alert alert-block alert-info\">\n",
    "<b>Task:</b> Determine the max for each of the three attributes and output it. (Help: <a href=\"https://pandas.pydata.org/docs/reference/api/pandas.DataFrame.mode.html\">Pandas documentation</a>)\n",
    "</div>"
   ]
  },
  {
   "cell_type": "code",
   "execution_count": null,
   "metadata": {
    "tags": [
     "student"
    ]
   },
   "outputs": [],
   "source": [
    "# Output the mode of \"ReorderPoint\""
   ]
  },
  {
   "cell_type": "code",
   "execution_count": null,
   "metadata": {
    "tags": [
     "student"
    ]
   },
   "outputs": [],
   "source": [
    "# Output the mode of \"DaysToManufacture\""
   ]
  },
  {
   "cell_type": "code",
   "execution_count": null,
   "metadata": {
    "tags": [
     "student"
    ]
   },
   "outputs": [],
   "source": [
    "# Output the mode of \"UnitPrice\""
   ]
  },
  {
   "cell_type": "code",
   "execution_count": null,
   "metadata": {
    "tags": [
     "solution"
    ]
   },
   "outputs": [],
   "source": [
    "# Output the mode of \"ReorderPoint\"\n",
    "order_dataframe[\"ReorderPoint\"].mode()"
   ]
  },
  {
   "cell_type": "code",
   "execution_count": null,
   "metadata": {
    "tags": [
     "solution"
    ]
   },
   "outputs": [],
   "source": [
    "# Output the mode of \"DaysToManufacture\"\n",
    "order_dataframe[\"DaysToManufacture\"].mode()"
   ]
  },
  {
   "cell_type": "code",
   "execution_count": null,
   "metadata": {
    "tags": [
     "solution"
    ]
   },
   "outputs": [],
   "source": [
    "# Output the mode of \"UnitPrice\"\n",
    "order_dataframe[\"UnitPrice\"].mode()"
   ]
  },
  {
   "cell_type": "markdown",
   "metadata": {
    "tags": [
     "specification"
    ]
   },
   "source": [
    "<div class=\"alert alert-block alert-info\">\n",
    "<b>Task:</b> Determine the nunique for each of the three attributes and output it. (Help: <a href=\"https://pandas.pydata.org/docs/reference/api/pandas.DataFrame.nunique.html\">Pandas documentation</a>)\n",
    "</div>"
   ]
  },
  {
   "cell_type": "code",
   "execution_count": null,
   "metadata": {
    "tags": [
     "student"
    ]
   },
   "outputs": [],
   "source": [
    "# Output the nunique of \"ReorderPoint\""
   ]
  },
  {
   "cell_type": "code",
   "execution_count": null,
   "metadata": {
    "tags": [
     "student"
    ]
   },
   "outputs": [],
   "source": [
    "# Output the nunique of \"DaysToManufacture\""
   ]
  },
  {
   "cell_type": "code",
   "execution_count": null,
   "metadata": {
    "tags": [
     "student"
    ]
   },
   "outputs": [],
   "source": [
    "# Output the nunique of \"UnitPrice\""
   ]
  },
  {
   "cell_type": "code",
   "execution_count": null,
   "metadata": {
    "tags": [
     "solution"
    ]
   },
   "outputs": [],
   "source": [
    "# Output the nunique of \"ReorderPoint\"\n",
    "print(\"ReorderPoint: \" + str(order_dataframe[\"ReorderPoint\"].nunique()))"
   ]
  },
  {
   "cell_type": "code",
   "execution_count": null,
   "metadata": {
    "tags": [
     "solution"
    ]
   },
   "outputs": [],
   "source": [
    "# Output the nunique of \"DaysToManufacture\"\n",
    "print(\"DaysToManufacture: \" + str(order_dataframe[\"DaysToManufacture\"].nunique()))"
   ]
  },
  {
   "cell_type": "code",
   "execution_count": null,
   "metadata": {
    "tags": [
     "solution"
    ]
   },
   "outputs": [],
   "source": [
    "# Output the nunique of \"UnitPrice\"\n",
    "print(\"UnitPrice: \" + str(order_dataframe[\"UnitPrice\"].nunique()))"
   ]
  },
  {
   "cell_type": "markdown",
   "metadata": {
    "tags": [
     "specification"
    ]
   },
   "source": [
    "Even though the methods used here are fairly simple statistical methods, they can already tell us quite a bit about our data. \n",
    "\n",
    "<div class=\"alert alert-block alert-info\">\n",
    "<b>Task:</b> Consider and describe what can be said about the \"ReorderPoint\" attribute based on the statistical values obtained.\n",
    "</div>"
   ]
  },
  {
   "cell_type": "markdown",
   "metadata": {
    "tags": [
     "student"
    ]
   },
   "source": [
    "Write down your solution here:\n"
   ]
  },
  {
   "cell_type": "markdown",
   "metadata": {
    "tags": [
     "solution"
    ]
   },
   "source": [
    "The attribute \"ReorderPoint\" has only five different values, which are distributed between the lowest value 3 and the highest value 750. It can therefore be assumed that there are sometimes large ranges between the individual values and that the attribute is most likely a discrete numeric attribute.\n",
    "\n",
    "The mean of approx. 589 and the median of 750 clearly indicate that many values are probably located in the higher part of the value range. The fact that the mode is 750 further confirms this thesis."
   ]
  },
  {
   "cell_type": "markdown",
   "metadata": {
    "tags": [
     "specification"
    ]
   },
   "source": [
    "<div class=\"alert alert-block alert-info\">\n",
    "<b>Task:</b> Consider and describe what can be said about the \"DaysToManufacture\" attribute based on the statistical values obtained.\n",
    "</div>"
   ]
  },
  {
   "cell_type": "markdown",
   "metadata": {
    "tags": [
     "student"
    ]
   },
   "source": [
    "Write down your solution here:\n"
   ]
  },
  {
   "cell_type": "markdown",
   "metadata": {
    "tags": [
     "solution"
    ]
   },
   "source": [
    "In contrast to \"ReorderPoint\", \"DaysToManufacture\" apparently has only two different values. These seem to be the values \"0\" and \"1\", whereby both mean and median, as well as mode show that the value \"0\" is the more frequent of the two."
   ]
  },
  {
   "cell_type": "markdown",
   "metadata": {
    "tags": [
     "specification"
    ]
   },
   "source": [
    "<div class=\"alert alert-block alert-info\">\n",
    "<b>Task:</b> Consider and describe what can be said about the \"UnitPrice\" attribute based on the statistical values obtained.\n",
    "</div>"
   ]
  },
  {
   "cell_type": "markdown",
   "metadata": {
    "tags": [
     "student"
    ]
   },
   "source": [
    "Write down your solution here:\n"
   ]
  },
  {
   "cell_type": "markdown",
   "metadata": {
    "tags": [
     "solution"
    ]
   },
   "source": [
    "The \"UnitPrice\" attribute, with its 177 different values ranging from 0.21 up to 82.8345, appears to be much less discrete than the other two attributes. It has two values that occur most frequently, 31.4895 and 48.2895. In general, this, along with the mean of about 34.743 and the median of 39.2805, suggests that most values are likely to be found in the middle of the range of values. However, it is possible that there are many values in the very low range as well as in the very high range, but they simply balance each other out."
   ]
  },
  {
   "cell_type": "markdown",
   "metadata": {
    "tags": [
     "specification"
    ]
   },
   "source": [
    "The distribution of the individual values within the attributes is something we can not specific with these simple statiscal values. A posssibility to get more information about this is a histogram.\n",
    "\n",
    "<div class=\"alert alert-block alert-info\">\n",
    "<b>Task:</b> Draw a histogram for \"ReorderPoint\". Consider what number of bins might be appropriate. (Help: <a href=\"https://pandas.pydata.org/docs/reference/api/pandas.DataFrame.plot.hist.html\">Pandas documentation</a>)\n",
    "</div>"
   ]
  },
  {
   "cell_type": "code",
   "execution_count": null,
   "metadata": {
    "tags": [
     "student"
    ]
   },
   "outputs": [],
   "source": [
    "# Histogram for \"ReorderPoint\""
   ]
  },
  {
   "cell_type": "code",
   "execution_count": null,
   "metadata": {
    "tags": [
     "solution"
    ]
   },
   "outputs": [],
   "source": [
    "# Histogram for \"ReorderPoint\"\n",
    "# 20 bins as the two lower values are to close to each other to be seperated otherwise\n",
    "order_dataframe[\"ReorderPoint\"].plot.hist(bins=20, rwidth=0.8)\n",
    "\n",
    "# Note: The rwidth parameter is not required, but it helps to better separate two buckets\n",
    "# that are directly next to each other. If you are very precise, then this parameter can\n",
    "# lead to the histogram no longer being completely correct, since a gap possibly might occur\n",
    "# exactly above an attribute value. Here it should always be weighed up whether readability\n",
    "# of the diagram or strict correctness should have priority.\n",
    "# Another alternative would be to use an edge color that stands out. However, this is not\n",
    "# supported by Panda's internal histogram function and will therefore not be discussed here."
   ]
  },
  {
   "cell_type": "markdown",
   "metadata": {
    "tags": [
     "specification"
    ]
   },
   "source": [
    "<div class=\"alert alert-block alert-info\">\n",
    "<b>Task:</b> Draw a histogram for \"DaysToManufacture\". Consider what number of bins might be appropriate. (Help: <a href=\"https://pandas.pydata.org/docs/reference/api/pandas.DataFrame.plot.hist.html\">Pandas documentation</a>)\n",
    "</div>"
   ]
  },
  {
   "cell_type": "code",
   "execution_count": null,
   "metadata": {
    "tags": [
     "student"
    ]
   },
   "outputs": [],
   "source": [
    "# Histogram for \"DaysToManufacture\""
   ]
  },
  {
   "cell_type": "code",
   "execution_count": null,
   "metadata": {
    "tags": [
     "solution"
    ]
   },
   "outputs": [],
   "source": [
    "# Histogram for \"DaysToManufacture\"\n",
    "# 2 bins as there are only 2 unique values\n",
    "order_dataframe[\"DaysToManufacture\"].plot.hist(bins=2, rwidth=0.8)"
   ]
  },
  {
   "cell_type": "markdown",
   "metadata": {
    "tags": [
     "specification"
    ]
   },
   "source": [
    "<div class=\"alert alert-block alert-info\">\n",
    "<b>Task:</b> Draw a histogram for \"UnitPrice\". Consider what number of bins might be appropriate. (Help: <a href=\"https://pandas.pydata.org/docs/reference/api/pandas.DataFrame.plot.hist.html\">Pandas documentation</a>)\n",
    "</div>"
   ]
  },
  {
   "cell_type": "code",
   "execution_count": null,
   "metadata": {
    "tags": [
     "student"
    ]
   },
   "outputs": [],
   "source": [
    "# Histogram for \"UnitPrice\""
   ]
  },
  {
   "cell_type": "code",
   "execution_count": null,
   "metadata": {
    "tags": [
     "solution"
    ]
   },
   "outputs": [],
   "source": [
    "# Histogram for \"UnitPrice\"\n",
    "# 20 bins as 177 would not be displayed very well\n",
    "order_dataframe[\"UnitPrice\"].plot.hist(bins=20, rwidth=0.8)"
   ]
  },
  {
   "cell_type": "markdown",
   "metadata": {
    "tags": [
     "specification"
    ]
   },
   "source": [
    "It can be seen that it does not always make sense to choose the number of bins exactly like the number of unique values. \n",
    "\n",
    "Apart from that, we have to note that especially in the case of \"UnitPrice\" insight is lost by merging multiple values. In such a case it can also be useful to look at boxplot and density curve instead of histogram.\n",
    "\n",
    "<div class=\"alert alert-block alert-info\">\n",
    "<b>Task:</b> Draw a boxplot diagram for \"UnitPrice\". (Help: <a href=\"https://pandas.pydata.org/docs/reference/api/pandas.DataFrame.plot.box.html\">Pandas documentation</a>)\n",
    "</div>\n"
   ]
  },
  {
   "cell_type": "code",
   "execution_count": null,
   "metadata": {
    "tags": [
     "student"
    ]
   },
   "outputs": [],
   "source": [
    "# Boxplot for \"UnitPrice\""
   ]
  },
  {
   "cell_type": "code",
   "execution_count": null,
   "metadata": {
    "tags": [
     "solution"
    ]
   },
   "outputs": [],
   "source": [
    "# Boxplot for \"UnitPrice\"\n",
    "order_dataframe[\"UnitPrice\"].plot.box()"
   ]
  },
  {
   "cell_type": "markdown",
   "metadata": {
    "tags": [
     "specification"
    ]
   },
   "source": [
    "<div class=\"alert alert-block alert-info\">\n",
    "<b>Task:</b> Draw a density diagram for \"UnitPrice\". (Help: <a href=\"https://pandas.pydata.org/docs/reference/api/pandas.DataFrame.plot.density.html\">Pandas documentation</a>)\n",
    "</div>\n"
   ]
  },
  {
   "cell_type": "code",
   "execution_count": null,
   "metadata": {
    "tags": [
     "student"
    ]
   },
   "outputs": [],
   "source": [
    "# Density curve for \"UnitPrice\""
   ]
  },
  {
   "cell_type": "code",
   "execution_count": null,
   "metadata": {
    "tags": [
     "solution"
    ]
   },
   "outputs": [],
   "source": [
    "# Density curve for \"UnitPrice\"\n",
    "order_dataframe[\"UnitPrice\"].plot.density()"
   ]
  },
  {
   "cell_type": "markdown",
   "metadata": {
    "tags": [
     "specification"
    ]
   },
   "source": [
    "### Data Visualization\n",
    "\n",
    "While simple chart types such as histograms, boxplots and density plots can already be implemented directly with pandas, a variety of libraries are available for more advanced visualization techniques. In this section you will use four of these libraries for different diagram types from the lecture."
   ]
  },
  {
   "cell_type": "markdown",
   "metadata": {
    "tags": [
     "specification"
    ]
   },
   "source": [
    "#### Pixel Oriented Visualization Techniques:  Polar Plot - Plotly\n",
    "\n",
    "In the lecture you were introduced to Polar Plots, also called Radar Chart. In this type of chart, you look at multiple attributes of a single tuple.\n",
    "\n",
    "<div class=\"alert alert-block alert-info\">\n",
    "<b>Task:</b> Use the Plotly Express to output the prepared tuple as a polar plot. (Help: <a href=\"https://plotly.com/python/radar-chart/\">Plotly Documentation</a> and <a href=\"https://plotly.com/python-api-reference/generated/plotly.express.line_polar.html\">Plotly API Reference</a>)\n",
    "</div>"
   ]
  },
  {
   "cell_type": "code",
   "execution_count": null,
   "metadata": {
    "tags": [
     "specification"
    ]
   },
   "outputs": [],
   "source": [
    "# Set the attributes to select\n",
    "attributes = [\"OrderQty\", \"ReceivedQty\", \"RejectedQty\"]\n",
    "\n",
    "# Prepare tuple_0 (Tuple with the id \"0\" in order_dataframe)\n",
    "tuple_0 = pd.DataFrame(\n",
    "    dict(r=order_dataframe[attributes].iloc[0].values, theta=attributes)\n",
    ")"
   ]
  },
  {
   "cell_type": "code",
   "execution_count": null,
   "metadata": {
    "tags": [
     "student"
    ]
   },
   "outputs": [],
   "source": [
    "# Draw a polar diagram for tuple_0"
   ]
  },
  {
   "cell_type": "code",
   "execution_count": null,
   "metadata": {
    "tags": [
     "solution"
    ]
   },
   "outputs": [],
   "source": [
    "# Draw a polar diagram for tuple_0\n",
    "fig = px.line_polar(tuple_0, r=\"r\", theta=\"theta\", line_close=True)\n",
    "fig.update_traces(fill=\"toself\")\n",
    "fig.show()"
   ]
  },
  {
   "cell_type": "markdown",
   "metadata": {
    "tags": [
     "specification"
    ]
   },
   "source": [
    "Even though the Polar Plot is initially only about a single tuple, it is of course also possible to display several tuples in the same diagram.\n",
    "\n",
    "<div class=\"alert alert-block alert-info\">\n",
    "<b>Task:</b> Use the Plotlys graph object Scatterpolar to output the prepared tuples within one polar plot. (Help: <a href=\"https://plotly.com/python/radar-chart/\">Plotly Documentation</a> and <a href=\"https://plotly.com/python-api-reference/generated/plotly.graph_objects.scatterpolar.html?highlight=scatterpolar#module-plotly.graph_objects.scatterpolar\">Plotly API Reference</a>)\n",
    "</div>"
   ]
  },
  {
   "cell_type": "code",
   "execution_count": null,
   "metadata": {
    "tags": [
     "specification"
    ]
   },
   "outputs": [],
   "source": [
    "# Set the attributes to select\n",
    "attributes = [\"OrderQty\", \"ReceivedQty\", \"RejectedQty\"]\n",
    "\n",
    "# Prepare tuple_6, tuple_77, tuple_82\n",
    "tuple_6 = pd.DataFrame(\n",
    "    dict(r=order_dataframe[attributes].iloc[6].values, theta=attributes)\n",
    ")\n",
    "tuple_77 = pd.DataFrame(\n",
    "    dict(r=order_dataframe[attributes].iloc[77].values, theta=attributes)\n",
    ")\n",
    "tuple_82 = pd.DataFrame(\n",
    "    dict(r=order_dataframe[attributes].iloc[82].values, theta=attributes)\n",
    ")"
   ]
  },
  {
   "cell_type": "code",
   "execution_count": null,
   "metadata": {
    "tags": [
     "student"
    ]
   },
   "outputs": [],
   "source": [
    "# Draw a single polar diagram for tuple_6, tuple_77 and tuple_82"
   ]
  },
  {
   "cell_type": "code",
   "execution_count": null,
   "metadata": {
    "tags": [
     "solution"
    ]
   },
   "outputs": [],
   "source": [
    "# Draw a single polar diagram for tuple_6, tuple_77 and tuple_82\n",
    "fig = go.Figure()\n",
    "\n",
    "fig.add_trace(\n",
    "    go.Scatterpolar(\n",
    "        r=tuple_6[\"r\"],\n",
    "        theta=tuple_6[\"theta\"],\n",
    "        mode=\"lines\",\n",
    "        fill=\"tonext\",\n",
    "        name=\"tuple_6\",\n",
    "        line_color=\"peru\",\n",
    "    )\n",
    ")\n",
    "fig.add_trace(\n",
    "    go.Scatterpolar(\n",
    "        r=tuple_77[\"r\"],\n",
    "        theta=tuple_77[\"theta\"],\n",
    "        mode=\"lines\",\n",
    "        fill=\"tonext\",\n",
    "        name=\"tuple_77\",\n",
    "        line_color=\"deepskyblue\",\n",
    "    )\n",
    ")\n",
    "fig.add_trace(\n",
    "    go.Scatterpolar(\n",
    "        r=tuple_82[\"r\"],\n",
    "        theta=tuple_82[\"theta\"],\n",
    "        mode=\"lines\",\n",
    "        fill=\"tonext\",\n",
    "        name=\"tuple_82\",\n",
    "        line_color=\"seagreen\",\n",
    "    )\n",
    ")\n",
    "\n",
    "\n",
    "fig.update_layout(showlegend=True)\n",
    "\n",
    "fig.show()"
   ]
  },
  {
   "cell_type": "markdown",
   "metadata": {
    "tags": [
     "specification"
    ]
   },
   "source": [
    "#### Geometric Projection Visualization Techniques:  Scatter Plot Matrices - Seaborn\n",
    "\n",
    "One type of graphs that we did not consider in 2.1.2 are scatter plots. This is because this chapter is perfect for directly contrasting scatter plots and scatter plot matrices.\n",
    "\n",
    "<div class=\"alert alert-block alert-info\">\n",
    "<b>Task:</b> Use the internal pandas functions to create a scatter plot of the \"OrderQty\" and \"ReceivedQty\" attributes in order_dataframe. (Help: <a href=\"https://pandas.pydata.org/pandas-docs/dev/reference/api/pandas.DataFrame.plot.scatter.html\">Pandas Documentation</a>)\n",
    "</div>\n",
    "\n"
   ]
  },
  {
   "cell_type": "code",
   "execution_count": null,
   "metadata": {
    "tags": [
     "student"
    ]
   },
   "outputs": [],
   "source": [
    "# Draw a scatter plot regarding \"OrderQty\" and \"ReceivedQty\""
   ]
  },
  {
   "cell_type": "code",
   "execution_count": null,
   "metadata": {
    "tags": [
     "solution"
    ]
   },
   "outputs": [],
   "source": [
    "# Draw a scatter plot regarding \"OrderQty\" and \"ReceivedQty\"\n",
    "order_dataframe.plot.scatter(x=\"OrderQty\", y=\"ReceivedQty\")"
   ]
  },
  {
   "cell_type": "markdown",
   "metadata": {
    "tags": [
     "specification"
    ]
   },
   "source": [
    "Within a scatter plot, exactly two attributes are always displayed on different axes. In order to compare more than two attributes with each other, a scatter plot matrix is often used. \n",
    "\n",
    "<div class=\"alert alert-block alert-info\">\n",
    "<b>Task:</b> Use the PairPlot from the Seaborn library to create a scatter plot matrix of the attributes \"OrderQty\", \"ReceivedQty\" and \"RejectedQty\" in order_dataframe. (Help: <a href=\"https://seaborn.pydata.org/generated/seaborn.pairplot.html#seaborn.pairplot\">Seaborn Documentation</a>)\n",
    "</div>"
   ]
  },
  {
   "cell_type": "code",
   "execution_count": null,
   "metadata": {
    "tags": [
     "student"
    ]
   },
   "outputs": [],
   "source": [
    "# Draw a scatter plot regarding \"OrderQty\", \"ReceivedQty\" and \"RejectedQty\""
   ]
  },
  {
   "cell_type": "code",
   "execution_count": null,
   "metadata": {
    "tags": [
     "solution"
    ]
   },
   "outputs": [],
   "source": [
    "# Draw a scatter plot regarding \"OrderQty\", \"ReceivedQty\" and \"RejectedQty\"\n",
    "sns.pairplot(\n",
    "    order_dataframe[[\"OrderQty\", \"ReceivedQty\", \"RejectedQty\"]], diag_kind=\"kde\"\n",
    ")"
   ]
  },
  {
   "cell_type": "markdown",
   "metadata": {
    "tags": [
     "specification"
    ]
   },
   "source": [
    "#### Icon Based Visualization:  Icon Diagram - PyWaffle\n",
    "\n",
    "Icon Based Diagrams are often used to show percentage relationships in an understandable way. Icon Based Diagrams are often used to show percentage relationships in an understandable way.\n",
    "\n",
    "For example, it can be used to highlight the gender distribution of employees working with our orders."
   ]
  },
  {
   "cell_type": "code",
   "execution_count": null,
   "metadata": {
    "tags": [
     "specification"
    ]
   },
   "outputs": [],
   "source": [
    "# Get unique employees\n",
    "orders_per_employee_dataframe = (\n",
    "    order_dataframe.groupby(\n",
    "        [\"EmployeeID\", \"FirstName\", \"MiddleName\", \"LastName\", \"Gender\"]\n",
    "    )\n",
    "    .size()\n",
    "    .reset_index(name=\"Orders\")\n",
    ")\n",
    "\n",
    "# Sort the dataframe\n",
    "orders_per_employee_dataframe.sort_values(\"Orders\", ascending=False, inplace=True)\n",
    "\n",
    "# Show the head of the orders_per_employee_dataframe\n",
    "orders_per_employee_dataframe.head(15)"
   ]
  },
  {
   "cell_type": "code",
   "execution_count": null,
   "metadata": {
    "tags": [
     "specification"
    ]
   },
   "outputs": [],
   "source": [
    "# Get the count of employees per gender\n",
    "employees_per_gender_dataframe = (\n",
    "    orders_per_employee_dataframe.groupby([\"Gender\"]).size().reset_index(name=\"Count\")\n",
    ")\n",
    "\n",
    "# Print the head of this new dataframe\n",
    "employees_per_gender_dataframe.head(10)"
   ]
  },
  {
   "cell_type": "markdown",
   "metadata": {
    "tags": [
     "specification"
    ]
   },
   "source": [
    "<div class=\"alert alert-block alert-info\">\n",
    "<b>Task:</b> Use PyWaffle to draw a icon diagram regarding the genders of the employees. (Help: <a href=\"https://pywaffle.readthedocs.io/en/latest/examples/plot_with_characters_or_icons.html\">PyWaffle Documentation</a>)\n",
    "</div>"
   ]
  },
  {
   "cell_type": "code",
   "execution_count": null,
   "metadata": {
    "tags": [
     "specification"
    ]
   },
   "outputs": [],
   "source": [
    "# Save the counts into seperate variables\n",
    "count_male_employees = employees_per_gender_dataframe[\"Count\"].iloc[\n",
    "    employees_per_gender_dataframe.index[\n",
    "        employees_per_gender_dataframe[\"Gender\"] == \"M\"\n",
    "    ].tolist()[0]\n",
    "]\n",
    "count_female_employees = employees_per_gender_dataframe[\"Count\"].iloc[\n",
    "    employees_per_gender_dataframe.index[\n",
    "        employees_per_gender_dataframe[\"Gender\"] == \"F\"\n",
    "    ].tolist()[0]\n",
    "]"
   ]
  },
  {
   "cell_type": "code",
   "execution_count": null,
   "metadata": {
    "tags": [
     "student"
    ]
   },
   "outputs": [],
   "source": [
    "# Draw the icon diagram"
   ]
  },
  {
   "cell_type": "code",
   "execution_count": null,
   "metadata": {
    "tags": [
     "solution"
    ]
   },
   "outputs": [],
   "source": [
    "# Draw the icon diagram\n",
    "plt.figure(\n",
    "    FigureClass=pywaffle.Waffle,\n",
    "    rows=2,\n",
    "    values=[count_male_employees, count_female_employees],\n",
    "    colors=[\"#0000ff\", \"#ff0084\"],\n",
    "    icons=[\"male\", \"female\"],\n",
    "    font_size=30,\n",
    "    icon_legend=True,\n",
    "    legend={\n",
    "        \"labels\": [\"male\", \"female\"],\n",
    "        \"loc\": \"upper left\",\n",
    "        \"bbox_to_anchor\": (1, 1),\n",
    "    },\n",
    ")\n",
    "plt.tight_layout()"
   ]
  },
  {
   "cell_type": "markdown",
   "metadata": {
    "tags": [
     "specification"
    ]
   },
   "source": [
    "#### Icon Based Visualization:  Tree Maps - Squarify\n",
    "\n",
    "Even better than Icon Diagrams, distributions can be displayed using tree maps. \n",
    "\n",
    "For example, a tree map can be used to display the count of orders processed per employee."
   ]
  },
  {
   "cell_type": "code",
   "execution_count": null,
   "metadata": {
    "tags": [
     "specification"
    ]
   },
   "outputs": [],
   "source": [
    "# Print the head of orders_per_employee (again)\n",
    "orders_per_employee_dataframe.head(15)"
   ]
  },
  {
   "cell_type": "markdown",
   "metadata": {
    "tags": [
     "specification"
    ]
   },
   "source": [
    "<div class=\"alert alert-block alert-info\">\n",
    "<b>Task:</b> Use Squarify to draw a tree map displaying the count of orders processed per employee. (Help: <a href=\"https://github.com/laserson/squarify#Usage\">Squarify Documentation</a>)\n",
    "</div>"
   ]
  },
  {
   "cell_type": "code",
   "execution_count": null,
   "metadata": {
    "tags": [
     "student"
    ]
   },
   "outputs": [],
   "source": [
    "# Draw the tree map"
   ]
  },
  {
   "cell_type": "code",
   "execution_count": null,
   "metadata": {
    "tags": [
     "solution"
    ]
   },
   "outputs": [],
   "source": [
    "# Draw the tree map\n",
    "fig, ax = plt.subplots(1, figsize=(12, 12))\n",
    "squarify.plot(\n",
    "    sizes=orders_per_employee_dataframe[\"Orders\"],\n",
    "    label=[\n",
    "        \"Employee #\"\n",
    "        + str(employee[1][\"EmployeeID\"])\n",
    "        + \":\\n\"\n",
    "        + employee[1][\"FirstName\"]\n",
    "        + \" \"\n",
    "        + employee[1][\"MiddleName\"]\n",
    "        + \". \"\n",
    "        + employee[1][\"LastName\"]\n",
    "        + \"\\n\\nOrders:\\n\"\n",
    "        + str(employee[1][\"Orders\"])\n",
    "        for employee in orders_per_employee_dataframe.iterrows()\n",
    "    ],\n",
    "    pad=True,\n",
    ")\n",
    "plt.axis(\"off\")\n",
    "plt.show()"
   ]
  },
  {
   "cell_type": "markdown",
   "metadata": {
    "tags": [
     "specification"
    ]
   },
   "source": [
    "### Data similarity\n",
    "\n",
    "Data similarity is often measured in data science by the distance between two data sets. There are many different methods to determine distances between different types of data. \n",
    "\n",
    "In this chapter, we will focus on the distance between numeric data. The two tuples we are comparing are tuple_77 and tuple_82 we introduced in a previous section."
   ]
  },
  {
   "cell_type": "code",
   "execution_count": null,
   "metadata": {
    "tags": [
     "specification"
    ]
   },
   "outputs": [],
   "source": [
    "print(tuple_77[\"r\"])"
   ]
  },
  {
   "cell_type": "code",
   "execution_count": null,
   "metadata": {
    "tags": [
     "specification"
    ]
   },
   "outputs": [],
   "source": [
    "print(tuple_82[\"r\"])"
   ]
  },
  {
   "cell_type": "markdown",
   "metadata": {
    "tags": [
     "specification"
    ]
   },
   "source": [
    "One of the most commonly used methods for calculating the distance between numerical values is the Manhattan distance, also called the L1 norm or City Block.\n",
    "\n",
    "<div class=\"alert alert-block alert-info\">\n",
    "<b>Task:</b> Use the cityblock function of SciPy to compute the distance between tuple_77 and tuple_82. (Help: <a href=\"https://docs.scipy.org/doc/scipy/reference/generated/scipy.spatial.distance.cityblock.html#scipy.spatial.distance.cityblock\">SciPy Documentation</a>)\n",
    "</div>"
   ]
  },
  {
   "cell_type": "code",
   "execution_count": null,
   "metadata": {
    "tags": [
     "student"
    ]
   },
   "outputs": [],
   "source": [
    "# Use cityblock() to compute the distance"
   ]
  },
  {
   "cell_type": "code",
   "execution_count": null,
   "metadata": {
    "tags": [
     "solution"
    ]
   },
   "outputs": [],
   "source": [
    "# Use cityblock() to compute the distance\n",
    "scipy.spatial.distance.cityblock(tuple_77[\"r\"], tuple_82[\"r\"])"
   ]
  },
  {
   "cell_type": "markdown",
   "metadata": {
    "tags": [
     "specification"
    ]
   },
   "source": [
    "A second common variant is the Euclidean distance, also called L2 norm.\n",
    "\n",
    "<div class=\"alert alert-block alert-info\">\n",
    "<b>Task:</b> Use the euclidean function of SciPy to compute the distance between tuple_77 and tuple_82. (Help: <a href=\"https://docs.scipy.org/doc/scipy/reference/generated/scipy.spatial.distance.euclidean.html#scipy.spatial.distance.euclidean\">SciPy Documentation</a>)\n",
    "</div>"
   ]
  },
  {
   "cell_type": "code",
   "execution_count": null,
   "metadata": {
    "tags": [
     "student"
    ]
   },
   "outputs": [],
   "source": [
    "# Use euclidean() to compute the distance"
   ]
  },
  {
   "cell_type": "code",
   "execution_count": null,
   "metadata": {
    "tags": [
     "solution"
    ]
   },
   "outputs": [],
   "source": [
    "# Use euclidean() to compute the distance\n",
    "scipy.spatial.distance.euclidean(tuple_77[\"r\"], tuple_82[\"r\"])"
   ]
  },
  {
   "cell_type": "markdown",
   "metadata": {
    "tags": [
     "specification"
    ]
   },
   "source": [
    "Apparently, for tuple_77 and tuple_82, the manhattan distance and the Euclidean distance do not differ. But what about the following two lists?"
   ]
  },
  {
   "cell_type": "code",
   "execution_count": null,
   "metadata": {
    "tags": [
     "specification"
    ]
   },
   "outputs": [],
   "source": [
    "# Lists to compare\n",
    "list_1 = [550, 550, 82]\n",
    "list_2 = [82, 550, 550]"
   ]
  },
  {
   "cell_type": "markdown",
   "metadata": {
    "tags": [
     "specification"
    ]
   },
   "source": [
    "<div class=\"alert alert-block alert-info\">\n",
    "<b>Task:</b> Compute the manhattan distance and the euclidean distance between list_1 and list_2. \n",
    "</div>"
   ]
  },
  {
   "cell_type": "code",
   "execution_count": null,
   "metadata": {
    "tags": [
     "student"
    ]
   },
   "outputs": [],
   "source": [
    "# Compute the manhattan distance"
   ]
  },
  {
   "cell_type": "code",
   "execution_count": null,
   "metadata": {
    "tags": [
     "student"
    ]
   },
   "outputs": [],
   "source": [
    "# Compute the euclidean distance"
   ]
  },
  {
   "cell_type": "code",
   "execution_count": null,
   "metadata": {
    "tags": [
     "solution"
    ]
   },
   "outputs": [],
   "source": [
    "# Compute the manhattan distance\n",
    "scipy.spatial.distance.cityblock(list_1, list_2)"
   ]
  },
  {
   "cell_type": "code",
   "execution_count": null,
   "metadata": {
    "tags": [
     "solution"
    ]
   },
   "outputs": [],
   "source": [
    "# Compute the euclidean distance\n",
    "scipy.spatial.distance.euclidean(list_1, list_2)"
   ]
  },
  {
   "cell_type": "markdown",
   "metadata": {
    "tags": [
     "specification"
    ]
   },
   "source": [
    "<div class=\"alert alert-block alert-info\">\n",
    "<b>Task:</b> Consider and explain why the distance measures did not differ for tuple_77 and tuple_82, but did for list_1 and list_2.\n",
    "</div>"
   ]
  },
  {
   "cell_type": "markdown",
   "metadata": {
    "tags": [
     "student"
    ]
   },
   "source": [
    "Write down your solution here:\n"
   ]
  },
  {
   "cell_type": "markdown",
   "metadata": {
    "tags": [
     "solution"
    ]
   },
   "source": [
    "For list_1 and list_2, each value appears in both lists. While the L1 norm evaluates that both the first values of both lists and the last values of both lists differ, the L2 norm \"recognizes\" that the values in both arrays are simply shifted and thus estimates the distance to be smaller."
   ]
  },
  {
   "cell_type": "markdown",
   "metadata": {
    "tags": [
     "specification"
    ]
   },
   "source": [
    "Both the manhattan distance and the Euclidean distance are special forms of another distance. Do you remember which one?\n",
    "\n",
    "<div class=\"alert alert-block alert-info\">\n",
    "<b>Task:</b> Compute the manhattan distance and the euclidean distance between list_1 and list_2 without using cityblock() or euclidean(). (Hint: The required distance measure is also part of <a href=\"https://docs.scipy.org/doc/scipy/reference/spatial.distance.html\">scipy.spatial.distance</a>)\n",
    "</div>"
   ]
  },
  {
   "cell_type": "code",
   "execution_count": null,
   "metadata": {
    "tags": [
     "student"
    ]
   },
   "outputs": [],
   "source": [
    "# Compute the manhattan distance without cityblock()"
   ]
  },
  {
   "cell_type": "code",
   "execution_count": null,
   "metadata": {
    "tags": [
     "student"
    ]
   },
   "outputs": [],
   "source": [
    "# Compute the euclidean distance without euclidean()"
   ]
  },
  {
   "cell_type": "code",
   "execution_count": null,
   "metadata": {
    "tags": [
     "solution"
    ]
   },
   "outputs": [],
   "source": [
    "# Compute the manhattan distance without cityblock()\n",
    "scipy.spatial.distance.minkowski(list_1, list_2, 1)"
   ]
  },
  {
   "cell_type": "code",
   "execution_count": null,
   "metadata": {
    "tags": [
     "solution"
    ]
   },
   "outputs": [],
   "source": [
    "# Compute the euclidean distance without euclidean()\n",
    "scipy.spatial.distance.minkowski(list_1, list_2, 2)"
   ]
  }
 ],
 "metadata": {
  "celltoolbar": "Tags",
  "interpreter": {
   "hash": "916dbcbb3f70747c44a77c7bcd40155683ae19c65e1c03b4aa3499c5328201f1"
  },
  "kernelspec": {
   "display_name": "Python 3 (ipykernel)",
   "language": "python",
   "name": "python3"
  },
  "language_info": {
   "codemirror_mode": {
    "name": "ipython",
    "version": 3
   },
   "file_extension": ".py",
   "mimetype": "text/x-python",
   "name": "python",
   "nbconvert_exporter": "python",
   "pygments_lexer": "ipython3",
   "version": "3.10.2"
  }
 },
 "nbformat": 4,
 "nbformat_minor": 2
}
