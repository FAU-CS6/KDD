{
 "cells": [
  {
   "cell_type": "markdown",
   "metadata": {
    "tags": [
     "specification"
    ]
   },
   "source": [
    "# 2. Data Analysis & Preprocessing\n",
    "\n",
    "This JupyterNotebook is part of an exercise series titled *Data Analysis & Preprocessing*. The series itself includes practical exercises for lectures *3. Getting to Know Your Data* and *4. Data Preprocessing*. \n",
    "\n",
    "Exercises for data analysis and preprocessing is divided into three parts in total, namely:\n",
    "\n",
    "- Part One: Getting to Know Your Data\n",
    "- Part Two: Preprocessing - Data Cleaning & Data Integration\n",
    "- Part Three: Preprocessing - Data Reduction, Data Transformation & Data Discretization\n",
    "\n",
    "Recall that we have two exercise groups. Depending on how each group progresses, some parts of these exercises may not be discussed in its entirety. If questions arise, ask them in your study group or in our StudOn forum."
   ]
  },
  {
   "cell_type": "markdown",
   "metadata": {
    "tags": [
     "specification"
    ]
   },
   "source": [
    "## Part Three: Preprocessing - Data Reduction, Data Transformation & Data Discretization\n",
    "\n",
    "In this part you will apply the theoretical knowledge gained in the second part of the lecture *4. Data Preprocessing*."
   ]
  },
  {
   "cell_type": "code",
   "execution_count": 1,
   "metadata": {
    "tags": [
     "specification"
    ]
   },
   "outputs": [],
   "source": [
    "# Import the required libraries\n",
    "import tempfile\n",
    "import sqlite3\n",
    "import os\n",
    "import urllib.request\n",
    "import sklearn.decomposition\n",
    "import pandas as pd\n",
    "import matplotlib.pyplot as plt\n",
    "import numpy as np"
   ]
  },
  {
   "cell_type": "code",
   "execution_count": 2,
   "metadata": {
    "tags": [
     "specification"
    ]
   },
   "outputs": [],
   "source": [
    "# Create a temporary directory\n",
    "dataset_folder = tempfile.mkdtemp()\n",
    "\n",
    "# Build path to database\n",
    "database_path = os.path.join(dataset_folder, \"adventure-works.db\")\n",
    "\n",
    "# Get the database\n",
    "urllib.request.urlretrieve(\n",
    "    \"https://github.com/FAU-CS6/KDD-Databases/raw/main/AdventureWorks/adventure-works.db\",\n",
    "    database_path,\n",
    ")\n",
    "\n",
    "# Open connection to the adventure-works.db\n",
    "connection = sqlite3.connect(database_path)"
   ]
  },
  {
   "cell_type": "code",
   "execution_count": 3,
   "metadata": {
    "tags": [
     "specification"
    ]
   },
   "outputs": [],
   "source": [
    "# Create the clean DataFrame(s)\n",
    "# Order DataFrame\n",
    "order_df = pd.read_sql_query(\n",
    "    \"SELECT p.ProductID,p.Name,p.ProductNumber,p.MakeFlag,p.FinishedGoodsFlag,p.Color,p.SafetyStockLevel,\"\n",
    "    \"p.ReorderPoint,p.StandardCost,p.ListPrice,p.Size,p.SizeUnitMeasureCode,p.WeightUnitMeasureCode,p.Weight,\"\n",
    "    \"p.DaysToManufacture,p.ProductLine,p.Class,p.Style,p.ProductSubcategoryID,p.ProductModelID,p.SellStartDate,\"\n",
    "    \"p.SellEndDate,p.DiscontinuedDate,d.PurchaseOrderID,d.PurchaseOrderDetailID,d.DueDate,d.OrderQty,d.ProductID,\"\n",
    "    \"d.UnitPrice,d.ReceivedQty,d.RejectedQty,h.RevisionNumber,h.Status,h.EmployeeID,h.VendorID,h.ShipMethodID,\"\n",
    "    \"h.OrderDate,h.ShipDate,h.SubTotal,h.TaxAmt,h.Freight,h.TotalDue,e.NationalIDNumber,e.LoginID,e.OrganizationNode,\"\n",
    "    \"e.JobTitle,e.BirthDate,e.MaritalStatus,e.Gender,e.HireDate,e.SalariedFlag,e.VacationHours,e.SickLeaveHours,\"\n",
    "    \"e.CurrentFlag,r.PersonType,r.NameStyle,r.Title,r.FirstName,r.MiddleName,r.LastName,r.Suffix,r.EmailPromotion,\"\n",
    "    \"r.AdditionalContactInfo,r.Demographics \"\n",
    "    \"FROM Product p \"\n",
    "    \"JOIN PurchaseOrderDetail d ON p.ProductID = d.ProductID \"\n",
    "    \"JOIN PurchaseOrderHeader h ON d.PurchaseOrderID = h.PurchaseOrderID \"\n",
    "    \"JOIN Employee e ON h.EmployeeID = e.BusinessEntityID \"\n",
    "    \"JOIN Person r ON e.BusinessEntityID = r.BusinessEntityID\",\n",
    "    connection,\n",
    "    index_col=\"PurchaseOrderDetailID\",\n",
    ")\n",
    "\n",
    "# CurrencyRate DataFrame\n",
    "currency_rate_df = pd.read_sql_query(\n",
    "    \"SELECT STRFTIME('%Y-%m-%d', CurrencyRateDate) AS CurrencyRateDate,AverageRate,EndOfDayRate \"\n",
    "    \"FROM CurrencyRate \"\n",
    "    \"WHERE FromCurrencyCode='USD' AND ToCurrencyCode='EUR'\",\n",
    "    connection,\n",
    "    index_col=\"CurrencyRateDate\",\n",
    ")"
   ]
  },
  {
   "cell_type": "markdown",
   "metadata": {
    "tags": [
     "specification"
    ]
   },
   "source": [
    "### Normalization\n",
    "\n",
    "One method introduced in the lecture and frequently used in Data Science is normalization. In order to apply this practically, we will first take a look at a part of the `order_df` already known from Part One. More precisely, we are looking at some numeric attributes from `order_df`.\n",
    "\n",
    "<div class=\"alert alert-block alert-info\">\n",
    "\n",
    "**Task:** Display the head of the attributes `SubTotal`, `Freight` and `OrderQty` from `order_df`.\n",
    "</div>"
   ]
  },
  {
   "cell_type": "code",
   "execution_count": 4,
   "metadata": {
    "tags": [
     "student"
    ]
   },
   "outputs": [],
   "source": [
    "# Display the head of SubTotal, Freight and OrderQty"
   ]
  },
  {
   "cell_type": "code",
   "execution_count": 5,
   "metadata": {
    "tags": [
     "solution"
    ]
   },
   "outputs": [
    {
     "data": {
      "text/html": [
       "<div>\n",
       "<style scoped>\n",
       "    .dataframe tbody tr th:only-of-type {\n",
       "        vertical-align: middle;\n",
       "    }\n",
       "\n",
       "    .dataframe tbody tr th {\n",
       "        vertical-align: top;\n",
       "    }\n",
       "\n",
       "    .dataframe thead th {\n",
       "        text-align: right;\n",
       "    }\n",
       "</style>\n",
       "<table border=\"1\" class=\"dataframe\">\n",
       "  <thead>\n",
       "    <tr style=\"text-align: right;\">\n",
       "      <th></th>\n",
       "      <th>SubTotal</th>\n",
       "      <th>Freight</th>\n",
       "      <th>OrderQty</th>\n",
       "    </tr>\n",
       "    <tr>\n",
       "      <th>PurchaseOrderDetailID</th>\n",
       "      <th></th>\n",
       "      <th></th>\n",
       "      <th></th>\n",
       "    </tr>\n",
       "  </thead>\n",
       "  <tbody>\n",
       "    <tr>\n",
       "      <th>1</th>\n",
       "      <td>201.0400</td>\n",
       "      <td>5.0260</td>\n",
       "      <td>4</td>\n",
       "    </tr>\n",
       "    <tr>\n",
       "      <th>2</th>\n",
       "      <td>272.1015</td>\n",
       "      <td>6.8025</td>\n",
       "      <td>3</td>\n",
       "    </tr>\n",
       "    <tr>\n",
       "      <th>3</th>\n",
       "      <td>272.1015</td>\n",
       "      <td>6.8025</td>\n",
       "      <td>3</td>\n",
       "    </tr>\n",
       "    <tr>\n",
       "      <th>4</th>\n",
       "      <td>8847.3000</td>\n",
       "      <td>221.1825</td>\n",
       "      <td>550</td>\n",
       "    </tr>\n",
       "    <tr>\n",
       "      <th>5</th>\n",
       "      <td>171.0765</td>\n",
       "      <td>4.2769</td>\n",
       "      <td>3</td>\n",
       "    </tr>\n",
       "    <tr>\n",
       "      <th>6</th>\n",
       "      <td>20397.3000</td>\n",
       "      <td>509.9325</td>\n",
       "      <td>550</td>\n",
       "    </tr>\n",
       "    <tr>\n",
       "      <th>7</th>\n",
       "      <td>14628.0750</td>\n",
       "      <td>365.7019</td>\n",
       "      <td>550</td>\n",
       "    </tr>\n",
       "    <tr>\n",
       "      <th>8</th>\n",
       "      <td>58685.5500</td>\n",
       "      <td>1467.1388</td>\n",
       "      <td>550</td>\n",
       "    </tr>\n",
       "    <tr>\n",
       "      <th>9</th>\n",
       "      <td>58685.5500</td>\n",
       "      <td>1467.1388</td>\n",
       "      <td>550</td>\n",
       "    </tr>\n",
       "    <tr>\n",
       "      <th>10</th>\n",
       "      <td>58685.5500</td>\n",
       "      <td>1467.1388</td>\n",
       "      <td>550</td>\n",
       "    </tr>\n",
       "    <tr>\n",
       "      <th>11</th>\n",
       "      <td>693.3780</td>\n",
       "      <td>17.3345</td>\n",
       "      <td>3</td>\n",
       "    </tr>\n",
       "    <tr>\n",
       "      <th>12</th>\n",
       "      <td>693.3780</td>\n",
       "      <td>17.3345</td>\n",
       "      <td>3</td>\n",
       "    </tr>\n",
       "    <tr>\n",
       "      <th>13</th>\n",
       "      <td>693.3780</td>\n",
       "      <td>17.3345</td>\n",
       "      <td>3</td>\n",
       "    </tr>\n",
       "    <tr>\n",
       "      <th>14</th>\n",
       "      <td>693.3780</td>\n",
       "      <td>17.3345</td>\n",
       "      <td>3</td>\n",
       "    </tr>\n",
       "    <tr>\n",
       "      <th>15</th>\n",
       "      <td>693.3780</td>\n",
       "      <td>17.3345</td>\n",
       "      <td>3</td>\n",
       "    </tr>\n",
       "    <tr>\n",
       "      <th>16</th>\n",
       "      <td>694.1655</td>\n",
       "      <td>17.3541</td>\n",
       "      <td>3</td>\n",
       "    </tr>\n",
       "    <tr>\n",
       "      <th>17</th>\n",
       "      <td>694.1655</td>\n",
       "      <td>17.3541</td>\n",
       "      <td>3</td>\n",
       "    </tr>\n",
       "    <tr>\n",
       "      <th>18</th>\n",
       "      <td>694.1655</td>\n",
       "      <td>17.3541</td>\n",
       "      <td>3</td>\n",
       "    </tr>\n",
       "    <tr>\n",
       "      <th>19</th>\n",
       "      <td>694.1655</td>\n",
       "      <td>17.3541</td>\n",
       "      <td>3</td>\n",
       "    </tr>\n",
       "    <tr>\n",
       "      <th>20</th>\n",
       "      <td>694.1655</td>\n",
       "      <td>17.3541</td>\n",
       "      <td>3</td>\n",
       "    </tr>\n",
       "  </tbody>\n",
       "</table>\n",
       "</div>"
      ],
      "text/plain": [
       "                         SubTotal    Freight  OrderQty\n",
       "PurchaseOrderDetailID                                 \n",
       "1                        201.0400     5.0260         4\n",
       "2                        272.1015     6.8025         3\n",
       "3                        272.1015     6.8025         3\n",
       "4                       8847.3000   221.1825       550\n",
       "5                        171.0765     4.2769         3\n",
       "6                      20397.3000   509.9325       550\n",
       "7                      14628.0750   365.7019       550\n",
       "8                      58685.5500  1467.1388       550\n",
       "9                      58685.5500  1467.1388       550\n",
       "10                     58685.5500  1467.1388       550\n",
       "11                       693.3780    17.3345         3\n",
       "12                       693.3780    17.3345         3\n",
       "13                       693.3780    17.3345         3\n",
       "14                       693.3780    17.3345         3\n",
       "15                       693.3780    17.3345         3\n",
       "16                       694.1655    17.3541         3\n",
       "17                       694.1655    17.3541         3\n",
       "18                       694.1655    17.3541         3\n",
       "19                       694.1655    17.3541         3\n",
       "20                       694.1655    17.3541         3"
      ]
     },
     "execution_count": 5,
     "metadata": {},
     "output_type": "execute_result"
    }
   ],
   "source": [
    "# Display the head of SubTotal, Freight and OrderQty\n",
    "order_df[[\"SubTotal\", \"Freight\", \"OrderQty\"]].head(20)"
   ]
  },
  {
   "cell_type": "markdown",
   "metadata": {
    "tags": [
     "specification"
    ]
   },
   "source": [
    "<div class=\"alert alert-block alert-info\">\n",
    "\n",
    "**Task:** Display the minimum, maximum, mean, and standard deviation of `SubTotal`, `Freight` and `OrderQty`.\n",
    "</div>"
   ]
  },
  {
   "cell_type": "code",
   "execution_count": 6,
   "metadata": {
    "tags": [
     "student"
    ]
   },
   "outputs": [],
   "source": [
    "# Display the minimum, maximum, mean, and standard deviation of SubTotal, Freight and OrderQty"
   ]
  },
  {
   "cell_type": "code",
   "execution_count": 7,
   "metadata": {
    "tags": [
     "solution"
    ]
   },
   "outputs": [
    {
     "data": {
      "text/html": [
       "<div>\n",
       "<style scoped>\n",
       "    .dataframe tbody tr th:only-of-type {\n",
       "        vertical-align: middle;\n",
       "    }\n",
       "\n",
       "    .dataframe tbody tr th {\n",
       "        vertical-align: top;\n",
       "    }\n",
       "\n",
       "    .dataframe thead th {\n",
       "        text-align: right;\n",
       "    }\n",
       "</style>\n",
       "<table border=\"1\" class=\"dataframe\">\n",
       "  <thead>\n",
       "    <tr style=\"text-align: right;\">\n",
       "      <th></th>\n",
       "      <th>SubTotal</th>\n",
       "      <th>Freight</th>\n",
       "      <th>OrderQty</th>\n",
       "    </tr>\n",
       "  </thead>\n",
       "  <tbody>\n",
       "    <tr>\n",
       "      <th>min</th>\n",
       "      <td>37.075500</td>\n",
       "      <td>0.926900</td>\n",
       "      <td>3.000000</td>\n",
       "    </tr>\n",
       "    <tr>\n",
       "      <th>max</th>\n",
       "      <td>997680.000000</td>\n",
       "      <td>19953.600000</td>\n",
       "      <td>8000.000000</td>\n",
       "    </tr>\n",
       "    <tr>\n",
       "      <th>mean</th>\n",
       "      <td>18500.585391</td>\n",
       "      <td>453.636236</td>\n",
       "      <td>265.532730</td>\n",
       "    </tr>\n",
       "    <tr>\n",
       "      <th>std</th>\n",
       "      <td>39344.367563</td>\n",
       "      <td>862.103697</td>\n",
       "      <td>355.926589</td>\n",
       "    </tr>\n",
       "  </tbody>\n",
       "</table>\n",
       "</div>"
      ],
      "text/plain": [
       "           SubTotal       Freight     OrderQty\n",
       "min       37.075500      0.926900     3.000000\n",
       "max   997680.000000  19953.600000  8000.000000\n",
       "mean   18500.585391    453.636236   265.532730\n",
       "std    39344.367563    862.103697   355.926589"
      ]
     },
     "execution_count": 7,
     "metadata": {},
     "output_type": "execute_result"
    }
   ],
   "source": [
    "# Display the minimum, maximum, mean, and standard deviation of SubTotal, Freight and OrderQty\n",
    "order_df[[\"SubTotal\", \"Freight\", \"OrderQty\"]].agg([\"min\", \"max\", \"mean\", \"std\"])"
   ]
  },
  {
   "cell_type": "markdown",
   "metadata": {
    "tags": [
     "specification"
    ]
   },
   "source": [
    "As can be seen, the three attributes differ significantly with respect to their distribution of values posing a hindrance for some knowledge discovery tasks. To alleviate this problem, normalization is employed to scale attribute values to a smaller range.\n",
    "\n",
    "In the lecture you were introduced to three different variants of normalization: min-max normalization, z-score normalization, and normalization by decimal scaling.\n",
    "\n",
    "Below you can see the implementation of one of the normalization methods for the attributes `SubTotal`, `Freight` and `OrderQty`:"
   ]
  },
  {
   "cell_type": "code",
   "execution_count": 8,
   "metadata": {
    "tags": [
     "specification"
    ]
   },
   "outputs": [
    {
     "data": {
      "text/html": [
       "<div>\n",
       "<style scoped>\n",
       "    .dataframe tbody tr th:only-of-type {\n",
       "        vertical-align: middle;\n",
       "    }\n",
       "\n",
       "    .dataframe tbody tr th {\n",
       "        vertical-align: top;\n",
       "    }\n",
       "\n",
       "    .dataframe thead th {\n",
       "        text-align: right;\n",
       "    }\n",
       "</style>\n",
       "<table border=\"1\" class=\"dataframe\">\n",
       "  <thead>\n",
       "    <tr style=\"text-align: right;\">\n",
       "      <th></th>\n",
       "      <th>SubTotal</th>\n",
       "      <th>Freight</th>\n",
       "      <th>OrderQty</th>\n",
       "    </tr>\n",
       "    <tr>\n",
       "      <th>PurchaseOrderDetailID</th>\n",
       "      <th></th>\n",
       "      <th></th>\n",
       "      <th></th>\n",
       "    </tr>\n",
       "  </thead>\n",
       "  <tbody>\n",
       "    <tr>\n",
       "      <th>1</th>\n",
       "      <td>-0.465112</td>\n",
       "      <td>-0.520367</td>\n",
       "      <td>-0.734794</td>\n",
       "    </tr>\n",
       "    <tr>\n",
       "      <th>2</th>\n",
       "      <td>-0.463306</td>\n",
       "      <td>-0.518306</td>\n",
       "      <td>-0.737604</td>\n",
       "    </tr>\n",
       "    <tr>\n",
       "      <th>3</th>\n",
       "      <td>-0.463306</td>\n",
       "      <td>-0.518306</td>\n",
       "      <td>-0.737604</td>\n",
       "    </tr>\n",
       "    <tr>\n",
       "      <th>4</th>\n",
       "      <td>-0.245354</td>\n",
       "      <td>-0.269635</td>\n",
       "      <td>0.799230</td>\n",
       "    </tr>\n",
       "    <tr>\n",
       "      <th>5</th>\n",
       "      <td>-0.465874</td>\n",
       "      <td>-0.521236</td>\n",
       "      <td>-0.737604</td>\n",
       "    </tr>\n",
       "    <tr>\n",
       "      <th>6</th>\n",
       "      <td>0.048208</td>\n",
       "      <td>0.065301</td>\n",
       "      <td>0.799230</td>\n",
       "    </tr>\n",
       "    <tr>\n",
       "      <th>7</th>\n",
       "      <td>-0.098426</td>\n",
       "      <td>-0.102000</td>\n",
       "      <td>0.799230</td>\n",
       "    </tr>\n",
       "    <tr>\n",
       "      <th>8</th>\n",
       "      <td>1.021365</td>\n",
       "      <td>1.175616</td>\n",
       "      <td>0.799230</td>\n",
       "    </tr>\n",
       "    <tr>\n",
       "      <th>9</th>\n",
       "      <td>1.021365</td>\n",
       "      <td>1.175616</td>\n",
       "      <td>0.799230</td>\n",
       "    </tr>\n",
       "    <tr>\n",
       "      <th>10</th>\n",
       "      <td>1.021365</td>\n",
       "      <td>1.175616</td>\n",
       "      <td>0.799230</td>\n",
       "    </tr>\n",
       "    <tr>\n",
       "      <th>11</th>\n",
       "      <td>-0.452599</td>\n",
       "      <td>-0.506090</td>\n",
       "      <td>-0.737604</td>\n",
       "    </tr>\n",
       "    <tr>\n",
       "      <th>12</th>\n",
       "      <td>-0.452599</td>\n",
       "      <td>-0.506090</td>\n",
       "      <td>-0.737604</td>\n",
       "    </tr>\n",
       "    <tr>\n",
       "      <th>13</th>\n",
       "      <td>-0.452599</td>\n",
       "      <td>-0.506090</td>\n",
       "      <td>-0.737604</td>\n",
       "    </tr>\n",
       "    <tr>\n",
       "      <th>14</th>\n",
       "      <td>-0.452599</td>\n",
       "      <td>-0.506090</td>\n",
       "      <td>-0.737604</td>\n",
       "    </tr>\n",
       "    <tr>\n",
       "      <th>15</th>\n",
       "      <td>-0.452599</td>\n",
       "      <td>-0.506090</td>\n",
       "      <td>-0.737604</td>\n",
       "    </tr>\n",
       "    <tr>\n",
       "      <th>16</th>\n",
       "      <td>-0.452579</td>\n",
       "      <td>-0.506067</td>\n",
       "      <td>-0.737604</td>\n",
       "    </tr>\n",
       "    <tr>\n",
       "      <th>17</th>\n",
       "      <td>-0.452579</td>\n",
       "      <td>-0.506067</td>\n",
       "      <td>-0.737604</td>\n",
       "    </tr>\n",
       "    <tr>\n",
       "      <th>18</th>\n",
       "      <td>-0.452579</td>\n",
       "      <td>-0.506067</td>\n",
       "      <td>-0.737604</td>\n",
       "    </tr>\n",
       "    <tr>\n",
       "      <th>19</th>\n",
       "      <td>-0.452579</td>\n",
       "      <td>-0.506067</td>\n",
       "      <td>-0.737604</td>\n",
       "    </tr>\n",
       "    <tr>\n",
       "      <th>20</th>\n",
       "      <td>-0.452579</td>\n",
       "      <td>-0.506067</td>\n",
       "      <td>-0.737604</td>\n",
       "    </tr>\n",
       "  </tbody>\n",
       "</table>\n",
       "</div>"
      ],
      "text/plain": [
       "                       SubTotal   Freight  OrderQty\n",
       "PurchaseOrderDetailID                              \n",
       "1                     -0.465112 -0.520367 -0.734794\n",
       "2                     -0.463306 -0.518306 -0.737604\n",
       "3                     -0.463306 -0.518306 -0.737604\n",
       "4                     -0.245354 -0.269635  0.799230\n",
       "5                     -0.465874 -0.521236 -0.737604\n",
       "6                      0.048208  0.065301  0.799230\n",
       "7                     -0.098426 -0.102000  0.799230\n",
       "8                      1.021365  1.175616  0.799230\n",
       "9                      1.021365  1.175616  0.799230\n",
       "10                     1.021365  1.175616  0.799230\n",
       "11                    -0.452599 -0.506090 -0.737604\n",
       "12                    -0.452599 -0.506090 -0.737604\n",
       "13                    -0.452599 -0.506090 -0.737604\n",
       "14                    -0.452599 -0.506090 -0.737604\n",
       "15                    -0.452599 -0.506090 -0.737604\n",
       "16                    -0.452579 -0.506067 -0.737604\n",
       "17                    -0.452579 -0.506067 -0.737604\n",
       "18                    -0.452579 -0.506067 -0.737604\n",
       "19                    -0.452579 -0.506067 -0.737604\n",
       "20                    -0.452579 -0.506067 -0.737604"
      ]
     },
     "execution_count": 8,
     "metadata": {},
     "output_type": "execute_result"
    }
   ],
   "source": [
    "# It is always good to define methods that you may want to use more often as a function.\n",
    "def mystery_normalization(df):\n",
    "    # Create a copy to avoid overriding original content\n",
    "    normalized = df.copy()\n",
    "\n",
    "    # Normalize each column individually\n",
    "    for column in normalized.columns:\n",
    "        normalized[column] = (\n",
    "            normalized[column] - normalized[column].mean()\n",
    "        ) / normalized[column].std()\n",
    "\n",
    "    return normalized\n",
    "\n",
    "\n",
    "# Apply previously defined function\n",
    "mystery_normalization_df = mystery_normalization(\n",
    "    order_df[[\"SubTotal\", \"Freight\", \"OrderQty\"]]\n",
    ")\n",
    "mystery_normalization_df.head(20)"
   ]
  },
  {
   "cell_type": "markdown",
   "metadata": {
    "tags": [
     "specification"
    ]
   },
   "source": [
    "<div class=\"alert alert-block alert-info\">\n",
    "\n",
    "**Task:** Determine whether the above function `mystery_normalization` is an implementation of min-max normalization, z-score normalization, or normalization by decimal scaling.\n",
    "</div>"
   ]
  },
  {
   "cell_type": "markdown",
   "metadata": {
    "tags": [
     "student"
    ]
   },
   "source": [
    "<b>The function is an implementation of:</b>\n",
    "1. [ ] Min-max normalization (for the interval [0, 1])\n",
    "2. [ ] Z-score normalization\n",
    "3. [ ] Normalization by decimal scaling"
   ]
  },
  {
   "cell_type": "markdown",
   "metadata": {
    "tags": [
     "solution"
    ]
   },
   "source": [
    "<b>The function is an implementation of:</b>\n",
    "1. [ ] Min-max normalization (for the interval [0, 1])\n",
    "2. [X] Z-score normalization\n",
    "3. [ ] Normalization by decimal scaling"
   ]
  },
  {
   "cell_type": "markdown",
   "metadata": {
    "tags": [
     "specification"
    ]
   },
   "source": [
    "<div class=\"alert alert-block alert-info\">\n",
    "\n",
    "**Task:** Implement a function for each of the three normalization methods you got to know. (You may, of course, reuse the above code when you work on the corresponding function).\n",
    "</div>"
   ]
  },
  {
   "cell_type": "code",
   "execution_count": 9,
   "metadata": {
    "tags": [
     "student"
    ]
   },
   "outputs": [
    {
     "data": {
      "text/html": [
       "<div>\n",
       "<style scoped>\n",
       "    .dataframe tbody tr th:only-of-type {\n",
       "        vertical-align: middle;\n",
       "    }\n",
       "\n",
       "    .dataframe tbody tr th {\n",
       "        vertical-align: top;\n",
       "    }\n",
       "\n",
       "    .dataframe thead th {\n",
       "        text-align: right;\n",
       "    }\n",
       "</style>\n",
       "<table border=\"1\" class=\"dataframe\">\n",
       "  <thead>\n",
       "    <tr style=\"text-align: right;\">\n",
       "      <th></th>\n",
       "      <th>SubTotal</th>\n",
       "      <th>Freight</th>\n",
       "      <th>OrderQty</th>\n",
       "    </tr>\n",
       "    <tr>\n",
       "      <th>PurchaseOrderDetailID</th>\n",
       "      <th></th>\n",
       "      <th></th>\n",
       "      <th></th>\n",
       "    </tr>\n",
       "  </thead>\n",
       "  <tbody>\n",
       "    <tr>\n",
       "      <th>1</th>\n",
       "      <td>201.0400</td>\n",
       "      <td>5.0260</td>\n",
       "      <td>4</td>\n",
       "    </tr>\n",
       "    <tr>\n",
       "      <th>2</th>\n",
       "      <td>272.1015</td>\n",
       "      <td>6.8025</td>\n",
       "      <td>3</td>\n",
       "    </tr>\n",
       "    <tr>\n",
       "      <th>3</th>\n",
       "      <td>272.1015</td>\n",
       "      <td>6.8025</td>\n",
       "      <td>3</td>\n",
       "    </tr>\n",
       "    <tr>\n",
       "      <th>4</th>\n",
       "      <td>8847.3000</td>\n",
       "      <td>221.1825</td>\n",
       "      <td>550</td>\n",
       "    </tr>\n",
       "    <tr>\n",
       "      <th>5</th>\n",
       "      <td>171.0765</td>\n",
       "      <td>4.2769</td>\n",
       "      <td>3</td>\n",
       "    </tr>\n",
       "    <tr>\n",
       "      <th>6</th>\n",
       "      <td>20397.3000</td>\n",
       "      <td>509.9325</td>\n",
       "      <td>550</td>\n",
       "    </tr>\n",
       "    <tr>\n",
       "      <th>7</th>\n",
       "      <td>14628.0750</td>\n",
       "      <td>365.7019</td>\n",
       "      <td>550</td>\n",
       "    </tr>\n",
       "    <tr>\n",
       "      <th>8</th>\n",
       "      <td>58685.5500</td>\n",
       "      <td>1467.1388</td>\n",
       "      <td>550</td>\n",
       "    </tr>\n",
       "    <tr>\n",
       "      <th>9</th>\n",
       "      <td>58685.5500</td>\n",
       "      <td>1467.1388</td>\n",
       "      <td>550</td>\n",
       "    </tr>\n",
       "    <tr>\n",
       "      <th>10</th>\n",
       "      <td>58685.5500</td>\n",
       "      <td>1467.1388</td>\n",
       "      <td>550</td>\n",
       "    </tr>\n",
       "    <tr>\n",
       "      <th>11</th>\n",
       "      <td>693.3780</td>\n",
       "      <td>17.3345</td>\n",
       "      <td>3</td>\n",
       "    </tr>\n",
       "    <tr>\n",
       "      <th>12</th>\n",
       "      <td>693.3780</td>\n",
       "      <td>17.3345</td>\n",
       "      <td>3</td>\n",
       "    </tr>\n",
       "    <tr>\n",
       "      <th>13</th>\n",
       "      <td>693.3780</td>\n",
       "      <td>17.3345</td>\n",
       "      <td>3</td>\n",
       "    </tr>\n",
       "    <tr>\n",
       "      <th>14</th>\n",
       "      <td>693.3780</td>\n",
       "      <td>17.3345</td>\n",
       "      <td>3</td>\n",
       "    </tr>\n",
       "    <tr>\n",
       "      <th>15</th>\n",
       "      <td>693.3780</td>\n",
       "      <td>17.3345</td>\n",
       "      <td>3</td>\n",
       "    </tr>\n",
       "    <tr>\n",
       "      <th>16</th>\n",
       "      <td>694.1655</td>\n",
       "      <td>17.3541</td>\n",
       "      <td>3</td>\n",
       "    </tr>\n",
       "    <tr>\n",
       "      <th>17</th>\n",
       "      <td>694.1655</td>\n",
       "      <td>17.3541</td>\n",
       "      <td>3</td>\n",
       "    </tr>\n",
       "    <tr>\n",
       "      <th>18</th>\n",
       "      <td>694.1655</td>\n",
       "      <td>17.3541</td>\n",
       "      <td>3</td>\n",
       "    </tr>\n",
       "    <tr>\n",
       "      <th>19</th>\n",
       "      <td>694.1655</td>\n",
       "      <td>17.3541</td>\n",
       "      <td>3</td>\n",
       "    </tr>\n",
       "    <tr>\n",
       "      <th>20</th>\n",
       "      <td>694.1655</td>\n",
       "      <td>17.3541</td>\n",
       "      <td>3</td>\n",
       "    </tr>\n",
       "  </tbody>\n",
       "</table>\n",
       "</div>"
      ],
      "text/plain": [
       "                         SubTotal    Freight  OrderQty\n",
       "PurchaseOrderDetailID                                 \n",
       "1                        201.0400     5.0260         4\n",
       "2                        272.1015     6.8025         3\n",
       "3                        272.1015     6.8025         3\n",
       "4                       8847.3000   221.1825       550\n",
       "5                        171.0765     4.2769         3\n",
       "6                      20397.3000   509.9325       550\n",
       "7                      14628.0750   365.7019       550\n",
       "8                      58685.5500  1467.1388       550\n",
       "9                      58685.5500  1467.1388       550\n",
       "10                     58685.5500  1467.1388       550\n",
       "11                       693.3780    17.3345         3\n",
       "12                       693.3780    17.3345         3\n",
       "13                       693.3780    17.3345         3\n",
       "14                       693.3780    17.3345         3\n",
       "15                       693.3780    17.3345         3\n",
       "16                       694.1655    17.3541         3\n",
       "17                       694.1655    17.3541         3\n",
       "18                       694.1655    17.3541         3\n",
       "19                       694.1655    17.3541         3\n",
       "20                       694.1655    17.3541         3"
      ]
     },
     "execution_count": 9,
     "metadata": {},
     "output_type": "execute_result"
    }
   ],
   "source": [
    "# Implement min-max normalization for the interval [0, 1]\n",
    "def min_max_normalization(df):\n",
    "    # Create a copy to avoid overriding original content\n",
    "    normalized = df.copy()\n",
    "\n",
    "    # ...\n",
    "\n",
    "    return normalized\n",
    "\n",
    "\n",
    "# Apply min-max normalization\n",
    "min_max_df = min_max_normalization(order_df[[\"SubTotal\", \"Freight\", \"OrderQty\"]])\n",
    "min_max_df.head(20)"
   ]
  },
  {
   "cell_type": "code",
   "execution_count": 10,
   "metadata": {
    "tags": [
     "solution"
    ]
   },
   "outputs": [
    {
     "data": {
      "text/html": [
       "<div>\n",
       "<style scoped>\n",
       "    .dataframe tbody tr th:only-of-type {\n",
       "        vertical-align: middle;\n",
       "    }\n",
       "\n",
       "    .dataframe tbody tr th {\n",
       "        vertical-align: top;\n",
       "    }\n",
       "\n",
       "    .dataframe thead th {\n",
       "        text-align: right;\n",
       "    }\n",
       "</style>\n",
       "<table border=\"1\" class=\"dataframe\">\n",
       "  <thead>\n",
       "    <tr style=\"text-align: right;\">\n",
       "      <th></th>\n",
       "      <th>SubTotal</th>\n",
       "      <th>Freight</th>\n",
       "      <th>OrderQty</th>\n",
       "    </tr>\n",
       "    <tr>\n",
       "      <th>PurchaseOrderDetailID</th>\n",
       "      <th></th>\n",
       "      <th></th>\n",
       "      <th></th>\n",
       "    </tr>\n",
       "  </thead>\n",
       "  <tbody>\n",
       "    <tr>\n",
       "      <th>1</th>\n",
       "      <td>0.000164</td>\n",
       "      <td>0.000205</td>\n",
       "      <td>0.000125</td>\n",
       "    </tr>\n",
       "    <tr>\n",
       "      <th>2</th>\n",
       "      <td>0.000236</td>\n",
       "      <td>0.000294</td>\n",
       "      <td>0.000000</td>\n",
       "    </tr>\n",
       "    <tr>\n",
       "      <th>3</th>\n",
       "      <td>0.000236</td>\n",
       "      <td>0.000294</td>\n",
       "      <td>0.000000</td>\n",
       "    </tr>\n",
       "    <tr>\n",
       "      <th>4</th>\n",
       "      <td>0.008831</td>\n",
       "      <td>0.011039</td>\n",
       "      <td>0.068401</td>\n",
       "    </tr>\n",
       "    <tr>\n",
       "      <th>5</th>\n",
       "      <td>0.000134</td>\n",
       "      <td>0.000168</td>\n",
       "      <td>0.000000</td>\n",
       "    </tr>\n",
       "    <tr>\n",
       "      <th>6</th>\n",
       "      <td>0.020408</td>\n",
       "      <td>0.025511</td>\n",
       "      <td>0.068401</td>\n",
       "    </tr>\n",
       "    <tr>\n",
       "      <th>7</th>\n",
       "      <td>0.014625</td>\n",
       "      <td>0.018282</td>\n",
       "      <td>0.068401</td>\n",
       "    </tr>\n",
       "    <tr>\n",
       "      <th>8</th>\n",
       "      <td>0.058787</td>\n",
       "      <td>0.073484</td>\n",
       "      <td>0.068401</td>\n",
       "    </tr>\n",
       "    <tr>\n",
       "      <th>9</th>\n",
       "      <td>0.058787</td>\n",
       "      <td>0.073484</td>\n",
       "      <td>0.068401</td>\n",
       "    </tr>\n",
       "    <tr>\n",
       "      <th>10</th>\n",
       "      <td>0.058787</td>\n",
       "      <td>0.073484</td>\n",
       "      <td>0.068401</td>\n",
       "    </tr>\n",
       "    <tr>\n",
       "      <th>11</th>\n",
       "      <td>0.000658</td>\n",
       "      <td>0.000822</td>\n",
       "      <td>0.000000</td>\n",
       "    </tr>\n",
       "    <tr>\n",
       "      <th>12</th>\n",
       "      <td>0.000658</td>\n",
       "      <td>0.000822</td>\n",
       "      <td>0.000000</td>\n",
       "    </tr>\n",
       "    <tr>\n",
       "      <th>13</th>\n",
       "      <td>0.000658</td>\n",
       "      <td>0.000822</td>\n",
       "      <td>0.000000</td>\n",
       "    </tr>\n",
       "    <tr>\n",
       "      <th>14</th>\n",
       "      <td>0.000658</td>\n",
       "      <td>0.000822</td>\n",
       "      <td>0.000000</td>\n",
       "    </tr>\n",
       "    <tr>\n",
       "      <th>15</th>\n",
       "      <td>0.000658</td>\n",
       "      <td>0.000822</td>\n",
       "      <td>0.000000</td>\n",
       "    </tr>\n",
       "    <tr>\n",
       "      <th>16</th>\n",
       "      <td>0.000659</td>\n",
       "      <td>0.000823</td>\n",
       "      <td>0.000000</td>\n",
       "    </tr>\n",
       "    <tr>\n",
       "      <th>17</th>\n",
       "      <td>0.000659</td>\n",
       "      <td>0.000823</td>\n",
       "      <td>0.000000</td>\n",
       "    </tr>\n",
       "    <tr>\n",
       "      <th>18</th>\n",
       "      <td>0.000659</td>\n",
       "      <td>0.000823</td>\n",
       "      <td>0.000000</td>\n",
       "    </tr>\n",
       "    <tr>\n",
       "      <th>19</th>\n",
       "      <td>0.000659</td>\n",
       "      <td>0.000823</td>\n",
       "      <td>0.000000</td>\n",
       "    </tr>\n",
       "    <tr>\n",
       "      <th>20</th>\n",
       "      <td>0.000659</td>\n",
       "      <td>0.000823</td>\n",
       "      <td>0.000000</td>\n",
       "    </tr>\n",
       "  </tbody>\n",
       "</table>\n",
       "</div>"
      ],
      "text/plain": [
       "                       SubTotal   Freight  OrderQty\n",
       "PurchaseOrderDetailID                              \n",
       "1                      0.000164  0.000205  0.000125\n",
       "2                      0.000236  0.000294  0.000000\n",
       "3                      0.000236  0.000294  0.000000\n",
       "4                      0.008831  0.011039  0.068401\n",
       "5                      0.000134  0.000168  0.000000\n",
       "6                      0.020408  0.025511  0.068401\n",
       "7                      0.014625  0.018282  0.068401\n",
       "8                      0.058787  0.073484  0.068401\n",
       "9                      0.058787  0.073484  0.068401\n",
       "10                     0.058787  0.073484  0.068401\n",
       "11                     0.000658  0.000822  0.000000\n",
       "12                     0.000658  0.000822  0.000000\n",
       "13                     0.000658  0.000822  0.000000\n",
       "14                     0.000658  0.000822  0.000000\n",
       "15                     0.000658  0.000822  0.000000\n",
       "16                     0.000659  0.000823  0.000000\n",
       "17                     0.000659  0.000823  0.000000\n",
       "18                     0.000659  0.000823  0.000000\n",
       "19                     0.000659  0.000823  0.000000\n",
       "20                     0.000659  0.000823  0.000000"
      ]
     },
     "execution_count": 10,
     "metadata": {},
     "output_type": "execute_result"
    }
   ],
   "source": [
    "# Implement min-max normalization for the interval [0, 1]\n",
    "def min_max_normalization(df):\n",
    "    # Create a copy to avoid overriding original content\n",
    "    normalized = df.copy()\n",
    "\n",
    "    # Normalize each column individually\n",
    "    for column in normalized.columns:\n",
    "        normalized[column] = (df[column] - df[column].min()) / (\n",
    "            df[column].max() - df[column].min()\n",
    "        )\n",
    "\n",
    "    return normalized\n",
    "\n",
    "\n",
    "# Apply min-max normalization\n",
    "min_max_df = min_max_normalization(order_df[[\"SubTotal\", \"Freight\", \"OrderQty\"]])\n",
    "min_max_df.head(20)"
   ]
  },
  {
   "cell_type": "code",
   "execution_count": 11,
   "metadata": {
    "tags": [
     "specification"
    ]
   },
   "outputs": [
    {
     "data": {
      "text/html": [
       "<div>\n",
       "<style scoped>\n",
       "    .dataframe tbody tr th:only-of-type {\n",
       "        vertical-align: middle;\n",
       "    }\n",
       "\n",
       "    .dataframe tbody tr th {\n",
       "        vertical-align: top;\n",
       "    }\n",
       "\n",
       "    .dataframe thead th {\n",
       "        text-align: right;\n",
       "    }\n",
       "</style>\n",
       "<table border=\"1\" class=\"dataframe\">\n",
       "  <thead>\n",
       "    <tr style=\"text-align: right;\">\n",
       "      <th></th>\n",
       "      <th>SubTotal</th>\n",
       "      <th>Freight</th>\n",
       "      <th>OrderQty</th>\n",
       "    </tr>\n",
       "  </thead>\n",
       "  <tbody>\n",
       "    <tr>\n",
       "      <th>min</th>\n",
       "      <td>0.000000</td>\n",
       "      <td>0.000000</td>\n",
       "      <td>0.000000</td>\n",
       "    </tr>\n",
       "    <tr>\n",
       "      <th>max</th>\n",
       "      <td>1.000000</td>\n",
       "      <td>1.000000</td>\n",
       "      <td>1.000000</td>\n",
       "    </tr>\n",
       "    <tr>\n",
       "      <th>mean</th>\n",
       "      <td>0.018507</td>\n",
       "      <td>0.022689</td>\n",
       "      <td>0.032829</td>\n",
       "    </tr>\n",
       "    <tr>\n",
       "      <th>std</th>\n",
       "      <td>0.039437</td>\n",
       "      <td>0.043207</td>\n",
       "      <td>0.044508</td>\n",
       "    </tr>\n",
       "  </tbody>\n",
       "</table>\n",
       "</div>"
      ],
      "text/plain": [
       "      SubTotal   Freight  OrderQty\n",
       "min   0.000000  0.000000  0.000000\n",
       "max   1.000000  1.000000  1.000000\n",
       "mean  0.018507  0.022689  0.032829\n",
       "std   0.039437  0.043207  0.044508"
      ]
     },
     "execution_count": 11,
     "metadata": {},
     "output_type": "execute_result"
    }
   ],
   "source": [
    "# Display the minimum, maximum, mean, and standard deviation values of min_max_df\n",
    "min_max_df.agg([min, max, \"mean\", \"std\"])"
   ]
  },
  {
   "cell_type": "code",
   "execution_count": 12,
   "metadata": {
    "tags": [
     "student"
    ]
   },
   "outputs": [
    {
     "data": {
      "text/html": [
       "<div>\n",
       "<style scoped>\n",
       "    .dataframe tbody tr th:only-of-type {\n",
       "        vertical-align: middle;\n",
       "    }\n",
       "\n",
       "    .dataframe tbody tr th {\n",
       "        vertical-align: top;\n",
       "    }\n",
       "\n",
       "    .dataframe thead th {\n",
       "        text-align: right;\n",
       "    }\n",
       "</style>\n",
       "<table border=\"1\" class=\"dataframe\">\n",
       "  <thead>\n",
       "    <tr style=\"text-align: right;\">\n",
       "      <th></th>\n",
       "      <th>SubTotal</th>\n",
       "      <th>Freight</th>\n",
       "      <th>OrderQty</th>\n",
       "    </tr>\n",
       "    <tr>\n",
       "      <th>PurchaseOrderDetailID</th>\n",
       "      <th></th>\n",
       "      <th></th>\n",
       "      <th></th>\n",
       "    </tr>\n",
       "  </thead>\n",
       "  <tbody>\n",
       "    <tr>\n",
       "      <th>1</th>\n",
       "      <td>201.0400</td>\n",
       "      <td>5.0260</td>\n",
       "      <td>4</td>\n",
       "    </tr>\n",
       "    <tr>\n",
       "      <th>2</th>\n",
       "      <td>272.1015</td>\n",
       "      <td>6.8025</td>\n",
       "      <td>3</td>\n",
       "    </tr>\n",
       "    <tr>\n",
       "      <th>3</th>\n",
       "      <td>272.1015</td>\n",
       "      <td>6.8025</td>\n",
       "      <td>3</td>\n",
       "    </tr>\n",
       "    <tr>\n",
       "      <th>4</th>\n",
       "      <td>8847.3000</td>\n",
       "      <td>221.1825</td>\n",
       "      <td>550</td>\n",
       "    </tr>\n",
       "    <tr>\n",
       "      <th>5</th>\n",
       "      <td>171.0765</td>\n",
       "      <td>4.2769</td>\n",
       "      <td>3</td>\n",
       "    </tr>\n",
       "    <tr>\n",
       "      <th>6</th>\n",
       "      <td>20397.3000</td>\n",
       "      <td>509.9325</td>\n",
       "      <td>550</td>\n",
       "    </tr>\n",
       "    <tr>\n",
       "      <th>7</th>\n",
       "      <td>14628.0750</td>\n",
       "      <td>365.7019</td>\n",
       "      <td>550</td>\n",
       "    </tr>\n",
       "    <tr>\n",
       "      <th>8</th>\n",
       "      <td>58685.5500</td>\n",
       "      <td>1467.1388</td>\n",
       "      <td>550</td>\n",
       "    </tr>\n",
       "    <tr>\n",
       "      <th>9</th>\n",
       "      <td>58685.5500</td>\n",
       "      <td>1467.1388</td>\n",
       "      <td>550</td>\n",
       "    </tr>\n",
       "    <tr>\n",
       "      <th>10</th>\n",
       "      <td>58685.5500</td>\n",
       "      <td>1467.1388</td>\n",
       "      <td>550</td>\n",
       "    </tr>\n",
       "    <tr>\n",
       "      <th>11</th>\n",
       "      <td>693.3780</td>\n",
       "      <td>17.3345</td>\n",
       "      <td>3</td>\n",
       "    </tr>\n",
       "    <tr>\n",
       "      <th>12</th>\n",
       "      <td>693.3780</td>\n",
       "      <td>17.3345</td>\n",
       "      <td>3</td>\n",
       "    </tr>\n",
       "    <tr>\n",
       "      <th>13</th>\n",
       "      <td>693.3780</td>\n",
       "      <td>17.3345</td>\n",
       "      <td>3</td>\n",
       "    </tr>\n",
       "    <tr>\n",
       "      <th>14</th>\n",
       "      <td>693.3780</td>\n",
       "      <td>17.3345</td>\n",
       "      <td>3</td>\n",
       "    </tr>\n",
       "    <tr>\n",
       "      <th>15</th>\n",
       "      <td>693.3780</td>\n",
       "      <td>17.3345</td>\n",
       "      <td>3</td>\n",
       "    </tr>\n",
       "    <tr>\n",
       "      <th>16</th>\n",
       "      <td>694.1655</td>\n",
       "      <td>17.3541</td>\n",
       "      <td>3</td>\n",
       "    </tr>\n",
       "    <tr>\n",
       "      <th>17</th>\n",
       "      <td>694.1655</td>\n",
       "      <td>17.3541</td>\n",
       "      <td>3</td>\n",
       "    </tr>\n",
       "    <tr>\n",
       "      <th>18</th>\n",
       "      <td>694.1655</td>\n",
       "      <td>17.3541</td>\n",
       "      <td>3</td>\n",
       "    </tr>\n",
       "    <tr>\n",
       "      <th>19</th>\n",
       "      <td>694.1655</td>\n",
       "      <td>17.3541</td>\n",
       "      <td>3</td>\n",
       "    </tr>\n",
       "    <tr>\n",
       "      <th>20</th>\n",
       "      <td>694.1655</td>\n",
       "      <td>17.3541</td>\n",
       "      <td>3</td>\n",
       "    </tr>\n",
       "  </tbody>\n",
       "</table>\n",
       "</div>"
      ],
      "text/plain": [
       "                         SubTotal    Freight  OrderQty\n",
       "PurchaseOrderDetailID                                 \n",
       "1                        201.0400     5.0260         4\n",
       "2                        272.1015     6.8025         3\n",
       "3                        272.1015     6.8025         3\n",
       "4                       8847.3000   221.1825       550\n",
       "5                        171.0765     4.2769         3\n",
       "6                      20397.3000   509.9325       550\n",
       "7                      14628.0750   365.7019       550\n",
       "8                      58685.5500  1467.1388       550\n",
       "9                      58685.5500  1467.1388       550\n",
       "10                     58685.5500  1467.1388       550\n",
       "11                       693.3780    17.3345         3\n",
       "12                       693.3780    17.3345         3\n",
       "13                       693.3780    17.3345         3\n",
       "14                       693.3780    17.3345         3\n",
       "15                       693.3780    17.3345         3\n",
       "16                       694.1655    17.3541         3\n",
       "17                       694.1655    17.3541         3\n",
       "18                       694.1655    17.3541         3\n",
       "19                       694.1655    17.3541         3\n",
       "20                       694.1655    17.3541         3"
      ]
     },
     "execution_count": 12,
     "metadata": {},
     "output_type": "execute_result"
    }
   ],
   "source": [
    "# Implement z-score normalization\n",
    "def z_score_normalization(df):\n",
    "    # Create a copy to avoid overriding original content\n",
    "    normalized = df.copy()\n",
    "\n",
    "    # ...\n",
    "\n",
    "    return normalized\n",
    "\n",
    "\n",
    "# Apply z-score normalization\n",
    "z_score_df = z_score_normalization(order_df[[\"SubTotal\", \"Freight\", \"OrderQty\"]])\n",
    "z_score_df.head(20)"
   ]
  },
  {
   "cell_type": "code",
   "execution_count": 13,
   "metadata": {
    "tags": [
     "solution"
    ]
   },
   "outputs": [
    {
     "data": {
      "text/html": [
       "<div>\n",
       "<style scoped>\n",
       "    .dataframe tbody tr th:only-of-type {\n",
       "        vertical-align: middle;\n",
       "    }\n",
       "\n",
       "    .dataframe tbody tr th {\n",
       "        vertical-align: top;\n",
       "    }\n",
       "\n",
       "    .dataframe thead th {\n",
       "        text-align: right;\n",
       "    }\n",
       "</style>\n",
       "<table border=\"1\" class=\"dataframe\">\n",
       "  <thead>\n",
       "    <tr style=\"text-align: right;\">\n",
       "      <th></th>\n",
       "      <th>SubTotal</th>\n",
       "      <th>Freight</th>\n",
       "      <th>OrderQty</th>\n",
       "    </tr>\n",
       "    <tr>\n",
       "      <th>PurchaseOrderDetailID</th>\n",
       "      <th></th>\n",
       "      <th></th>\n",
       "      <th></th>\n",
       "    </tr>\n",
       "  </thead>\n",
       "  <tbody>\n",
       "    <tr>\n",
       "      <th>1</th>\n",
       "      <td>-0.465112</td>\n",
       "      <td>-0.520367</td>\n",
       "      <td>-0.734794</td>\n",
       "    </tr>\n",
       "    <tr>\n",
       "      <th>2</th>\n",
       "      <td>-0.463306</td>\n",
       "      <td>-0.518306</td>\n",
       "      <td>-0.737604</td>\n",
       "    </tr>\n",
       "    <tr>\n",
       "      <th>3</th>\n",
       "      <td>-0.463306</td>\n",
       "      <td>-0.518306</td>\n",
       "      <td>-0.737604</td>\n",
       "    </tr>\n",
       "    <tr>\n",
       "      <th>4</th>\n",
       "      <td>-0.245354</td>\n",
       "      <td>-0.269635</td>\n",
       "      <td>0.799230</td>\n",
       "    </tr>\n",
       "    <tr>\n",
       "      <th>5</th>\n",
       "      <td>-0.465874</td>\n",
       "      <td>-0.521236</td>\n",
       "      <td>-0.737604</td>\n",
       "    </tr>\n",
       "    <tr>\n",
       "      <th>6</th>\n",
       "      <td>0.048208</td>\n",
       "      <td>0.065301</td>\n",
       "      <td>0.799230</td>\n",
       "    </tr>\n",
       "    <tr>\n",
       "      <th>7</th>\n",
       "      <td>-0.098426</td>\n",
       "      <td>-0.102000</td>\n",
       "      <td>0.799230</td>\n",
       "    </tr>\n",
       "    <tr>\n",
       "      <th>8</th>\n",
       "      <td>1.021365</td>\n",
       "      <td>1.175616</td>\n",
       "      <td>0.799230</td>\n",
       "    </tr>\n",
       "    <tr>\n",
       "      <th>9</th>\n",
       "      <td>1.021365</td>\n",
       "      <td>1.175616</td>\n",
       "      <td>0.799230</td>\n",
       "    </tr>\n",
       "    <tr>\n",
       "      <th>10</th>\n",
       "      <td>1.021365</td>\n",
       "      <td>1.175616</td>\n",
       "      <td>0.799230</td>\n",
       "    </tr>\n",
       "    <tr>\n",
       "      <th>11</th>\n",
       "      <td>-0.452599</td>\n",
       "      <td>-0.506090</td>\n",
       "      <td>-0.737604</td>\n",
       "    </tr>\n",
       "    <tr>\n",
       "      <th>12</th>\n",
       "      <td>-0.452599</td>\n",
       "      <td>-0.506090</td>\n",
       "      <td>-0.737604</td>\n",
       "    </tr>\n",
       "    <tr>\n",
       "      <th>13</th>\n",
       "      <td>-0.452599</td>\n",
       "      <td>-0.506090</td>\n",
       "      <td>-0.737604</td>\n",
       "    </tr>\n",
       "    <tr>\n",
       "      <th>14</th>\n",
       "      <td>-0.452599</td>\n",
       "      <td>-0.506090</td>\n",
       "      <td>-0.737604</td>\n",
       "    </tr>\n",
       "    <tr>\n",
       "      <th>15</th>\n",
       "      <td>-0.452599</td>\n",
       "      <td>-0.506090</td>\n",
       "      <td>-0.737604</td>\n",
       "    </tr>\n",
       "    <tr>\n",
       "      <th>16</th>\n",
       "      <td>-0.452579</td>\n",
       "      <td>-0.506067</td>\n",
       "      <td>-0.737604</td>\n",
       "    </tr>\n",
       "    <tr>\n",
       "      <th>17</th>\n",
       "      <td>-0.452579</td>\n",
       "      <td>-0.506067</td>\n",
       "      <td>-0.737604</td>\n",
       "    </tr>\n",
       "    <tr>\n",
       "      <th>18</th>\n",
       "      <td>-0.452579</td>\n",
       "      <td>-0.506067</td>\n",
       "      <td>-0.737604</td>\n",
       "    </tr>\n",
       "    <tr>\n",
       "      <th>19</th>\n",
       "      <td>-0.452579</td>\n",
       "      <td>-0.506067</td>\n",
       "      <td>-0.737604</td>\n",
       "    </tr>\n",
       "    <tr>\n",
       "      <th>20</th>\n",
       "      <td>-0.452579</td>\n",
       "      <td>-0.506067</td>\n",
       "      <td>-0.737604</td>\n",
       "    </tr>\n",
       "  </tbody>\n",
       "</table>\n",
       "</div>"
      ],
      "text/plain": [
       "                       SubTotal   Freight  OrderQty\n",
       "PurchaseOrderDetailID                              \n",
       "1                     -0.465112 -0.520367 -0.734794\n",
       "2                     -0.463306 -0.518306 -0.737604\n",
       "3                     -0.463306 -0.518306 -0.737604\n",
       "4                     -0.245354 -0.269635  0.799230\n",
       "5                     -0.465874 -0.521236 -0.737604\n",
       "6                      0.048208  0.065301  0.799230\n",
       "7                     -0.098426 -0.102000  0.799230\n",
       "8                      1.021365  1.175616  0.799230\n",
       "9                      1.021365  1.175616  0.799230\n",
       "10                     1.021365  1.175616  0.799230\n",
       "11                    -0.452599 -0.506090 -0.737604\n",
       "12                    -0.452599 -0.506090 -0.737604\n",
       "13                    -0.452599 -0.506090 -0.737604\n",
       "14                    -0.452599 -0.506090 -0.737604\n",
       "15                    -0.452599 -0.506090 -0.737604\n",
       "16                    -0.452579 -0.506067 -0.737604\n",
       "17                    -0.452579 -0.506067 -0.737604\n",
       "18                    -0.452579 -0.506067 -0.737604\n",
       "19                    -0.452579 -0.506067 -0.737604\n",
       "20                    -0.452579 -0.506067 -0.737604"
      ]
     },
     "execution_count": 13,
     "metadata": {},
     "output_type": "execute_result"
    }
   ],
   "source": [
    "# Implement z-score normalization\n",
    "def z_score_normalization(df):\n",
    "    # Create a copy to avoid overriding original content\n",
    "    normalized = df.copy()\n",
    "\n",
    "    # Normalize each column individually\n",
    "    for column in normalized.columns:\n",
    "        normalized[column] = (\n",
    "            normalized[column] - normalized[column].mean()\n",
    "        ) / normalized[column].std()\n",
    "\n",
    "    return normalized\n",
    "\n",
    "\n",
    "# Apply z-score normalization\n",
    "z_score_df = z_score_normalization(order_df[[\"SubTotal\", \"Freight\", \"OrderQty\"]])\n",
    "z_score_df.head(20)"
   ]
  },
  {
   "cell_type": "code",
   "execution_count": 14,
   "metadata": {
    "tags": [
     "specification"
    ]
   },
   "outputs": [
    {
     "data": {
      "text/html": [
       "<div>\n",
       "<style scoped>\n",
       "    .dataframe tbody tr th:only-of-type {\n",
       "        vertical-align: middle;\n",
       "    }\n",
       "\n",
       "    .dataframe tbody tr th {\n",
       "        vertical-align: top;\n",
       "    }\n",
       "\n",
       "    .dataframe thead th {\n",
       "        text-align: right;\n",
       "    }\n",
       "</style>\n",
       "<table border=\"1\" class=\"dataframe\">\n",
       "  <thead>\n",
       "    <tr style=\"text-align: right;\">\n",
       "      <th></th>\n",
       "      <th>SubTotal</th>\n",
       "      <th>Freight</th>\n",
       "      <th>OrderQty</th>\n",
       "    </tr>\n",
       "  </thead>\n",
       "  <tbody>\n",
       "    <tr>\n",
       "      <th>min</th>\n",
       "      <td>-4.692796e-01</td>\n",
       "      <td>-5.251217e-01</td>\n",
       "      <td>-7.376036e-01</td>\n",
       "    </tr>\n",
       "    <tr>\n",
       "      <th>max</th>\n",
       "      <td>2.488741e+01</td>\n",
       "      <td>2.261905e+01</td>\n",
       "      <td>2.173051e+01</td>\n",
       "    </tr>\n",
       "    <tr>\n",
       "      <th>mean</th>\n",
       "      <td>-3.855970e-17</td>\n",
       "      <td>3.213308e-17</td>\n",
       "      <td>-3.213308e-18</td>\n",
       "    </tr>\n",
       "    <tr>\n",
       "      <th>std</th>\n",
       "      <td>1.000000e+00</td>\n",
       "      <td>1.000000e+00</td>\n",
       "      <td>1.000000e+00</td>\n",
       "    </tr>\n",
       "  </tbody>\n",
       "</table>\n",
       "</div>"
      ],
      "text/plain": [
       "          SubTotal       Freight      OrderQty\n",
       "min  -4.692796e-01 -5.251217e-01 -7.376036e-01\n",
       "max   2.488741e+01  2.261905e+01  2.173051e+01\n",
       "mean -3.855970e-17  3.213308e-17 -3.213308e-18\n",
       "std   1.000000e+00  1.000000e+00  1.000000e+00"
      ]
     },
     "execution_count": 14,
     "metadata": {},
     "output_type": "execute_result"
    }
   ],
   "source": [
    "# Display the minimum, maximum, mean and standard deviation values of z_score_df\n",
    "z_score_df.agg([min, max, \"mean\", \"std\"])"
   ]
  },
  {
   "cell_type": "code",
   "execution_count": 15,
   "metadata": {
    "tags": [
     "student"
    ]
   },
   "outputs": [
    {
     "data": {
      "text/html": [
       "<div>\n",
       "<style scoped>\n",
       "    .dataframe tbody tr th:only-of-type {\n",
       "        vertical-align: middle;\n",
       "    }\n",
       "\n",
       "    .dataframe tbody tr th {\n",
       "        vertical-align: top;\n",
       "    }\n",
       "\n",
       "    .dataframe thead th {\n",
       "        text-align: right;\n",
       "    }\n",
       "</style>\n",
       "<table border=\"1\" class=\"dataframe\">\n",
       "  <thead>\n",
       "    <tr style=\"text-align: right;\">\n",
       "      <th></th>\n",
       "      <th>SubTotal</th>\n",
       "      <th>Freight</th>\n",
       "      <th>OrderQty</th>\n",
       "    </tr>\n",
       "    <tr>\n",
       "      <th>PurchaseOrderDetailID</th>\n",
       "      <th></th>\n",
       "      <th></th>\n",
       "      <th></th>\n",
       "    </tr>\n",
       "  </thead>\n",
       "  <tbody>\n",
       "    <tr>\n",
       "      <th>1</th>\n",
       "      <td>201.0400</td>\n",
       "      <td>5.0260</td>\n",
       "      <td>4</td>\n",
       "    </tr>\n",
       "    <tr>\n",
       "      <th>2</th>\n",
       "      <td>272.1015</td>\n",
       "      <td>6.8025</td>\n",
       "      <td>3</td>\n",
       "    </tr>\n",
       "    <tr>\n",
       "      <th>3</th>\n",
       "      <td>272.1015</td>\n",
       "      <td>6.8025</td>\n",
       "      <td>3</td>\n",
       "    </tr>\n",
       "    <tr>\n",
       "      <th>4</th>\n",
       "      <td>8847.3000</td>\n",
       "      <td>221.1825</td>\n",
       "      <td>550</td>\n",
       "    </tr>\n",
       "    <tr>\n",
       "      <th>5</th>\n",
       "      <td>171.0765</td>\n",
       "      <td>4.2769</td>\n",
       "      <td>3</td>\n",
       "    </tr>\n",
       "    <tr>\n",
       "      <th>6</th>\n",
       "      <td>20397.3000</td>\n",
       "      <td>509.9325</td>\n",
       "      <td>550</td>\n",
       "    </tr>\n",
       "    <tr>\n",
       "      <th>7</th>\n",
       "      <td>14628.0750</td>\n",
       "      <td>365.7019</td>\n",
       "      <td>550</td>\n",
       "    </tr>\n",
       "    <tr>\n",
       "      <th>8</th>\n",
       "      <td>58685.5500</td>\n",
       "      <td>1467.1388</td>\n",
       "      <td>550</td>\n",
       "    </tr>\n",
       "    <tr>\n",
       "      <th>9</th>\n",
       "      <td>58685.5500</td>\n",
       "      <td>1467.1388</td>\n",
       "      <td>550</td>\n",
       "    </tr>\n",
       "    <tr>\n",
       "      <th>10</th>\n",
       "      <td>58685.5500</td>\n",
       "      <td>1467.1388</td>\n",
       "      <td>550</td>\n",
       "    </tr>\n",
       "    <tr>\n",
       "      <th>11</th>\n",
       "      <td>693.3780</td>\n",
       "      <td>17.3345</td>\n",
       "      <td>3</td>\n",
       "    </tr>\n",
       "    <tr>\n",
       "      <th>12</th>\n",
       "      <td>693.3780</td>\n",
       "      <td>17.3345</td>\n",
       "      <td>3</td>\n",
       "    </tr>\n",
       "    <tr>\n",
       "      <th>13</th>\n",
       "      <td>693.3780</td>\n",
       "      <td>17.3345</td>\n",
       "      <td>3</td>\n",
       "    </tr>\n",
       "    <tr>\n",
       "      <th>14</th>\n",
       "      <td>693.3780</td>\n",
       "      <td>17.3345</td>\n",
       "      <td>3</td>\n",
       "    </tr>\n",
       "    <tr>\n",
       "      <th>15</th>\n",
       "      <td>693.3780</td>\n",
       "      <td>17.3345</td>\n",
       "      <td>3</td>\n",
       "    </tr>\n",
       "    <tr>\n",
       "      <th>16</th>\n",
       "      <td>694.1655</td>\n",
       "      <td>17.3541</td>\n",
       "      <td>3</td>\n",
       "    </tr>\n",
       "    <tr>\n",
       "      <th>17</th>\n",
       "      <td>694.1655</td>\n",
       "      <td>17.3541</td>\n",
       "      <td>3</td>\n",
       "    </tr>\n",
       "    <tr>\n",
       "      <th>18</th>\n",
       "      <td>694.1655</td>\n",
       "      <td>17.3541</td>\n",
       "      <td>3</td>\n",
       "    </tr>\n",
       "    <tr>\n",
       "      <th>19</th>\n",
       "      <td>694.1655</td>\n",
       "      <td>17.3541</td>\n",
       "      <td>3</td>\n",
       "    </tr>\n",
       "    <tr>\n",
       "      <th>20</th>\n",
       "      <td>694.1655</td>\n",
       "      <td>17.3541</td>\n",
       "      <td>3</td>\n",
       "    </tr>\n",
       "  </tbody>\n",
       "</table>\n",
       "</div>"
      ],
      "text/plain": [
       "                         SubTotal    Freight  OrderQty\n",
       "PurchaseOrderDetailID                                 \n",
       "1                        201.0400     5.0260         4\n",
       "2                        272.1015     6.8025         3\n",
       "3                        272.1015     6.8025         3\n",
       "4                       8847.3000   221.1825       550\n",
       "5                        171.0765     4.2769         3\n",
       "6                      20397.3000   509.9325       550\n",
       "7                      14628.0750   365.7019       550\n",
       "8                      58685.5500  1467.1388       550\n",
       "9                      58685.5500  1467.1388       550\n",
       "10                     58685.5500  1467.1388       550\n",
       "11                       693.3780    17.3345         3\n",
       "12                       693.3780    17.3345         3\n",
       "13                       693.3780    17.3345         3\n",
       "14                       693.3780    17.3345         3\n",
       "15                       693.3780    17.3345         3\n",
       "16                       694.1655    17.3541         3\n",
       "17                       694.1655    17.3541         3\n",
       "18                       694.1655    17.3541         3\n",
       "19                       694.1655    17.3541         3\n",
       "20                       694.1655    17.3541         3"
      ]
     },
     "execution_count": 15,
     "metadata": {},
     "output_type": "execute_result"
    }
   ],
   "source": [
    "# Implement normalization by decimal scaling\n",
    "def normalization_by_decimal_scaling(df):\n",
    "    # Create a copy to avoid overriding original content\n",
    "    normalized = df.copy()\n",
    "\n",
    "    # ...\n",
    "\n",
    "    return normalized\n",
    "\n",
    "\n",
    "# Apply normalization_by_decimal_scaling\n",
    "decimal_scaling_df = normalization_by_decimal_scaling(\n",
    "    order_df[[\"SubTotal\", \"Freight\", \"OrderQty\"]]\n",
    ")\n",
    "decimal_scaling_df.head(20)"
   ]
  },
  {
   "cell_type": "code",
   "execution_count": 16,
   "metadata": {
    "tags": [
     "solution"
    ]
   },
   "outputs": [
    {
     "data": {
      "text/html": [
       "<div>\n",
       "<style scoped>\n",
       "    .dataframe tbody tr th:only-of-type {\n",
       "        vertical-align: middle;\n",
       "    }\n",
       "\n",
       "    .dataframe tbody tr th {\n",
       "        vertical-align: top;\n",
       "    }\n",
       "\n",
       "    .dataframe thead th {\n",
       "        text-align: right;\n",
       "    }\n",
       "</style>\n",
       "<table border=\"1\" class=\"dataframe\">\n",
       "  <thead>\n",
       "    <tr style=\"text-align: right;\">\n",
       "      <th></th>\n",
       "      <th>SubTotal</th>\n",
       "      <th>Freight</th>\n",
       "      <th>OrderQty</th>\n",
       "    </tr>\n",
       "    <tr>\n",
       "      <th>PurchaseOrderDetailID</th>\n",
       "      <th></th>\n",
       "      <th></th>\n",
       "      <th></th>\n",
       "    </tr>\n",
       "  </thead>\n",
       "  <tbody>\n",
       "    <tr>\n",
       "      <th>1</th>\n",
       "      <td>0.000201</td>\n",
       "      <td>0.000050</td>\n",
       "      <td>0.0004</td>\n",
       "    </tr>\n",
       "    <tr>\n",
       "      <th>2</th>\n",
       "      <td>0.000272</td>\n",
       "      <td>0.000068</td>\n",
       "      <td>0.0003</td>\n",
       "    </tr>\n",
       "    <tr>\n",
       "      <th>3</th>\n",
       "      <td>0.000272</td>\n",
       "      <td>0.000068</td>\n",
       "      <td>0.0003</td>\n",
       "    </tr>\n",
       "    <tr>\n",
       "      <th>4</th>\n",
       "      <td>0.008847</td>\n",
       "      <td>0.002212</td>\n",
       "      <td>0.0550</td>\n",
       "    </tr>\n",
       "    <tr>\n",
       "      <th>5</th>\n",
       "      <td>0.000171</td>\n",
       "      <td>0.000043</td>\n",
       "      <td>0.0003</td>\n",
       "    </tr>\n",
       "    <tr>\n",
       "      <th>6</th>\n",
       "      <td>0.020397</td>\n",
       "      <td>0.005099</td>\n",
       "      <td>0.0550</td>\n",
       "    </tr>\n",
       "    <tr>\n",
       "      <th>7</th>\n",
       "      <td>0.014628</td>\n",
       "      <td>0.003657</td>\n",
       "      <td>0.0550</td>\n",
       "    </tr>\n",
       "    <tr>\n",
       "      <th>8</th>\n",
       "      <td>0.058686</td>\n",
       "      <td>0.014671</td>\n",
       "      <td>0.0550</td>\n",
       "    </tr>\n",
       "    <tr>\n",
       "      <th>9</th>\n",
       "      <td>0.058686</td>\n",
       "      <td>0.014671</td>\n",
       "      <td>0.0550</td>\n",
       "    </tr>\n",
       "    <tr>\n",
       "      <th>10</th>\n",
       "      <td>0.058686</td>\n",
       "      <td>0.014671</td>\n",
       "      <td>0.0550</td>\n",
       "    </tr>\n",
       "    <tr>\n",
       "      <th>11</th>\n",
       "      <td>0.000693</td>\n",
       "      <td>0.000173</td>\n",
       "      <td>0.0003</td>\n",
       "    </tr>\n",
       "    <tr>\n",
       "      <th>12</th>\n",
       "      <td>0.000693</td>\n",
       "      <td>0.000173</td>\n",
       "      <td>0.0003</td>\n",
       "    </tr>\n",
       "    <tr>\n",
       "      <th>13</th>\n",
       "      <td>0.000693</td>\n",
       "      <td>0.000173</td>\n",
       "      <td>0.0003</td>\n",
       "    </tr>\n",
       "    <tr>\n",
       "      <th>14</th>\n",
       "      <td>0.000693</td>\n",
       "      <td>0.000173</td>\n",
       "      <td>0.0003</td>\n",
       "    </tr>\n",
       "    <tr>\n",
       "      <th>15</th>\n",
       "      <td>0.000693</td>\n",
       "      <td>0.000173</td>\n",
       "      <td>0.0003</td>\n",
       "    </tr>\n",
       "    <tr>\n",
       "      <th>16</th>\n",
       "      <td>0.000694</td>\n",
       "      <td>0.000174</td>\n",
       "      <td>0.0003</td>\n",
       "    </tr>\n",
       "    <tr>\n",
       "      <th>17</th>\n",
       "      <td>0.000694</td>\n",
       "      <td>0.000174</td>\n",
       "      <td>0.0003</td>\n",
       "    </tr>\n",
       "    <tr>\n",
       "      <th>18</th>\n",
       "      <td>0.000694</td>\n",
       "      <td>0.000174</td>\n",
       "      <td>0.0003</td>\n",
       "    </tr>\n",
       "    <tr>\n",
       "      <th>19</th>\n",
       "      <td>0.000694</td>\n",
       "      <td>0.000174</td>\n",
       "      <td>0.0003</td>\n",
       "    </tr>\n",
       "    <tr>\n",
       "      <th>20</th>\n",
       "      <td>0.000694</td>\n",
       "      <td>0.000174</td>\n",
       "      <td>0.0003</td>\n",
       "    </tr>\n",
       "  </tbody>\n",
       "</table>\n",
       "</div>"
      ],
      "text/plain": [
       "                       SubTotal   Freight  OrderQty\n",
       "PurchaseOrderDetailID                              \n",
       "1                      0.000201  0.000050    0.0004\n",
       "2                      0.000272  0.000068    0.0003\n",
       "3                      0.000272  0.000068    0.0003\n",
       "4                      0.008847  0.002212    0.0550\n",
       "5                      0.000171  0.000043    0.0003\n",
       "6                      0.020397  0.005099    0.0550\n",
       "7                      0.014628  0.003657    0.0550\n",
       "8                      0.058686  0.014671    0.0550\n",
       "9                      0.058686  0.014671    0.0550\n",
       "10                     0.058686  0.014671    0.0550\n",
       "11                     0.000693  0.000173    0.0003\n",
       "12                     0.000693  0.000173    0.0003\n",
       "13                     0.000693  0.000173    0.0003\n",
       "14                     0.000693  0.000173    0.0003\n",
       "15                     0.000693  0.000173    0.0003\n",
       "16                     0.000694  0.000174    0.0003\n",
       "17                     0.000694  0.000174    0.0003\n",
       "18                     0.000694  0.000174    0.0003\n",
       "19                     0.000694  0.000174    0.0003\n",
       "20                     0.000694  0.000174    0.0003"
      ]
     },
     "execution_count": 16,
     "metadata": {},
     "output_type": "execute_result"
    }
   ],
   "source": [
    "# Implement normalization by decimal scaling\n",
    "def normalization_by_decimal_scaling(df):\n",
    "    # Create a copy to avoid overriding original content\n",
    "    normalized = df.copy()\n",
    "\n",
    "    # Normalize each column individually\n",
    "    for column in normalized.columns:\n",
    "        # Find k\n",
    "        k = 0\n",
    "        while normalized[column].abs().max() / (10 ** k) >= 1:\n",
    "            k += 1\n",
    "\n",
    "        # Compute normalization of the column\n",
    "        normalized[column] = normalized[column] / (10 ** k)\n",
    "\n",
    "    return normalized\n",
    "\n",
    "\n",
    "# Apply normalization_by_decimal_scaling\n",
    "decimal_scaling_df = normalization_by_decimal_scaling(\n",
    "    order_df[[\"SubTotal\", \"Freight\", \"OrderQty\"]]\n",
    ")\n",
    "decimal_scaling_df.head(20)"
   ]
  },
  {
   "cell_type": "code",
   "execution_count": 17,
   "metadata": {
    "tags": [
     "specification"
    ]
   },
   "outputs": [
    {
     "data": {
      "text/html": [
       "<div>\n",
       "<style scoped>\n",
       "    .dataframe tbody tr th:only-of-type {\n",
       "        vertical-align: middle;\n",
       "    }\n",
       "\n",
       "    .dataframe tbody tr th {\n",
       "        vertical-align: top;\n",
       "    }\n",
       "\n",
       "    .dataframe thead th {\n",
       "        text-align: right;\n",
       "    }\n",
       "</style>\n",
       "<table border=\"1\" class=\"dataframe\">\n",
       "  <thead>\n",
       "    <tr style=\"text-align: right;\">\n",
       "      <th></th>\n",
       "      <th>SubTotal</th>\n",
       "      <th>Freight</th>\n",
       "      <th>OrderQty</th>\n",
       "    </tr>\n",
       "  </thead>\n",
       "  <tbody>\n",
       "    <tr>\n",
       "      <th>min</th>\n",
       "      <td>0.000037</td>\n",
       "      <td>0.000009</td>\n",
       "      <td>0.000300</td>\n",
       "    </tr>\n",
       "    <tr>\n",
       "      <th>max</th>\n",
       "      <td>0.997680</td>\n",
       "      <td>0.199536</td>\n",
       "      <td>0.800000</td>\n",
       "    </tr>\n",
       "    <tr>\n",
       "      <th>mean</th>\n",
       "      <td>0.018501</td>\n",
       "      <td>0.004536</td>\n",
       "      <td>0.026553</td>\n",
       "    </tr>\n",
       "    <tr>\n",
       "      <th>std</th>\n",
       "      <td>0.039344</td>\n",
       "      <td>0.008621</td>\n",
       "      <td>0.035593</td>\n",
       "    </tr>\n",
       "  </tbody>\n",
       "</table>\n",
       "</div>"
      ],
      "text/plain": [
       "      SubTotal   Freight  OrderQty\n",
       "min   0.000037  0.000009  0.000300\n",
       "max   0.997680  0.199536  0.800000\n",
       "mean  0.018501  0.004536  0.026553\n",
       "std   0.039344  0.008621  0.035593"
      ]
     },
     "execution_count": 17,
     "metadata": {},
     "output_type": "execute_result"
    }
   ],
   "source": [
    "# Display the minimum, maximum, mean and standard deviation values of decimal_scaling_df\n",
    "decimal_scaling_df.agg([min, max, \"mean\", \"std\"])"
   ]
  },
  {
   "cell_type": "markdown",
   "metadata": {
    "tags": [
     "specification"
    ]
   },
   "source": [
    "Note that each normalization results in different scaled values. It is therefore important to consider which normalization method best serves your purpose. \n",
    "\n",
    "<div class=\"alert alert-block alert-info\">\n",
    "\n",
    "**Task:** Consider when the various normalization methods presented might be beneficial.\n",
    "</div>"
   ]
  },
  {
   "cell_type": "markdown",
   "metadata": {
    "tags": [
     "student"
    ]
   },
   "source": [
    "Write down your solution here:"
   ]
  },
  {
   "cell_type": "markdown",
   "metadata": {
    "tags": [
     "solution"
    ]
   },
   "source": [
    "- <b>Min-max normalization:</b>\n",
    "Min-max normalization is advantageous when values must be secured in a fixed interval and this interval shall be used as good as possible. For example, in certain deep learning methods it is essential that values lie in the value range [0, 1] in order to avoid incorrect results.\n",
    "\n",
    "- <b>Z-score normalization:</b><br />\n",
    "The goal of z-score normalization (also called standardization) is not to bring all values into a fixed range of values. In this type of normalization, the attributes are aligned in a different way. Thus, the Z-Score normalization achieves that the mean of all attributes is as close as possible to 0 and the attribute values have a standard deviation of 1 to each other. \n",
    "\n",
    "- <b>Normalization by decimal scaling:</b><br />\n",
    "Although normalization by decimal scaling assures the user that all output values are in the value range [-1, -1], it rarely actually uses this range (see example). The advantage compared to min-max normalization is that normalization is not done with arbitrary divisors, but with a power of ten. Since we humans are used to the decimal system, the connection between value and normalized value is easier to recognize. (Min-Max normalization: 19953.6 becomes 1.0 - Normalization by decimal scaling: 19953.6 becomes 0.199536)"
   ]
  },
  {
   "cell_type": "markdown",
   "metadata": {
    "tags": [
     "specification"
    ]
   },
   "source": [
    "### Discretization\n",
    "\n",
    "Another commonly used method is discretization. This is used to convert a continuous values to discrete values. This method is best demonstrated on a continuous attribute which is why we take a look at the `currency_rate_df` which represents exchange rates from USD to EUR."
   ]
  },
  {
   "cell_type": "code",
   "execution_count": 18,
   "metadata": {
    "tags": [
     "specification"
    ]
   },
   "outputs": [
    {
     "data": {
      "text/html": [
       "<div>\n",
       "<style scoped>\n",
       "    .dataframe tbody tr th:only-of-type {\n",
       "        vertical-align: middle;\n",
       "    }\n",
       "\n",
       "    .dataframe tbody tr th {\n",
       "        vertical-align: top;\n",
       "    }\n",
       "\n",
       "    .dataframe thead th {\n",
       "        text-align: right;\n",
       "    }\n",
       "</style>\n",
       "<table border=\"1\" class=\"dataframe\">\n",
       "  <thead>\n",
       "    <tr style=\"text-align: right;\">\n",
       "      <th></th>\n",
       "      <th>AverageRate</th>\n",
       "      <th>EndOfDayRate</th>\n",
       "    </tr>\n",
       "    <tr>\n",
       "      <th>CurrencyRateDate</th>\n",
       "      <th></th>\n",
       "      <th></th>\n",
       "    </tr>\n",
       "  </thead>\n",
       "  <tbody>\n",
       "    <tr>\n",
       "      <th>2011-05-31</th>\n",
       "      <td>0.9697</td>\n",
       "      <td>0.9703</td>\n",
       "    </tr>\n",
       "    <tr>\n",
       "      <th>2011-06-01</th>\n",
       "      <td>0.9676</td>\n",
       "      <td>0.9670</td>\n",
       "    </tr>\n",
       "    <tr>\n",
       "      <th>2011-06-02</th>\n",
       "      <td>0.9610</td>\n",
       "      <td>0.9615</td>\n",
       "    </tr>\n",
       "    <tr>\n",
       "      <th>2011-06-03</th>\n",
       "      <td>0.9617</td>\n",
       "      <td>0.9617</td>\n",
       "    </tr>\n",
       "    <tr>\n",
       "      <th>2011-06-04</th>\n",
       "      <td>0.9704</td>\n",
       "      <td>0.9711</td>\n",
       "    </tr>\n",
       "    <tr>\n",
       "      <th>2011-06-05</th>\n",
       "      <td>0.9718</td>\n",
       "      <td>0.9715</td>\n",
       "    </tr>\n",
       "    <tr>\n",
       "      <th>2011-06-06</th>\n",
       "      <td>0.9708</td>\n",
       "      <td>0.9716</td>\n",
       "    </tr>\n",
       "    <tr>\n",
       "      <th>2011-06-07</th>\n",
       "      <td>0.9697</td>\n",
       "      <td>0.9690</td>\n",
       "    </tr>\n",
       "    <tr>\n",
       "      <th>2011-06-08</th>\n",
       "      <td>0.9697</td>\n",
       "      <td>0.9706</td>\n",
       "    </tr>\n",
       "    <tr>\n",
       "      <th>2011-06-09</th>\n",
       "      <td>0.9774</td>\n",
       "      <td>0.9770</td>\n",
       "    </tr>\n",
       "    <tr>\n",
       "      <th>2011-06-10</th>\n",
       "      <td>0.9812</td>\n",
       "      <td>0.9812</td>\n",
       "    </tr>\n",
       "    <tr>\n",
       "      <th>2011-06-11</th>\n",
       "      <td>0.9864</td>\n",
       "      <td>0.9859</td>\n",
       "    </tr>\n",
       "    <tr>\n",
       "      <th>2011-06-12</th>\n",
       "      <td>0.9832</td>\n",
       "      <td>0.9834</td>\n",
       "    </tr>\n",
       "    <tr>\n",
       "      <th>2011-06-13</th>\n",
       "      <td>0.9849</td>\n",
       "      <td>0.9844</td>\n",
       "    </tr>\n",
       "    <tr>\n",
       "      <th>2011-06-14</th>\n",
       "      <td>0.9890</td>\n",
       "      <td>0.9897</td>\n",
       "    </tr>\n",
       "    <tr>\n",
       "      <th>2011-06-15</th>\n",
       "      <td>0.9916</td>\n",
       "      <td>0.9907</td>\n",
       "    </tr>\n",
       "    <tr>\n",
       "      <th>2011-06-16</th>\n",
       "      <td>0.9908</td>\n",
       "      <td>0.9911</td>\n",
       "    </tr>\n",
       "    <tr>\n",
       "      <th>2011-06-17</th>\n",
       "      <td>0.9940</td>\n",
       "      <td>0.9939</td>\n",
       "    </tr>\n",
       "    <tr>\n",
       "      <th>2011-06-18</th>\n",
       "      <td>0.9986</td>\n",
       "      <td>0.9990</td>\n",
       "    </tr>\n",
       "    <tr>\n",
       "      <th>2011-06-19</th>\n",
       "      <td>0.9980</td>\n",
       "      <td>0.9973</td>\n",
       "    </tr>\n",
       "  </tbody>\n",
       "</table>\n",
       "</div>"
      ],
      "text/plain": [
       "                  AverageRate  EndOfDayRate\n",
       "CurrencyRateDate                           \n",
       "2011-05-31             0.9697        0.9703\n",
       "2011-06-01             0.9676        0.9670\n",
       "2011-06-02             0.9610        0.9615\n",
       "2011-06-03             0.9617        0.9617\n",
       "2011-06-04             0.9704        0.9711\n",
       "2011-06-05             0.9718        0.9715\n",
       "2011-06-06             0.9708        0.9716\n",
       "2011-06-07             0.9697        0.9690\n",
       "2011-06-08             0.9697        0.9706\n",
       "2011-06-09             0.9774        0.9770\n",
       "2011-06-10             0.9812        0.9812\n",
       "2011-06-11             0.9864        0.9859\n",
       "2011-06-12             0.9832        0.9834\n",
       "2011-06-13             0.9849        0.9844\n",
       "2011-06-14             0.9890        0.9897\n",
       "2011-06-15             0.9916        0.9907\n",
       "2011-06-16             0.9908        0.9911\n",
       "2011-06-17             0.9940        0.9939\n",
       "2011-06-18             0.9986        0.9990\n",
       "2011-06-19             0.9980        0.9973"
      ]
     },
     "execution_count": 18,
     "metadata": {},
     "output_type": "execute_result"
    }
   ],
   "source": [
    "# Print the head of currency_rate_df\n",
    "currency_rate_df.head(20)"
   ]
  },
  {
   "cell_type": "code",
   "execution_count": 19,
   "metadata": {
    "tags": [
     "specification"
    ]
   },
   "outputs": [
    {
     "data": {
      "text/plain": [
       "(array([-200.,    0.,  200.,  400.,  600.,  800., 1000., 1200.]),\n",
       " [Text(-200.0, 0, '2013-11-13'),\n",
       "  Text(0.0, 0, '2011-05-31'),\n",
       "  Text(200.0, 0, '2011-12-17'),\n",
       "  Text(400.0, 0, '2012-07-04'),\n",
       "  Text(600.0, 0, '2013-01-20'),\n",
       "  Text(800.0, 0, '2013-08-08'),\n",
       "  Text(1000.0, 0, '2014-02-24'),\n",
       "  Text(1200.0, 0, '')])"
      ]
     },
     "execution_count": 19,
     "metadata": {},
     "output_type": "execute_result"
    },
    {
     "data": {
      "image/png": "[encoded data removed]",
      "text/plain": [
       "<Figure size 432x288 with 2 Axes>"
      ]
     },
     "metadata": {
      "needs_background": "light"
     },
     "output_type": "display_data"
    }
   ],
   "source": [
    "# Draw the progression of the two rates over time\n",
    "currency_rate_df.plot(subplots=True)\n",
    "plt.xticks(rotation=30)"
   ]
  },
  {
   "cell_type": "markdown",
   "metadata": {
    "tags": [
     "specification"
    ]
   },
   "source": [
    "Sometimes it is desirable to divide attribute values into *groups* resulting in fewer values that are easier to handle. Graphically, we have already applied a method in Part One that does just that: Histogram plot.\n",
    "\n",
    "<div class=\"alert alert-block alert-info\">\n",
    "\n",
    "**Task:** Draw a histogram with five bins for the attributes `AverageRate` and `EndOfDayRate`.\n",
    "\n",
    "</div>"
   ]
  },
  {
   "cell_type": "code",
   "execution_count": 20,
   "metadata": {
    "tags": [
     "student"
    ]
   },
   "outputs": [],
   "source": [
    "# Draw a histogram for AverageRate and EndOfDayRate"
   ]
  },
  {
   "cell_type": "code",
   "execution_count": 21,
   "metadata": {
    "tags": [
     "solution"
    ]
   },
   "outputs": [
    {
     "data": {
      "text/plain": [
       "array([[<AxesSubplot:title={'center':'AverageRate'}>,\n",
       "        <AxesSubplot:title={'center':'EndOfDayRate'}>]], dtype=object)"
      ]
     },
     "execution_count": 21,
     "metadata": {},
     "output_type": "execute_result"
    },
    {
     "data": {
      "image/png": "[encoded data removed]",
      "text/plain": [
       "<Figure size 432x288 with 2 Axes>"
      ]
     },
     "metadata": {
      "needs_background": "light"
     },
     "output_type": "display_data"
    }
   ],
   "source": [
    "# Draw a histogram for AverageRate and EndOfDayRate\n",
    "currency_rate_df.hist(bins=5, rwidth=0.8)"
   ]
  },
  {
   "cell_type": "markdown",
   "metadata": {
    "tags": [
     "specification"
    ]
   },
   "source": [
    "Although histogram analysis divides individual values into different groups and thus discretizes data, it completely ignores the temporal aspect. More specifically, both attributes `AverageRate` and `EndOfDayRate` constitute time series, i. e. data is indexed by time, and binning data values ignores this time dependency. \n",
    "\n",
    "Alternatively, data can be binned and thus discretize by maintaining the temporal nature by partitioning the data values to equal-width bins. This is possible in pandas via the fucntion `cut`.\n",
    "\n",
    "<div class=\"alert alert-block alert-info\">\n",
    "\n",
    "**Task:** Use `cut()` to distribute the attribute values of `AverageRate` into five bins with equal width. (Help: [pandas documentation](https://pandas.pydata.org/docs/reference/api/pandas.cut.html))\n",
    "</div>"
   ]
  },
  {
   "cell_type": "code",
   "execution_count": 22,
   "metadata": {
    "tags": [
     "student"
    ]
   },
   "outputs": [],
   "source": [
    "# Distribute the attribute values of AverageRate into bins with equal width"
   ]
  },
  {
   "cell_type": "code",
   "execution_count": 23,
   "metadata": {
    "tags": [
     "solution"
    ]
   },
   "outputs": [
    {
     "data": {
      "text/plain": [
       "CurrencyRateDate\n",
       "2011-05-31    (0.961, 1.01]\n",
       "2011-06-01    (0.961, 1.01]\n",
       "2011-06-02    (0.961, 1.01]\n",
       "2011-06-03    (0.961, 1.01]\n",
       "2011-06-04    (0.961, 1.01]\n",
       "                  ...      \n",
       "2014-05-27    (0.961, 1.01]\n",
       "2014-05-28    (0.961, 1.01]\n",
       "2014-05-29    (0.961, 1.01]\n",
       "2014-05-30    (0.961, 1.01]\n",
       "2014-05-31    (0.961, 1.01]\n",
       "Name: AverageRate, Length: 1097, dtype: category\n",
       "Categories (5, interval[float64, right]): [(0.961, 1.01] < (1.01, 1.06] < (1.06, 1.109] < (1.109, 1.158] < (1.158, 1.208]]"
      ]
     },
     "execution_count": 23,
     "metadata": {},
     "output_type": "execute_result"
    }
   ],
   "source": [
    "# Distribute the attribute values of AverageRate into bins with equal width\n",
    "pd.cut(currency_rate_df[\"AverageRate\"], bins=5)"
   ]
  },
  {
   "cell_type": "markdown",
   "metadata": {
    "tags": [
     "specification"
    ]
   },
   "source": [
    "<div class=\"alert alert-block alert-info\">\n",
    "\n",
    "**Task:** Find out how to interpret the interval notation used in the new attribute values and what boundaries each of the five bins has. \n",
    "\n",
    "</div>"
   ]
  },
  {
   "cell_type": "markdown",
   "metadata": {
    "tags": [
     "student"
    ]
   },
   "source": [
    "Write down your solution here:"
   ]
  },
  {
   "cell_type": "markdown",
   "metadata": {
    "tags": [
     "solution"
    ]
   },
   "source": [
    "**Interval notation:** Interval notation can be read as \"lower limit, upper limit\", where the brackets indicate whether a value is included (\"[\" or \"]\") or excluded (\"(\" or )\") in the limit.\n",
    "\n",
    "**Boundaries:**\n",
    "\n",
    "- **Bin 1:** From 0.961 (excl.) to 1.01 (inkl.)\n",
    "- **Bin 2:** From 1.01 (excl.) to 1.06 (inkl.)\n",
    "- **Bin 3:** From 1.06 (excl.) to 1.109 (inkl.)\n",
    "- **Bin 4:** From 1.109 (excl.) to 1.158 (inkl.)\n",
    "- **Bin 5:** From 1.158 (excl.) to 1.208 (inkl.)"
   ]
  },
  {
   "cell_type": "markdown",
   "metadata": {
    "tags": [
     "specification"
    ]
   },
   "source": [
    "Besides equal-width partioning, pandas also supports equal-depth partioning where each bin contains approximately the same *number of values*. This is done with the function `qcut`.\n",
    "\n",
    "<div class=\"alert alert-block alert-info\">\n",
    "\n",
    "**Task:** Use `qcut()` to arrange attribute values of AverageRate into five bins with equal depth. (Help: <a href=\"https://pandas.pydata.org/docs/reference/api/pandas.qcut.html\">pandas documentation</a>)\n",
    "</div>"
   ]
  },
  {
   "cell_type": "code",
   "execution_count": 24,
   "metadata": {
    "tags": [
     "student"
    ]
   },
   "outputs": [],
   "source": [
    "# Distribute attribute values of AverageRate into bins with equal depth"
   ]
  },
  {
   "cell_type": "code",
   "execution_count": 25,
   "metadata": {
    "tags": [
     "solution"
    ]
   },
   "outputs": [
    {
     "data": {
      "text/plain": [
       "CurrencyRateDate\n",
       "2011-05-31    (0.96, 1.025]\n",
       "2011-06-01    (0.96, 1.025]\n",
       "2011-06-02    (0.96, 1.025]\n",
       "2011-06-03    (0.96, 1.025]\n",
       "2011-06-04    (0.96, 1.025]\n",
       "                  ...      \n",
       "2014-05-27    (0.96, 1.025]\n",
       "2014-05-28    (0.96, 1.025]\n",
       "2014-05-29    (0.96, 1.025]\n",
       "2014-05-30    (0.96, 1.025]\n",
       "2014-05-31    (0.96, 1.025]\n",
       "Name: AverageRate, Length: 1097, dtype: category\n",
       "Categories (5, interval[float64, right]): [(0.96, 1.025] < (1.025, 1.076] < (1.076, 1.113] < (1.113, 1.139] < (1.139, 1.208]]"
      ]
     },
     "execution_count": 25,
     "metadata": {},
     "output_type": "execute_result"
    }
   ],
   "source": [
    "# Distribute attribute values of AverageRate into bins with equal depth\n",
    "pd.qcut(currency_rate_df[\"AverageRate\"], q=5)\n",
    "\n",
    "# Note: Parameter q specifies the number of quantiles, not the number of bins."
   ]
  },
  {
   "cell_type": "markdown",
   "metadata": {
    "tags": [
     "specification"
    ]
   },
   "source": [
    "The disadvantage of this \"pure\" partitioning is that the attribute values are no longer purely numerical attributes and thus further processing is only possible to a limited extent. Therefore, one or two representative values are often selected for each bin, to which all values within the bin are smoothed.\n",
    "\n",
    "In the lecture the variant smoothing by bin means was presented, which we will now have a look at here. \n",
    "\n",
    "<div class=\"alert alert-block alert-info\">\n",
    "\n",
    "**Task:** Implement a method for smoothing by bin means with equal width partitioning by completing the following program skeleton. You may use `cut()`, but you don't have to. \n",
    "</div>"
   ]
  },
  {
   "cell_type": "code",
   "execution_count": 26,
   "metadata": {
    "tags": [
     "student"
    ]
   },
   "outputs": [
    {
     "data": {
      "text/html": [
       "<div>\n",
       "<style scoped>\n",
       "    .dataframe tbody tr th:only-of-type {\n",
       "        vertical-align: middle;\n",
       "    }\n",
       "\n",
       "    .dataframe tbody tr th {\n",
       "        vertical-align: top;\n",
       "    }\n",
       "\n",
       "    .dataframe thead th {\n",
       "        text-align: right;\n",
       "    }\n",
       "</style>\n",
       "<table border=\"1\" class=\"dataframe\">\n",
       "  <thead>\n",
       "    <tr style=\"text-align: right;\">\n",
       "      <th></th>\n",
       "      <th>AverageRate</th>\n",
       "      <th>EndOfDayRate</th>\n",
       "    </tr>\n",
       "    <tr>\n",
       "      <th>CurrencyRateDate</th>\n",
       "      <th></th>\n",
       "      <th></th>\n",
       "    </tr>\n",
       "  </thead>\n",
       "  <tbody>\n",
       "    <tr>\n",
       "      <th>2011-05-31</th>\n",
       "      <td>0.9697</td>\n",
       "      <td>0.9703</td>\n",
       "    </tr>\n",
       "    <tr>\n",
       "      <th>2011-06-01</th>\n",
       "      <td>0.9676</td>\n",
       "      <td>0.9670</td>\n",
       "    </tr>\n",
       "    <tr>\n",
       "      <th>2011-06-02</th>\n",
       "      <td>0.9610</td>\n",
       "      <td>0.9615</td>\n",
       "    </tr>\n",
       "    <tr>\n",
       "      <th>2011-06-03</th>\n",
       "      <td>0.9617</td>\n",
       "      <td>0.9617</td>\n",
       "    </tr>\n",
       "    <tr>\n",
       "      <th>2011-06-04</th>\n",
       "      <td>0.9704</td>\n",
       "      <td>0.9711</td>\n",
       "    </tr>\n",
       "    <tr>\n",
       "      <th>2011-06-05</th>\n",
       "      <td>0.9718</td>\n",
       "      <td>0.9715</td>\n",
       "    </tr>\n",
       "    <tr>\n",
       "      <th>2011-06-06</th>\n",
       "      <td>0.9708</td>\n",
       "      <td>0.9716</td>\n",
       "    </tr>\n",
       "    <tr>\n",
       "      <th>2011-06-07</th>\n",
       "      <td>0.9697</td>\n",
       "      <td>0.9690</td>\n",
       "    </tr>\n",
       "    <tr>\n",
       "      <th>2011-06-08</th>\n",
       "      <td>0.9697</td>\n",
       "      <td>0.9706</td>\n",
       "    </tr>\n",
       "    <tr>\n",
       "      <th>2011-06-09</th>\n",
       "      <td>0.9774</td>\n",
       "      <td>0.9770</td>\n",
       "    </tr>\n",
       "    <tr>\n",
       "      <th>2011-06-10</th>\n",
       "      <td>0.9812</td>\n",
       "      <td>0.9812</td>\n",
       "    </tr>\n",
       "    <tr>\n",
       "      <th>2011-06-11</th>\n",
       "      <td>0.9864</td>\n",
       "      <td>0.9859</td>\n",
       "    </tr>\n",
       "    <tr>\n",
       "      <th>2011-06-12</th>\n",
       "      <td>0.9832</td>\n",
       "      <td>0.9834</td>\n",
       "    </tr>\n",
       "    <tr>\n",
       "      <th>2011-06-13</th>\n",
       "      <td>0.9849</td>\n",
       "      <td>0.9844</td>\n",
       "    </tr>\n",
       "    <tr>\n",
       "      <th>2011-06-14</th>\n",
       "      <td>0.9890</td>\n",
       "      <td>0.9897</td>\n",
       "    </tr>\n",
       "    <tr>\n",
       "      <th>2011-06-15</th>\n",
       "      <td>0.9916</td>\n",
       "      <td>0.9907</td>\n",
       "    </tr>\n",
       "    <tr>\n",
       "      <th>2011-06-16</th>\n",
       "      <td>0.9908</td>\n",
       "      <td>0.9911</td>\n",
       "    </tr>\n",
       "    <tr>\n",
       "      <th>2011-06-17</th>\n",
       "      <td>0.9940</td>\n",
       "      <td>0.9939</td>\n",
       "    </tr>\n",
       "    <tr>\n",
       "      <th>2011-06-18</th>\n",
       "      <td>0.9986</td>\n",
       "      <td>0.9990</td>\n",
       "    </tr>\n",
       "    <tr>\n",
       "      <th>2011-06-19</th>\n",
       "      <td>0.9980</td>\n",
       "      <td>0.9973</td>\n",
       "    </tr>\n",
       "  </tbody>\n",
       "</table>\n",
       "</div>"
      ],
      "text/plain": [
       "                  AverageRate  EndOfDayRate\n",
       "CurrencyRateDate                           \n",
       "2011-05-31             0.9697        0.9703\n",
       "2011-06-01             0.9676        0.9670\n",
       "2011-06-02             0.9610        0.9615\n",
       "2011-06-03             0.9617        0.9617\n",
       "2011-06-04             0.9704        0.9711\n",
       "2011-06-05             0.9718        0.9715\n",
       "2011-06-06             0.9708        0.9716\n",
       "2011-06-07             0.9697        0.9690\n",
       "2011-06-08             0.9697        0.9706\n",
       "2011-06-09             0.9774        0.9770\n",
       "2011-06-10             0.9812        0.9812\n",
       "2011-06-11             0.9864        0.9859\n",
       "2011-06-12             0.9832        0.9834\n",
       "2011-06-13             0.9849        0.9844\n",
       "2011-06-14             0.9890        0.9897\n",
       "2011-06-15             0.9916        0.9907\n",
       "2011-06-16             0.9908        0.9911\n",
       "2011-06-17             0.9940        0.9939\n",
       "2011-06-18             0.9986        0.9990\n",
       "2011-06-19             0.9980        0.9973"
      ]
     },
     "execution_count": 26,
     "metadata": {},
     "output_type": "execute_result"
    }
   ],
   "source": [
    "# Implement a method for smoothing by bin means with equal width partitioning\n",
    "def smoothing_by_bin_means_with_equal_width_part(df, bins=10):\n",
    "    # Create a copy to avoid overriding original content\n",
    "    smoothed = df.copy()\n",
    "\n",
    "    # Smooth every column\n",
    "    for column in smoothed.columns:\n",
    "\n",
    "        # ...\n",
    "        continue\n",
    "\n",
    "    return smoothed\n",
    "\n",
    "\n",
    "# Apply smoothing_by_bin_means\n",
    "currency_rate_smoothed_df = smoothing_by_bin_means_with_equal_width_part(\n",
    "    currency_rate_df, 5\n",
    ")\n",
    "currency_rate_smoothed_df.head(20)"
   ]
  },
  {
   "cell_type": "code",
   "execution_count": 27,
   "metadata": {
    "tags": [
     "solution"
    ]
   },
   "outputs": [
    {
     "data": {
      "text/html": [
       "<div>\n",
       "<style scoped>\n",
       "    .dataframe tbody tr th:only-of-type {\n",
       "        vertical-align: middle;\n",
       "    }\n",
       "\n",
       "    .dataframe tbody tr th {\n",
       "        vertical-align: top;\n",
       "    }\n",
       "\n",
       "    .dataframe thead th {\n",
       "        text-align: right;\n",
       "    }\n",
       "</style>\n",
       "<table border=\"1\" class=\"dataframe\">\n",
       "  <thead>\n",
       "    <tr style=\"text-align: right;\">\n",
       "      <th></th>\n",
       "      <th>AverageRate</th>\n",
       "      <th>EndOfDayRate</th>\n",
       "    </tr>\n",
       "    <tr>\n",
       "      <th>CurrencyRateDate</th>\n",
       "      <th></th>\n",
       "      <th></th>\n",
       "    </tr>\n",
       "  </thead>\n",
       "  <tbody>\n",
       "    <tr>\n",
       "      <th>2011-05-31</th>\n",
       "      <td>0.989395</td>\n",
       "      <td>0.98941</td>\n",
       "    </tr>\n",
       "    <tr>\n",
       "      <th>2011-06-01</th>\n",
       "      <td>0.989395</td>\n",
       "      <td>0.98941</td>\n",
       "    </tr>\n",
       "    <tr>\n",
       "      <th>2011-06-02</th>\n",
       "      <td>0.989395</td>\n",
       "      <td>0.98941</td>\n",
       "    </tr>\n",
       "    <tr>\n",
       "      <th>2011-06-03</th>\n",
       "      <td>0.989395</td>\n",
       "      <td>0.98941</td>\n",
       "    </tr>\n",
       "    <tr>\n",
       "      <th>2011-06-04</th>\n",
       "      <td>0.989395</td>\n",
       "      <td>0.98941</td>\n",
       "    </tr>\n",
       "    <tr>\n",
       "      <th>2011-06-05</th>\n",
       "      <td>0.989395</td>\n",
       "      <td>0.98941</td>\n",
       "    </tr>\n",
       "    <tr>\n",
       "      <th>2011-06-06</th>\n",
       "      <td>0.989395</td>\n",
       "      <td>0.98941</td>\n",
       "    </tr>\n",
       "    <tr>\n",
       "      <th>2011-06-07</th>\n",
       "      <td>0.989395</td>\n",
       "      <td>0.98941</td>\n",
       "    </tr>\n",
       "    <tr>\n",
       "      <th>2011-06-08</th>\n",
       "      <td>0.989395</td>\n",
       "      <td>0.98941</td>\n",
       "    </tr>\n",
       "    <tr>\n",
       "      <th>2011-06-09</th>\n",
       "      <td>0.989395</td>\n",
       "      <td>0.98941</td>\n",
       "    </tr>\n",
       "    <tr>\n",
       "      <th>2011-06-10</th>\n",
       "      <td>0.989395</td>\n",
       "      <td>0.98941</td>\n",
       "    </tr>\n",
       "    <tr>\n",
       "      <th>2011-06-11</th>\n",
       "      <td>0.989395</td>\n",
       "      <td>0.98941</td>\n",
       "    </tr>\n",
       "    <tr>\n",
       "      <th>2011-06-12</th>\n",
       "      <td>0.989395</td>\n",
       "      <td>0.98941</td>\n",
       "    </tr>\n",
       "    <tr>\n",
       "      <th>2011-06-13</th>\n",
       "      <td>0.989395</td>\n",
       "      <td>0.98941</td>\n",
       "    </tr>\n",
       "    <tr>\n",
       "      <th>2011-06-14</th>\n",
       "      <td>0.989395</td>\n",
       "      <td>0.98941</td>\n",
       "    </tr>\n",
       "    <tr>\n",
       "      <th>2011-06-15</th>\n",
       "      <td>0.989395</td>\n",
       "      <td>0.98941</td>\n",
       "    </tr>\n",
       "    <tr>\n",
       "      <th>2011-06-16</th>\n",
       "      <td>0.989395</td>\n",
       "      <td>0.98941</td>\n",
       "    </tr>\n",
       "    <tr>\n",
       "      <th>2011-06-17</th>\n",
       "      <td>0.989395</td>\n",
       "      <td>0.98941</td>\n",
       "    </tr>\n",
       "    <tr>\n",
       "      <th>2011-06-18</th>\n",
       "      <td>0.989395</td>\n",
       "      <td>0.98941</td>\n",
       "    </tr>\n",
       "    <tr>\n",
       "      <th>2011-06-19</th>\n",
       "      <td>0.989395</td>\n",
       "      <td>0.98941</td>\n",
       "    </tr>\n",
       "  </tbody>\n",
       "</table>\n",
       "</div>"
      ],
      "text/plain": [
       "                  AverageRate  EndOfDayRate\n",
       "CurrencyRateDate                           \n",
       "2011-05-31           0.989395       0.98941\n",
       "2011-06-01           0.989395       0.98941\n",
       "2011-06-02           0.989395       0.98941\n",
       "2011-06-03           0.989395       0.98941\n",
       "2011-06-04           0.989395       0.98941\n",
       "2011-06-05           0.989395       0.98941\n",
       "2011-06-06           0.989395       0.98941\n",
       "2011-06-07           0.989395       0.98941\n",
       "2011-06-08           0.989395       0.98941\n",
       "2011-06-09           0.989395       0.98941\n",
       "2011-06-10           0.989395       0.98941\n",
       "2011-06-11           0.989395       0.98941\n",
       "2011-06-12           0.989395       0.98941\n",
       "2011-06-13           0.989395       0.98941\n",
       "2011-06-14           0.989395       0.98941\n",
       "2011-06-15           0.989395       0.98941\n",
       "2011-06-16           0.989395       0.98941\n",
       "2011-06-17           0.989395       0.98941\n",
       "2011-06-18           0.989395       0.98941\n",
       "2011-06-19           0.989395       0.98941"
      ]
     },
     "execution_count": 27,
     "metadata": {},
     "output_type": "execute_result"
    }
   ],
   "source": [
    "# Implement a method for smoothing by bin means with equal width partitioning\n",
    "def smoothing_by_bin_means_with_equal_width_part(dataframe_to_smooth, bins=10):\n",
    "    # Create a copy to avoid overriding original content\n",
    "    smoothed = dataframe_to_smooth.copy()\n",
    "\n",
    "    # Smooth every column\n",
    "    for column in smoothed.columns:\n",
    "        # Calculate the bin affiliations with cut()\n",
    "        bin_affiliations = pd.cut(currency_rate_df[column], bins, labels=False)\n",
    "\n",
    "        # For each bin\n",
    "        for bin in range(bins):\n",
    "            # Set every bin to the mean of the matched bin\n",
    "            smoothed[bin_affiliations == bin] = smoothed[bin_affiliations == bin].mean()\n",
    "\n",
    "    return smoothed\n",
    "\n",
    "\n",
    "# Apply smoothing_by_bin_means\n",
    "currency_rate_smoothed_df = smoothing_by_bin_means_with_equal_width_part(\n",
    "    currency_rate_df, 5\n",
    ")\n",
    "currency_rate_smoothed_df.head(20)"
   ]
  },
  {
   "cell_type": "code",
   "execution_count": 28,
   "metadata": {
    "tags": [
     "specification"
    ]
   },
   "outputs": [
    {
     "data": {
      "text/plain": [
       "(array([-200.,    0.,  200.,  400.,  600.,  800., 1000., 1200.]),\n",
       " [Text(-200.0, 0, '2013-11-13'),\n",
       "  Text(0.0, 0, '2011-05-31'),\n",
       "  Text(200.0, 0, '2011-12-17'),\n",
       "  Text(400.0, 0, '2012-07-04'),\n",
       "  Text(600.0, 0, '2013-01-20'),\n",
       "  Text(800.0, 0, '2013-08-08'),\n",
       "  Text(1000.0, 0, '2014-02-24'),\n",
       "  Text(1200.0, 0, '')])"
      ]
     },
     "execution_count": 28,
     "metadata": {},
     "output_type": "execute_result"
    },
    {
     "data": {
      "image/png": "[encoded data removed]",
      "text/plain": [
       "<Figure size 432x288 with 2 Axes>"
      ]
     },
     "metadata": {
      "needs_background": "light"
     },
     "output_type": "display_data"
    }
   ],
   "source": [
    "# Draw the progression of the two rates over time\n",
    "currency_rate_smoothed_df.plot(subplots=True)\n",
    "plt.xticks(rotation=30)"
   ]
  },
  {
   "cell_type": "markdown",
   "metadata": {
    "tags": [
     "specification"
    ]
   },
   "source": [
    "In addition to histogram analysis and binning, there are other methods of discretization. One of them - clustering - will be covered later in the semester."
   ]
  },
  {
   "cell_type": "markdown",
   "metadata": {
    "tags": [
     "specification"
    ]
   },
   "source": [
    "### Data Reduction\n",
    "\n",
    "Another important part of data preprocessing is to reduce the dimentionality of data. One focus in the lecture was Principal Component Analysis (PCA), which we now utilize.\n",
    "\n",
    "Subject of analysis is still the `currency_rate_df` where `AverageRate` and `EndOfDayRate` are visibly the same. It is, therefore, expected that a large part of the redundancy can be eliminated by PCA.\n",
    "\n",
    "In order to generate a deep understanding on PCA, you will first apply the steps presented in the lecture before resorting to a library function.\n",
    "\n",
    "<div class=\"alert alert-block alert-info\">\n",
    "\n",
    "**Task:** Standardize the `currency_rate_df` to ensure that all attributes are included in the analysis to the same extent. (Hint: You may use one of your previous defined functions) \n",
    "</div>"
   ]
  },
  {
   "cell_type": "code",
   "execution_count": 29,
   "metadata": {
    "tags": [
     "student"
    ]
   },
   "outputs": [],
   "source": [
    "# Standardize currency_rate_df"
   ]
  },
  {
   "cell_type": "code",
   "execution_count": 30,
   "metadata": {
    "tags": [
     "solution"
    ]
   },
   "outputs": [
    {
     "data": {
      "text/html": [
       "<div>\n",
       "<style scoped>\n",
       "    .dataframe tbody tr th:only-of-type {\n",
       "        vertical-align: middle;\n",
       "    }\n",
       "\n",
       "    .dataframe tbody tr th {\n",
       "        vertical-align: top;\n",
       "    }\n",
       "\n",
       "    .dataframe thead th {\n",
       "        text-align: right;\n",
       "    }\n",
       "</style>\n",
       "<table border=\"1\" class=\"dataframe\">\n",
       "  <thead>\n",
       "    <tr style=\"text-align: right;\">\n",
       "      <th></th>\n",
       "      <th>AverageRate</th>\n",
       "      <th>EndOfDayRate</th>\n",
       "    </tr>\n",
       "    <tr>\n",
       "      <th>CurrencyRateDate</th>\n",
       "      <th></th>\n",
       "      <th></th>\n",
       "    </tr>\n",
       "  </thead>\n",
       "  <tbody>\n",
       "    <tr>\n",
       "      <th>2011-05-31</th>\n",
       "      <td>-2.052818</td>\n",
       "      <td>-2.042908</td>\n",
       "    </tr>\n",
       "    <tr>\n",
       "      <th>2011-06-01</th>\n",
       "      <td>-2.089427</td>\n",
       "      <td>-2.100453</td>\n",
       "    </tr>\n",
       "    <tr>\n",
       "      <th>2011-06-02</th>\n",
       "      <td>-2.204485</td>\n",
       "      <td>-2.196360</td>\n",
       "    </tr>\n",
       "    <tr>\n",
       "      <th>2011-06-03</th>\n",
       "      <td>-2.192282</td>\n",
       "      <td>-2.192872</td>\n",
       "    </tr>\n",
       "    <tr>\n",
       "      <th>2011-06-04</th>\n",
       "      <td>-2.040615</td>\n",
       "      <td>-2.028958</td>\n",
       "    </tr>\n",
       "    <tr>\n",
       "      <th>2011-06-05</th>\n",
       "      <td>-2.016209</td>\n",
       "      <td>-2.021983</td>\n",
       "    </tr>\n",
       "    <tr>\n",
       "      <th>2011-06-06</th>\n",
       "      <td>-2.033642</td>\n",
       "      <td>-2.020239</td>\n",
       "    </tr>\n",
       "    <tr>\n",
       "      <th>2011-06-07</th>\n",
       "      <td>-2.052818</td>\n",
       "      <td>-2.065577</td>\n",
       "    </tr>\n",
       "    <tr>\n",
       "      <th>2011-06-08</th>\n",
       "      <td>-2.052818</td>\n",
       "      <td>-2.037677</td>\n",
       "    </tr>\n",
       "    <tr>\n",
       "      <th>2011-06-09</th>\n",
       "      <td>-1.918584</td>\n",
       "      <td>-1.926075</td>\n",
       "    </tr>\n",
       "    <tr>\n",
       "      <th>2011-06-10</th>\n",
       "      <td>-1.852339</td>\n",
       "      <td>-1.852837</td>\n",
       "    </tr>\n",
       "    <tr>\n",
       "      <th>2011-06-11</th>\n",
       "      <td>-1.761688</td>\n",
       "      <td>-1.770880</td>\n",
       "    </tr>\n",
       "    <tr>\n",
       "      <th>2011-06-12</th>\n",
       "      <td>-1.817473</td>\n",
       "      <td>-1.814474</td>\n",
       "    </tr>\n",
       "    <tr>\n",
       "      <th>2011-06-13</th>\n",
       "      <td>-1.787837</td>\n",
       "      <td>-1.797036</td>\n",
       "    </tr>\n",
       "    <tr>\n",
       "      <th>2011-06-14</th>\n",
       "      <td>-1.716362</td>\n",
       "      <td>-1.704616</td>\n",
       "    </tr>\n",
       "    <tr>\n",
       "      <th>2011-06-15</th>\n",
       "      <td>-1.671036</td>\n",
       "      <td>-1.687179</td>\n",
       "    </tr>\n",
       "    <tr>\n",
       "      <th>2011-06-16</th>\n",
       "      <td>-1.684983</td>\n",
       "      <td>-1.680204</td>\n",
       "    </tr>\n",
       "    <tr>\n",
       "      <th>2011-06-17</th>\n",
       "      <td>-1.629197</td>\n",
       "      <td>-1.631378</td>\n",
       "    </tr>\n",
       "    <tr>\n",
       "      <th>2011-06-18</th>\n",
       "      <td>-1.549006</td>\n",
       "      <td>-1.542446</td>\n",
       "    </tr>\n",
       "    <tr>\n",
       "      <th>2011-06-19</th>\n",
       "      <td>-1.559465</td>\n",
       "      <td>-1.572090</td>\n",
       "    </tr>\n",
       "  </tbody>\n",
       "</table>\n",
       "</div>"
      ],
      "text/plain": [
       "                  AverageRate  EndOfDayRate\n",
       "CurrencyRateDate                           \n",
       "2011-05-31          -2.052818     -2.042908\n",
       "2011-06-01          -2.089427     -2.100453\n",
       "2011-06-02          -2.204485     -2.196360\n",
       "2011-06-03          -2.192282     -2.192872\n",
       "2011-06-04          -2.040615     -2.028958\n",
       "2011-06-05          -2.016209     -2.021983\n",
       "2011-06-06          -2.033642     -2.020239\n",
       "2011-06-07          -2.052818     -2.065577\n",
       "2011-06-08          -2.052818     -2.037677\n",
       "2011-06-09          -1.918584     -1.926075\n",
       "2011-06-10          -1.852339     -1.852837\n",
       "2011-06-11          -1.761688     -1.770880\n",
       "2011-06-12          -1.817473     -1.814474\n",
       "2011-06-13          -1.787837     -1.797036\n",
       "2011-06-14          -1.716362     -1.704616\n",
       "2011-06-15          -1.671036     -1.687179\n",
       "2011-06-16          -1.684983     -1.680204\n",
       "2011-06-17          -1.629197     -1.631378\n",
       "2011-06-18          -1.549006     -1.542446\n",
       "2011-06-19          -1.559465     -1.572090"
      ]
     },
     "execution_count": 30,
     "metadata": {},
     "output_type": "execute_result"
    }
   ],
   "source": [
    "# Standardize currency_rate_df\n",
    "standardized_currency_rate_df = z_score_normalization(currency_rate_df)\n",
    "\n",
    "# Although not part of the question, it is usually helpful to display the result of the calculation\n",
    "standardized_currency_rate_df.head(20)"
   ]
  },
  {
   "cell_type": "markdown",
   "metadata": {
    "tags": [
     "specification"
    ]
   },
   "source": [
    "<div class=\"alert alert-block alert-info\">\n",
    "\n",
    "**Task:** Calculate the covariance matrix for the standardized `DataFrame`. (Help: [pandas documentation](https://pandas.pydata.org/docs/reference/api/pandas.DataFrame.cov.html))\n",
    "</div>"
   ]
  },
  {
   "cell_type": "code",
   "execution_count": 31,
   "metadata": {
    "tags": [
     "student"
    ]
   },
   "outputs": [],
   "source": [
    "# Calculate covariance matrix"
   ]
  },
  {
   "cell_type": "code",
   "execution_count": 32,
   "metadata": {
    "tags": [
     "solution"
    ]
   },
   "outputs": [
    {
     "data": {
      "text/html": [
       "<div>\n",
       "<style scoped>\n",
       "    .dataframe tbody tr th:only-of-type {\n",
       "        vertical-align: middle;\n",
       "    }\n",
       "\n",
       "    .dataframe tbody tr th {\n",
       "        vertical-align: top;\n",
       "    }\n",
       "\n",
       "    .dataframe thead th {\n",
       "        text-align: right;\n",
       "    }\n",
       "</style>\n",
       "<table border=\"1\" class=\"dataframe\">\n",
       "  <thead>\n",
       "    <tr style=\"text-align: right;\">\n",
       "      <th></th>\n",
       "      <th>AverageRate</th>\n",
       "      <th>EndOfDayRate</th>\n",
       "    </tr>\n",
       "  </thead>\n",
       "  <tbody>\n",
       "    <tr>\n",
       "      <th>AverageRate</th>\n",
       "      <td>1.000000</td>\n",
       "      <td>0.999948</td>\n",
       "    </tr>\n",
       "    <tr>\n",
       "      <th>EndOfDayRate</th>\n",
       "      <td>0.999948</td>\n",
       "      <td>1.000000</td>\n",
       "    </tr>\n",
       "  </tbody>\n",
       "</table>\n",
       "</div>"
      ],
      "text/plain": [
       "              AverageRate  EndOfDayRate\n",
       "AverageRate      1.000000      0.999948\n",
       "EndOfDayRate     0.999948      1.000000"
      ]
     },
     "execution_count": 32,
     "metadata": {},
     "output_type": "execute_result"
    }
   ],
   "source": [
    "# Calculate covariance matrix\n",
    "covariance_matrix = standardized_currency_rate_df.cov()\n",
    "\n",
    "# Display the covariance matrix\n",
    "covariance_matrix"
   ]
  },
  {
   "cell_type": "markdown",
   "metadata": {
    "tags": [
     "specification"
    ]
   },
   "source": [
    "<div class=\"alert alert-block alert-info\">\n",
    "\n",
    "**Task:** Calculate the associated eigenvalues and eigenvectors. (Help: [Numpy documentation](https://numpy.org/doc/stable/reference/generated/numpy.linalg.eig.html)) \n",
    "</div>"
   ]
  },
  {
   "cell_type": "code",
   "execution_count": 33,
   "metadata": {
    "tags": [
     "student"
    ]
   },
   "outputs": [],
   "source": [
    "# Calculate the associated eigenvalues and eigenvectors"
   ]
  },
  {
   "cell_type": "code",
   "execution_count": 44,
   "metadata": {
    "tags": [
     "solution"
    ]
   },
   "outputs": [
    {
     "name": "stdout",
     "output_type": "stream",
     "text": [
      "Eigenvalues:\n",
      "[1.99994846e+00 5.15360040e-05]\n",
      "\n",
      "Eigenvectors:\n",
      "[[ 0.70710678 -0.70710678]\n",
      " [ 0.70710678  0.70710678]]\n"
     ]
    }
   ],
   "source": [
    "# Calculate the associated eigenvalues and eigenvectors\n",
    "eigenvalues, eigenvectors = np.linalg.eig(covariance_matrix)\n",
    "\n",
    "# Display the eigenvalues and eigenvectors\n",
    "print(\"Eigenvalues:\")\n",
    "print(eigenvalues)\n",
    "\n",
    "print(\"\\nEigenvectors:\")\n",
    "print(eigenvectors)"
   ]
  },
  {
   "cell_type": "markdown",
   "metadata": {
    "tags": [
     "specification"
    ]
   },
   "source": [
    "<div class=\"alert alert-block alert-info\">\n",
    "\n",
    "**Task:** Calculate the percentage of information per eigenvector.\n",
    "</div>"
   ]
  },
  {
   "cell_type": "code",
   "execution_count": 35,
   "metadata": {
    "tags": [
     "student"
    ]
   },
   "outputs": [],
   "source": [
    "# Calculate the percentage of information per eigenvector"
   ]
  },
  {
   "cell_type": "code",
   "execution_count": 36,
   "metadata": {
    "tags": [
     "solution"
    ]
   },
   "outputs": [
    {
     "name": "stdout",
     "output_type": "stream",
     "text": [
      "First eigenvektor: approx. 100% (Exact: 0.999974231997985)\n",
      "Second eigenvektor: approx. 0% (Exact: 2.5768002014980855e-05)\n"
     ]
    }
   ],
   "source": [
    "# Calculate the percentage of information per eigenvector\n",
    "relative_information_share = eigenvalues / np.sum(eigenvalues)\n",
    "\n",
    "# Print the information\n",
    "print(\n",
    "    \"First eigenvektor: approx. {0:.0f}% (Exact: \".format(\n",
    "        relative_information_share[0] * 100\n",
    "    )\n",
    "    + str(relative_information_share[0])\n",
    "    + \")\"\n",
    ")\n",
    "print(\n",
    "    \"Second eigenvektor: approx. {0:.0f}% (Exact: \".format(\n",
    "        relative_information_share[1] * 100\n",
    "    )\n",
    "    + str(relative_information_share[1])\n",
    "    + \")\"\n",
    ")"
   ]
  },
  {
   "cell_type": "markdown",
   "metadata": {
    "tags": [
     "specification"
    ]
   },
   "source": [
    "<div class=\"alert alert-block alert-info\">\n",
    "\n",
    "**Task:** Select the feature matrix so that the transformation preserves at least 80% of the information contained in the standardized `currency_rate_df`. \n",
    "</div>"
   ]
  },
  {
   "cell_type": "code",
   "execution_count": 37,
   "metadata": {
    "tags": [
     "student"
    ]
   },
   "outputs": [],
   "source": [
    "# Select the feature matrix"
   ]
  },
  {
   "cell_type": "code",
   "execution_count": 38,
   "metadata": {
    "tags": [
     "solution"
    ]
   },
   "outputs": [
    {
     "data": {
      "text/plain": [
       "array([0.70710678, 0.70710678])"
      ]
     },
     "execution_count": 38,
     "metadata": {},
     "output_type": "execute_result"
    }
   ],
   "source": [
    "# Select the feature matrix\n",
    "# The first eigenvector contains nearly all information => select only that one\n",
    "feature_matrix = eigenvectors[1]\n",
    "\n",
    "# Print the feature_matrix\n",
    "feature_matrix"
   ]
  },
  {
   "cell_type": "markdown",
   "metadata": {
    "tags": [
     "specification"
    ]
   },
   "source": [
    "<div class=\"alert alert-block alert-info\">\n",
    "\n",
    "**Task:** Perform the transformation of the standardized data frame using the feature matrix and display the result. (Help: [pandas documentation](https://pandas.pydata.org/docs/reference/api/pandas.DataFrame.dot.html)) \n",
    "</div>"
   ]
  },
  {
   "cell_type": "code",
   "execution_count": 39,
   "metadata": {
    "tags": [
     "student"
    ]
   },
   "outputs": [],
   "source": [
    "# Perform the transformation and display the result"
   ]
  },
  {
   "cell_type": "code",
   "execution_count": 40,
   "metadata": {
    "tags": [
     "solution"
    ]
   },
   "outputs": [
    {
     "data": {
      "text/html": [
       "<div>\n",
       "<style scoped>\n",
       "    .dataframe tbody tr th:only-of-type {\n",
       "        vertical-align: middle;\n",
       "    }\n",
       "\n",
       "    .dataframe tbody tr th {\n",
       "        vertical-align: top;\n",
       "    }\n",
       "\n",
       "    .dataframe thead th {\n",
       "        text-align: right;\n",
       "    }\n",
       "</style>\n",
       "<table border=\"1\" class=\"dataframe\">\n",
       "  <thead>\n",
       "    <tr style=\"text-align: right;\">\n",
       "      <th></th>\n",
       "      <th>0</th>\n",
       "    </tr>\n",
       "    <tr>\n",
       "      <th>CurrencyRateDate</th>\n",
       "      <th></th>\n",
       "    </tr>\n",
       "  </thead>\n",
       "  <tbody>\n",
       "    <tr>\n",
       "      <th>2011-05-31</th>\n",
       "      <td>-2.896116</td>\n",
       "    </tr>\n",
       "    <tr>\n",
       "      <th>2011-06-01</th>\n",
       "      <td>-2.962693</td>\n",
       "    </tr>\n",
       "    <tr>\n",
       "      <th>2011-06-02</th>\n",
       "      <td>-3.111867</td>\n",
       "    </tr>\n",
       "    <tr>\n",
       "      <th>2011-06-03</th>\n",
       "      <td>-3.100772</td>\n",
       "    </tr>\n",
       "    <tr>\n",
       "      <th>2011-06-04</th>\n",
       "      <td>-2.877623</td>\n",
       "    </tr>\n",
       "    <tr>\n",
       "      <th>2011-06-05</th>\n",
       "      <td>-2.855433</td>\n",
       "    </tr>\n",
       "    <tr>\n",
       "      <th>2011-06-06</th>\n",
       "      <td>-2.866527</td>\n",
       "    </tr>\n",
       "    <tr>\n",
       "      <th>2011-06-07</th>\n",
       "      <td>-2.912145</td>\n",
       "    </tr>\n",
       "    <tr>\n",
       "      <th>2011-06-08</th>\n",
       "      <td>-2.892417</td>\n",
       "    </tr>\n",
       "    <tr>\n",
       "      <th>2011-06-09</th>\n",
       "      <td>-2.718585</td>\n",
       "    </tr>\n",
       "    <tr>\n",
       "      <th>2011-06-10</th>\n",
       "      <td>-2.619955</td>\n",
       "    </tr>\n",
       "    <tr>\n",
       "      <th>2011-06-11</th>\n",
       "      <td>-2.497902</td>\n",
       "    </tr>\n",
       "    <tr>\n",
       "      <th>2011-06-12</th>\n",
       "      <td>-2.568175</td>\n",
       "    </tr>\n",
       "    <tr>\n",
       "      <th>2011-06-13</th>\n",
       "      <td>-2.534888</td>\n",
       "    </tr>\n",
       "    <tr>\n",
       "      <th>2011-06-14</th>\n",
       "      <td>-2.418997</td>\n",
       "    </tr>\n",
       "    <tr>\n",
       "      <th>2011-06-15</th>\n",
       "      <td>-2.374617</td>\n",
       "    </tr>\n",
       "    <tr>\n",
       "      <th>2011-06-16</th>\n",
       "      <td>-2.379546</td>\n",
       "    </tr>\n",
       "    <tr>\n",
       "      <th>2011-06-17</th>\n",
       "      <td>-2.305575</td>\n",
       "    </tr>\n",
       "    <tr>\n",
       "      <th>2011-06-18</th>\n",
       "      <td>-2.185986</td>\n",
       "    </tr>\n",
       "    <tr>\n",
       "      <th>2011-06-19</th>\n",
       "      <td>-2.214344</td>\n",
       "    </tr>\n",
       "  </tbody>\n",
       "</table>\n",
       "</div>"
      ],
      "text/plain": [
       "                         0\n",
       "CurrencyRateDate          \n",
       "2011-05-31       -2.896116\n",
       "2011-06-01       -2.962693\n",
       "2011-06-02       -3.111867\n",
       "2011-06-03       -3.100772\n",
       "2011-06-04       -2.877623\n",
       "2011-06-05       -2.855433\n",
       "2011-06-06       -2.866527\n",
       "2011-06-07       -2.912145\n",
       "2011-06-08       -2.892417\n",
       "2011-06-09       -2.718585\n",
       "2011-06-10       -2.619955\n",
       "2011-06-11       -2.497902\n",
       "2011-06-12       -2.568175\n",
       "2011-06-13       -2.534888\n",
       "2011-06-14       -2.418997\n",
       "2011-06-15       -2.374617\n",
       "2011-06-16       -2.379546\n",
       "2011-06-17       -2.305575\n",
       "2011-06-18       -2.185986\n",
       "2011-06-19       -2.214344"
      ]
     },
     "execution_count": 40,
     "metadata": {},
     "output_type": "execute_result"
    }
   ],
   "source": [
    "# Perform the transformation\n",
    "transformated_currency_rate_df = pd.DataFrame(\n",
    "    data=standardized_currency_rate_df.dot(feature_matrix)\n",
    ")\n",
    "\n",
    "# Display the transformated DataFrame\n",
    "transformated_currency_rate_df.head(20)"
   ]
  },
  {
   "cell_type": "markdown",
   "metadata": {
    "tags": [
     "specification"
    ]
   },
   "source": [
    "In this exercise, PCA allowed the two original attributes to be merged into one without any significant loss of information. Of course, it is very cumbersome to execute PCA step by step manually each time which is why PCA is also included in some ML frameworks such as scikit learn. \n",
    "\n",
    "It is very important to know exactly what the framework does for you and what it does not. For example, scikit-learn's PCA does not include standardization, although feature scaling [is strongly recommended](https://scikit-learn.org/stable/auto_examples/preprocessing/plot_scaling_importance.html) by the framework itself as a preceding step.\n",
    "\n",
    "<div class=\"alert alert-block alert-info\">\n",
    "\n",
    "**Task:** Use scikit-learn's PCA to transform the standardized `currency_rate_df` a second time. This time you may assume that only one component is expected to be used as a result. Display the result. (Help: [Scikit learn documentation](https://scikit-learn.org/stable/modules/generated/sklearn.decomposition.PCA.html)) \n",
    "\n",
    "</div>"
   ]
  },
  {
   "cell_type": "code",
   "execution_count": 41,
   "metadata": {
    "tags": [
     "student"
    ]
   },
   "outputs": [],
   "source": [
    "# Use PCA from scikit-learn"
   ]
  },
  {
   "cell_type": "code",
   "execution_count": 42,
   "metadata": {
    "tags": [
     "solution"
    ]
   },
   "outputs": [
    {
     "data": {
      "text/html": [
       "<div>\n",
       "<style scoped>\n",
       "    .dataframe tbody tr th:only-of-type {\n",
       "        vertical-align: middle;\n",
       "    }\n",
       "\n",
       "    .dataframe tbody tr th {\n",
       "        vertical-align: top;\n",
       "    }\n",
       "\n",
       "    .dataframe thead th {\n",
       "        text-align: right;\n",
       "    }\n",
       "</style>\n",
       "<table border=\"1\" class=\"dataframe\">\n",
       "  <thead>\n",
       "    <tr style=\"text-align: right;\">\n",
       "      <th></th>\n",
       "      <th>0</th>\n",
       "    </tr>\n",
       "    <tr>\n",
       "      <th>CurrencyRateDate</th>\n",
       "      <th></th>\n",
       "    </tr>\n",
       "  </thead>\n",
       "  <tbody>\n",
       "    <tr>\n",
       "      <th>2011-05-31</th>\n",
       "      <td>2.896116</td>\n",
       "    </tr>\n",
       "    <tr>\n",
       "      <th>2011-06-01</th>\n",
       "      <td>2.962693</td>\n",
       "    </tr>\n",
       "    <tr>\n",
       "      <th>2011-06-02</th>\n",
       "      <td>3.111867</td>\n",
       "    </tr>\n",
       "    <tr>\n",
       "      <th>2011-06-03</th>\n",
       "      <td>3.100772</td>\n",
       "    </tr>\n",
       "    <tr>\n",
       "      <th>2011-06-04</th>\n",
       "      <td>2.877623</td>\n",
       "    </tr>\n",
       "    <tr>\n",
       "      <th>2011-06-05</th>\n",
       "      <td>2.855433</td>\n",
       "    </tr>\n",
       "    <tr>\n",
       "      <th>2011-06-06</th>\n",
       "      <td>2.866527</td>\n",
       "    </tr>\n",
       "    <tr>\n",
       "      <th>2011-06-07</th>\n",
       "      <td>2.912145</td>\n",
       "    </tr>\n",
       "    <tr>\n",
       "      <th>2011-06-08</th>\n",
       "      <td>2.892417</td>\n",
       "    </tr>\n",
       "    <tr>\n",
       "      <th>2011-06-09</th>\n",
       "      <td>2.718585</td>\n",
       "    </tr>\n",
       "    <tr>\n",
       "      <th>2011-06-10</th>\n",
       "      <td>2.619955</td>\n",
       "    </tr>\n",
       "    <tr>\n",
       "      <th>2011-06-11</th>\n",
       "      <td>2.497902</td>\n",
       "    </tr>\n",
       "    <tr>\n",
       "      <th>2011-06-12</th>\n",
       "      <td>2.568175</td>\n",
       "    </tr>\n",
       "    <tr>\n",
       "      <th>2011-06-13</th>\n",
       "      <td>2.534888</td>\n",
       "    </tr>\n",
       "    <tr>\n",
       "      <th>2011-06-14</th>\n",
       "      <td>2.418997</td>\n",
       "    </tr>\n",
       "    <tr>\n",
       "      <th>2011-06-15</th>\n",
       "      <td>2.374617</td>\n",
       "    </tr>\n",
       "    <tr>\n",
       "      <th>2011-06-16</th>\n",
       "      <td>2.379546</td>\n",
       "    </tr>\n",
       "    <tr>\n",
       "      <th>2011-06-17</th>\n",
       "      <td>2.305575</td>\n",
       "    </tr>\n",
       "    <tr>\n",
       "      <th>2011-06-18</th>\n",
       "      <td>2.185986</td>\n",
       "    </tr>\n",
       "    <tr>\n",
       "      <th>2011-06-19</th>\n",
       "      <td>2.214344</td>\n",
       "    </tr>\n",
       "  </tbody>\n",
       "</table>\n",
       "</div>"
      ],
      "text/plain": [
       "                         0\n",
       "CurrencyRateDate          \n",
       "2011-05-31        2.896116\n",
       "2011-06-01        2.962693\n",
       "2011-06-02        3.111867\n",
       "2011-06-03        3.100772\n",
       "2011-06-04        2.877623\n",
       "2011-06-05        2.855433\n",
       "2011-06-06        2.866527\n",
       "2011-06-07        2.912145\n",
       "2011-06-08        2.892417\n",
       "2011-06-09        2.718585\n",
       "2011-06-10        2.619955\n",
       "2011-06-11        2.497902\n",
       "2011-06-12        2.568175\n",
       "2011-06-13        2.534888\n",
       "2011-06-14        2.418997\n",
       "2011-06-15        2.374617\n",
       "2011-06-16        2.379546\n",
       "2011-06-17        2.305575\n",
       "2011-06-18        2.185986\n",
       "2011-06-19        2.214344"
      ]
     },
     "execution_count": 42,
     "metadata": {},
     "output_type": "execute_result"
    }
   ],
   "source": [
    "# Instantiate a PCA object\n",
    "pca = sklearn.decomposition.PCA(n_components=1)\n",
    "\n",
    "# Compute the principal components for the standardized_currency_rate_df\n",
    "transformated_currency_rate_df = pd.DataFrame(\n",
    "    data=pca.fit_transform(standardized_currency_rate_df),\n",
    "    index=standardized_currency_rate_df.index,\n",
    ")\n",
    "\n",
    "# Display the transformed DataFrame\n",
    "transformated_currency_rate_df.head(20)"
   ]
  },
  {
   "cell_type": "markdown",
   "metadata": {
    "tags": [
     "specification"
    ]
   },
   "source": [
    "<div class=\"alert alert-block alert-info\">\n",
    "\n",
    "**Task:** It may be that the results of the manual PCA and scikit-learn's PCA differ. Explain why both results may well be correct. \n",
    "\n",
    "</div>"
   ]
  },
  {
   "cell_type": "markdown",
   "metadata": {
    "tags": [
     "student"
    ]
   },
   "source": [
    "Write down your solution here:"
   ]
  },
  {
   "cell_type": "markdown",
   "metadata": {
    "tags": [
     "solution"
    ]
   },
   "source": [
    "One of the steps in PCA is the determination of eigenvalues and eigenvectors. This step is done by solving a system of equations that may lead to several correct solutions. Of course, different solutions do not lead to an identical result of the PCA, but since they are all valid solutions for the corresponding system of equations, all results are also valid results of a PCA. "
   ]
  }
 ],
 "metadata": {
  "celltoolbar": "Tags",
  "interpreter": {
   "hash": "916dbcbb3f70747c44a77c7bcd40155683ae19c65e1c03b4aa3499c5328201f1"
  },
  "kernelspec": {
   "display_name": "Python 3 (ipykernel)",
   "language": "python",
   "name": "python3"
  },
  "language_info": {
   "codemirror_mode": {
    "name": "ipython",
    "version": 3
   },
   "file_extension": ".py",
   "mimetype": "text/x-python",
   "name": "python",
   "nbconvert_exporter": "python",
   "pygments_lexer": "ipython3",
   "version": "3.10.2"
  }
 },
 "nbformat": 4,
 "nbformat_minor": 4
}
